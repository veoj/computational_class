{
 "cells": [
  {
   "cell_type": "code",
   "execution_count": 1,
   "metadata": {
    "collapsed": true
   },
   "outputs": [],
   "source": [
    "import numpy as np\n",
    "from math import *\n",
    "import pylab as py"
   ]
  },
  {
   "cell_type": "code",
   "execution_count": 2,
   "metadata": {
    "collapsed": false
   },
   "outputs": [],
   "source": [
    "d_air=1.27# kg m^(-3)\n",
    "c=0.47\n",
    "v=190.# m s^(-1)\n",
    "r=0.14# m\n",
    "theta=43*np.pi/180# radians\n",
    "x0=0.\n",
    "y0=4.# m\n",
    "vx0=v*np.cos(theta)\n",
    "vy0=v*np.sin(theta)\n",
    "g=9.8 # m s^(-2)\n",
    "\n",
    "d_Pb=11.3*1000# kg m^(-3)\n",
    "d_Pu=19.7*1000\n",
    "d_Nd=7.0*1000\n",
    "\n",
    "m_Pb=(4/3)*np.pi*(r**3)*d_Pb\n",
    "m_Pu=(4/3)*np.pi*(r**3)*d_Pu\n",
    "m_Nd=(4/3)*np.pi*(r**3)*d_Nd"
   ]
  },
  {
   "cell_type": "code",
   "execution_count": 3,
   "metadata": {
    "collapsed": false
   },
   "outputs": [],
   "source": [
    "# f1_x=dx/dt, f1_y=dy/dt, f2_x=df1_x/dt, f2_y=df1_y/dt\n",
    "def f_Pb(r_Pb,t):\n",
    "    Pb_x=r_Pb[0]\n",
    "    Pb_y=r_Pb[1]\n",
    "    Pb_1_x=r_Pb[2]\n",
    "    Pb_1_y=r_Pb[3]\n",
    "    Pb_f1_x=Pb_1_x\n",
    "    Pb_f1_y=Pb_1_y\n",
    "    Pb_f2_x=(-1)*np.pi*(r**2)*(d_air)*c*(1/(2*m_Pb))*Pb_f1_x*v\n",
    "    Pb_f2_y=((-1)*g)-(np.pi*(r**2)*d_air*c*(1/(2*m_Pb))*Pb_f1_y*v)\n",
    "    return np.array([Pb_f1_x,Pb_f1_y,Pb_f2_x,Pb_f2_y],float)"
   ]
  },
  {
   "cell_type": "code",
   "execution_count": 4,
   "metadata": {
    "collapsed": true
   },
   "outputs": [],
   "source": [
    "def f_Pu(r_Pu,t):\n",
    "    Pu_x=r_Pu[0]\n",
    "    Pu_y=r_Pu[1]\n",
    "    Pu_1_x=r_Pu[2]\n",
    "    Pu_1_y=r_Pu[3]\n",
    "    Pu_f1_x=Pu_1_x\n",
    "    Pu_f1_y=Pu_1_y\n",
    "    Pu_f2_x=(-1)*np.pi*(r**2)*(d_air)*c*(1/(2*m_Pu))*Pu_f1_x*v\n",
    "    Pu_f2_y=((-1)*g)-(np.pi*(r**2)*d_air*c*(1/(2*m_Pu))*Pu_f1_y*v)\n",
    "    return np.array([Pu_f1_x,Pu_f1_y,Pu_f2_x,Pu_f2_y],float)"
   ]
  },
  {
   "cell_type": "code",
   "execution_count": 5,
   "metadata": {
    "collapsed": true
   },
   "outputs": [],
   "source": [
    "def f_Nd(r_Nd,t):\n",
    "    Nd_x=r_Nd[0]\n",
    "    Nd_y=r_Nd[1]\n",
    "    Nd_1_x=r_Nd[2]\n",
    "    Nd_1_y=r_Nd[3]\n",
    "    Nd_f1_x=Nd_1_x\n",
    "    Nd_f1_y=Nd_1_y\n",
    "    Nd_f2_x=(-1)*np.pi*(r**2)*(d_air)*c*(1/(2*m_Nd))*Nd_f1_x*v\n",
    "    Nd_f2_y=((-1)*g)-(np.pi*(r**2)*d_air*c*(1/(2*m_Nd))*Nd_f1_y*v)\n",
    "    return np.array([Nd_f1_x,Nd_f1_y,Nd_f2_x,Nd_f2_y],float)"
   ]
  },
  {
   "cell_type": "code",
   "execution_count": 6,
   "metadata": {
    "collapsed": true
   },
   "outputs": [],
   "source": [
    "a=0.0\n",
    "b=500.0\n",
    "N=500000\n",
    "h=(b-a)/N"
   ]
  },
  {
   "cell_type": "code",
   "execution_count": 7,
   "metadata": {
    "collapsed": true
   },
   "outputs": [],
   "source": [
    "tpoints=np.arange(a,b,h)\n",
    "Pb_xpoints=[]\n",
    "Pb_ypoints=[]\n",
    "Pu_xpoints=[]\n",
    "Pu_ypoints=[]\n",
    "Nd_xpoints=[]\n",
    "Nd_ypoints=[]"
   ]
  },
  {
   "cell_type": "code",
   "execution_count": 8,
   "metadata": {
    "collapsed": false
   },
   "outputs": [],
   "source": [
    "r_Pb=np.array([x0,y0,vx0,vy0],float)\n",
    "r_Pu=np.array([x0,y0,vx0,vy0],float)\n",
    "r_Nd=np.array([x0,y0,vx0,vy0],float)"
   ]
  },
  {
   "cell_type": "code",
   "execution_count": 9,
   "metadata": {
    "collapsed": false
   },
   "outputs": [],
   "source": [
    "for t in tpoints:\n",
    "    Pb_xpoints.append(r_Pb[0])\n",
    "    Pb_ypoints.append(r_Pb[1])\n",
    "    k1_Pb=h*f_Pb(r_Pb,t)\n",
    "    k2_Pb=h*f_Pb(r_Pb+0.5*k1_Pb,t+0.5*h)\n",
    "    k3_Pb=h*f_Pb(r_Pb+0.5*k2_Pb,t+0.5*h)\n",
    "    k4_Pb=h*f_Pb(r_Pb+k3_Pb,t+h)\n",
    "    r_Pb += (k1_Pb+2*k2_Pb+2*k3_Pb+k4_Pb)/6\n",
    "    if r_Pb[1] < 0:\n",
    "        break\n",
    "    else:\n",
    "        continue\n",
    "\n",
    "for t in tpoints:\n",
    "    Pu_xpoints.append(r_Pu[0])\n",
    "    Pu_ypoints.append(r_Pu[1])\n",
    "    k1_Pu=h*f_Pu(r_Pu,t)\n",
    "    k2_Pu=h*f_Pu(r_Pu+0.5*k1_Pu,t+0.5*h)\n",
    "    k3_Pu=h*f_Pu(r_Pu+0.5*k2_Pu,t+0.5*h)\n",
    "    k4_Pu=h*f_Pu(r_Pu+k3_Pu,t+h)\n",
    "    r_Pu += (k1_Pu+2*k2_Pu+2*k3_Pu+k4_Pu)/6\n",
    "    if r_Pu[1] < 0:\n",
    "        break\n",
    "    else:\n",
    "        continue\n",
    "    \n",
    "for t in tpoints:\n",
    "    Nd_xpoints.append(r_Nd[0])\n",
    "    Nd_ypoints.append(r_Nd[1])\n",
    "    k1_Nd=h*f_Nd(r_Nd,t)\n",
    "    k2_Nd=h*f_Nd(r_Nd+0.5*k1_Nd,t+0.5*h)\n",
    "    k3_Nd=h*f_Nd(r_Nd+0.5*k2_Nd,t+0.5*h)\n",
    "    k4_Nd=h*f_Nd(r_Nd+k3_Nd,t+h)\n",
    "    r_Nd += (k1_Nd+2*k2_Nd+2*k3_Nd+k4_Nd)/6\n",
    "    if r_Nd[1] < 0:\n",
    "        break\n",
    "    else:\n",
    "        continue\n",
    "    "
   ]
  },
  {
   "cell_type": "code",
   "execution_count": 10,
   "metadata": {
    "collapsed": false,
    "scrolled": true
   },
   "outputs": [
    {
     "data": {
      "image/png": "[encoded data removed]",
      "text/plain": [
       "<matplotlib.figure.Figure at 0xae7f3b8c>"
      ]
     },
     "metadata": {},
     "output_type": "display_data"
    }
   ],
   "source": [
    "py.plot(Pb_xpoints,Pb_ypoints,label='Pb',color='blue')\n",
    "py.plot(Pu_xpoints,Pu_ypoints,label='Pu',color='red')\n",
    "py.plot(Nd_xpoints,Nd_ypoints,label='Nd',color='green')\n",
    "py.ylim(0,1000)\n",
    "py.xlim(0,3000)\n",
    "py.legend()\n",
    "py.title(\"Projectile motion\")\n",
    "py.xlabel(\"x\")\n",
    "py.ylabel(\"y\")\n",
    "py.show()\n",
    "\n"
   ]
  },
  {
   "cell_type": "code",
   "execution_count": 11,
   "metadata": {
    "collapsed": false
   },
   "outputs": [
    {
     "name": "stdout",
     "output_type": "stream",
     "text": [
      "0.0636036914146 2453.14120612\n",
      "0.0410172565633 2872.74115809\n",
      "0.0892661919823 2011.55763693\n"
     ]
    }
   ],
   "source": [
    "print(Pb_ypoints[-1],Pb_xpoints[-1])\n",
    "print(Pu_ypoints[-1],Pu_xpoints[-1])\n",
    "print(Nd_ypoints[-1],Nd_xpoints[-1])\n",
    "# distance_Pb = Pb_xpoints[-1]\n",
    "# distance_Pu = Pu_xpoints[-1]\n",
    "# distance_Nd = Nd_xpoints[-1]"
   ]
  },
  {
   "cell_type": "code",
   "execution_count": null,
   "metadata": {
    "collapsed": false
   },
   "outputs": [],
   "source": []
  },
  {
   "cell_type": "code",
   "execution_count": null,
   "metadata": {
    "collapsed": true
   },
   "outputs": [],
   "source": []
  }
 ],
 "metadata": {
  "anaconda-cloud": {},
  "kernelspec": {
   "display_name": "Python [conda root]",
   "language": "python",
   "name": "conda-root-py"
  },
  "language_info": {
   "codemirror_mode": {
    "name": "ipython",
    "version": 3
   },
   "file_extension": ".py",
   "mimetype": "text/x-python",
   "name": "python",
   "nbconvert_exporter": "python",
   "pygments_lexer": "ipython3",
   "version": "3.5.2"
  }
 },
 "nbformat": 4,
 "nbformat_minor": 1
}
