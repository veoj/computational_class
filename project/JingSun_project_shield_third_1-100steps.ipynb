{
 "cells": [
  {
   "cell_type": "code",
   "execution_count": 1,
   "metadata": {
    "collapsed": true
   },
   "outputs": [],
   "source": [
    "import random as ran\n",
    "import numpy as np\n",
    "import pylab as py\n",
    "import matplotlib.pyplot as plt\n",
    "from scipy.optimize import curve_fit\n",
    "import math as math\n"
   ]
  },
  {
   "cell_type": "code",
   "execution_count": 2,
   "metadata": {
    "collapsed": false,
    "scrolled": false
   },
   "outputs": [
    {
     "data": {
      "image/png": "[encoded data removed]",
      "text/plain": [
       "<matplotlib.figure.Figure at 0xad8b608c>"
      ]
     },
     "metadata": {},
     "output_type": "display_data"
    },
    {
     "name": "stdout",
     "output_type": "stream",
     "text": [
      "1.00025299857\n",
      "200\n"
     ]
    }
   ],
   "source": [
    "h=1\n",
    "tmax=200\n",
    "tpoints=np.arange(0,tmax+1,h)\n",
    "#print(tpoints)\n",
    "\n",
    "sample=10000\n",
    "s_points=np.arange(0,sample+1,h)\n",
    "\n",
    "mean=100\n",
    "standard=20\n",
    "A0=1/(standard*math.sqrt(2*3.14))\n",
    "Z=(tpoints[1:tmax+1]-mean)/standard\n",
    "dist=A0*np.exp(-1*(Z**2)/2)\n",
    "\n",
    "#print(dist)\n",
    "plt.plot(tpoints[1:tmax+1],dist)\n",
    "plt.show()\n",
    "\n",
    "print(sum(dist))\n",
    "print(len(dist))\n",
    "\n"
   ]
  },
  {
   "cell_type": "code",
   "execution_count": 3,
   "metadata": {
    "collapsed": false
   },
   "outputs": [
    {
     "name": "stdout",
     "output_type": "stream",
     "text": [
      "200\n"
     ]
    }
   ],
   "source": [
    "dist_0=dist[0]\n",
    "for i in range(tmax-1):\n",
    "    if i == 0:\n",
    "        dist[i]=dist_0\n",
    "    else:\n",
    "        dist[i]=dist[i]-dist[i-1]\n",
    "        \n",
    "#print(dist)\n",
    "print(len(dist))"
   ]
  },
  {
   "cell_type": "code",
   "execution_count": 4,
   "metadata": {
    "collapsed": false
   },
   "outputs": [
    {
     "name": "stdout",
     "output_type": "stream",
     "text": [
      "100\n",
      "100\n",
      "58\n",
      "129\n"
     ]
    }
   ],
   "source": [
    "dist1=dist[0:100]# steps from 1 to 100\n",
    "dist2=dist[100:200]# steps from 101 to 200\n",
    "print(len(dist1))\n",
    "print(len(dist2))\n",
    "\n",
    "frac1=ran.uniform(0,dist1[99])\n",
    "est_1=mean-(standard*math.sqrt(-2*np.log(frac1/A0)))\n",
    "\n",
    "est_1=int(est_1//1)\n",
    "\n",
    "print(est_1)\n",
    "\n",
    "\n",
    "\n",
    "frac2=ran.uniform(0,dist2[0])\n",
    "est_2=mean+(standard*math.sqrt(-2*np.log(frac2/A0)))\n",
    "\n",
    "est_2=int(est_2//1)\n",
    "\n",
    "print(est_2)\n"
   ]
  },
  {
   "cell_type": "code",
   "execution_count": 5,
   "metadata": {
    "collapsed": false
   },
   "outputs": [
    {
     "name": "stdout",
     "output_type": "stream",
     "text": [
      "59\n",
      "130\n"
     ]
    }
   ],
   "source": [
    "e1points=np.arange(0,est_1+1,h)\n",
    "e2points=np.arange(0,est_2+1,h)\n",
    "\n",
    "print(len(e1points))\n",
    "print(len(e2points))"
   ]
  },
  {
   "cell_type": "code",
   "execution_count": 6,
   "metadata": {
    "collapsed": true
   },
   "outputs": [],
   "source": [
    "first=1\n",
    "p_same=2/3\n",
    "p_change=1/3"
   ]
  },
  {
   "cell_type": "code",
   "execution_count": 7,
   "metadata": {
    "collapsed": true
   },
   "outputs": [],
   "source": [
    "ele=first\n",
    "pos1=first\n",
    "position1=[]\n",
    "pos2=first\n",
    "position2=[]"
   ]
  },
  {
   "cell_type": "code",
   "execution_count": 8,
   "metadata": {
    "collapsed": true
   },
   "outputs": [],
   "source": [
    "up=2\n",
    "down=-2\n",
    "right=1\n",
    "left=-1"
   ]
  },
  {
   "cell_type": "code",
   "execution_count": 9,
   "metadata": {
    "collapsed": false
   },
   "outputs": [],
   "source": [
    "# loop for capture possibility\n",
    "for i in s_points:\n",
    "    position1.append(pos1)\n",
    "    ele = 1\n",
    "    # 2nd move        \n",
    "    if ran.random() > p_change:\n",
    "        ele += right\n",
    "        test = right\n",
    "    else:\n",
    "        if ran.random() > 1/2:\n",
    "            ele += 0*up\n",
    "            test = up\n",
    "        else:\n",
    "            ele += 0*down\n",
    "            test = down\n",
    "    # 3rd move  \n",
    "    if test == right:\n",
    "        if ran.random() > p_change:\n",
    "            ele += right\n",
    "            test = right\n",
    "        else:\n",
    "            if ran.random() > 1/2:\n",
    "                ele += 0*up\n",
    "                test = up\n",
    "            else:\n",
    "                ele += 0*down\n",
    "                test = down\n",
    "    else:\n",
    "        if test == up:\n",
    "            if ran.random() > p_change:\n",
    "                ele += 0*up\n",
    "                test = up\n",
    "            else:\n",
    "                if ran.random() > 1/2:\n",
    "                    ele += left\n",
    "                    test = left\n",
    "                else:\n",
    "                    ele += right\n",
    "                    test = right\n",
    "        else:\n",
    "            if test == down:\n",
    "                if ran.random() > p_change:\n",
    "                    ele += 0*down\n",
    "                    test = down\n",
    "                else:\n",
    "                    if ran.random() > 1/2:\n",
    "                        ele += left\n",
    "                        test = left\n",
    "                    else:\n",
    "                        ele += right\n",
    "                        test = right\n",
    "        # 4th and later move\n",
    "        for t in range(3,est_1+1):\n",
    "            if test == right:\n",
    "                if ran.random() > p_change:\n",
    "                    ele += right\n",
    "                    test = right\n",
    "                else:\n",
    "                    if ran.random() > 1/2:\n",
    "                        ele += 0*up\n",
    "                        test = up\n",
    "                    else:\n",
    "                        ele += 0*down\n",
    "                        test = down\n",
    "            else:\n",
    "                if test == up:\n",
    "                    if ran.random() > p_change:\n",
    "                        ele += 0*up\n",
    "                        test = up\n",
    "                    else:\n",
    "                        if ran.random() > 1/2:\n",
    "                            ele += left\n",
    "                            test = left\n",
    "                        else:\n",
    "                            ele += right\n",
    "                            test = right\n",
    "                else:\n",
    "                    if test == down:\n",
    "                        if ran.random() > p_change:\n",
    "                            ele += 0*down\n",
    "                            test = down\n",
    "                        else:\n",
    "                            if ran.random() > 1/2:\n",
    "                                ele += left\n",
    "                                test = left\n",
    "                            else:\n",
    "                                ele += right\n",
    "                                test = right\n",
    "                    else:\n",
    "                        if test == left:\n",
    "                            if ran.random() > p_change:\n",
    "                                ele += left\n",
    "                                test = left\n",
    "                            else:\n",
    "                                if ran.random() > 1/2:\n",
    "                                    ele += 0*up\n",
    "                                    test = up\n",
    "                                else:\n",
    "                                    ele += 0*down\n",
    "                                    test = down\n",
    "    pos1 = ele\n"
   ]
  },
  {
   "cell_type": "code",
   "execution_count": 10,
   "metadata": {
    "collapsed": false
   },
   "outputs": [
    {
     "name": "stdout",
     "output_type": "stream",
     "text": [
      "[1, 0, 2, 3, 3, 3, 3, 2, 3, 3, 2, 3, 3, 3, 3, 3, 14, 3, 3, 3, 3, 3, 3, 2, 3, 3, 3, 3, 2, -8, 2, 2, 15, 17, 2, -7, -12, 3, -16, 3, 3, 3, 3, 3, -10, 4, 3, -28, 3, 12, 14, 2, 3, 3, 2, 2, -1, 3, 4, 3, -15, -15, 3, -9, 3, 3, -7, 3, 3, 11, 10, -20, -2, 2, 19, 3, 2, 2, 2, 3, 3, 3, 2, 3, 2, 5, 2, 3, 2, 2, -2, 2, 3, 3, 13, 7, 3, 3, 9, -2, 3, 9, 3, 2, 3, 2, 3, 3, 3, -3, 3, 18, -18, 3, 12, 2, -8, 3, 3, -13, 3, 3, 3, 3, 12, 3, 16, 2, 6, 2, 2, 22, 2, -9, 4, 2, 2, 2, 3, 2, 3, 3, 3, 3, 3, 12, 3, 6, 13, 3, 2, 3, 3, 6, 3, 2, 3, 2, 12, 13, 2, 2, 9, 2, 14, 3, 2, 3, 3, 3, 2, 15, 2, 2, -8, 3, -13, 3, -1, -7, 3, 22, 2, 3, 3, -19, 3, 3, 2, 3, 2, 3, 3, 3, -12, 2, 13, 3, 3, 2, 2, 3, -2, 2, 7, 3, -6, -2, 3, -4, 3, 2, 3, 3, 3, 2, 5, 2, 3, -3, 3, 3, 9, 2, 7, -10, 3, -1, 2, 19, -2, 4, 3, 3, 3, 7, 2, 2, 3, 3, 2, 12, 3, 3, 4, 3, 3, 3, 3, 2, 2, 3, 15, 2, 3, 2, 3, 3, -4, -11, 2, 3, 3, 2, 2, 3, 2, 3, 2, -10, 3, 2, 3, 3, -20, 6, 7, 3, -19, 3, 3, 2, 2, 31, -10, 3, 3, -6, -2, 3, 3, 2, 3, 2, 4, 3, 3, 3, 2, 2, 2, -25, 3, 3, -16, -1, 3, 3, 2, 3, 2, 3, 3, -12, 3, -2, 3, 2, -16, 2, 3, 2, -11, 2, 6, 3, 5, 8, 2, 3, 3, 9, 3, 3, 1, 3, 2, 3, 2, 3, 3, -6, 3, 3, 3, 3, -3, 13, 3, -10, 3, 3, 2, 3, -3, 3, -10, 3, 2, 2, 16, 3, 3, 3, -17, 7, 4, 3, 2, 3, 3, 3, 3, 3, 3, 2, 3, 3, -17, 3, 3, -15, 2, 3, 3, 3, 3, -14, 2, -10, 3, 2, 3, 3, 2, -7, 2, 3, 2, 2, 1, 15, 3, 2, -6, 3, 3, 12, 7, -6, 3, 2, 3, -16, 10, 2, 2, 2, 2, 3, 3, 3, 3, 2, 3, 3, 3, 3, 2, 3, 3, -4, 3, 2, 2, 3, 3, 2, 3, 3, 3, 3, 10, 3, 2, 3, 3, 0, 3, 2, 3, 2, 3, 2, 3, 2, 3, 3, 2, 2, 3, 2, 3, 3, 3, 2, 3, 3, 2, 3, 3, 3, 3, 3, 7, -15, 10, 3, 3, 3, 6, 3, 17, 3, 2, 3, 3, -12, 28, 3, 2, 2, 11, 3, 2, 3, 2, 2, 3, -6, 3, -11, 3, 2, 3, 3, 3, 3, 6, 2, 3, 3, 3, 3, 3, 3, 3, 3, 3, 2, 2, 3, 3, 3, 2, 3, 3, 2, 3, -12, 2, 3, 3, 2, 2, 2, 2, 3, 3, -11, 3, -11, 3, 3, 3, -3, 4, 3, 2, 2, 3, -5, 3, 3, 3, 3, 3, -7, 3, 3, 8, 3, 3, 3, 4, 3, 3, 3, 2, 3, 3, 3, 9, 2, 2, 3, 0, 3, 3, 7, 8, 2, -2, 2, 3, 14, 19, 16, 3, 3, 2, 3, 3, -9, 2, 8, 3, 4, 2, 2, -5, 2, 4, 3, 2, 3, 3, 10, 3, 23, 20, 3, 2, 2, 3, 3, 3, 3, 3, -3, 12, 3, 3, 2, 2, 2, 2, 3, -6, -18, -19, 2, -5, 3, 6, 2, 10, 9, 2, 3, 3, 3, -2, 3, -10, 3, 12, 3, 3, 3, 3, 2, -5, 2, 28, 2, 3, 3, 2, 2, 3, 3, 2, 3, -5, 16, 2, 2, 17, 3, 2, -7, 3, 9, 3, 3, 3, 3, 3, -13, 2, 2, 3, 14, 20, 3, 6, 10, 6, 3, 2, 3, 2, 3, 3, 2, 3, 2, 3, 3, 2, 3, 3, 0, -9, 11, 2, 3, 3, 3, 2, 3, 0, 2, 2, 3, 7, 2, 3, -1, 2, -19, 3, 3, 3, 2, -12, 6, 3, 7, -20, 0, 3, -13, -3, 6, 3, 2, 5, 3, 3, 3, 3, 27, 4, 3, 6, 3, 3, -14, 3, 3, 3, 5, 3, 3, 3, 3, 2, -4, 3, -13, 3, 2, 3, 2, 3, -23, 27, 2, -27, 15, 3, 3, 2, -6, 3, -4, 3, 3, 2, 2, -9, -1, -24, 17, 2, 1, 9, 3, 3, -3, 10, 3, 3, 14, 3, 3, -1, 6, 3, 3, 11, 3, 2, 13, 3, 3, 0, 2, -20, -11, 2, 3, 16, -4, 13, 3, 3, 2, -13, -2, -7, 3, 18, 4, 3, 7, -17, 14, -4, -2, 2, 2, 2, 3, 3, 16, 2, 13, 3, 11, 3, 2, -3, 3, 3, 3, 3, 2, 11, 2, 3, 3, 3, 3, 2, -10, 3, 2, 3, -7, -20, 2, 2, -11, 3, 2, 2, 3, 2, 2, 2, 2, -7, 2, 2, -16, 2, 3, 3, 2, 3, 3, 2, -4, 9, 2, 3, 6, 3, 3, 3, 21, 3, 3, 29, 2, 0, 3, 2, -6, 3, 2, 10, 3, 3, -3, 2, 3, 6, 3, 2, 3, 3, 3, 2, 2, 3, 4, 3, 10, 5, 3, 2, 2, 3, 6, -13, 2, 1, -4, -8, 1, 3, 3, 3, 3, 3, 3, 3, 3, 2, 3, -6, 3, -5, 2, 3, 3, 10, 2, 3, 5, 10, 6, 2, -6, 2, 10, 3, 3, 2, 3, 3, 2, 26, -3, -9, 3, 3, 2, 3, 11, 2, -18, 3, 17, 3, 2, 7, 3, 3, 15, 3, 3, 2, 3, -3, 3, 3, 15, 2, 3, -1, -32, -14, 3, 3, -1, 3, 2, 3, 23, 6, -6, 0, 3, 3, 5, 10, 2, 2, 3, 2, 19, 16, -20, 2, 3, 2, 3, 2, 2, 2, 5, 5, 2, 3, 3, -1, 2, 3, 2, 6, 2, 3, 3, 2, 3, 3, 3, 1, 9, 3, 3, 3, 8, 3, 3, 3, 3, 3, 2, 2, 3, 3, 3, 2, 12, 11, 3, 3, 9, 3, 3, 2, 2, 2, 30, 23, 3, 3, 3, 2, 3, 3, 2, -12, 2, 3, 3, 2, -18, 2, 2, -22, 3, -3, 5, 2, 2, -10, 2, 0, 6, 2, 2, -11, 26, 31, 14, 2, 2, -8, -14, 3, -6, -9, 3, 14, 3, 3, -1, 2, 2, -9, 4, -14, 3, 3, 3, 3, 5, 3, 3, 2, 6, -7, -6, -7, 3, 3, 3, 2, -14, -1, 2, 12, 3, 3, 3, -10, -11, 18, 2, -9, 3, -2, 2, 3, 2, 3, 13, 3, 2, 3, 3, 3, -19, 2, 3, 5, 3, 14, 12, 2, -2, 2, 3, -14, 2, 6, 3, 9, -11, 2, 3, 3, 3, -14, -8, 20, 3, 3, 2, 3, 3, 2, -3, 3, -17, 3, 3, -1, 21, 2, 3, 3, 2, -12, 2, 3, 37, 2, -11, 3, 3, 3, 3, -11, 10, -2, 2, 3, 1, 2, 3, 2, 3, 29, 2, 2, 2, 3, 2, 3, 14, 3, 5, -8, 3, 2, 3, -9, 3, 3, 2, 3, 3, 3, 2, -3, 3, 3, 3, 3, 2, 3, 11, 2, -14, 6, 3, -2, -3, 3, 3, -7, 3, -9, 2, 3, 3, 3, -2, 3, 3, 3, 2, 3, 3, 3, 3, 2, 3, 2, 2, 3, 3, 11, 2, 3, 2, -10, 2, 2, 3, 3, -7, 3, -4, 3, 2, -6, 17, 2, 1, 3, 3, 19, 2, 3, 15, 2, 3, 2, 5, 2, 3, 3, -1, 2, 2, 24, 3, 3, 3, 3, 3, 3, 7, 2, 3, 3, -17, 3, 2, 5, 3, -15, 2, 2, 3, 2, -5, 3, 3, 20, 3, 3, 3, 3, 3, 3, 3, 3, 3, 11, 2, 5, 3, 2, 2, 3, 2, 3, 3, -7, 3, 3, 2, 2, 3, 2, 2, 3, 3, 3, 2, -8, 3, 3, 3, 2, 3, 0, 3, 3, 3, 3, 2, 15, 3, 5, 2, 9, 0, -1, 15, 13, 3, 17, 3, 3, 2, 3, 3, 3, -3, -10, 3, 3, -2, 2, -16, 2, 9, 3, -9, 3, 2, 2, 2, -7, 2, 3, -9, 3, 2, 13, 3, 3, 3, 0, 2, 6, 2, 2, 3, 2, 3, 3, 1, 3, 3, 3, 2, 3, 2, -9, 3, 11, 3, 3, 3, 3, 3, -32, 2, -4, 14, 3, 2, 3, 3, -13, 3, 3, 3, 11, 3, 15, 3, 3, 3, 3, 2, 3, 3, -16, 23, -3, 3, 2, 3, 2, 3, 3, 3, 2, 3, -8, 3, 2, 3, 3, 2, 3, 3, 3, 3, 3, 3, 4, 6, 20, -6, 11, 2, 2, -17, 3, -3, 3, 2, -22, -5, 3, 3, 13, 2, 3, 3, 2, -9, 2, -6, 3, 4, 4, 2, 3, 3, 3, -1, 9, -3, 3, 2, 3, 2, 3, 3, -8, 3, 1, 3, -11, 4, 7, 3, 10, 2, 3, 3, 3, 3, 0, 3, 2, 2, 1, 3, -3, 3, 3, 3, 3, 3, 2, 2, 3, 3, 2, 5, 5, 3, 3, 3, -5, 3, 7, 3, 2, 3, -4, 2, 3, 8, 3, 22, 3, 8, 3, 2, 3, -2, 20, 3, -9, 3, 3, 18, 20, 2, 3, 2, 3, 3, 3, -1, 2, 2, 3, 3, 3, 3, -9, -12, -3, 8, 3, 2, 3, 3, 3, 3, 3, 3, 3, 9, 3, -14, 2, -1, 3, 3, 3, 7, 3, 3, 14, 3, 2, 4, -18, 13, 28, -25, 3, 2, 7, 25, 3, -4, 3, -4, 5, 2, 2, 3, 3, -18, 2, 3, 2, 3, -8, 21, 2, 3, 2, 3, 3, 6, -3, 2, 2, 2, 2, 3, 2, 9, -6, 3, -1, 9, 3, -6, 3, 2, -10, -1, 3, 3, -2, 3, 3, 3, 2, 3, 2, 3, -7, 3, 3, 3, 3, 9, 0, 3, 4, 3, 3, 3, 3, 2, 17, 3, 3, 2, 3, 3, 20, 12, -13, 13, 3, 3, 17, 6, -1, 3, 3, 3, 3, 2, 22, 10, 3, 3, -1, 2, 3, 2, 3, 3, 2, 3, 3, 3, 2, 3, 3, 3, 16, 13, 3, 2, 3, 3, 13, 2, 3, -6, 7, 3, 3, 3, 3, 3, 2, 3, -8, 2, 3, 3, 3, 3, 2, 3, 3, 3, 2, 3, 3, 9, 3, 3, 2, 3, 3, 3, 12, 3, 3, -32, 3, 2, 2, 3, 4, 3, 6, 1, -5, 3, 17, 20, 11, 2, 3, 3, 2, 18, 2, 2, 3, 2, 3, 6, 3, 3, 11, 3, -20, 3, 3, 14, 3, 2, 3, 12, 3, 3, 3, 1, 17, 3, 3, 3, 2, -3, 3, 3, 3, 0, 2, 17, 3, 2, 3, -4, 2, -6, 3, 2, 2, -4, 6, 3, 2, 2, 3, 3, 2, 3, 2, -18, 3, -11, -8, 3, -11, 0, 3, 2, -13, 3, 2, 20, 2, -15, 2, 3, 3, 3, 4, 3, 3, 2, 3, 3, 3, 3, 3, 3, 0, 3, 2, 3, -14, -17, 2, 2, 3, 2, 3, 3, 3, 13, 3, 2, 0, 9, -13, -27, 2, 3, 13, 3, 2, 9, 2, 3, 2, 2, 1, 3, -8, 3, 2, -8, -13, 3, 3, 17, -2, 3, 3, 2, 2, -1, 27, -25, 7, 3, -11, 2, 3, 3, 3, 3, 4, 3, 3, 1, -23, 3, 2, 3, 3, 3, 2, 2, 2, 3, 3, 2, 9, 3, 2, -5, 3, 2, 3, 2, 3, 3, 3, 2, 10, 3, 2, -9, -3, 2, 2, 2, 3, 3, 16, 3, 12, 2, -36, 3, 12, -17, 3, 8, 3, 3, 3, 3, 3, 3, 3, 3, 2, -9, 3, 3, 2, 3, 23, 10, 3, 3, 3, 6, 3, 3, 5, 2, 3, -5, 2, 2, 3, 3, 3, 3, 3, 14, 3, 0, 21, 3, 2, 2, 2, 3, 3, 2, -4, 2, -4, 1, 2, 3, 0, 3, 2, 2, 3, 3, -25, 2, 2, -15, -1, 12, 3, 3, 8, 22, -12, 5, 3, -9, 3, 3, 2, -8, 3, 3, 2, -15, -20, 3, 3, -10, -1, 3, 3, 10, 3, 11, 3, 2, 16, 3, -10, 3, 2, 3, 2, 2, 7, 2, 16, 2, 3, 3, 3, 3, 3, -1, 3, 3, 3, -11, 11, 2, 3, 3, -1, 2, 2, 3, 3, 6, 3, -21, 20, 3, -6, 2, 3, 12, 2, 2, 20, 11, 2, 3, 3, 2, 2, 9, 8, 2, 3, 3, 2, 3, -2, 2, 2, 6, 27, 3, 3, 2, 3, 2, 2, 3, -18, -13, -7, 2, 32, 11, 3, 7, 2, 0, 3, 3, 3, 2, 21, 1, 3, 1, 1, -9, 3, 11, 3, 3, 3, 2, 3, 3, 6, 3, 2, -1, -4, 17, 25, 2, 3, -19, 3, -6, 3, 3, 3, 17, 3, -6, 2, 3, -3, 3, 2, 3, 3, 3, 3, 3, 2, 2, 3, 3, 3, -8, 5, 5, 2, -11, 5, 2, 3, 2, -7, 3, 2, 3, 2, 3, -5, 3, 2, 3, 3, 3, 3, 2, 3, 9, 3, 3, 16, 3, 6, 12, 3, 2, 3, 3, 3, 2, 5, 3, -17, 2, 3, 3, 3, 2, 2, 4, 3, 5, 3, 2, -7, -5, 2, 13, 10, 3, 4, 3, 7, 3, 3, 2, 3, 16, 2, 13, 3, 3, -9, -6, 3, 3, 3, 13, 3, 3, 3, -11, 3, 3, -11, 3, -23, 3, -6, -3, 3, 3, 3, 3, 3, 2, 3, -2, 2, 6, 3, 3, 11, 3, 3, 9, 3, 2, 2, 3, 3, 3, 3, 3, 6, 2, 3, 3, 3, 3, 7, 3, 3, 12, 3, 2, 3, 3, 3, 12, 3, 16, 3, 2, -1, 3, 3, 12, -14, 3, 3, 3, -4, 11, -5, 2, 3, 19, 3, -6, 8, 4, 2, 2, -5, 2, -3, 3, 3, 2, 1, 2, 2, 3, 3, -3, 3, 3, 19, 3, 2, 2, -3, -1, 3, 2, 3, 2, -4, 2, -6, 19, 2, 2, -13, 3, 3, -8, 6, 5, 3, 2, -8, -4, 2, 2, 3, -4, -6, 3, -9, 3, 3, 3, 3, 3, 3, -2, 18, 3, 3, 3, 3, 3, 7, 2, 2, 2, 3, -16, 1, -5, 3, 7, 2, 3, 2, 7, 0, -19, 3, 3, 3, 2, -27, 3, 2, 10, 7, 9, 3, 3, 2, 2, -5, 2, 3, 25, 3, 3, 3, 3, 3, 3, 3, 3, 3, -6, 2, 3, 3, 17, 15, 3, 3, 21, 3, -17, 2, -10, 18, -5, 3, 3, 2, -5, 3, 3, 3, 0, 2, 3, 2, 21, 3, 3, 3, 3, -23, 3, 3, 3, -5, 2, -7, 3, 5, 4, 3, 2, 2, 3, 0, -11, -2, 3, -22, 3, 3, 3, 3, 3, 6, 3, 3, 3, 3, 3, 3, 3, 8, 15, 3, 3, 2, 3, 2, 9, 3, 3, 2, 3, 3, 3, -14, -4, 3, 3, -7, -12, 2, 3, 3, -17, 2, -5, 21, 3, 3, 3, 3, 3, 11, 3, 2, -3, 3, -7, 2, 7, 3, 2, 3, 2, -5, 3, 6, 3, 3, -24, 11, 3, 3, -8, 3, 2, 2, 2, 1, 3, 2, 3, 15, 2, -1, 3, -9, 3, 2, 8, 3, 16, 3, 0, -7, 3, -3, 3, 3, 3, -19, 2, 3, 2, 3, -19, 3, 3, 3, 2, 3, 3, 3, 2, 3, 3, 2, 3, 3, 0, 3, 3, 2, 2, 2, 2, 3, 2, 3, 3, 2, 2, 2, -8, -13, 3, 2, 3, 2, 3, 3, -6, 3, 4, 2, 3, 3, 3, 15, 2, -8, 2, 3, 2, 3, 3, -5, 2, 17, 2, 2, -5, 2, 2, 7, 3, -20, 2, -15, 2, 3, 3, 3, 3, 2, 2, 3, -21, 3, 3, 2, 3, 1, 13, -4, 2, -8, 16, 10, 3, 3, 3, 3, 3, 2, 3, 3, 3, 2, -9, 3, 3, 2, 3, 3, 13, 2, 31, 3, 3, 2, -3, 2, 3, 2, 2, 3, 2, 15, 2, 3, 2, 2, 2, 22, 3, 3, -10, 3, -1, 3, 3, 3, 2, 2, 2, -17, 3, 13, 3, 3, -1, 3, 3, 3, 2, 3, 2, -24, 3, 3, 2, 3, 3, 3, 3, -14, 2, 3, 3, 2, 1, 3, 2, 3, 3, 2, 10, 3, 3, 3, 3, 2, -6, 3, 2, 2, 2, 2, 3, 2, 3, 7, 3, 15, 3, -3, 3, -2, 3, 2, 2, 23, 3, 2, 3, 9, 3, 3, 3, 2, 11, 2, 3, -3, 2, 2, 2, 3, 2, 3, 8, 3, 19, 2, 2, 2, 3, 2, 3, 3, 2, 2, 3, -8, 6, 3, 3, 3, 3, 2, 2, 3, 6, 2, 3, 2, 3, 2, 2, 3, 2, 2, 2, 2, 2, -4, 2, -8, 3, 3, 2, -10, 3, 2, 3, 3, 3, 2, 3, 3, 3, 7, 2, 5, 2, 2, 2, 2, -4, -9, -1, 0, 3, 2, 3, 3, 2, 3, 3, 3, 3, 3, 26, 10, 3, -22, 2, 17, 3, 2, 3, 3, 2, 2, 2, 3, 3, 2, 3, 17, 9, -6, 16, 2, -2, -11, 3, 2, 3, -1, 3, 4, 3, 3, 3, 3, 3, 15, 3, 3, -31, 2, 3, 3, -5, 2, 14, 2, -10, 3, 2, 3, 19, 3, 3, 3, 3, 5, 2, 3, 16, 3, 2, -6, 3, 11, -1, 3, -1, 3, 0, -10, -3, 3, 3, 15, 2, 3, -22, 3, 3, -4, 1, 3, -6, 3, 3, 2, 11, 2, 2, 6, 4, 3, -8, 0, 3, 8, 2, 9, 3, 2, 17, 0, 2, 2, 2, 3, 3, -9, -12, 3, 3, 3, 3, 3, 5, 3, 2, 2, 3, 3, 6, 3, -24, 2, 3, 3, 3, 3, 2, 3, -8, 2, 3, 8, 3, 2, 3, 2, 3, 26, 3, 16, 2, 2, 3, 2, 3, 3, 3, 2, 2, 7, 2, 3, 9, 3, 3, 3, 3, -11, 17, 3, 2, 3, -3, -2, 2, -20, 3, 3, 7, 3, 3, -12, 2, 3, 3, 3, 7, 11, 3, 25, 2, 2, 17, 2, 3, -3, 2, 3, -6, 3, 3, 3, 2, 3, 3, 3, 2, -4, 3, -8, 3, 8, 3, 3, 3, 3, -13, 2, 2, -6, 16, -4, 2, 3, 3, 3, 2, 3, 3, 2, -13, -5, 3, 2, 3, 3, -9, 3, -9, 6, 3, -6, 2, 2, -13, 3, -9, 3, 2, -3, -20, 3, 3, 17, 5, 6, 2, 2, 1, 3, 2, 3, 3, 3, 3, 3, 2, 3, 3, 3, 14, 13, 3, 3, 3, 1, 2, 2, 2, 3, 3, -8, 3, 3, 3, 3, 2, 3, -17, 2, 3, -5, 6, 0, 3, 3, 4, -8, 21, 3, -7, 3, 3, 3, 3, 3, -8, 2, 3, 3, 3, 3, -15, 2, -3, 2, -2, -7, -12, 3, 2, -6, -4, 3, 2, 3, 3, 3, 3, 3, 3, 3, 2, 2, 6, 2, 3, 2, 2, 3, -18, 3, 3, 2, 3, 3, 3, -11, 0, 2, 3, 3, 2, 3, 3, 3, 3, 23, -9, 3, 27, 3, -7, 15, -7, 3, 3, -2, 3, 3, 8, -1, 3, 3, 3, 2, -6, 3, 3, 12, 3, -7, 2, -2, 2, 2, 20, -23, -12, 3, 3, 3, 8, 2, 3, 3, 3, 3, 2, 2, -21, 3, 20, 3, -4, -11, 3, 3, 2, 2, 2, 3, 2, 6, 3, 2, 8, 9, -13, 20, 3, 2, 3, 3, 2, 0, 2, 3, 2, 2, 3, 3, 2, 2, 3, 2, -3, -6, 14, 3, 3, 5, 2, 4, 3, 12, 26, -5, 10, 2, 3, 3, 3, -12, 24, 3, 3, 2, 2, 3, 3, -21, 4, 2, 3, 10, 3, 3, 2, 3, -3, 11, 10, -5, 3, 21, 3, 3, 2, 3, 3, 2, -8, 2, 2, 2, 0, 3, 3, 2, 3, 11, 26, -20, 3, 2, 3, 2, -12, 3, -7, 3, 3, 3, -1, 3, 3, 8, -3, 3, 3, 7, 2, 3, 2, 3, 19, 2, 3, 3, 3, -9, 2, 4, 17, 3, 3, 2, 3, 3, -21, 2, 3, -8, 3, 3, 2, 3, -3, 9, 3, -12, 3, 3, 2, 3, 3, 0, 2, 2, 3, 2, 29, -3, 3, 2, 3, 3, 3, 18, 3, 3, 3, 21, 0, 2, 2, 5, 2, 3, 3, -3, -3, 3, 3, 3, 9, -10, 3, 2, 3, 3, -14, -6, 3, -12, 3, 3, 6, 3, 3, 3, 3, 3, 7, 3, 2, 2, 3, 3, 3, 2, 3, -2, -5, 3, 7, 3, 2, 15, 20, 3, 2, 2, 16, 23, 2, 3, 7, -13, 3, 2, 3, 3, -19, 1, -1, 2, -14, -6, 3, -7, 2, 3, -1, 9, 3, -19, 3, 2, 6, -3, 2, -2, -2, 3, 11, 2, 11, 2, 2, -8, 3, 14, 1, 3, 2, 3, 2, 10, 7, -3, 3, 3, 3, -19, 3, 2, 2, 13, 2, 2, 3, 2, 3, 3, 3, 14, 2, -4, 25, 3, 3, 2, 2, 3, 3, 3, 2, -10, 3, -31, 3, 3, 2, 3, 22, 2, 2, -17, -9, 3, 3, 3, 16, 2, -11, 3, 14, 6, 2, -14, 3, 13, 3, 2, -11, 2, 3, 2, 2, 2, 3, 19, 2, -9, 2, 3, 3, 2, 3, 3, 1, 3, 3, 2, 12, 14, 11, -4, -8, 3, 3, 2, 3, -10, 2, 2, 3, 3, 14, 16, 3, 2, -3, 3, 3, 3, 2, -11, 3, 9, 2, 2, 3, 3, 2, 3, -7, 3, 3, 2, 3, 3, 2, 3, 3, 3, 3, 3, -8, 3, -14, 3, -29, 16, 6, -11, 3, 15, 2, 2, -5, 3, 3, 2, 3, 24, 2, 3, 11, 9, 2, 2, 3, -9, 17, 2, 3, 2, 2, 3, 3, 3, 2, 2, 2, -4, 3, 11, 2, 2, 3, 11, 3, 3, 3, 35, 2, 9, 3, 3, 3, -6, 8, 7, 2, 2, 3, 3, 16, 2, 2, 3, 15, 16, 2, 3, 2, 3, 3, 2, 3, -9, 3, -2, 3, 3, 3, 20, 3, 3, 3, 2, 3, 2, 3, -7, -5, 3, -7, 3, 41, 2, 2, 3, 3, -22, 3, 3, -2, 3, 3, 2, -23, 8, -9, 2, 2, 8, 3, 3, 3, 3, 3, 3, 3, 3, 3, 2, -13, 14, -18, 3, 10, 3, 2, 9, 2, 3, -6, 3, -2, 3, -9, 2, 8, 2, 2, -13, 3, 2, 4, 2, 2, 3, 3, 3, 2, 3, 2, 2, 3, 3, 24, 2, 3, -6, 3, 3, 0, 2, 3, 3, 2, 2, 3, 2, -4, 3, -2, 14, 15, 3, -5, 3, 3, 2, 3, 2, 3, 2, 2, 3, 3, 2, 3, 2, -17, 2, 2, 3, 5, -6, 2, 2, -3, 2, 2, 3, -14, 3, 2, 3, 11, -3, 2, 3, 3, 3, 2, 3, 3, 3, -16, 3, 2, 23, 2, 2, 13, 3, 3, 3, 3, 11, 3, 4, 5, 3, 2, 2, 11, -7, 3, 3, 3, -8, 2, 8, 2, 3, 2, 18, 3, 2, 4, 3, 3, -19, 2, 3, 2, 5, -10, -4, 3, 3, 3, 3, 2, 3, 3, 21, 3, -6, 3, -29, 3, 2, 3, 3, 2, 3, -21, 27, 2, 3, 17, 2, 3, 2, -6, 2, -11, -1, 3, 3, 3, 1, 2, 3, 3, 1, 3, 3, -1, 2, 3, 3, -24, 3, 2, 2, 0, -5, 3, 3, 2, -12, 3, 3, 3, 2, 3, 4, 3, 2, 2, -1, -8, 3, 3, 3, 2, 3, -6, 2, -7, 3, 3, 3, 2, 2, -18, 3, 2, 2, 2, 3, -4, 2, 2, 19, 2, 2, 3, 2, 2, 2, 21, -24, 3, 9, 7, 5, 2, 3, 3, 3, -12, 3, 10, 3, 3, 2, 3, -7, 2, 3, 3, 3, 3, 0, 3, 3, 2, -9, 3, 3, 3, 3, 8, 3, 2, 4, 2, 3, 2, 2, 3, 3, 3, 3, -11, 15, 3, -1, -5, 2, 11, 19, 3, 3, 3, -6, 2, -7, 2, 2, 3, 3, 3, 8, 3, 3, 3, 0, 3, 4, 3, 3, 3, 3, 3, -15, 3, -20, 16, 3, 2, 3, 2, 2, -8, 3, 3, 2, 3, 3, 2, 3, 2, 3, 2, 1, 2, 3, 3, 17, 2, 7, 3, 3, 3, 3, 3, 3, 3, 3, 2, 3, 3, 3, 2, -3, 3, -16, -11, 2, 3, 2, 2, 2, 6, 3, 3, 3, 3, 3, 2, 3, 2, 3, 3, 3, 18, -20, 3, 2, 3, 3, 3, 3, 4, 3, 2, 3, 3, 2, 3, -12, -6, 7, 3, 2, 2, 2, 4, 3, 3, 2, 2, 3, 2, 3, 2, 16, -6, 3, 3, 2, -10, 3, 3, -7, 3, 3, 3, 3, 2, 3, 3, 2, 2, 3, 2, -4, 3, 3, 2, 2, -5, -7, 2, 5, 3, 1, -4, 3, 2, 3, 3, 15, 3, 3, -15, 2, -10, 3, 22, 2, 2, 3, 3, 3, 3, 2, 3, 2, 0, 15, 2, 3, 2, 2, 3, 3, 1, 2, 2, 3, 8, 3, 2, -27, 5, -3, 28, 2, 3, 10, 2, 2, -20, 2, 3, -24, 2, 7, 2, 7, 3, 2, 3, 2, 2, 3, 5, 3, 3, 2, 3, 3, -9, 19, 3, 3, 3, 2, 2, 3, 0, 0, 3, 3, -5, 3, 3, 3, -4, 19, -11, 4, 3, 3, 3, 3, 3, 3, 7, 3, -19, -8, 26, -10, 6, -6, 2, 8, 2, -22, 3, 3, 3, -10, 2, 14, 3, 2, 2, 3, 3, -12, -8, 6, 2, 3, 22, -3, 3, -14, 27, 2, 17, 3, 3, -8, 3, 3, 3, -7, 3, 3, 4, 2, 3, 3, -7, 11, 3, 12, 2, 2, 5, 2, 3, 3, 3, 3, 8, 2, 2, 2, -19, 2, 2, 24, 19, 3, 3, -1, 3, 2, 2, 10, -4, 3, 3, 3, 3, 0, 29, 3, 3, 3, 3, 3, -4, 2, 6, 3, -8, 3, 2, 3, 2, 19, 3, 2, 3, 12, 2, 2, 2, 3, -22, 3, 2, -21, 3, 3, 3, 20, 3, 2, 3, 2, 3, 3, 2, -18, 3, 3, 2, 4, 2, 16, -5, 2, 13, 2, 2, 3, 3, 8, 2, 3, 7, 2, 3, 2, 3, 2, 2, 4, 2, 3, -16, 2, -6, 2, 3, 3, 17, 3, 21, 2, 3, 2, 2, -1, 3, 5, 2, 3, -1, 3, 2, 2, 3, 2, 2, 3, -6, 9, 3, -10, -10, 3, -7, 3, 3, 3, 3, 3, 3, 10, 14, 2, -11, 2, 3, 2, 3, 13, 2, 18, 2, -1, 5, 3, 3, -2, 2, 2, 3, 2, 2, 2, 3, 13, 3, -4, 3, 3, -9, 13, 3, -1, 2, 3, 2, 3, -21, 3, 3, 3, 2, 2, 3, 2, -5, 3, 2, 2, 22, 3, 3, 3, 3, 2, 2, 2, -6, -3, 17, 3, -10, 15, 2, 5, 3, -4, 3, 3, 3, 2, 2, 3, 2, 3, 3, 3, 0, 3, 2, 3, 2, 3, -4, 6, 2, 2, 2, 3, -15, 2, 2, 3, 2, 3, -5, 26, 3, 3, -11, 3, 3, 15, 2, 3, 0, -4, 3, 2, 3, 3, -9, 3, 3, 3, 3, 2, 3, 3, 13, 3, 26, 3, 3, 2, 3, 3, 3, 3, -13, 2, 3, 3, 5, 3, 10, 3, -9, 3, 2, 3, 3, 2, 2, 2, 2, 2, 2, 3, 3, 10, 3, 2, 3, 2, 3, -2, 2, 2, 2, 1, 2, 2, 3, -2, 2, 3, 29, 3, 3, 3, -25, 2, 3, 3, 3, 3, 26, 2, 3, 3, 3, 3, 3, -5, 2, 8, 2, 3, -13, 3, 2, -13, 3, 12, -25, 3, 3, 3, -7, -20, 1, 13, -2, 3, 3, 19, -4, 2, 2, 3, 2, 3, -9, 3, 2, 0, 3, 3, 13, 2, 3, 2, 3, 2, -4, -2, 3, -11, 3, 2, 3, 3, 3, 2, 3, 3, -1, 3, 2, 3, -6, 15, 2, 3, 14, 3, -11, 3, 3, 2, 9, 3, 3, 0, -15, 2, 2, 7, 3, 2, 11, 3, 3, 1, 3, 3, -5, -20, 4, 3, 3, 2, 3, 6, 3, 2, -5, 3, -2, 3, 13, -4, 3, 3, 3, 2, -6, -6, -11, 2, 13, 3, 2, 3, 2, -10, -3, 3, 3, 7, 2, -1, 20, 2, 3, 3, -7, -14, 3, -22, 10, 2, -5, 3, 3, 3, 19, 8, 9, 3, 3, 6, 2, 20, 3, -13, 1, 3, 6, 3, 3, -2, 2, 3, 2, 2, -7, 3, 3, -13, 5, 7, 3, 2, 2, 2, 2, 2, 3, 2, 2, 3, 2, 0, 3, 29, 3, 3, 3, 23, 3, 3, 2, -10, 0, 2, -4, -36, 2, 2, 17, 3, 2, 11, 3, -12, 3, 3, 3, 2, 3, 3, 2, 2, 3, 0, 2, 2, -20, 3, -2, 3, 3, 2, 3, -4, 2, 3, 3, 6, 2, -14, 3, -29, 15, -15, 3, 3, 2, -8, 2, 7, 2, 3, 3, 3, 2, -5, 3, 2, 3, 5, 10, 3, 3, 22, 2, -7, -1, 2, 3, -6, 2, -5, 2, 3, 3, 3, 2, 11, 9, 2, 3, 2, -5, -3, 3, 2, 2, -13, -16, 3, 3, 2, 3, 3, 3, 3, -9, 3, 0, -1, 3, 2, 2, -3, 3, 10, 3, 2, 2, 2, -12, 3, 2, 3, 2, 3, 3, 2, 3, 23, 3, 9, -2, 3, 2, -3, -24, 22, 3, 3, -2, 1, 12, 2, 3, -5, 3, 17, 3, 3, -13, 0, 3, 2, 2, 3, 2, 18, 2, -12, 3, 3, 3, 3, 2, 2, 2, 3, 3, 3, 3, 10, 3, 11, 3, 2, 3, -29, 3, 2, -6, -17, 3, 3, 3, 3, 2, 9, 3, 1, -13, 3, 2, 3, 3, -11, 3, 3, 2, 16, -5, 3, 3, 3, 7, 2, 3, 2, 0, 2, 2, 11, 3, -5, 2, 2, 3, 2, 3, 2, 2, 3, 3, 3, 2, 3, -4, 6, 5, 3, -6, 3, 3, 3, -17, 3, 10, 3, 2, 15, 1, 3, 3, 17, 3, 3, -6, 3, 3, 2, 2, 1, 10, 21, -9, 3, 3, 3, 5, 2, 24, -4, -14, 2, 3, 2, 3, 3, 3, 3, 2, 20, 3, 3, -8, 2, 2, 2, 2, 2, 2, 3, 8, 2, 6, 3, 3, 2, 3, -7, 3, 3, 2, 3, 3, 2, 3, 3, 2, -4, 2, 2, 2, 3, 2, -12, 2, 3, 3, 2, 3, 3, 2, 3, 2, 3, 2, 3, 3, -3, 5, 3, 3, 3, 3, 3, -2, 3, -15, -24, 3, 3, 3, 3, 3, 3, -9, -9, 16, 2, -5, -13, 2, 3, 3, 3, 3, 3, 3, 3, 3, 3, 3, 2, 3, 3, 2, 2, 3, 3, 2, 3, 3, 3, -12, 35, 2, 2, 2, 3, -23, 2, 2, 4, 17, -7, 15, 13, 3, 3, 3, 3, -7, 3, -13, 22, 3, 3, 3, 2, 19, 3, 3, 3, -3, 3, 3, -18, 3, 2, 2, 2, 3, -16, 3, 2, 3, -21, 2, 2, 3, 3, 2, 2, 2, 3, -1, 3, 2, 2, 2, 16, 3, 2, 2, -17, -5, 3, 1, 0, 17, 2, 2, 3, 3, 12, 3, 12, 0, 2, 3, 2, 2, 3, 3, 3, -5, 3, 2, 5, 3, 3, 2, 2, -1, 3, -18, 3, 3, 2, 2, 3, 3, 3, 3, 2, -16, 4, 3, 3, 3, -21, 3, -1, 2, 5, 3, 3, 3, 2, 3, 3, 2, 3, 3, 2, 3, 3, 3, 2, 3, 3, 3, 2, 2, 13, 2, 2, 8, 2, -10, 3, 3, -1, 19, 3, 3, 2, 3, 2, 3, 10, 3, 2, 0, 3, 3, 3, 3, 3, 3, 3, 22, 2, 3, 6, 3, 3, 19, 3, 3, -14, 3, 2, 13, -14, -21, 2, 9, 3, 2, 3, -6, 3, -4, 2, 3, 2, 3, 3, -8, 3, 3, 21, 3, 2, 2, -7, 3, -9, 3, 3, 3, 2, -3, 3, 3, 2, 0, 2, 8, 3, 11, 3, 2, 7, 2, 3, 3, 3, -8, 3, 2, 2, 2, 2, 9, 2, 2, -1, 4, 3, 2, 3, 3, 3, -7, -8, 3, 3, 3, -10, -4, 3, -3, 14, 1, 2, 2, 3, 3, 3, 3, 3, 3, 2, 3, 3, 3, -3, 3, -19, 3, 3, 7, 3, -5, 2, -18, 3, 9, 3, 3, 3, 17, 3, 3, 18, 2, -6, 2, 2, 7, 2, 3, 2, 6, 3, -5, 3, 0, -3, 3, 3, 2, 3, 2, 3, 3, 2, 3, 3, -9, -2, -10, 2, -3, -10, 3, 21, 5, 2, 8, 3, 3, -3, 10, 3, -13, 2, 3, 13, -2, 3, -3, 3, -4, 3, 3, 3, 3, 1, 2, 3, -4, 2, 2, 2, 3, 3, 13, 3, -26, 1, 3, -19, 2, 21, 3, -5, -3, 8, -4, 3, 1, 2, 3, -3, 2, 2, 2, 3, 3, -9, 3, -10, 3, 3, 3, 3, -1, 3, 3, 3, 3, 3, 3, 2, 3, -22, 3, 3, 3, 3, 3, -11, -11, 9, 2, 13, 2, -6, 2, 3, 3, 3, 3, 3, 2, 10, 11, 2, 2, -1, 2, 3, 2, 3, 3, 3, 3, 3, -4, 3, 2, 3, 3, 2, -3, 3, -7, 2, 3, 3, 3, 3, 3, 3, 2, 11, 2, 2, 3, 3, 2, 1, 3, 3, 5, 7, 3, 2, 3, 3, 3, 23, 2, 2, -3, 3, 4, 2, 2, 4, 13, 2, 3, 3, 18, 2, 3, 3, 3, -14, 3, 3, 6, -7, 15, 3, 5, 3, 3, 2, 2, 2, 3, 3, 3, 2, -1, 3, 3, 3, 3, -22, -2, 2, 3, 10, 2, -4, 3, 3, 3, 2, 3, 3, 3, -2, 3, -4, 3, -8, -1, -1, -10, 3, -6, 3, 6, 3, 3, -9, 3, 6, 4, 2, 3, -31, 3, 3, 2, 3, 3, 3, 2, 3, 10, 3, 3, 2, 3, 3, 3, 2, 3, 2, 2, 3, 3, 3, -6, 2, 3, -9, 2, 3, 3, 2, 3, 3, 3, 2, 14, 3, 3, 2, -2, 3, 2, 2, 15, 3, 3, 3, 1, 2, 3, 15, -12, 2, 3, 0, -14, 3, 3, 3, 2, 3, 28, 1, 3, 3, 2, 3, 13, 27, 8, -16, 3, 0, 3, 3, 2, 3, 3, 2, 2, 10, 3, 2, 2, 3, 3, 11, 2, -17, -1, 3, 3, 11, -2, 3, 3, 3, 3, 2, 3, -19, 23, 3, 3, 3, 17, 3, 2, 3, -7, 2, 2, 3, 2, 3, 5, 3, 19, -5, 3, 2, 2, 3, 9, 3, 3, 11, 3, 26, 3, -3, 3, 0, 3, 4, 3, 2, -10, 3, 2, 17, 30, 2, 3, 3, -8, -5, 3, 3, 5, 3, 3, 2, 3, 10, 3, 3, -17, 3, 4, 0, 3, 3, 3, -23, -14, -7, 2, 3, 3, 0, 3, 2, 3, 3, 3, 3, 17, 21, 2, 2, 1, 8, 2, 3, 2, 11, 3, 3, 2, 3, 3, 4, 2, 3, 3, 5, 3, 3, -6, 2, 2, 3, 3, 3, 3, 3, 14, 3, 2, 3, 3, 3, 2, -23, 2, 2, 3, 3, -4, -6, 2, 13, 3, 3, 3, 3, 12, -9, 3, 3, 14, 2, 2, 1, 3, 3, 2, 3, 2, -12, 1, 2, 3, 2, 3, 1, 2, 3, 3, 3, 3, -13, 3, 3, 2, 2, 7, 3, 14, 3, 8, 3, 3, 3, -13, 3, 10, 6, -10, 3, -7, 3, 2, 3, 8, 2, 3, 17, 3, 2, -8, 3, 2, 3, 3, 3, 18, -7, 3, 11, 5, 18, -8, 3, 3, 3, 10, 10, 3, -10, 3, 3, 3, -5, 3, 2, 2, 2, -3, 2, 3, 2, -7, 3, 3, 4, 2, 2, 2, 3, 3, 11, 3, 3, 7, 3, 3, 2, 2, -11, -22, 6, 12, 3, 2, 2, 2, 3, 3, 3, 2, 1, -13, 2, 3, 2, 15, -14, 3, -1, 5, 8, 11, 13, 3, 2, 3, 2, 14, -2, 3, 5, 3, 4, 3, 3, 9, 17, 3, 3, 3, 3, 2, 1, 3, 1, 13, -9, 3, 3, 3, 3, -7, -3, 3, 3, -12, 3, 3, -6, 2, -7, 2, 3, 3, 13, 3, 3, 2, 2, 2, 3, 3, 3, 3, 3, 3, 3, 2, -1, 2, -34, 2, -21, 2, -7, 3, 2, 3, 18, 3, 3, 2, 2, -8, 3, 2, 3, 2, 3, 3, -4, 3, 3, 3, 12, 3, 3, 3, 2, 3, 3, 10, 3, 6, 4, -1, 3, 2, 22, 6, 3, 10, 14, 2, 2, 5, -6, 3, 3, 3, -3, 2, 3, 2, 3, 2, 8, 3, 3, 1, 22, -19, 15, 3, 3, 24, 3, 3, 3, -17, 3, 3, 3, 3, 2, 3, 17, -10, 3, 3, 3, 5, 2, 0, -22, -4, 3, 14, 3, 3, 2, 25, -2, 2, 3, 21, 17, 2, 5, 3, 2, 3, 2, 3, 3, 3, -4, 3, -5, 2, -4, 3, 2, 3, 11, 2, 3, 2, 2, 3, 3, 3, 3, 4, 2, 3, 2, 3, 17, 3, -3, 2, 3, 2, 3, 3, 3, 3, 2, 2, 2, 27, 3, 3, 10, 2, -26, 6, 22, 2, 9, 2, -1, 8, 2, 2, 3, -6, 2, 2, -15, -21, 2, 18, 1, 3, 3, 12, 3, 3, 3, 3, -14, 2, 2, 3, 2, 3, 3, 3, 3, 2, 2, 2, -7, 2, 3, -2, 5, 7, 2, 3, 3, 2, -1, 3, -7, 3, 21, 3, 3, 3, 2, 3, 0, 2, 11, 3, 2, 3, 2, 3, 24, 2, 3, 3, -9, 3, 27, 2, -2, 3, 6, 3, 2, 2, 2, 2, 9, 2, -7, 16, -22, -1, 2, 3, 22, 2, 3, 2, 0, 3, 3, 3, 2, 2, 3, 2, 11, 3, 3, 2, 2, 3, 3, -2, 3, 2, 1, 3, 3, -7, 3, 2, 3, 2, 2, 3, 7, 3, -8, 3, 3, 15, 3, 0, 3, 3, 3, 3, 3, -23, 9, -8, 3, 3, 6, 2, 2, 3, 3, 3, 3, 2, 3, 3, 2, 2, 9, -11, -15, 3, 3, 2, 3, 3, 3, 3, -13, 3, 8, 3, 2, 2, 2, 0, 3, 2, -9, 23, 18, 3, 3, 3, 2, 3, 3, 2, 3, 3, 3, 2, 3, 3, 14, -10, 3, 3, 3, 2, 1, 3, 2, 2, 3, 2, 2, 2, 3, 2, 3, 3, 3, 2, 7, 2, 3, 2, 3, -10, 3, 3, 5, 5, 3, 8, 3, 2, 26, 3, 1, 3, 2, 2, 2, 3, 3, -8, 3, 2, 3, 3, -8, -16, -7, 10, -21, -24, 2, 2, 4, -24, 3, -1, 3, 2, 26, -25, 3, 2, 3, 23, -14, 2, 3, 2, 3, 3, 3, 3, -12, 3, 3, 3, 2, 3, -10, 2, 2, 3, 3, 3, 3, 2, 3, 8, 2, 3, 6, 2, 3, 3, 3, 2, 3, 3, -18, 2, 2, 3, 3, 3, 3, 2, 3, 3, -12, 3, 3, -15, 3, 3, 2, 3, 7, 4, 3, 3, 2, 8, 2, -7, 3, 3, 3, 2, 5, 3, 31, -8, 3, 0, 5, -13, -12, 3, 2, 3, 3, 2, 2, 3, -8, -4, 9, -4, 3, -22, -21, 3, -13, 2, 3, 2, 6, 2, 3, 3, 2, 3, 11, -14, -10, 2, 2, 2, -15, 3, 2, 1, 3, -11, -9, 3, 18, 2, 1, 13, 16, 15, -9, 3, 3, 3, -2, 3, -10, 3, 2, 3, 2, 3, 3, 2, 3, 3, 3, 3, 16, 4, 3, 3, 2, 2, 3, 3, -3, -16, 2, 3, 5, 3, 3, 2, -15, 2, 3, 3, 3, 2, 2, 5, 3, -6, 22, 2, 3, 3, 3, 2, -1, 3, 3, 2, 23, 3, -7, 2, 3, 12, 14, 3, 19, 3, 3, 3, 2, 3, -22, 5, 2, 2, 12, 5, 2, 4, 4, 3, 3, 3, 3, 8, 5, -1, 9, 0, 2, 6, 3, 3, 2, 10, -8, 16, 2, 16, 25, 15, 3, 1, 4, 3, 3, 3, 3, 4, 2, 3, 13, -14, 3, 3, 3, -15, 3, 20, 3, -6, 1, 6, 3, 2, -4, 3, 3, 24, -17, 23, 5, -2, 11, -12, 3, 2, 3, 3, 3, 3, 10, 3, 8, 3, 3, 2, -6, 3, 3, 2, 2, 2, 3, 3, 3, 3, 3, 3, 3, 2, 3, 15, 3, 3, 2, 2, 13, 3, 6, 3, 3, 2, 3, 3, 2, 3, 16, 21, 3, -14, 2, -16, 0, 2, -5, 3, 3, 2, 3, 2, 17, 3, 3, 2, 24, -20, -2, -3, 3, 2, 2, 3, 2, 3, 3, -6, 3, 3, -16, 3, 3, 12, -15, 2, 2, 2, 2, -7, 7, 9, 3, -3, 9, 3, -3, 2, 11, 2, 9, 3, 3, -21, 10, 2, 3, 15, 2, -7, 8, 3, 0, -6, 15, 25, 2, 3, 3, 3, 3, 0, 3, -8, 3, -8, 3, 3, 8, 2, 2, 2, 26, 3, 2, 2, 21, 2, 2, 2, 3, 3, 2, 2, 2, 2, 3, 3, 3, 3, 2, 5, -4, 3, 2, 2, 3, 8, 2, -9, 3, 2, 3, 3, -11, 4, -7, 3, 3, 3, 2, 12, -11, 3, 4, 3, 3, 3, 3, 2, 3, 3, 2, 12, 3, 3, 16, 2, 3, 2, 3, 2, 3, -4, 2, 2, 3, 6, 3, 3, 2, 2, 6, 2, -4, 3, 4, 2, 3, 15, 3, 2, 3, 3, -6, 7, 3, 3, 3, -2, 3, 2, 3, 5, 1, 2, -12, -6, -9, -4, 3, 3, 2, 3, 3, 2, 3, -15, 2, 5, 1, 2, 2, 2, 3, 15, 3, 3, 14, 3, 3, 2, -11, 2, 0, 1, 3, 5, 5, 3, 2, 11, 3, 2, 2, 3, 3, 3, 2, 3, 13, 3, 2, 2, 3, 2, 2, 18, -15, 3, 3, 21, 3, 3, 3, 3, -6, 2, 3, -7, 2, 3, 2, 3, -7, 4, 2, -3, 2, -1, 2, 2, 3, 8, 8, 3, 0, 3, 2, 15, 2, 3, 3, 12, 3, 10, 2, 3, -1, -9, 3, 15, 24, 3, 2, 2, 3, 5, 3, 2, 3, 3, 3, 3, 8, 3, 2, 18, 3, 2, 3, 2, 2, 16, -6, 3, 3, 3, -4, 3, -3, 3, 4, 6, 3, 3, 3, -11, 2, 3, 3, 3, 3, 3, 2, 3, 1, 3, 2, 16, 3, 3, 3, -11, 3, 6, 0, 3, 10, -24, 3, -15, 3, 3, -28, 3, 3, 3, 3, 2, 3, 2, -4, 2, 3, 3, 3, -4, 2, 3, 3, 3, -1, 3, 3, 3, 3, 26, -2, 14, 3, -31, 2, 3, 2, -5, -17, 3, 2, 3, 21, -5, 9, 3, 3, 3, 2, 3, 3, -1, 9, 8, 17, 2, 3, 3, 7, -10, 3, -12, 16, 3, 2, 2, 2, 3, 2, 2, 2, 3, 3, 2, 5, 3, 3, 11, 3, 2, 3, 3, 3, 3, -9, 2, 3, -13, -13, 3, 3, 10, 2, -14, -7, 3, 2, 3, 3, 27, 3, 3, -34, 3, 14, 3, 3, 2, 0, 8, 2, 15, 3, -7, 2, -12, 3, 3, 3, 8, 14, 3, 3, 2, 3, 3, 3, 2, 14, 6, 3, -28, 3, 7, -17, 2, 2, 3, 2, 3, 22, 2, 3, 24, 3, 20, 3, 2, 3, 2, -10, -18, -7, 2, 5, 3, -4, 3, 2, 8, 3, 3, 3, 3, 3, -7, 9, 3, 3, -7, 2, 3, 13, 3, 3, 3, 3, 3, 3, -16, 3, 2, 3, 3, 2, 3, 3, 3, -4, 3, 2, 2, 7, 3, 3, 3, 3, 19, 3, 3, 3, -8, 2, -27, -23, 3, 1, 3, 3, -6, 2, 3, -1, 3, 5, 3, -18, 3, 2, 0, 2, 4, -2, 3, -5, 10, 10, -8, 3, 2, 2, 3, -27, 3, 3, 3, 2, 2, 3, -22, 3, 15, 0, 3, 3, 3, 2, -24, 3, 3, 3, 17, 3, 2, 3, 2, -2, 10, 3, 3, 3, 3, 3, 2, 2, 3, 3, 3, 3, 3, 3, 3, 3, -6, -8, 3, 3, 3, 2, 2, 3, 3, 2, 2, 3, 3, 3, 3, 9, 2, 3, 3, 2, 3, 8, 3, 2, 3, 2, 3, -19, -17, 3, 3, 7, 3, 2, 7, 3, 13, 3, 2, 3, 2, -5, 5, 2, 3, -14, 2, 2, 3, 3, 3, 3, 3, 2, 3, 12, -15, 2, 2, 2, 3, 2, -1, 2, 2, 2, 2, 15, 11, 3, -9, 3, 2, 3, 2, -9, 2, 3, 1, 3, 3, 3, 3, -14, 1, 3, 2, 3, -17, -7, 3, 2, 2, 3, 3, 3, 3, 2, 2, 3, 2, 4, 14, 3, 3, 3, 3, 3, 2, 2, -20, 2, 19, 3, 31, 2, 2, 2, 1, 3, 3, -4, 3, 3, 2, 3, 4, -1, -8, 3, -12, 3, 16, -9, 3, 3, 2, 3, 2, 15, 0, 2, 5, 3, -8, 3, 3, -15, 22, -6, 3, 2, 2, 3, 3, 2, 2, 2, 2, 2, -3, -3, -13, 3, 2, -13, 4, 3, 3, 12, 8, 2, 3, 12, 18, 3, 3, 2, -4, -4, 2, 2, 3, 2, 3, -6, 3, 28, 2, -15, 21, 24, 3, 2, 18, -8, 2, 3, -5, 3, 2, 3, 3, -6, 2, -8, 7, 2, 3, 3, 2, 3, 3, 3, 3, 17, 3, 2, 2, -11, -6, 2, -5, -3, 2, 3, 3, -18, 1, 3, -5, 2, 14, 3, 2, 3, 3, 2, 3, 2, 6, 2, 2, 2, 15, 3, 3, 21, 1, 3, 3, 3, 2, 2, 4, 2, 8, 3, -7, 3, 2, 16, 3, 3, 2, 3, 3, 3, 2, -1, 3, 3, 3, 2, 3, 3, 2, -16, 3, -10, 10, 2, -12, 3, 2, 3, 3, 3, 2, 3, 0, 20, 3, 3, 3, -5, 3, -1, 3, -3, -11, 2, 3, 8, 3, 2, -17, 3, 3, 3, -7, 3, -11, 2, 2, 3, 3, 3, 9, 0, 3, 3, 2, 2, 3, 0, 3, 2, 3, 2, 11, 0, -4, -4, 2, 3, 3, -14, 5, 2, 2, 3, 2, 2, 3, 3, -6, 2, 3, 3, 2, 2, 3, 3, 3, 3, -7, 3, 3, -1, 3, 3, 2, 3, 3, 2, 2, 2, 3, 2, 1, 2, 11, 3, -10, -2, 2, 2, -8, 3, 9, 16, 2, 2, 3, 3, 3, 12, 2, -12, 3, 2, 1, 2, 12, 3, 2, 3, 3, 3, 2, 3, -11, 12, 2, 2, 2, 3, -1, 3, 8, 2, 2, 3, 2, 3, 12, 2, 14, 3, 2, 3, 3, 3, 2, 8, 3, 8, 3, 3, 2, 2, 3, 2, 3, 3, 3, 3, 3, 3, 3, 3, 3, 2, -12, 3, 3, 3, 3, 3, 12, -5, 2, 11, 2, 3, -4, 18, -9, 2, 3, 3, 3, 3, 2, 3, 2, 3, 5, 3, 2, 3, 3, 2, 3, 3, 3, 3, 3, 2, 3, 3, -29, -1, 3, 2, -16, 7, 11, 3, 2, 3, 3, 3, 3, 3, -15, 3, 9, 2, 3, -14, 3, 3, 2, 3, 3, -7, 3, -7, 2, -13, 2, 3, 3, 2, 2, 2, 3, 3, 3, 2, 2, 2, 2, 6, -10, 2, 3, 3, 3, 3, 9, 4, 3, 3, -3, 3, 2, -6, 9, 10, 3, 3, -8, 2, 2, -1, -21, 2, 9, 2, 3, 3, 2, 3, 1, 28, 3, 3, -7, 3, -11, 5, 3, 1, 18, 3, 3, -12, 3, 3, 9, 2, 2, 3, 3, -16, 2, 3, 2, 3, 3, -18, -2, 3, 17, 2, 2, 3, 3, 12, -15, 3, 3, 2, 3, -9, 2, 3, 3, 2, 3, 3, 32, 3, 3, 2, 3, 3, 2, 12, 2, 2, 3, 24, -14, 23, 3, 2, 3, 3, -31, 3, 3, 2, -1, 1, -3, 2, 2, 3, -15, 3, -22, 2, -3, 1, 25, 3, 24, -14, 2, -16, 3, -24, 5, 2, 3, 2, 3, 3, -1, 1, 19, 2, 3, 3, -15, 3, 2, 8, 8, 3, 2, 3, 3, 2, 3, 3, 2, 3, 8, 3, 2, 0, 2, 2, 3, -1, 3, 2, 2, 3, 2, 3, -1, 1, 2, 3, 2, 4, 9, -2, 1, 3, 3, 3, 2, 3, 26, 2, 3, 2, -18, 2, 13, -8, -3, 3, -20, 3, 5, -2, 3, 3, -4, 3, 3, -1, 17, 3, -2, 3, 12, 25, 3, 3, 3, 3, -15, -20, 3, 2, 12, 3, 2, 21, 3, -7, 3, 3, -1, 2, 3, 28, 3, -7, 3, 3, 3, 3, 3, 13, -12, 3, -9, -2, 3, 3, -5, 2, 3, 2, 3, -9, 3, 2, 2, 2, 3, 2, 3, 2, 3, 2, -3, 2, 17, 3, 3, 3, 2, 3, 3, 3, 3, 2, 3, 2, 3, 2, 0, 2, 3, 3, 3, 13, 3, 4, 3, 3, 7, -1, 3, 3, 3, 2, 3, 3, 3, 22, 6, 2, 3, 5, 3, 2, 3, -21, 3, 2, 2, 3, 3, -30, -4, 2, 2, 3, 3, 3, 3, 3, 3, 3, -1, 3, 3, 3, 3, -7, 2, 20, 3, 3, 5, 2, 2, 3, 2, 2, 3, 13, 3, 3, 2, 2, 2, 7, 3, -9, 2, 16, 12, 18, -11, 7, 11, 3, 3, 2, 13, 2, 3, 3, 18, -21, 3, 3, 3, 3, 2, -7, 3, 3, 3, 3, 8, 3, 2, 22, 2, -19, -3, 2, 2, 3, 10, 3, 1, 3, 3, 3, 3, 8, 3, 3, -6, 3, 3, 3, 3, 3, 6, 3, 3, 3, 20, 2, 3, 3, 3, 24, 0, 2, 2, 2, 2, 3, 19, 2, 3, 3, 2, 2, 2, 11, 3, 0, -5, 3, 3, 2, -1, 2, 7, 3, 3, -6, 2, 3, -2, 2, 8, 1, 3, 3, -22, -12, -1, 3, 6, 3, -14, 3, 3, 3, 10, 2, 2, 3, 2, 3, 3, -10, 3, 3, 2, 2, -23, 2, 4, 3, -4, 17, 3, 3, -2, 11, 2, 3, -18, 3, 3, 3, 3, 3, 2, 3, 3, 2, 3, -5, 27, -20, 3, 3, 3, 3, -12, 3, 0, 3, 6, 2, 2, 3, 3, 2, 3, 3, 3, -11, -3, 3, 3, 6, 3, 3, 2, 3, 2, 2, 16, 16, 2, 3, 2, 6, 3, 10, 3, 2, 3, -21, 23, 3, 2, 3, 2, 3, 3, 2, 2, 2, 1, 3, 14, -3, 3, 19, 6, 6, -1, 7, -2, 3, 3, 0, 3, 8, 2, -2, 2, 2, -8, 3, 2, -13, 3, 13, 3, -4, 2, 3, -12, 3, 3, -6, 7, 3, 14, 3, 6, 3, 5, 3, 3, 2, 3, -4, 3, 2, 3, 3, 2, 3, 3, 2, 3, 3, 2, -11, 2, 2, 3, -2, 3, 3, 3, 3, 3, 3, -6, -17, 3, 3, 2, 31, 3, 3, 21, -8, 3, 3, 17, 6, 27, 2, 3, 3, 2, -9, 3, 3, 2, -9, -1, 12, 2, 3, -10, 6, 2, -12, 2, 3, 2, 2, 10, 3, 3, -16, 2, 3, 3, 3, -8, 3, 3, 3, 3, 3, 17, 3, 3, 17, 2, 3, 20, 1, -6, 3, 3, 7, 3, 3, 2, 2, -26, 3, 3, -1, 2, 3, 3, 9, 3, -5, 3, 3, 3, 2, 3, -19, 3, 3, 3, 3, 1, -22, 3, 4, 3, 3, 3, -17, 2, 3, 2, 16, 2, 3, 9, 3, 3, 3, 2, 3, 2, 6, 2, 3, 3, 13, 3, 3, 3, -9, 5, 3, 3, -10, 3, 12, -8, 3, 3, 2, 2, 3, 3, -6, 2, -7, 3, 2, 17, 5, 2, 3, 3, -13, 20, 1, 3, 12, 3, 11, 3, 18, 3, 0, 2, 4, 16, -18, 3, -3, 0, 10, 2, -20, 14, 1, 3, 3, 2, 14, 3, 3, 3, -4, -6, 3, 3, 3, 15, 3, 3, 3, 2, -19, 2, 13, -21, 4, 13, 2, 3, 0, 11, 3, 2, 2, 2, 3, 3, 3, 2, 3, 3, 13, 4, 3, 19, 2, -1, 1, 3, 3, 3, 3, 3, -10, 2, 2, 0, 3, 2, 3, 26, 2, 3, -15, 3, 3, 5, 3, 18, 3, 3, 3, 3, 2, 3, 2, 7, 3, 3, 3, 2, 2, -15, 2, 3, 3, -1, -2, 11, 3, 2, 1, 3, -15, 3, 3, 7, -5, -18, -2, 3, 3, 2, 3, -10, -18, 3, 1, 3, 3, 0, 3, -1, 3, 3, 2, 2, -13, 4, 2, 3, 3, 3, 42, 3, 16, 3, 2, 3, -7, 3, 3, 2, 3, -17, 3, 3, 3, 3, 0, 2, 17, 3, 3, 12, 2, 3, 2, 3, 2, -3, -22, 5, 8, 3, 3, 2, 2, 3, 21, 2, -3, -6, 2, 16, 3, 19, -2, 2, 3, 6, -3, 3, 3, 3, 3, 2, 3, 2, 3, 3, 3, 13, 4, 3, 3, 8, 2, 3, 3, 12, 2, 3, 6, 4, 3, -6, 2, 3, 3, 3, 2, 3, 2, 3, -23, 3, 3, 3, 3, 3, 3, 18, 3, 2, 2, 10, 3, 3, 3, -4, -4, 4, -7, 2, 3, 3, 3, 13, 2, 2, 2, 3, 3, 3, 2, -6, 3, 3, 8, 3, 3, -5, 3, 7, 2, 15, 1, 2, -9, 3, 3, 2, 3, 2, 16, 3, 2, -2, 2, 3, 3, 3, 2, 5, 2, -8, 2, 3, 3, 3, 3, 2, -11, 2, 2, 3, 3, -13, -6, 2, 2, 19, -15, -19, 2, -7, 3, 3, 3, 3, 2, 3, 3, 3, 3, 10, 3, -6, 3, 3, 2, 2, 2, 3, 2, 20, 2, 3, 2, 3, 3, 40, 2, -8, 3, 5, 3, 2, 8, 14, 3, 3, 17, 2, 19, 17, 9, -15, 2, 3, 3, 3, 2, 3, 3, 3, 3, 2, 3, -2, 3, -6, -12, 2, 3, 3, -6, 2, 3, 18, 2, 9, 2, 3, 3, 2, 2, 0, 2, 2, 3, 3, 9, 3, 3, 4, 3, 3, 3, 3, 3, 9, 3, -1, -8, 2, 3, 3, 2, -2, 2, -15, 3, 2, 19, 3, 3, 3, 3, 2, 3, 3, 3, 3, 3, 3, 13, -5, 2, 3, 2, 2, 2, 2, 2, 3, 3, 23, 3, 3, 3, 2, -5, 3, 3, 3, -9, 2, 3, 2, -9, 2, -1, 3, 4, 3, 3, 2, 3, 3, 2, 5, 8, 3, 2, 3, 2, 2, 3, -21, 3, 2, 3, -1, 3, 2, 2, 3, 10, 10, 18, -4, 3, 3, 10, 3, 2, 3, 12, 3, 17, 3, 3, 3, 3, 2, 3, -6, 3, 2, -14, 3, 2, -9, 2, 27, -3, 3, 3, 3, 2, 3, 3, 3, 3, 3, 3, -11, 3, 7, 2, 2, 3, -5, 3, -12, 2, 14, 3, 2, 3, 3, -2, 6, 2, 3, 3, 2, 3, 3, -12, 7, 5, 3, 3, 16, 3, 15, -5, -2, -7, -9, 2, 3, 2, 3, 2, -13, -8, 2, -9, 23, 8, 6, 19, 4, 3, -6, 3, 3, 2, 3, 2, 3, 3, 3, -10, 2, 17, 2, -10, 3, 3, 3, 3, 3, 2, 3, 2, 3, 3, 6, 3, 3, 2, 3, -10, 3, 3, 3, 2, 2, 7, 3, 2, 6, 2, 2, 2, -12, 2, -29, 3, 3, 3, 2, 30, 3, 3, 2, 3, 2, -4, 1, 3, -7, 2, 3, 3, 3, 3, 2, 15, 3, 2, 2, 3, 3, 3, 3, 2, 2, 3, 3, 2, 3, 3, 3, 3, 3, -3, 3, 4, 3, 3, 3, 3, 2, 4, 10, 3, 3, 2, 3, 9, 3, 3, 3, 5, -4, 3, 3, 3, 2, 3, 28, 2, -2, 3, 7, -3, 3, 17, 3, 3, 2, 3, 13, 3, 3, 3, 28, -9, 16, 2, -2, 3, 3, 3, 13, 3, 3, 2, -16, 2, 3, 3, 2, 3, 2, 2, 3, 2, 2, 3, 30, 2, 3, 2, 3, 3, 3, 2, 2, 2, 3, 0, 3, 6, 3, 14, -6, 2, -3, 3, 19, 22, 3, 3, 9, -4, -8, -3, -11, 3, 3, 2, 3, 2, 3, 3, 2, 3, 2, 7, 2, 2, 2, 3, 3, 3, 1, 2, 3, 11, 9, 3, 3, -34, -12, -10, 3, 3, 3, 2, 2, 2, 3, 2, 2, 3, 13, 2, 28, 2, 2, 2, -5, -29, 3, 21, 3, 6, 8, 3, -8, 3, 0, 15, 3, 2, 2, 6, 3, 3, 2, 6, 3, 2, 2, 10, 2, 3, 2, 2, 3, 2, 2, 3, 8, 3, 2, 3, 2, 4, 3, 3, 2, 2, 2, 3, 3, -20, 3, 3, 7, 3, -2, 3, 2, 0, 0, 3, 2, -1, 3, 3, 3, 3, 27, 2, 2, -9, 2, 22, 1, 3, -12, 13, 3, -4, -8, 3, 8, 3, 5, -7, 3, 3, -19, 3, 3, 3, -17, 2, 2, -7, 3, -3, 3, 3, 3, 2, 0, 2, 3, 3, 3, 0, -4, 3, 3, 23, 3, 10, 2, 3, 3, 3, -2, -12, 2, 3, -10, -3, 3, 3, 3, 3, -3, 2, 2, 26, 2, 3, 5, -15, -1, 3, 11, -14, 3, -1, 3, -5, 2, 3, 3, 3, -5, 3, 3, 3, 3, -1, 2, 3, -1, 7, 3, 11, 1, 17, 4, 3, -1, 2, -11, 3, 3, -11, 10, 6, 2, 7, 18, 3, 2, 3, 3, -16, 3, 3, 3, 3, 3, 3, 5, 3, 2, 2, 3, -8, -18, 3, 2, -22, -3, 3, 2, 0, -19, 3, 11, -16, 2, 2, 8, -5, 3, 13, -6, 3, 2, 2, 3, 3, 4, 2, 2, 3, -7, 2, 3, 3, 3, 8, -15, 3, 2, 24, 12, 3, 2, -3, 3, 6, 3, 21, 2, -4, 3, 3, 3, 3, 2, 2, -7, 3, -24, 3, 18, 3, 3, 3, 3, -3, 3, 6, 6, 2, 3, 3, 3, 2, 8, -1, -9, 3, 3, 8, 2, 2, 8, 3, -5, 2, 2, 3, 0, 3, -7, 0, 14, 3, 3, 0, 2, 11, 27, -18, 2, 3, -17, 3, 2, 2, 2, 11, 3, 2, 3, 3, 3, 3, 2, 3, 3, 2, 3, 3, 3, 0, -7, 2, 2, 7, -1, 3, 3, -27, 15, 34, -11, -13, 2, 3, 2, 3, 3, 3, 3, 3, 3, 3, 3, 2, 2, 15, 3, 2, 1, -1, 3, 2, 4, 3, 3, 2, 3, 3, 2, 3, -1, 3, 3, 9, 3, -10, 3, -12, 2, 2, 2, 3, 3, 10, 14, 1, 3, -1, 3, 19, 2, 3, 2, 3, 2, 2, 3, 3, 3, 3, 3, 23, 3, 11, 3, 10, 3, 3, 15, 2, 2, -7, 2, 2, -10, 2, 27, 3, 8, -1, 2, 5, 2, 2, 3, 3, -8, 8, 3, 3, 2, 23, 2, 3, 2, -4, -9, 3, 3, 3, 0, -13, 3, 3, 5, 2, -34, 3, 2, 2, 3, 3, 2, 2, -18, 2, 2, 29, 2, 3, 2, 3, -20, 11, 2, 3, 2, 11, 3, 2, 3, 2, 3, 2, 17, 3, 3, 3, -3, 2, 3, 3, 2, 3, 9, 3, 5, 3, 2, 2, 3, 3, 3, 0, 3, -1, 2, 2, 4, 2, -8, -14, 25, 3, 3, 11, 3, 4, 8, -15, 2, 3, -5, 2, 3, 3, 10, 3, 3, 3, -19, 3, 3, 3, 2, 3, 3, -10, 3, 3, 3, -8, 2, 2, 3, 3, 2, 3, 2, 9, 3, 3, 7, 3, 3, 3, 24, 3, 16, 2, 2, 2, 2, 3]\n"
     ]
    }
   ],
   "source": [
    "print(position1)"
   ]
  },
  {
   "cell_type": "code",
   "execution_count": 11,
   "metadata": {
    "collapsed": false
   },
   "outputs": [
    {
     "name": "stdout",
     "output_type": "stream",
     "text": [
      "10000\n"
     ]
    }
   ],
   "source": [
    "position1=position1[1:sample+1]\n",
    "print(len(position1))"
   ]
  },
  {
   "cell_type": "code",
   "execution_count": 12,
   "metadata": {
    "collapsed": false
   },
   "outputs": [
    {
     "name": "stdout",
     "output_type": "stream",
     "text": [
      "59\n"
     ]
    }
   ],
   "source": [
    "reactor=[]\n",
    "capture=[]\n",
    "through=[]\n",
    "\n",
    "num_r=0\n",
    "num_c=0\n",
    "num_t=0\n",
    "\n",
    "size1=np.arange(0,est_1+1,h)\n",
    "print(len(size1))"
   ]
  },
  {
   "cell_type": "code",
   "execution_count": 13,
   "metadata": {
    "collapsed": false
   },
   "outputs": [],
   "source": [
    "for j in range(est_1+1):\n",
    "    reactor.append(num_r)\n",
    "    capture.append(num_c)\n",
    "    through.append(num_t)\n",
    "    x = size1[j]\n",
    "    nt=0\n",
    "    nc=0\n",
    "    nr=0\n",
    "    for i in range(sample):\n",
    "        if position1[i] > x:\n",
    "            nt += 1\n",
    "        elif position1[i] > 0:\n",
    "            nc += 1\n",
    "        else:\n",
    "            nr += 1\n",
    "    if nr == 0:\n",
    "        num_r = 0.001\n",
    "    else:\n",
    "        num_r = nr\n",
    "    if nc == 0:\n",
    "        num_c = 0.001\n",
    "    else:\n",
    "        num_c = nc\n",
    "    if nt == 0:\n",
    "        num_t = 0.001\n",
    "    else:\n",
    "        num_t = nt"
   ]
  },
  {
   "cell_type": "code",
   "execution_count": 14,
   "metadata": {
    "collapsed": true
   },
   "outputs": [],
   "source": [
    "reactor_n=reactor[1:est_1+1]\n",
    "capture_n=capture[1:est_1+1]\n",
    "through_n=through[1:est_1+1]"
   ]
  },
  {
   "cell_type": "code",
   "execution_count": 15,
   "metadata": {
    "collapsed": false
   },
   "outputs": [
    {
     "name": "stdout",
     "output_type": "stream",
     "text": [
      "[1584, 1584, 1584, 1584, 1584, 1584, 1584, 1584, 1584, 1584, 1584, 1584, 1584, 1584, 1584, 1584, 1584, 1584, 1584, 1584, 1584, 1584, 1584, 1584, 1584, 1584, 1584, 1584, 1584, 1584, 1584, 1584, 1584, 1584, 1584, 1584, 1584, 1584, 1584, 1584, 1584, 1584, 1584, 1584, 1584, 1584, 1584, 1584, 1584, 1584, 1584, 1584, 1584, 1584, 1584, 1584, 1584, 1584]\n",
      "58\n"
     ]
    }
   ],
   "source": [
    "print(reactor_n)\n",
    "print(len(reactor_n))"
   ]
  },
  {
   "cell_type": "code",
   "execution_count": 16,
   "metadata": {
    "collapsed": false
   },
   "outputs": [
    {
     "name": "stdout",
     "output_type": "stream",
     "text": [
      "[0.001, 103, 2493, 6990, 7091, 7203, 7318, 7410, 7504, 7591, 7675, 7761, 7823, 7896, 7951, 8012, 8068, 8132, 8167, 8205, 8234, 8266, 8291, 8315, 8333, 8344, 8362, 8379, 8390, 8397, 8401, 8407, 8409, 8409, 8410, 8412, 8412, 8413, 8413, 8413, 8414, 8415, 8416, 8416, 8416, 8416, 8416, 8416, 8416, 8416, 8416, 8416, 8416, 8416, 8416, 8416, 8416, 8416]\n",
      "58\n"
     ]
    }
   ],
   "source": [
    "print(capture_n)\n",
    "print(len(capture_n))"
   ]
  },
  {
   "cell_type": "code",
   "execution_count": 17,
   "metadata": {
    "collapsed": false
   },
   "outputs": [
    {
     "name": "stdout",
     "output_type": "stream",
     "text": [
      "[8416, 8313, 5923, 1426, 1325, 1213, 1098, 1006, 912, 825, 741, 655, 593, 520, 465, 404, 348, 284, 249, 211, 182, 150, 125, 101, 83, 72, 54, 37, 26, 19, 15, 9, 7, 7, 6, 4, 4, 3, 3, 3, 2, 1, 0.001, 0.001, 0.001, 0.001, 0.001, 0.001, 0.001, 0.001, 0.001, 0.001, 0.001, 0.001, 0.001, 0.001, 0.001, 0.001]\n",
      "58\n"
     ]
    }
   ],
   "source": [
    "print(through_n)\n",
    "print(len(through_n))"
   ]
  },
  {
   "cell_type": "code",
   "execution_count": 18,
   "metadata": {
    "collapsed": false
   },
   "outputs": [
    {
     "name": "stdout",
     "output_type": "stream",
     "text": [
      "[ 1  2  3  4  5  6  7  8  9 10 11 12 13 14 15 16 17 18 19 20 21 22 23 24 25\n",
      " 26 27 28 29 30 31 32 33 34 35 36 37 38 39 40 41 42 43 44 45 46 47 48 49 50\n",
      " 51 52 53 54 55 56 57 58]\n",
      "58\n"
     ]
    }
   ],
   "source": [
    "print(size1[1:est_1+1])\n",
    "print(len(size1[1:est_1+1]))"
   ]
  },
  {
   "cell_type": "code",
   "execution_count": 19,
   "metadata": {
    "collapsed": false
   },
   "outputs": [
    {
     "data": {
      "image/png": "[encoded data removed]",
      "text/plain": [
       "<matplotlib.figure.Figure at 0xad8bea0c>"
      ]
     },
     "metadata": {},
     "output_type": "display_data"
    }
   ],
   "source": [
    "size_array=np.array(size1[1:est_1+1])\n",
    "through_array=np.array(through_n)\n",
    "capture_array=np.array(capture_n)\n",
    "reactor_array=np.array(reactor_n)\n",
    "plt.plot(size_array,through_array,'-',label='through',color='red',linewidth=3.0)\n",
    "plt.plot(size_array,capture_array,'-',label='capture',color='blue',linewidth=3.0)\n",
    "plt.plot(size_array,reactor_array,'-',label='reactor',color='black',linewidth=3.0)\n",
    "plt.legend(bbox_to_anchor=(1.05, 1), loc=2, borderaxespad=0.)\n",
    "plt.xlabel('Size of the shield')\n",
    "plt.ylabel('Number')\n",
    "plt.show()\n",
    "\n",
    "\n",
    "\n"
   ]
  },
  {
   "cell_type": "code",
   "execution_count": 20,
   "metadata": {
    "collapsed": true
   },
   "outputs": [],
   "source": [
    "P_through=through_array/sample\n",
    "P_capture=capture_array/sample\n",
    "P_reactor=reactor_array/sample\n",
    "\n",
    "size1=size1[1:est_1+1]"
   ]
  },
  {
   "cell_type": "code",
   "execution_count": 21,
   "metadata": {
    "collapsed": false
   },
   "outputs": [
    {
     "name": "stdout",
     "output_type": "stream",
     "text": [
      "-0.314517941223 1.53305408574\n",
      "0.9777445068172843\n"
     ]
    }
   ],
   "source": [
    "m_through,b_through=np.polyfit(size1,np.log(P_through),1)\n",
    "print(m_through,b_through)\n",
    "\n",
    "\n",
    "fit_t=m_through*size1+b_through\n",
    "uncertainty_t=(1/tmax)*np.sum((fit_t-np.log(P_through))**2)#Standard Deviation\n",
    "print(math.sqrt(uncertainty_t))"
   ]
  },
  {
   "cell_type": "code",
   "execution_count": 22,
   "metadata": {
    "collapsed": false
   },
   "outputs": [
    {
     "name": "stdout",
     "output_type": "stream",
     "text": [
      "0.0393394531672 -1.73331369381\n",
      "5.12830654926215\n"
     ]
    }
   ],
   "source": [
    "m_capture,b_capture=np.polyfit(size1,np.log(P_capture),1)\n",
    "print(m_capture,b_capture)\n",
    "\n",
    "\n",
    "fit_c=m_capture*size1+b_capture\n",
    "uncertainty_c=(1/tmax)*np.sum((fit_t-np.log(P_capture))**2)#Standard Deviation\n",
    "print(math.sqrt(uncertainty_c))"
   ]
  },
  {
   "cell_type": "code",
   "execution_count": 23,
   "metadata": {
    "collapsed": false
   },
   "outputs": [
    {
     "name": "stdout",
     "output_type": "stream",
     "text": [
      "-1.37531728058e-17 -1.8426317996\n",
      "1.616509124176106e-16\n"
     ]
    }
   ],
   "source": [
    "m_reactor,b_reactor=np.polyfit(size1,np.log(P_reactor),1)\n",
    "print(m_reactor,b_reactor)\n",
    "\n",
    "\n",
    "fit_t=m_reactor*size1+b_reactor\n",
    "uncertainty_r=(1/tmax)*np.sum((fit_t-np.log(P_reactor))**2)#Standard Deviation\n",
    "print(math.sqrt(uncertainty_r))"
   ]
  },
  {
   "cell_type": "code",
   "execution_count": null,
   "metadata": {
    "collapsed": true
   },
   "outputs": [],
   "source": []
  },
  {
   "cell_type": "code",
   "execution_count": null,
   "metadata": {
    "collapsed": true
   },
   "outputs": [],
   "source": []
  },
  {
   "cell_type": "code",
   "execution_count": null,
   "metadata": {
    "collapsed": true
   },
   "outputs": [],
   "source": []
  }
 ],
 "metadata": {
  "anaconda-cloud": {},
  "kernelspec": {
   "display_name": "Python [conda root]",
   "language": "python",
   "name": "conda-root-py"
  },
  "language_info": {
   "codemirror_mode": {
    "name": "ipython",
    "version": 3
   },
   "file_extension": ".py",
   "mimetype": "text/x-python",
   "name": "python",
   "nbconvert_exporter": "python",
   "pygments_lexer": "ipython3",
   "version": "3.5.2"
  }
 },
 "nbformat": 4,
 "nbformat_minor": 1
}
