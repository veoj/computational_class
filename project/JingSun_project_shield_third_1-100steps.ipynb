{
 "cells": [
  {
   "cell_type": "code",
   "execution_count": 1,
   "metadata": {
    "collapsed": true
   },
   "outputs": [],
   "source": [
    "import random as ran\n",
    "import numpy as np\n",
    "import pylab as py\n",
    "import matplotlib.pyplot as plt\n",
    "from scipy.optimize import curve_fit\n",
    "import math as math\n"
   ]
  },
  {
   "cell_type": "code",
   "execution_count": 2,
   "metadata": {
    "collapsed": false,
    "scrolled": false
   },
   "outputs": [
    {
     "data": {
      "image/png": "[encoded data removed]",
      "text/plain": [
       "<matplotlib.figure.Figure at 0xad92afac>"
      ]
     },
     "metadata": {},
     "output_type": "display_data"
    },
    {
     "name": "stdout",
     "output_type": "stream",
     "text": [
      "1.00025299857\n",
      "200\n"
     ]
    }
   ],
   "source": [
    "h=1\n",
    "tmax=200\n",
    "tpoints=np.arange(0,tmax+1,h)\n",
    "#print(tpoints)\n",
    "\n",
    "sample=10000\n",
    "s_points=np.arange(0,sample+1,h)\n",
    "\n",
    "mean=100\n",
    "standard=20\n",
    "A0=1/(standard*math.sqrt(2*3.14))\n",
    "Z=(tpoints[1:tmax+1]-mean)/standard\n",
    "dist=A0*np.exp(-1*(Z**2)/2)\n",
    "\n",
    "#print(dist)\n",
    "plt.plot(tpoints[1:tmax+1],dist)\n",
    "plt.show()\n",
    "\n",
    "print(sum(dist))\n",
    "print(len(dist))\n",
    "\n"
   ]
  },
  {
   "cell_type": "code",
   "execution_count": 3,
   "metadata": {
    "collapsed": false
   },
   "outputs": [
    {
     "name": "stdout",
     "output_type": "stream",
     "text": [
      "200\n"
     ]
    }
   ],
   "source": [
    "dist_0=dist[0]\n",
    "for i in range(tmax-1):\n",
    "    if i == 0:\n",
    "        dist[i]=dist_0\n",
    "    else:\n",
    "        dist[i]=dist[i]-dist[i-1]\n",
    "        \n",
    "#print(dist)\n",
    "print(len(dist))"
   ]
  },
  {
   "cell_type": "code",
   "execution_count": 4,
   "metadata": {
    "collapsed": false
   },
   "outputs": [
    {
     "name": "stdout",
     "output_type": "stream",
     "text": [
      "100\n",
      "100\n",
      "75\n",
      "140\n"
     ]
    }
   ],
   "source": [
    "dist1=dist[0:100]# steps from 1 to 100\n",
    "dist2=dist[100:200]# steps from 101 to 200\n",
    "print(len(dist1))\n",
    "print(len(dist2))\n",
    "\n",
    "frac1=ran.uniform(0,dist1[99])\n",
    "est_1=mean-(standard*math.sqrt(-2*np.log(frac1/A0)))\n",
    "\n",
    "est_1=int(est_1//1)\n",
    "\n",
    "print(est_1)\n",
    "\n",
    "\n",
    "\n",
    "frac2=ran.uniform(0,dist2[0])\n",
    "est_2=mean+(standard*math.sqrt(-2*np.log(frac2/A0)))\n",
    "\n",
    "est_2=int(est_2//1)\n",
    "\n",
    "print(est_2)\n"
   ]
  },
  {
   "cell_type": "code",
   "execution_count": 5,
   "metadata": {
    "collapsed": false
   },
   "outputs": [
    {
     "name": "stdout",
     "output_type": "stream",
     "text": [
      "76\n",
      "141\n"
     ]
    }
   ],
   "source": [
    "e1points=np.arange(0,est_1+1,h)\n",
    "e2points=np.arange(0,est_2+1,h)\n",
    "\n",
    "print(len(e1points))\n",
    "print(len(e2points))"
   ]
  },
  {
   "cell_type": "code",
   "execution_count": 6,
   "metadata": {
    "collapsed": true
   },
   "outputs": [],
   "source": [
    "first=1\n",
    "p_same=3/4\n",
    "p_change=1/4"
   ]
  },
  {
   "cell_type": "code",
   "execution_count": 7,
   "metadata": {
    "collapsed": true
   },
   "outputs": [],
   "source": [
    "ele=first\n",
    "pos1=first\n",
    "position1=[]\n",
    "pos2=first\n",
    "position2=[]"
   ]
  },
  {
   "cell_type": "code",
   "execution_count": 8,
   "metadata": {
    "collapsed": true
   },
   "outputs": [],
   "source": [
    "up=2\n",
    "down=-2\n",
    "right=1\n",
    "left=-1"
   ]
  },
  {
   "cell_type": "code",
   "execution_count": 9,
   "metadata": {
    "collapsed": false
   },
   "outputs": [],
   "source": [
    "# loop for capture possibility\n",
    "for i in s_points:\n",
    "    position1.append(pos1)\n",
    "    ele = 1\n",
    "    # 2nd move        \n",
    "    if ran.random() > p_change:\n",
    "        ele += right\n",
    "        test = right\n",
    "    else:\n",
    "        if ran.random() > 1/2:\n",
    "            ele += 0*up\n",
    "            test = up\n",
    "        else:\n",
    "            ele += 0*down\n",
    "            test = down\n",
    "    # 3rd move  \n",
    "    if test == right:\n",
    "        if ran.random() > p_change:\n",
    "            ele += right\n",
    "            test = right\n",
    "        else:\n",
    "            if ran.random() > 1/2:\n",
    "                ele += 0*up\n",
    "                test = up\n",
    "            else:\n",
    "                ele += 0*down\n",
    "                test = down\n",
    "    else:\n",
    "        if test == up:\n",
    "            if ran.random() > p_change:\n",
    "                ele += 0*up\n",
    "                test = up\n",
    "            else:\n",
    "                if ran.random() > 1/2:\n",
    "                    ele += left\n",
    "                    test = left\n",
    "                else:\n",
    "                    ele += right\n",
    "                    test = right\n",
    "        else:\n",
    "            if test == down:\n",
    "                if ran.random() > p_change:\n",
    "                    ele += 0*down\n",
    "                    test = down\n",
    "                else:\n",
    "                    if ran.random() > 1/2:\n",
    "                        ele += left\n",
    "                        test = left\n",
    "                    else:\n",
    "                        ele += right\n",
    "                        test = right\n",
    "        # 4th and later move\n",
    "        for t in range(3,est_1+1):\n",
    "            if test == right:\n",
    "                if ran.random() > p_change:\n",
    "                    ele += right\n",
    "                    test = right\n",
    "                else:\n",
    "                    if ran.random() > 1/2:\n",
    "                        ele += 0*up\n",
    "                        test = up\n",
    "                    else:\n",
    "                        ele += 0*down\n",
    "                        test = down\n",
    "            else:\n",
    "                if test == up:\n",
    "                    if ran.random() > p_change:\n",
    "                        ele += 0*up\n",
    "                        test = up\n",
    "                    else:\n",
    "                        if ran.random() > 1/2:\n",
    "                            ele += left\n",
    "                            test = left\n",
    "                        else:\n",
    "                            ele += right\n",
    "                            test = right\n",
    "                else:\n",
    "                    if test == down:\n",
    "                        if ran.random() > p_change:\n",
    "                            ele += 0*down\n",
    "                            test = down\n",
    "                        else:\n",
    "                            if ran.random() > 1/2:\n",
    "                                ele += left\n",
    "                                test = left\n",
    "                            else:\n",
    "                                ele += right\n",
    "                                test = right\n",
    "                    else:\n",
    "                        if test == left:\n",
    "                            if ran.random() > p_change:\n",
    "                                ele += left\n",
    "                                test = left\n",
    "                            else:\n",
    "                                if ran.random() > 1/2:\n",
    "                                    ele += 0*up\n",
    "                                    test = up\n",
    "                                else:\n",
    "                                    ele += 0*down\n",
    "                                    test = down\n",
    "    pos1 = ele\n"
   ]
  },
  {
   "cell_type": "code",
   "execution_count": 10,
   "metadata": {
    "collapsed": false
   },
   "outputs": [
    {
     "name": "stdout",
     "output_type": "stream",
     "text": [
      "[1, 3, 2, 3, 3, 2, -7, 3, 3, 2, 3, 3, 3, 3, 3, -3, -3, 3, -2, 3, 3, 3, -8, 3, -7, 2, 3, 3, 3, 3, 2, 2, 7, 3, 2, -3, 3, 7, -15, 3, 2, -12, 2, 18, 3, 2, 11, 3, 32, 3, 8, 3, 3, 2, 3, 2, 3, 3, 3, 3, 3, 3, -8, 3, 2, 3, -20, 30, 8, 2, 31, 3, 2, -6, 3, 3, -4, 3, 3, 2, 3, 3, 2, 3, 3, 2, 2, 2, 3, 11, 2, 2, 3, 2, 6, 2, 3, 3, 25, 3, -18, 7, 2, 19, 3, 3, 3, 3, 3, 2, -4, 3, 2, 3, 3, 3, 37, 3, 3, 3, 3, 3, 2, 3, -16, 3, 3, 3, -7, 3, 3, 3, 29, -34, 2, 2, 3, 3, 2, -12, 2, 3, 2, 2, 26, 3, 2, 2, 3, 3, 2, 3, 3, 9, 2, 26, -15, 3, 3, 2, 3, 3, 3, 3, 2, 3, 2, 3, 3, 3, 2, -1, 2, 3, 11, 3, 2, 2, 3, -15, 3, 2, -5, 3, -7, -13, 3, 3, -10, 24, 3, 3, 22, 2, 3, -1, 3, 2, 7, 3, 3, 3, 3, 3, 3, 3, 3, 9, 3, 3, 3, 3, 3, 2, 3, 3, -21, 3, 3, 27, 3, 3, 3, 18, 3, 3, 3, 3, 3, 2, 2, 3, 3, 3, 3, 2, 5, 3, 3, 2, 3, -10, 3, 3, 3, -15, 8, 33, 3, 3, 3, 3, 3, 3, 2, -10, -3, 3, -39, 3, -6, 2, 3, 16, 3, -16, 14, -7, 3, 3, 3, -9, 2, 8, 2, 2, 3, 2, 3, 3, 14, 3, 3, 3, 2, 1, 2, 3, 3, 3, 3, 3, 3, 3, 3, 3, 3, 3, 3, 3, 2, 3, 3, 3, 10, 2, 3, 37, 3, 4, 3, 2, 2, 3, 2, -13, 5, 3, 3, 3, 3, 3, -13, 3, 6, -18, 3, -9, 2, -2, 3, 2, 3, 10, 3, 3, 3, 2, -9, -40, 4, 3, 3, 3, -25, -15, 3, 3, 3, 3, -4, -14, 2, 2, -3, 3, 3, 3, -8, 3, 2, 3, 2, -22, 3, 2, 3, 3, 3, 2, -3, 2, 3, 3, -10, 2, 3, -11, 2, 3, -2, 3, -13, 3, 2, 3, 3, 3, 2, 3, 2, 3, 3, 3, 3, -20, 3, 2, 30, 3, 3, 7, -9, 3, 6, 3, 15, 3, 8, -18, 3, -4, 2, -2, -5, 2, 3, 3, 0, 22, 3, 2, -16, 2, 3, 2, 2, 3, 2, 3, 3, -7, 3, -11, 3, 3, 2, 2, -9, 2, 3, 3, -1, -2, 3, 2, 2, 3, 3, 2, 3, 3, 3, 3, 3, 7, 3, 2, 2, -5, 3, 3, 2, 2, 3, 2, 13, 2, 2, 3, 3, 2, 2, 3, 3, 11, 3, 3, 3, 3, -5, 3, 25, 3, 3, 3, 6, 3, 2, 3, 2, 3, 3, 2, 3, 3, 3, 3, 3, 3, 3, 3, 2, 16, 3, 26, 3, 2, 1, 3, -6, 3, 3, 2, 2, 3, 3, 3, 3, -10, 2, 2, 3, 2, 3, 12, 3, 2, 3, -10, -29, 3, 3, 3, 3, 2, 3, 3, 19, 3, 3, 3, 3, -2, 3, 3, 3, 25, -15, 3, 2, 3, 3, -8, 3, 2, 2, 3, 2, 3, 2, 2, 8, 2, 3, 3, 3, 3, 2, 3, 2, 3, 3, 2, 3, 9, 3, 3, 3, 3, -25, 7, 14, 3, -16, 3, 2, 12, 5, 3, -7, 3, 3, 3, 2, 3, 3, 3, 2, 10, 3, 3, 2, 3, 2, 3, 3, 3, 8, 3, 3, 3, 2, 3, 2, 3, 30, 3, 3, 3, 17, 2, 3, 3, 4, 3, 3, 3, 3, -17, 3, 3, 3, -14, 3, 3, -4, 3, -3, 5, 5, 2, 3, -4, 11, 3, 2, 3, 3, 3, 2, 3, 3, 3, -12, 2, 3, 3, 3, 3, 13, 3, 3, 13, 3, 3, -20, 3, 2, 2, 3, 3, 3, 3, 3, 2, 2, 3, 3, 23, 3, 1, 3, 3, 3, 14, -33, 3, 2, -40, 3, 3, 10, 2, 20, 3, 3, 3, 2, 2, 3, 3, 3, 22, 3, 3, -25, 3, 2, 3, -4, 2, 3, 3, -5, 3, 2, 1, 2, 2, 2, 3, 2, 3, 2, 2, 3, 2, 3, 3, 2, -8, 3, 3, 3, 2, 3, 3, 7, -4, -19, 3, 3, -8, 6, 3, 3, -6, 3, 2, 3, 3, 2, 3, 3, 3, 2, 3, 3, -6, 3, 21, 3, 3, 3, -8, 3, 2, 3, 3, 3, 3, -56, 12, 3, -3, 2, 2, 2, 3, 3, -6, 3, 2, 3, 3, -9, -3, 3, -1, 3, 2, 17, 3, 3, 3, 3, 3, -7, 10, 2, 3, 11, 3, 3, 3, 3, 2, 3, 3, 3, 2, 27, 2, 3, 3, -15, 2, 3, 3, 2, -1, -19, 7, -23, 3, 2, -4, 3, 3, 3, 3, 3, 2, 3, 2, 2, 3, 2, 3, 3, -7, 3, -1, 2, 3, 2, 2, 2, 2, 2, 3, 2, 3, 3, -20, 3, 3, 3, 2, 3, 3, 3, 3, -16, 3, 2, 3, 2, 3, 18, -11, 3, 3, -2, 3, 2, 3, 3, 3, 2, 3, 2, 2, -27, 13, 3, 3, 3, -23, 3, -35, 3, 4, 3, 3, 3, 17, 3, 3, 3, 6, 3, 2, 3, 3, 23, 3, -8, 2, 3, 2, 3, 3, -13, 3, 3, 3, 3, 6, 3, 3, 3, 2, 3, 3, 3, 3, -16, 3, 3, 3, 2, 2, 3, 2, 12, 3, 3, 3, 2, 2, 3, 3, -10, 2, 33, 3, 2, 17, 2, -6, 3, -1, 3, 2, 3, 3, 2, 35, 3, 3, 3, 3, 3, 3, -5, 2, 3, 3, 8, 3, 3, 3, 3, 3, 3, 2, 3, 3, 3, 3, 3, 3, 3, -25, 1, 3, 2, 2, 3, 3, -19, 3, 3, 2, 2, 3, 2, 2, 3, 3, 3, 3, 3, 3, 3, 3, 2, 3, 3, 3, 3, 3, 3, -1, 8, 3, 3, 2, -25, 9, 3, 2, 2, 3, 2, 2, 3, 3, 3, 3, -8, 2, 2, 3, 3, 2, 3, 3, 3, -18, -24, 2, 3, -2, 2, 20, 3, 3, 2, -14, 3, 2, 2, 2, 2, 3, 9, 3, -4, 3, 3, 3, 3, 3, 2, 3, 2, 2, 2, 3, 3, 2, 3, 8, 16, 2, -7, 3, 3, 3, 10, 2, -8, 3, 3, 3, 3, 2, 3, -17, 1, 26, 3, 2, -12, -4, -9, 3, 3, 3, 2, 3, 3, 8, 3, 3, -18, 22, 3, 3, -1, 3, 10, 3, 2, 3, 3, 2, 3, 24, 2, 21, 3, 3, -17, 3, 2, 3, 3, 3, -6, -26, 3, 6, 3, 3, 3, 3, 23, 2, 3, 2, -1, 3, 3, 2, 3, 3, 19, -28, 3, 2, 3, 2, 2, 3, -2, -9, -11, 3, 3, 2, 3, 3, -4, 3, 2, -6, 1, 3, 3, 3, 37, 2, 3, 3, 3, 3, 3, 3, 3, 7, 3, 2, 3, 3, 11, -1, 3, 3, 3, -16, 6, 3, -2, 3, 3, 2, 3, 3, 3, 2, 28, 3, 3, -6, -10, 3, 2, 3, 3, -13, 3, 3, 3, -6, 3, 3, 3, 3, -6, 2, 1, 3, -22, 2, 31, 3, 3, 3, 3, 3, 3, 3, 3, -16, -16, 3, 11, -13, 2, 3, -28, 2, 3, 2, 6, 3, 3, 24, 3, 3, 1, 2, 3, 3, 3, 3, 2, 3, 3, -5, 3, 2, 3, 2, 3, -12, 3, 3, -12, 3, 3, -15, 2, 3, -15, 3, 2, -32, 3, 30, 3, 19, 2, 3, 2, -1, 2, 3, 2, 2, 2, 3, 3, 2, 3, 1, 3, 9, 3, 3, 3, 3, 10, -6, 3, 2, 3, 3, 3, -26, 3, -4, 3, 4, 33, -11, -14, 3, 3, 2, 31, 3, 2, 3, 3, 3, 2, 3, 3, 3, 3, -17, 3, 10, 12, -9, 4, 3, 3, -8, 3, 2, 3, 2, 2, 3, 3, -3, 3, 8, 2, 2, 2, 3, 2, 2, -2, 3, 12, 11, 2, 2, 3, 3, 3, 4, 2, 3, 3, 3, 3, 2, 3, 2, 3, 3, 2, 14, 3, 2, 2, 3, 3, 3, 4, -27, 2, 3, 3, 3, 3, 3, 12, 3, 2, 2, 3, 3, 3, 3, 3, 3, 3, 3, 3, 2, 3, 3, -8, 6, -5, 3, 3, 3, 3, 3, 3, 2, 3, 3, 3, 3, 2, 3, 7, 13, -31, 3, 8, 3, 3, -11, 3, 3, 3, 3, 12, 3, 3, 12, -11, -5, 3, -21, -20, 3, 3, 3, 3, 9, 2, 3, 2, 3, 3, 13, 3, 3, 3, 3, 3, 3, 2, 3, 3, 2, 3, 27, 0, 12, 2, 3, 2, 31, 13, 3, -7, 2, 3, 3, 3, -23, 2, 3, 2, 3, 3, 3, 2, 3, 3, 1, 3, 3, 3, 3, 3, 21, 3, 2, -11, 3, 2, 3, 3, 3, 3, 6, 3, 1, 2, 2, 2, 2, 2, 3, 3, 3, -24, 2, -3, 3, -5, 3, -12, 8, 2, 9, 3, 3, 3, 8, 15, 3, 3, 11, 2, 3, 3, 39, 3, 3, 3, 0, 2, 3, -2, 3, 2, 3, 2, 3, 3, 3, 3, 3, 3, 3, 3, 3, -7, 2, 12, 16, 23, 2, 12, 3, 9, 3, 3, 31, 3, 3, 3, -3, 3, 20, 33, 3, 3, 3, 1, 2, 2, 3, 3, 3, 3, -24, 3, 3, 3, 3, 3, 3, 3, -10, 3, 12, 3, 3, -3, -23, 2, 3, 3, 3, 3, 2, 2, 3, -2, 3, 3, 3, 20, 22, 2, 3, 3, 2, 3, 3, 3, 3, 3, 3, -4, 4, 3, 3, 3, 3, 2, 2, 3, 2, 26, 3, 3, 5, 3, 18, 3, 3, 3, 3, 3, 3, 3, 3, 3, 3, 3, 3, 8, 3, -22, 0, 6, 25, -4, 3, 2, -15, 7, 8, -17, 8, 3, 2, 3, 22, 2, 3, 3, 3, 3, 12, 10, 3, 3, 3, 3, 23, 5, 3, 23, 2, 3, 1, 3, 2, 3, 3, 3, 3, 3, 2, 3, 2, 2, -14, 3, 3, 2, 3, 6, -5, 2, -3, 3, 2, 2, -12, 3, -3, 7, 2, 2, 3, 2, 2, 3, 0, 2, 0, 2, 3, 3, 2, 3, 2, 3, 3, 2, -1, 3, 3, 3, 3, -13, 2, 3, 3, 15, -17, 3, 2, 3, 3, 3, 9, 3, 3, -2, 3, 3, 3, 3, 2, 18, 3, 2, 3, 3, 3, 23, 3, -36, 9, 3, 2, 3, 3, 3, 3, 2, 2, 22, 3, 3, 3, 2, 18, 3, 3, 3, 8, 3, 3, 3, 3, 2, 3, 2, 3, 2, 3, 3, 3, 3, -8, 2, 3, 3, 3, 3, 3, 3, 2, 3, 3, 11, 3, 3, 2, 3, 2, 3, 3, 7, -1, 3, 3, 3, 2, 3, 2, 3, 2, 2, 3, 3, 3, 3, 3, -7, 22, 2, 3, 2, 3, 2, -8, 3, -8, 3, 9, 3, 3, 11, 3, 3, 2, 3, 3, 3, 2, -35, -2, 3, 3, 3, 3, 3, 3, 11, 3, 2, 3, 3, 2, 3, 2, 1, 3, 2, 17, 3, 2, 3, 3, 3, -7, 2, 15, 13, 3, 3, -6, 3, 0, 3, 3, 2, 2, 3, 3, 8, 3, 3, 3, 3, 0, 2, 2, 2, 10, 3, 3, 3, 2, 3, 3, 2, -13, 3, 12, 3, 33, 3, 3, 3, 2, -2, 2, 2, 19, 3, -19, 2, 2, 3, 2, 3, 3, 3, 3, 3, 3, 3, 3, 2, 2, 2, 3, 18, 3, 3, 3, 2, 2, 3, 25, 3, 2, 10, 2, 3, 3, -14, 0, 3, 3, -12, -25, 5, -6, 3, 2, 3, 3, -35, -8, 3, 3, 3, 22, 3, 3, 3, 3, -6, 2, 3, 3, 2, 2, 3, 3, 15, 2, -2, 3, 3, -24, 2, -13, 3, 3, 3, 3, 17, 3, 3, 3, 3, 3, 3, 3, 2, 3, 0, 3, 3, 2, 3, 2, 3, 3, 2, 34, 2, 3, 3, 10, 2, -22, 3, 2, 3, 3, 3, 2, 2, 3, 2, 3, 3, 3, 3, -10, 25, 3, 2, 3, 3, 2, 2, 3, 3, 10, 3, -31, -19, 3, 3, 2, 3, 2, 3, 9, 2, 3, 3, -14, -1, 3, 3, 3, 3, 2, 3, 3, 3, 13, 3, 3, 3, 4, 3, 3, 3, 2, 22, 3, 2, 3, -15, 22, 3, -1, 2, 3, 2, 3, -1, 8, 3, 3, 3, -25, 3, -2, 3, 3, 3, 2, 3, 3, 2, 3, 3, 11, 3, -3, 3, 3, 3, 3, 2, 2, 3, 3, 3, 3, 6, 3, 3, 3, 2, -20, 3, 3, 3, 3, 3, 3, 3, 5, 11, 3, 3, 7, 2, 2, 21, 2, 3, 2, 2, 3, 3, 3, 3, 3, 3, 2, 3, -10, 2, 3, 3, 18, 3, 1, 20, 10, -6, 3, 2, 2, 3, 2, 11, 3, -11, 2, 18, -27, 3, 3, 3, 14, 3, 3, 3, 2, 2, 3, 14, 3, 3, 3, 2, 2, 3, 2, 3, 3, 3, 3, 3, 3, 3, 2, 3, -10, 3, 3, 2, 3, 2, 3, 3, 3, 3, 3, 3, 3, 3, 2, 3, 2, 3, 20, 3, 3, 13, 3, 2, 3, 7, 2, 3, 0, 3, 3, 3, 3, -31, 3, 3, -9, 3, 2, 2, 3, 13, 2, 3, 2, -13, 3, 3, -22, 2, 3, 3, 2, 3, 3, 3, 3, 2, 8, 15, -8, 2, 3, 3, 2, 3, 2, 2, 2, 3, 3, 3, 22, 3, 3, 3, 2, -31, 3, 3, 2, -38, 3, 3, 3, -15, -17, 3, 3, 4, 2, 3, 3, 3, 2, 3, 3, -25, 18, 7, 0, 2, 3, 2, 2, -11, 3, 2, 5, 2, 2, 3, 25, 2, 3, 3, 3, 3, 3, 2, 2, 3, 3, 18, 3, 10, 27, 3, 3, 3, 3, 3, 2, 3, 2, 3, 2, 22, 2, 2, 10, 2, 3, 2, 33, 3, 3, 2, 0, 2, -8, 3, 19, 2, 18, -13, 3, 3, 2, 29, 3, 3, 3, 3, -1, 3, 3, 3, 0, 3, 2, 3, 20, 3, 3, 17, 3, 3, 0, 3, 3, 3, 3, 3, 3, -1, 3, 1, 2, 18, 3, 2, 3, 3, 3, 3, 3, 3, 3, 3, 3, 20, 2, 2, 3, 3, 3, 2, 2, 3, 3, 3, 2, 2, 20, 2, 3, 3, 3, 3, 2, 12, 3, 3, -14, 14, 3, 5, 3, -13, -22, 3, 2, 3, 3, 2, 3, 2, 1, 3, 3, 3, -20, 3, 3, 3, 3, 3, 2, 3, 3, 3, -25, -5, 25, 3, 3, -12, -18, -6, 2, 4, 3, 7, 2, 3, 3, 2, -3, 3, 3, -11, 3, 3, 3, 2, 2, 3, 3, 2, 2, 3, -23, 3, 2, 3, 2, 3, 3, 21, 3, 2, 3, 2, 3, 2, 2, 3, 3, 3, 3, -7, 24, 3, 11, 3, -14, 3, 3, 2, 3, 3, 16, 2, 22, 3, 3, 11, 19, 3, -3, 3, 2, 3, 16, 3, 3, 3, 2, 9, 3, 2, -6, -1, 3, 5, 2, 3, 2, 32, 2, 3, 3, 2, 3, 3, 2, 3, 2, 3, 3, 3, 3, 3, 3, 3, 27, 3, 11, 3, 3, 3, -7, 12, -4, -34, 3, 3, 3, 3, -15, 2, 3, 3, 3, 3, 3, 2, 3, -16, 9, 3, 3, 3, 3, -1, 3, 2, 2, -9, 3, 3, 3, 3, 3, 2, 2, 3, 3, 3, 2, 3, 3, 2, 2, 4, 24, 2, 3, 3, 3, 3, 3, 3, 8, 2, 2, 2, 3, 3, 1, 3, 3, -6, 3, 3, 2, 3, 1, 3, 3, 3, 3, 10, 3, -13, 2, 3, 2, 2, 3, 3, 2, 3, 3, 2, 15, 3, 2, 3, 3, 15, 3, 3, 3, 3, 1, 3, 2, 3, 15, 0, -35, 3, -6, 10, 2, 13, 3, 17, 2, 2, 39, 3, 3, 3, -3, 3, 3, 3, 3, 3, 11, 2, 20, 11, 3, 3, 3, 2, -15, 3, 16, 3, -5, 3, 3, -24, 25, 3, 24, 3, 2, 3, 3, -2, 3, 3, 3, 3, 3, 2, 3, 2, 3, 2, 3, 3, 12, 8, -13, 3, 3, 4, 3, -12, 3, 3, 3, 16, -7, 3, 2, -9, 0, 3, 3, 2, 3, -19, 3, 2, 2, 3, -3, 3, 3, 3, 3, -15, 3, 3, 2, 3, 2, 3, 3, 3, 3, -4, 2, 0, 3, 3, 2, 3, 3, 2, 3, 3, 3, 3, 2, 11, -6, 2, 3, -2, -8, 3, 3, 3, 2, -1, 2, 3, 3, 2, 2, 2, -13, 3, 3, 3, 2, -17, -18, 3, -5, 3, 3, 3, 17, 3, 3, 14, 3, 3, -12, 13, 3, 3, 3, 2, 3, -3, 3, -7, 3, -1, 3, 2, 3, 3, 3, 0, 0, 3, 3, 3, 19, 25, 3, 3, 3, 3, 3, 2, 2, 3, 2, 3, -24, 3, 3, 2, -3, 3, 2, 27, 3, 3, -39, 3, 3, -2, 3, 0, -2, 3, 16, 2, 2, 31, 3, 3, -1, 3, -12, 2, 2, 2, -24, 20, 3, 3, -5, 3, 2, 3, 3, 3, 3, 3, 3, 3, 3, 0, 3, -31, -4, 29, 3, 3, -17, 3, 3, 2, 3, 3, 3, -14, 9, 3, 3, 2, 2, 2, -11, 3, 3, 2, 3, 3, 3, 3, 3, 2, -7, 3, 3, 16, 3, 7, 3, 3, 3, 3, -9, 3, 3, 3, 8, 3, 3, 2, 3, 3, 3, 14, 6, -17, 3, 3, 2, 3, 0, 3, 3, 3, 3, 3, 3, 3, -40, 3, -20, 3, 2, 3, 3, 3, 3, 3, 3, -9, 3, 2, 3, 3, 3, 3, 2, 15, 3, 2, 2, -7, 3, 3, 3, 3, 2, 3, 3, 2, 2, 10, -5, -33, -11, -24, 3, 3, 3, 2, 12, 3, 3, 8, 5, 3, 3, 2, 0, 3, 3, 2, 18, 3, 3, -23, 3, 3, -19, 3, 4, 2, 3, 3, 22, -12, 2, 13, 3, 3, 26, 3, 3, 2, 3, 2, 3, 3, 3, 3, 8, 2, 2, 2, 2, 3, 3, 3, 2, 3, 25, -16, 3, 3, 3, -6, 12, 3, 2, 2, 3, 3, 2, 3, 3, 2, 3, 3, 2, 3, 3, 2, -6, 3, 3, 3, 4, 3, 3, 2, 3, 3, 2, 3, -11, 2, -7, 3, 2, 3, 3, 3, 3, 3, -6, 3, 2, 2, 3, 2, 3, 3, 2, 2, 3, 2, 3, 3, 3, 2, 2, 3, 2, 2, -25, 3, -10, 3, 3, 3, 3, 3, -16, 3, 3, 2, 28, 20, -15, 3, 3, 0, 3, 3, 3, 3, 3, 16, 2, 6, 3, 5, 3, 3, 26, 2, 3, 3, 3, 3, 14, 3, 3, 3, 31, -4, 3, 3, 2, 3, 3, 3, 2, 3, 15, -2, 2, 23, 2, 3, 2, 7, 27, 2, 2, 3, 8, 2, 3, 2, 2, 25, 15, 3, -18, 2, 3, 3, -1, 1, 3, 2, 3, 2, -16, 2, 3, 2, 2, 2, 2, 3, 3, -5, 18, 2, 3, 3, 3, 2, 3, 3, 3, 3, 13, 2, 3, 12, 3, -8, 3, 16, 3, 2, 3, 3, 3, 2, 3, 3, 2, 3, 2, 3, 3, 2, 2, 3, 3, 2, 3, 8, -1, -5, -3, 3, 3, 3, 3, 2, -13, 3, 3, -19, 3, 7, 3, 3, 2, 3, 5, 3, 3, 3, 3, 3, 3, 3, 3, 2, 7, 3, 3, 3, 3, 17, 3, 3, 14, 2, -9, 3, 3, 3, 3, 3, 3, 3, -21, 0, 2, 21, 3, 3, 3, 2, 3, 2, 2, 3, -10, 3, 3, 3, 3, 3, 3, -5, 3, 3, 3, 3, 3, 3, 3, 2, 3, -1, 3, 3, 3, 2, 2, 3, 20, 3, 3, 3, 3, 3, 3, 3, 3, 3, 3, 3, -7, 3, 39, 3, 2, 3, 2, 3, 3, 14, 3, 2, 21, 3, 2, 21, 3, 2, 3, 3, 3, 3, 2, 23, 3, 3, -29, 11, 3, 3, 3, 9, -10, 2, 3, 3, -7, 3, 3, 2, 3, 2, 3, 3, 3, 3, 3, 3, 3, 3, 2, 2, 3, 6, 2, 3, 2, 3, 2, 3, 2, 2, 2, 3, 3, 2, 2, 20, 3, -20, -19, -21, 3, 38, 2, 3, 3, 3, 2, 3, 2, 2, 3, 3, 3, 3, 3, -23, 3, 3, 2, 3, 3, -17, 3, 18, 3, 3, 3, 14, 2, 2, 3, -5, 3, -34, 3, 3, -3, 3, 3, 8, 3, 2, -6, 3, 2, -13, 3, 10, 3, 3, 3, 2, 3, 3, 4, 3, -16, 3, 3, 3, 3, 2, 3, 3, 3, 11, -12, 2, 10, 3, 18, 0, 3, 3, 3, 3, 1, 3, 3, 3, 3, 3, 2, 2, 27, 2, 3, 2, 3, 3, 3, 8, 2, 2, 3, 3, 12, 17, 3, 3, 3, 3, 3, 22, 3, 3, 2, 3, 6, 2, 3, 3, 3, 3, 3, 3, 3, 2, 3, 3, 3, 3, 24, -1, 3, 7, 3, 3, 14, 3, 2, -13, 2, 3, -24, -9, 7, 3, 3, 3, 2, 3, 3, 2, 2, 3, 3, 3, 20, 3, 3, 2, 21, 3, 3, 2, 3, 2, 3, 21, 2, 3, 3, 6, 12, 33, 3, -2, 22, 3, 3, 3, 3, -15, 3, 3, 3, 3, 3, 2, 3, 3, 3, 3, -2, 3, 3, 3, 2, 19, 3, 2, 2, 3, 3, 3, 3, 2, 3, 2, 3, 3, 7, -1, 3, 3, 1, 3, 2, 2, 3, 2, 3, 3, 2, 13, 3, -14, -20, 2, 3, 3, 2, 3, 3, 3, 3, 4, 2, 2, 3, 33, 2, 2, 3, 3, 2, 3, -15, 3, 2, 2, 3, 13, 3, 3, 25, 3, 3, 3, 3, 3, 2, 3, 3, 3, 3, 3, 4, -5, 2, 2, 26, 3, 2, 3, 2, 3, -12, 3, 2, 3, 10, 2, 3, 3, 18, 3, 3, 3, -5, 3, 3, 3, 3, 4, 2, 1, 3, 3, 3, 45, 3, 2, 3, -33, 3, 2, -6, 13, 3, 3, 2, 8, -2, 2, 2, 3, 3, 2, 24, 2, 3, 3, 2, 3, 2, 3, 2, 2, 3, 3, 3, 3, 2, 13, 2, 3, 3, 3, 2, 3, 3, 3, 2, 3, 2, 3, 3, 3, -26, 3, 10, 17, -4, 3, -6, 3, 3, 3, -8, 2, 3, 3, 2, 3, 12, -2, 3, 3, 3, 2, 3, -23, 2, 2, -6, 3, 3, 2, 3, 19, 3, 10, 3, -11, 41, -20, 3, 3, 3, 3, 3, -3, 2, 8, 3, 3, 2, 3, -5, 3, 3, -12, 3, 19, 3, 3, 3, 3, 3, 0, 3, 3, 3, 3, 24, 3, 2, -34, 3, 3, 2, 2, 3, 3, 3, -14, 4, 3, 3, 2, 3, 3, 2, 3, 20, 3, 3, -16, 3, 2, 8, 3, 3, 3, 2, 3, -20, 3, 7, 3, 3, -7, 3, 3, 3, -28, -12, 3, 1, -30, -4, 2, 3, 7, 18, 10, 3, 3, 3, -12, -8, 3, 3, -4, 3, 3, 2, 3, 3, -15, 4, 3, 3, 3, 3, 17, 3, 3, 40, 2, 2, 3, 9, 3, 3, 3, 2, 3, 3, 2, 3, 3, 3, 3, 2, 3, 3, 3, 3, -26, 3, 3, 3, 3, 3, -2, 3, 3, 2, 8, 5, 18, 3, 3, 3, 3, 0, 20, 3, 3, 2, 2, 3, -18, 3, 2, 3, -1, 2, 3, 3, 3, 21, 3, -13, 3, 3, 3, 2, 2, -1, 3, 3, 6, 3, 3, 3, 3, 3, 3, 3, 3, 3, 0, -22, 3, 2, 3, 3, 2, -6, 3, 3, 3, 3, 2, 3, 3, 3, 3, -1, 2, 2, 3, 3, 4, 3, 1, 3, 3, 3, 3, 2, 3, -6, 24, 19, 3, 3, 3, 6, 2, 3, 3, 3, 2, 3, 2, 3, 2, 3, 2, 2, 0, 3, 2, 3, 2, 3, 3, -15, 26, 3, 3, 2, 2, 3, 2, -10, 1, 3, 6, 3, 2, 3, 3, 3, 3, 3, -8, 3, 9, 3, 3, 7, 2, 3, 3, 2, 3, -5, -12, 2, 3, 3, 2, -20, 3, 3, 3, 3, 3, 3, -13, 3, 3, 2, 3, 2, 3, 2, 2, 8, 3, 2, 2, 3, 3, -9, 3, 3, 3, 2, -3, 2, 3, 2, 3, 3, 3, 3, 2, 3, 2, -8, 2, 3, 15, 3, 3, -6, -21, 13, 3, 3, 2, -6, 3, 3, 3, 16, 3, 3, 3, 23, 38, 3, -27, 3, 3, 3, 3, 20, 2, -12, 3, 3, 3, 3, 2, 3, -9, 3, 3, -5, -23, 3, -10, 3, 0, 15, 2, 3, 3, 3, 3, 2, 2, 3, 34, 3, 3, 2, 3, 2, 3, -19, 3, 3, 3, 2, 3, 2, -3, 3, 3, 3, 3, 3, 3, 3, 2, 3, 3, 3, 12, 2, 25, -2, 3, 3, 3, 3, 3, 2, 6, 3, 3, 7, 3, 3, 6, 3, 3, 2, 3, 9, 3, 3, 3, 3, 3, -15, 3, 19, -6, 3, -2, -10, 3, 3, 3, 3, 2, -10, 5, 3, 3, 2, 3, 3, 2, 3, -13, 6, 3, 2, 3, 3, 3, 3, 2, 3, 3, -21, 3, 7, 23, 3, 3, 3, 3, 3, 2, 3, 3, 3, 2, 3, 3, 3, 3, -20, 3, 3, 3, 3, 2, 3, 2, 3, -22, 3, 23, 2, 2, 2, -6, 3, 3, -21, 28, 16, 3, 3, -9, 2, -4, 3, 12, 2, 3, 3, 3, 2, -2, 3, 3, -15, 18, 3, 3, 3, 2, 3, -4, 3, -18, 3, 3, 3, 2, 3, 3, 3, 10, 3, 2, 2, 3, 2, 2, 2, 3, -21, 3, 20, 3, 3, 3, 3, 3, 2, 3, 3, 2, 3, 3, -9, 8, 3, 3, 3, 3, 2, 3, 5, 15, 2, 3, 2, 2, 3, 2, 3, 3, 3, 3, 3, -6, 3, 1, 3, 3, 3, 3, 3, -11, 4, 3, 3, -12, 18, 5, -18, 2, 3, 3, 3, -32, 3, -6, 3, 3, 4, 30, -14, 3, 3, 3, 3, -1, -10, 3, -31, 7, 3, 3, -13, 1, 3, 3, 3, -14, -9, 3, 2, 3, 3, 2, 3, 3, 2, 2, 3, 20, 2, 3, 3, 15, 3, 3, 3, 2, 3, 3, 2, 3, 8, 9, 3, 3, 3, 3, 3, 3, 3, 3, 2, 27, 3, 3, 3, -1, -11, 3, 3, 3, 2, 3, 3, -7, 3, 3, 3, 3, 3, 2, -3, 2, 3, 3, 22, 3, 3, 3, -3, 3, -8, 3, 15, 3, 8, 2, 3, 3, 3, 3, -19, -5, 2, 6, 3, 16, 3, 3, 2, 3, 2, 3, 23, 3, 14, 3, -12, -11, 3, -5, 2, 2, 2, 3, 3, 3, 3, 2, -11, 3, 2, 3, -13, 3, 3, 3, 3, 14, 3, 3, -11, 4, 3, 3, -7, 2, -8, 3, 3, 28, 2, 3, 3, 2, 3, 3, 3, 9, 3, -7, 2, 4, 7, 3, 2, 2, 3, 3, 7, -10, 24, 14, 2, 2, 3, 3, 3, 3, 3, 3, 3, 3, 3, 3, 9, 3, 3, 21, 14, 3, 5, 9, 3, -16, 6, -7, -19, 3, 2, 3, 3, 3, -2, 3, 6, -8, 3, 7, 2, -11, -3, 3, 3, 3, 3, 2, -19, 2, 3, 3, 2, 2, 3, 3, 3, 3, 2, -22, 3, 2, 3, -3, 3, 3, 3, -13, 3, 3, 3, 6, 3, 3, 5, 3, 3, 3, -14, 12, 3, -35, 3, 2, 2, 3, -6, 2, 3, 3, 3, 16, 3, 3, 3, -22, -22, 3, 3, 2, 3, 3, 3, 2, 2, 3, 19, 3, 3, 3, 3, -15, 3, 3, 3, 2, -20, 3, 3, 3, 3, 2, -11, 3, 3, 3, 3, 3, 3, 3, 3, 3, 3, -1, 3, 2, 2, 2, 3, 3, 3, 3, 3, -14, 3, -23, 2, 3, 3, 3, 3, 3, 2, 2, 2, 2, 3, 3, 3, 0, 2, 3, 16, 3, 2, 2, 21, 3, 9, 3, 3, -3, 2, 3, 2, 3, 2, 3, 3, 3, 3, 20, 3, 3, 3, 36, 3, 2, 3, 3, 3, 23, -31, 3, 3, 3, 23, 3, 3, 3, 3, 3, -4, 19, 3, 3, 3, 2, 3, 3, 3, 3, 8, 3, 3, 18, 3, 3, 3, 3, 3, -15, 3, 3, 3, 2, 2, 3, 3, -21, -11, 3, 3, 14, 14, 3, 3, 3, -14, 32, 3, 3, 3, 3, 3, 3, 2, 3, 35, 3, 3, 3, 2, 25, 2, -13, -15, 20, 2, -19, 3, 3, 3, 17, 3, 3, 2, 3, -8, 3, 3, 3, 3, 3, -10, 3, 3, 3, 3, 3, 3, 28, 3, -38, 2, 3, 3, 3, 3, 2, 13, 3, 7, 3, 3, 3, 3, 3, -1, 3, 3, -2, 2, -6, 2, 0, -11, 3, -1, 28, 3, 2, 3, 3, -14, 3, 3, -12, 3, 3, 2, 3, 3, 3, 3, -17, 3, 2, 19, 3, 2, 3, 3, 20, 3, 2, 4, 3, 3, 3, 31, -9, 0, 28, 2, 3, 3, 2, -11, 3, 2, 2, 3, 3, 2, 10, 3, 3, -5, 2, 3, 2, 2, 3, 3, 3, 3, 3, 20, 3, 3, 2, 3, 13, 3, 3, 3, 3, 2, 3, 2, 3, 3, 3, 1, 0, 3, 3, 3, 3, 3, 2, 3, 3, 3, 3, 3, 3, -4, 3, 9, 2, 3, 3, -27, 1, 3, 22, 3, 3, -17, 3, 8, 3, 3, 3, 3, 3, 3, 3, 28, 3, 2, 3, 3, 3, 3, -15, 17, 3, -13, 4, 3, 3, 3, 3, 3, 3, -6, 3, -5, 3, 3, 2, 15, 6, 3, 3, 3, 2, 2, 3, 3, 3, 2, 3, -20, 2, 3, 2, -13, 3, 3, 2, 2, 3, 3, 3, 27, 3, 2, 3, 3, 3, -13, -3, 3, 3, 2, 0, 3, 3, 2, 3, 3, 3, 2, 3, 3, 3, 3, 3, 2, 3, -32, 3, 15, 3, 3, 3, 3, 13, 3, 3, 3, 3, -6, 3, 2, 2, 3, 3, 3, 2, 2, 3, 3, 2, 21, 3, 3, 2, 2, 2, 3, 2, 3, 3, 3, 3, 1, 14, 3, 3, -4, 2, 3, 3, 2, -5, -28, 3, 3, 3, 3, 22, 3, 3, 3, 3, 37, 3, 3, -36, -5, 2, 2, 2, 3, 3, 2, 3, 3, -8, 2, 3, 2, 2, 3, 2, 2, 17, 3, -25, 3, 3, 3, 2, 2, 3, 2, 3, 3, 3, 3, -25, 3, 3, 3, 3, 3, 4, 1, 3, 3, 2, 21, 3, 3, 2, -17, 3, 2, 3, 2, 3, 6, 2, 3, 3, 3, 0, 3, -11, -5, -7, 10, 3, 3, 17, 3, 3, 2, 3, 3, 2, 3, -15, 3, 3, 3, 3, 3, 3, 3, 3, 3, -8, 3, 3, 3, 3, 3, -3, 3, 2, 2, 3, 3, 3, -25, 25, 19, 2, 3, 3, 3, -11, 3, 3, 3, 3, 2, -16, 3, 3, 3, 3, 23, -4, 3, -15, 11, 3, 3, 2, -5, 3, 3, 3, 2, 2, 5, -25, 3, 3, 3, 3, 28, 3, 3, 2, 3, -14, 3, -5, 2, 3, 3, 3, 2, 3, 43, -7, 3, 1, 3, 2, 3, -22, 3, 3, 3, 2, 3, 3, 3, 11, 21, 2, 2, 2, 3, 5, 3, 3, 3, -1, 3, 15, 3, 1, 3, 3, 2, 3, 16, 3, 2, 3, 8, 3, 10, 2, -3, 2, 3, 3, -11, 3, 3, 3, 3, 3, 2, 3, 3, -10, 3, 2, 3, 3, 20, 3, 2, 2, -3, 3, 3, 3, 3, 3, -8, 2, 3, 3, -15, 25, 6, 3, 34, 3, 3, 3, 10, 2, 19, 2, 3, -13, 2, 2, 3, 3, -9, 3, 2, 3, 3, -19, 2, 3, 2, -10, 14, 3, 2, 3, -20, 2, 3, 3, 3, 2, 3, 3, 7, 3, 3, 2, 3, 3, 3, 3, 2, 3, 2, -11, 3, 2, -22, 3, 2, -4, 3, 3, 3, 21, 3, 3, 3, 2, 2, 3, 9, 5, -9, 20, 3, 36, 3, 2, 3, 3, 2, 3, 2, 2, 3, 3, 3, 3, 3, 14, 11, 3, 2, 3, 16, 2, 3, -15, 3, 3, 3, -16, -13, 23, 3, 2, 18, 3, 3, -13, 2, 3, 3, 2, -26, 11, 2, 3, 3, 2, 3, 3, 3, 3, 3, 3, 1, 3, 3, 3, 3, 2, 3, 2, -14, 3, 3, 2, 15, 35, -5, 3, 3, 19, 2, 3, 1, 9, 2, 3, 16, 6, 3, 3, 3, -18, 3, 3, 3, -5, 16, 3, 3, -20, 3, 3, 3, 3, 6, 3, 3, 13, 3, -5, 2, -16, 3, 3, -10, 3, 3, 3, 3, 10, 3, 3, 3, 15, 2, 4, 2, -7, 3, 3, 23, 3, 23, 3, 3, 3, 2, 3, -29, 3, 3, 2, -14, 3, 3, 2, 3, 3, 2, 3, 2, 2, 8, -17, 3, 2, -27, 3, -13, 3, 3, 2, 2, -11, 2, 3, 2, 3, 2, 3, 2, 2, 2, 10, 3, -20, 3, 2, 3, 3, 13, 3, 3, 15, 2, 2, -18, 2, 3, 3, 3, 2, 19, 3, 3, 3, 3, 2, -5, 2, 2, 3, 3, 3, 3, 3, 3, 3, -5, 3, 3, 3, 3, -8, 2, -31, 2, 2, 3, 2, 3, -18, 3, 5, 11, 2, 9, 3, 2, 3, 3, 1, 2, 2, 3, 3, 3, 3, 15, 3, 5, 3, 3, 3, 3, 3, 3, 2, 2, 2, 3, 3, 3, 3, 2, 3, 3, 3, 13, 3, 3, 3, 3, 3, 3, 3, 3, 2, 3, 3, 3, -4, 3, 3, 3, 3, 3, 2, 3, 3, 3, 3, 3, 3, 3, -4, 3, 26, 3, 3, 3, 3, 3, 3, 3, 3, 3, 3, 3, 3, 2, 7, 3, 3, 3, -21, 10, 9, 24, 3, 3, 3, 3, 3, 3, -15, 3, 3, 3, 2, 3, 3, -19, 3, 3, 6, 3, 3, 3, 3, 3, 3, 25, 3, 20, 2, 2, 3, 3, 0, 2, 2, -20, 2, 3, -16, 3, 3, 3, 3, 3, 3, -31, 2, 3, 8, 3, -15, 2, 3, -3, 3, 3, 3, 3, -2, -21, -4, 3, -36, 3, 3, 2, 3, 3, 3, 3, 3, 3, 2, 2, 17, 3, 26, 2, 3, 3, 2, 3, 3, 3, 2, 2, 3, 3, 2, 2, 10, 3, 3, 3, 2, 3, 3, 3, 2, 3, 3, -31, 3, 3, 2, 30, -18, 0, 5, 3, 3, 3, 44, 3, 19, 3, 2, -6, 3, 3, 3, 3, -2, 3, 3, 3, 3, 13, 18, 3, 7, 3, 3, 9, 2, -8, 3, 3, 3, 3, 3, 15, 3, 3, 3, 3, 2, -4, 3, 3, 3, 2, 3, 3, 3, -21, 3, 8, 3, 3, 3, 3, 3, 3, 3, -2, -26, 3, 3, 3, 3, 3, 3, 3, -2, 2, 2, 3, 20, 3, 3, -8, 3, 2, 2, 3, -34, 4, 3, 2, 15, 3, 3, -7, 22, 2, 3, 3, -4, 3, 3, 3, 3, 3, 3, 3, 3, 3, 3, 2, 3, 35, 30, 3, 2, 3, 2, 3, 3, 3, 3, -2, 3, -6, 3, 3, 3, 3, 2, 3, 3, 3, 3, -13, 2, 2, 2, 3, 3, 12, -7, 3, 3, 2, 2, 2, 2, 3, 3, 2, 2, 3, 3, 7, 3, 14, 3, 2, 2, 3, -10, 3, -1, 3, 2, 3, 3, 2, 3, 3, 14, 3, -15, 2, -22, 3, 2, 3, -5, 3, 3, 3, 3, 2, 3, 3, 3, 3, -14, 21, 6, 6, 3, 21, 3, 3, -31, 3, 2, 3, 2, -1, -27, -39, 3, 3, -7, 3, 3, -14, 3, 3, 3, 2, 3, 3, 3, 3, 2, -2, 35, 3, -5, 3, 5, -12, -7, 18, 3, 10, 2, 11, 3, 3, 3, 2, 26, 1, 2, 3, -8, 3, 3, 3, 2, 3, 2, 8, 3, 2, 2, 3, 3, 3, 3, 24, 2, 3, 2, -4, 3, 3, 3, 3, 30, 3, 3, 3, 2, 24, 3, 5, 3, 3, 22, 2, 3, 20, 3, 3, 2, 2, 3, 2, 3, 3, 2, -3, 3, 3, 2, -5, 3, 3, 0, 3, -1, -25, 16, 2, 3, 2, 4, 3, 3, 3, 3, -4, 2, 2, 3, 3, 2, -19, 11, -13, 3, -5, 3, 3, 3, 2, 3, -17, 2, 2, 3, 3, 3, 3, 23, 3, 3, 3, 3, 2, 3, 32, 3, 2, 2, 2, 3, 2, 3, 3, 36, -9, 3, 3, 3, 3, 3, 26, 3, 3, 18, -27, 3, 0, 3, 3, 3, 3, 2, 3, 3, 3, 2, 3, -4, 3, 3, 5, 3, 3, 3, 3, 3, 13, 6, 3, 2, 3, 3, 2, 2, 3, 3, 3, 2, 3, 3, 1, -21, 3, 3, 4, 3, 3, 3, 3, 13, 3, 2, -12, 3, 3, 3, 3, 3, 2, 3, 28, 3, -6, 3, 3, 3, 3, 3, 3, 3, 2, 26, 3, 3, 2, -7, -8, 3, 3, 3, 17, 3, -3, 3, 3, 3, 3, 2, 3, 3, 3, 3, 3, 3, 3, 3, 3, 3, 9, 3, 3, 1, 3, 3, 3, -13, 3, 3, 3, 3, 2, 2, 3, -25, 3, 2, 3, -17, 3, 3, 3, 6, 3, 14, 2, 17, 2, 3, 2, 2, 3, 3, 3, 3, 3, 17, 13, -14, 3, 3, 3, 2, 3, 24, 14, 3, 3, -23, -8, 3, 3, 3, 2, 20, 2, 2, 3, -2, 3, 3, 3, 7, 5, 3, 3, 2, -2, 3, 3, 3, 2, 3, 2, 3, 3, 3, 3, 2, 2, 3, 3, 19, 1, 3, 3, -19, 3, 3, 3, 3, 2, 2, 3, 3, 3, 3, 3, 3, -2, 2, 2, 2, 3, 3, 3, 3, 3, -21, 15, 3, 3, 2, -1, 5, 3, 3, 3, 3, 3, 3, 3, 3, 3, 2, -24, 3, 2, 3, 3, 2, 3, 2, 3, 2, -9, 2, 3, 2, -1, 3, 4, 3, 3, 25, -9, 10, 2, -50, 2, 3, 2, 3, -11, 3, 3, 11, 3, 3, 2, 3, 2, 3, 3, 2, 3, 3, 3, 3, 3, 3, -19, 3, 3, 2, -25, -14, 3, 3, 20, 3, 2, 3, 3, 2, 11, 3, 3, -4, 3, -14, 2, -21, 2, 3, 3, 3, 2, 3, 2, -2, 3, 3, 3, 2, -22, 3, 18, -2, 2, 3, 3, 3, 3, 2, 2, 3, 3, 3, 12, 3, 3, 3, 21, 3, 2, -7, -4, 3, 3, 3, -10, 2, -20, 3, -7, 2, 3, 3, 2, 3, 3, 25, 3, 14, 2, 2, 3, 2, 3, 2, 27, 8, 3, 3, 3, 3, 3, 3, 2, 3, -10, 3, 3, 2, -4, 2, 3, -13, -11, 3, 3, 2, -17, 3, 3, 3, 3, 3, -5, 2, 5, 3, -2, 3, 12, 3, 3, 3, 2, 3, 3, 3, 3, 3, -2, 21, 3, 3, 3, -12, 3, 0, 2, -23, 3, 3, 3, -3, -16, 3, 2, 3, 19, -4, 3, 2, 2, 3, 3, 43, -26, 3, -4, 3, 2, 11, 2, 3, 3, -17, -6, 3, 3, 3, -7, -4, 3, 16, -5, 3, 2, 3, 3, 2, 3, 2, 8, -4, 3, 2, 3, 3, 3, 3, 2, 2, 2, -17, 42, -31, 3, 2, 3, 7, 17, 3, 3, 3, 4, 3, 3, 2, 3, 3, 3, 2, 3, 3, 11, 3, 9, -1, 20, 3, -15, -2, 3, 2, 3, 2, 3, 3, 3, 3, -17, 2, 14, 2, 2, 11, 3, 3, 10, 3, 2, 3, 3, 3, 3, 3, 19, -29, 3, 3, 3, -9, 3, 3, 3, 2, 3, 3, 4, 5, 3, 21, 3, 13, 3, 2, 3, 2, 3, 3, 3, 2, 3, 2, 3, 3, 3, -5, 2, 3, 3, 3, 3, 3, 2, 3, 3, 3, 2, 2, -17, 3, 2, -17, 3, 3, 2, 3, 3, 14, 3, 3, 3, -8, -13, 2, 2, 2, 2, 4, -11, -12, 3, 3, 3, 3, 3, 4, 3, 3, 3, 2, -18, -5, 3, 2, 3, 4, 3, 2, 14, 3, 3, 3, 3, 3, -6, 3, 3, 3, 3, -23, 3, 18, -19, 3, 3, 3, 3, 1, 3, 3, 3, 3, -1, 3, 0, 2, -3, 2, 3, -11, 3, 3, 3, 3, 3, 13, 2, -9, 2, 3, 2, 3, 3, -10, 2, 3, 3, 3, -8, 3, 3, 2, 3, 3, -6, 3, 2, 7, 3, 3, -14, 3, 3, 3, 3, 2, 3, 2, 2, 3, 3, 7, 3, 2, 3, 3, 2, 2, 3, 3, 11, 3, 2, 3, 14, 3, 3, 3, 3, 2, 18, -22, 2, -10, 2, 3, 3, 3, 2, 3, 3, 5, 2, 3, -22, 3, 2, 3, -23, 3, -24, 3, 6, 3, 3, 3, 3, 3, 3, 3, 3, -38, 3, 3, 3, 3, -3, 3, 19, 3, 3, 3, 2, 3, 2, 3, -19, 3, -2, 2, 3, 2, -24, 3, 16, -8, 3, 3, 2, 3, 3, 3, 3, 7, 4, 3, 3, 2, 2, 3, 31, -17, 3, 3, -29, 3, 2, 18, 2, 3, 3, 3, 3, 2, 3, 13, 3, 6, -7, 2, 3, 3, 22, 3, 3, 3, 3, 3, 3, 2, 3, 3, 3, -21, 3, 3, 2, 3, 3, -15, 3, 2, 3, 2, -1, 2, 2, 7, 2, 3, 3, 3, 3, 2, 2, 2, 0, 3, 3, -12, 2, 3, 2, 2, 3, 3, 3, -14, 3, 3, -17, 17, 3, 3, 3, 2, 3, 3, 3, 3, 3, 2, 23, 3, 3, 3, 14, 3, 3, 16, 2, 3, 2, 3, 3, 3, -9, -15, -28, 2, 3, 8, 3, 3, 3, 0, 3, 3, 3, 3, 3, 2, 2, 40, 3, 3, -5, 2, 3, 3, 2, 25, 3, 3, 3, 3, 3, 3, 2, 3, 5, -5, 2, 3, 3, 10, 3, 3, 3, 3, 3, 2, -5, 3, 2, 2, 3, 3, 3, 3, -13, 3, 2, 2, -3, 3, 3, 3, -19, 2, 3, 3, 3, -13, 3, 2, 3, 6, 2, 2, 3, 6, 22, 3, 3, 3, 3, 3, 3, 3, 2, -19, 3, 3, 3, 3, -3, 3, -11, 3, -15, 3, 2, 3, 3, 3, 2, -14, 9, 3, 3, 3, 15, 3, 3, 2, 3, 3, 12, 2, 3, -7, 3, 3, 3, 3, 3, 3, -11, 2, 3, 2, 3, 3, 3, -22, 2, -19, 3, 3, 2, 3, 19, 3, 3, 3, 2, 3, 3, -11, 2, 2, 2, 27, 3, -13, 2, 3, 2, 2, 2, -3, 3, 3, 3, -14, 1, 3, 3, 13, 3, 3, 14, 3, 2, -21, 3, -22, 3, 3, 3, 3, 8, 2, 12, -34, 2, -9, 3, 3, 3, 1, 3, 3, 28, -14, 14, 2, 32, 3, 3, 2, 14, 3, 3, 3, 3, 3, 3, 3, 3, 3, 3, 3, 6, -5, 3, 3, 2, 3, -8, 2, 3, 3, -30, 3, 2, 3, 3, 2, 3, -12, 3, 2, 3, 3, 3, 3, 33, 3, 4, 3, 3, 10, -2, -5, 2, 3, 3, 3, 3, 3, 3, 2, -8, 10, 3, 3, 3, 3, 3, 3, 11, 3, 3, -37, -1, 3, 0, 3, 3, 2, 2, 2, 3, 3, 3, 1, 18, 3, 17, 3, 3, 2, 3, 3, 8, -9, 3, 3, 3, 7, 3, 10, 3, 3, -9, 3, -7, 3, 2, 25, 3, 2, 2, 3, 3, 3, 3, 3, 3, 3, 17, 3, 10, 2, 3, 2, 3, 2, 3, 3, 3, 1, 2, 3, 1, 27, 3, 3, 2, 2, 3, 6, 2, 2, 3, 2, 3, 3, 3, 11, 3, 2, -10, 3, 3, 7, -15, 3, 3, 3, 3, 3, 3, 3, 13, 2, -8, 3, 3, 2, 37, 2, 3, 3, -2, 3, 3, 23, 3, 2, -20, 2, 3, 3, 2, -22, 3, 3, 3, 3, -18, 3, 3, 3, 3, 3, -1, 3, 3, -16, 6, 3, 3, -8, 2, 8, -12, -3, 2, 3, -7, 3, 2, 2, 2, 14, 3, 3, 2, 13, 2, 3, 3, 3, 3, 21, 2, -7, 2, 2, 3, 3, 3, 3, 3, 12, 13, 20, 2, -22, 3, -2, 3, 2, 3, -6, 3, 3, 3, 28, 3, 3, 3, 8, 9, 3, 3, 3, 2, 3, 3, 4, -29, 2, -17, 3, 3, 3, 3, 3, 2, 16, 2, 3, 3, -2, 14, 3, 3, 2, -1, 2, 3, 3, 3, 3, 3, 3, -11, 2, 3, 3, 15, 2, 19, 3, 3, 3, 18, 3, 3, 3, 2, -14, -21, 2, 7, 3, 3, 3, 3, 3, 14, 2, 2, 3, -2, 3, 16, 3, 3, -6, 3, 8, -3, 3, 2, 3, 3, 2, 3, 3, 3, 3, 3, 3, 3, -20, 10, 2, 6, -4, 14, 3, 3, 3, 19, 3, -8, 3, 2, 3, 2, -5, 1, 2, 3, 3, -5, 3, 2, 37, 10, -16, 2, 2, -18, 2, 2, 2, 2, -1, 3, 19, 3, 2, 2, 3, 3, -4, 3, 2, 2, 2, 3, 3, 5, 3, 3, -8, 5, 3, 3, 3, 3, 2, 3, 3, 3, 3, 2, 3, 3, 3, 3, 2, 3, 3, 3, 3, 3, 3, 3, 3, -1, 3, 11, 2, -16, 3, 2, -2, 3, 3, 2, 3, 3, 3, 2, 1, 6, 3, 3, 3, 3, 3, 3, 3, 3, 3, 3, 3, 3, 2, 20, 3, -19, 3, 3, 3, 3, 3, 2, -8, -13, 3, 3, 3, 3, 2, 2, 3, 3, 3, 3, -34, 3, 1, 13, 3, 3, 2, 3, -7, 3, 2, 3, 2, 3, 3, 3, 3, 3, -31, 2, 3, 2, 16, 3, 3, 2, 3, 3, 3, 10, -12, 2, 2, -17, 2, 3, 3, 3, 3, 3, 0, 36, 3, 3, 3, 3, 3, -5, 3, 3, 2, 3, -11, 3, 3, 3, -26, -10, 2, -7, -4, 3, -2, 3, 3, 3, 3, 2, 3, 25, 2, 3, 0, 3, 2, 3, 3, 3, 3, 3, 3, 3, 13, 2, 3, 3, 2, 3, 2, 3, 3, 3, -3, 3, 3, -1, -2, 13, 3, 3, 3, 2, 3, 3, 2, 2, 3, 3, 3, 2, 2, 3, 3, 3, -26, 3, 3, 27, 3, 2, 3, 3, 3, 2, 3, 3, 3, 3, 3, -14, -30, 3, -19, 3, 3, 2, 3, 2, 7, 3, 3, 3, 2, 3, 3, 3, 2, 2, 25, 3, 3, 3, 2, 24, -36, 8, 3, -6, 21, 3, 30, 3, -26, 2, 3, 2, 26, 2, 3, 12, 3, 8, 2, 3, -1, 2, 3, 3, -5, 2, 3, 2, 2, 3, 3, 37, 3, 10, 3, 3, 3, 2, 3, 3, 24, 3, 3, 3, 2, 2, -20, 3, 3, 3, 3, 3, 3, 3, 2, 3, 3, 3, 2, -33, -7, 3, -34, 10, -8, -26, 2, 3, 2, 3, 3, 2, 3, 3, 7, 2, 3, 3, 3, 3, 3, -14, 2, 3, 2, 3, 2, 2, 3, 2, 5, 3, 2, -16, 21, 3, 3, 3, 3, 3, 2, 4, 40, 3, 2, 3, 2, 23, 3, 11, 3, 2, 26, 6, 3, 3, 2, 3, 2, 3, -8, 3, 3, 3, 3, -40, 3, 2, 3, -13, 3, 26, 3, 1, 3, 3, -5, 3, 2, 3, 3, 3, 2, -4, 2, 16, -4, 3, -17, -11, 3, 3, 3, 3, 2, 3, 3, 2, 3, 2, 4, 2, 3, 3, 3, 5, 3, 2, 9, 3, 3, 3, 21, 3, 3, 10, 3, 2, 3, 3, 3, 18, 3, 23, 2, 2, 3, 3, 3, 1, 30, 3, 3, -1, 3, 3, -3, 3, 2, 3, 2, 3, 3, -3, 3, 15, 3, 2, 3, 3, 2, 3, 2, 3, 3, 2, 3, 3, 3, 2, -18, 3, 3, 3, 2, 2, 3, 21, 3, 3, 3, 2, 3, 3, 11, 3, 2, 2, 3, -6, 2, 2, 2, 3, -19, 3, 3, -8, 3, 3, 2, 5, 4, 2, 3, 2, -30, 2, 2, 4, 3, 3, 3, 3, 16, -14, 2, 2, 3, 3, 2, 3, 3, 3, 3, 17, 7, 3, 2, 8, 3, 24, -11, 3, -9, -6, 2, 3, 3, 3, 3, 2, 3, 3, 27, 3, 3, 3, 2, 3, 3, 3, 23, 3, 2, 4, -1, 3, 3, 2, 3, 2, 3, 3, 3, 2, 3, 3, 3, 3, 3, 3, 2, 3, 3, 3, 19, 2, 3, 3, 11, 4, 3, -3, 3, 3, 2, 3, 3, 2, 3, 3, -1, 3, 12, 2, 2, 7, 3, 3, -6, 3, 3, 2, 3, 2, 3, 2, 3, 3, 3, 3, 3, 3, 3, 3, 3, 3, -11, 3, 3, 3, 3, 2, 8, 3, -14, 3, 3, 25, 3, 2, 2, 3, 2, 3, 3, -15, 2, 3, -1, 3, 3, 3, 3, -2, 3, 3, 3, 2, 3, 3, 3, 3, -8, 2, 2, 3, 3, -4, 2, 3, 2, -9, 3, 5, 3, -28, 3, 2, 3, 3, 12, 2, 3, 2, 3, 3, 2, 3, 3, 2, 3, 3, 3, 3, 3, 3, 2, 3, -3, 3, 3, 3, 2, -11, 3, 3, -10, 3, 2, -12, 3, 1, 3, 3, 17, 3, 3, 2, 10, 3, 3, 3, 3, 3, 3, 3, 7, 2, 3, 8, 3, 2, 3, 2, 3, 3, 3, -26, 2, 2, 3, 3, 2, 2, 3, 3, 2, 2, 3, 2, 2, -15, 3, 3, 2, 20, 2, 3, 3, 3, 3, 2, 3, 3, 2, 3, 3, 1, 2, -4, 19, 3, 3, -5, -11, 3, 25, 3, 2, -16, 3, 2, 3, 3, 2, 3, 1, 3, 2, 2, 3, 3, 1, 3, 3, 2, 2, -2, 3, 2, 3, 18, 3, -4, 3, 3, 3, 2, 3, 3, -12, 2, 3, 3, 13, -27, 3, 15, 3, 2, 3, 3, 3, -37, 3, 2, 2, 2, 2, 3, 2, 6, 0, -5, 3, 3, 3, 3, 3, 3, 3, 3, 3, 4, 3, 0, 3, 3, 3, 3, -13, 2, -6, 3, 3, 3, 2, 10, 2, -17, 3, 3, 2, -7, -17, 2, 13, 3, 3, 2, -14, 3, -24, 30, 1, 3, 2, 3, 3, 3, 2, 3, -26, 0, 14, 3, 3, -5, 2, 3, 2, 34, 3, 3, 2, 6, 2, 3, 3, 3, 3, 3, 3, 2, 3, 2, 3, 51, 2, 3, -19, 3, 23, 3, 3, 3, -3, 2, 2, 3, 3, 2, 3, 3, 3, 3, 3, 3, 3, 3, 3, 31, 2, 2, 2, 3, 3, 6, 3, -4, -1, 2, 2, 3, 0, 3, 2, 2, 3, 3, 3, -2, 3, 0, -5, 3, 2, 3, 3, 2, -4, 3, -23, 3, 3, 3, 3, 3, 3, 5, 3, 8, 3, 3, -22, 3, 3, 3, 3, 2, 3, -1, 3, 3, 3, -25, 3, 3, 3, 2, 2, 3, 3, 3, 3, 2, 3, 10, 3, 2, 3, 3, 3, 15, -4, 2, 2, 2, 3, 7, 2, 3, 3, 2, 3, 3, 2, 3, 3, 3, 2, 3, 3, 3, 3, -4, 3, 4, 2, 3, 3, 3, 3, 3, 3, 3, -13, 3, -16, 2, 3, 3, 3, 3, 3, 3, 3, 2, 3, 2, 3, -18, 3, 2, 3, 3, 2, 0, 3, 3, 3, 3, 2, 3, 3, 2, 3, 17, 2, 3, 3, 3, 2, 2, 3, 13, 3, 30, 3, -15, 12, 3, 3, 3, 3, 2, 38, 3, 3, 2, 3, 3, 27, 3, 2, 2, 2, 3, 2, 3, 2, 3, 2, 3, 3, 3, 2, 3, 3, 1, 3, -24, -7, 19, 3, 3, 15, 3, -6, 3, 3, 3, 2, 3, 3, 3, 3, 2, 2, 3, 8, 3, 2, 2, -12, 3, 3, -9, 18, 8, 3, 3, 22, 2, 3, 3, 3, 3, 3, 3, 2, 3, 2, 3, 3, 2, 3, 3, 0, 2, 3, -37, -23, -9, -14, 3, 3, 3, 3, 3, 3, 3, 24, 3, 3, 3, -8, 2, 2, 15, 3, 2, -18, 23, -21, 3, 3, 2, 2, 3, 3, 17, 3, 3, 3, 9, 3, 3, 3, -9, 3, 3, 3, 3, 12, 14, 3, 3, 3, 3, 3, 3, 2, 3, 2, -29, 12, 3, -21, 2, -3, 17, 3, 3, 3, 7, -10, 3, 3, 2, -14, 11, 3, 3, -6, 7, 10, 19, 19, 3, 3, 3, 3, 3, 3, 3, 2, 3, 3, -22, 2, -12, 3, 3, 2, 3, 3, 3, 2, 58, 19, 3, 2, 3, -28, 3, 3, 3, -2, 3, 2, 2, 3, 3, 3, -14, 27, 3, 11, 3, -25, 4, 3, 26, 27, -15, 3, 2, 2, 19, 4, 2, 31, 2, 3, 3, 4, 3, 3, 12, 2, 5, 3, -8, 3, 2, 3, 3, 3, 6, 2, 3, 3, 2, 3, -14, 2, -34, 2, 2, -13, 3, 13, -10, 2, 3, 2, 13, 6, 5, 2, 3, 3, 3, 3, 3, 3, 3, 17, -19, 20, 3, 2, 3, 3, 31, 3, 3, -9, 2, 18, 3, 2, 3, 3, 3, 3, 3, 0, 3, 2, 3, -9, 3, 3, 3, 3, -11, 2, -5, 20, 7, 2, 3, 3, 3, 13, 3, -13, 3, 3, 3, 2, 3, 3, 3, -5, 3, 3, 2, 3, 30, 3, 3, 2, 3, 2, -20, 2, -36, 4, 36, 3, 3, 3, 3, 3, 3, 3, 3, 27, 3, 3, 3, 4, 3, 3, 3, 3, 3, 3, 3, 3, 3, 3, 3, 8, 3, -10, -31, 2, 2, 3, -1, 3, 3, 3, 3, 3, 3, 2, 3, 3, 2, -5, 3, 3, 28, 3, 3, 2, 3, 3, -21, 3, 3, 3, 3, 3, 3, 3, 3, -6, -19, -15, 3, 3, -12, 3, 3, -11, 3, 3, 2, 3, 15, 32, 3, 20, -4, 19, 2, 3, 3, 3, 3, 3, 3, 3, 3, 3, 6, 3, 3, 1, 3, 3, 2, 3, 3, 3, 2, -3, 3, 3, 3, 3, 3, 3, 8, -19, 3, 3, 3, 3, -16, 3, 3, 3, 2, 2, 2, 2, -11, -13, 3, 3, -12, 3, 3, 3, 27, 3, 3, 6, -10, 2, 3, -5, 2, 3, 3, 3, 3, 3, 9, 3, 3, 3, 3, 3, 3, 3, 11, 2, 3, 2, 1, 3, 6, 3, 3, -1, 3, 23, 3, 3, 3, 10, 3, 12, 23, 2, 3, 3, 3, 2, 3, 3, 3, 3, 3, 3, 3, 3, -22, 3, 3, -26, -9, 2, 3, 3, 2, 3, 2, 3, 19, 6, 2, 3, 3, 2, 3, 2, 3, 17, 3, 3, 3, 3, 2, 3, 3, 3, 3, 3, 2, -17, 3, 2, 3, 2, 3, -2, 2, 2, 3, 3, 3, 3, -23, -4, 2, 3, 3, 3, 18, 12, 3, 2, 2, 3, 2, 3, 2, 13, 3, -3, 3, 3, 3, -1, 2, 3, 3, 3, 3, 7, 3, 3, 3, 2, -16, 3, 3, 3, 3, 3, 17, 3, 1, 3, 3, 2, 3, 3, 2, 2, 10, 3, 3, 2, 3, 10, 3, 3, 2, 13, 3, 3, 2, 24, 3, 2, -23, -12, 3, 3, 2, 3, 3, 3, -5, 3, 2, 3, 2, -2, 3, 25, -18, -2, 3, 3, 28, 3, -14, 3, 3, -2, 38, 18, 2, 2, 3, -4, 3, 2, 11, 3, -19, 3, 3, 3, 3, 3, 3, 3, 3, 3, 3, 3, 3, 3, 4, 2, 2, 3, 2, 3, 3, 3, 3, 2, 3, 2, 3, 3, -4, 3, -11, -13, -38, 3, 3, 3, 2, 3, 0, 2, 13, 14, 3, -14, 2, -1, 17, -5, 3, 3, 3, -26, 2, 3, 2, 3, 3, 2, 2, 3, 3, 3, 2, 3, 3, 3, 3, 2, 3, -19, 2, 3, 11, 3, 19, 10, 2, -4, 3, 2, 3, 3, 2, 2, 3, 3, 3, 3, 3, 3, 2, 5, 3, 3, 3, 2, 2, 3, 3, -18, 3, 3, 17, 3, 2, 3, 3, 3, 23, -12, 3, 2, 2, 3, 1, 3, 7, 3, 3, 2, -27, 3, 3, 3, 2, 2, 3, 3, 3, 3, 3, 2, 3, 2, 3, 2, 3, 3, 8, -29, 3, 3, 2, 15, 3, 3, 3, 3, 3, -14, 2, 3, 3, 3, 3, 3, 2, 3, 3, 5, 2, 3, 3, 3, 3, 3, 3, 2, 3, 3, 3, -19, 2, 3, 3, 3, 3, 2, 2, 3, 3, 3, 2, 2, 2, 2, 3, 3, 2, 2, 3, 3, -7, 3, 3, 2, -38, 3, 2, 3, 3, 7, 3, 3, 3, -20, 3, -30, 4, 3, 3, -16, 3, 19, 2, 3, -42, 3, 3, 3, 2, 3, 3, 38, 3, 2, 3, -9, 3, 2, 3, 3, 3, -36, 2, 3, 7, 3, 4, 3, 2, 3, 2, -20, 24, 3, 9, 3, 3, 3, 3, 3, 3, 5, 3, 2, 3, 3, 3, 19, 3, 3, -2, 19, 3, 3, 3, 3, -11, -3, 3, 3, 3, 20, 19, 3, 4, 3, 3, 3, 3, 3, 2, 2, 3, 3, 2, 3, 2, 3, 3, 3, 0, 3, 3, 3, 2, 3, 3, 3, 17, 3, 3, -21, 3, 3, 3, 3, 3, 2, 2, 3, 3, 2, 3, 3, 3, 3, 3, 3, 3, 7, -34, -16, 3, 3, 3, 3, 3, 3, 2, 3, 3, 3, 3, 3, -9, 11, 3, 3, -3, 11, 3, 2, 2, 3, 3, 2, 3, 3, 3, 3, 3, 2, 3, 3, 2, 3, 3, 3, 3, 3, 3, 3, 2, 3, 3, 3, 3, 3, 3, 8, -16, -9, 12, 3, 3, 3, 3, 3, 2, 3, 3, 1, 3, 2, -26, 3, -11, 3, 2, 3, 3, -21, 2, -12, 3, -7, 2, 2, 3, 2, -7, 3, 3, 3, -25, 3, 7, 3, 3, 3, 3, 3, 2, 3, 3, 2, 2, 34, -7, 3, 3, 2, 2, 3, 3, 2, 3, 3, -4, 3, 3, 3, -4, 3, 9, -18, -15, 2, 3, 1, -20, 3, 2, 3, 3, 3, 3, 3, 3, 2, 2, 2, 3, 3, 37, 3, 0, 3, 3, 2, 2, 3, 2, 2, 3, 3, 3, 2, 2, 3, 2, -18, 3, 3, 10, 3, 15, 3, -11, 2, 3, 3, 2, 2, 3, 2, 3, 3, 3, 3, 16, 3, 3, 29, 3, 3, 2, 9, 3, 3, 9, 2, 2, 3, 2, 3, -22, -24, 3, 2, 3, 3, 21, 5, 3, 2, 3, 3, 3, 3, 18, 26, 2, 3, 3, 3, 3, 11, 2, -1, 3, 3, -10, 3, -6, 3, 3, 5, 21, 3, 2, 3, 3, -19, 3, 3, 3, 3, 2, 8, 2, 2, 7, 2, 11, 2, 3, 3, 2, -28, 6, 17, 2, 3, 3, 3, -18, 16, 3, 3, 3, 23, -17, 3, 3, 2, 3, 3, 3, 4, 3, 10, 2, 3, 2, 3, 2, 3, 2, 3, -11, 3, 3, 3, 2, 3, 3, 3, 20, 3, 3, 21, 34, 20, 25, 3, 3, 3, 3, -19, 3, 32, 3, 3, 3, 20, 8, 3, -7, 11, 3, -3, 3, 3, 3, 4, 3, -21, -27, 3, 3, 12, 3, 3, 3, 2, 3, 3, 3, 2, 3, 25, 0, -2, -4, 3, -14, 3, 10, 2, 3, 5, 3, 3, -10, 2, 2, 3, 3, -6, -7, 3, 3, 3, 3, 13, 3, 3, 2, 3, -12, 2, -22, 3, 3, 3, 3, 3, 3, 0, 2, 2, 3, 2, 3, -13, -6, 35, 3, 12, 2, 3, 3, 3, 3, 12, 3, 3, -16, 3, 28, 3, 3, 3, 2, 3, 3, 2, 3, 6, -32, 7, 2, 3, 3, 3, 24, 3, 3, 3, 3, -12, 2, 20, 2, 3]\n"
     ]
    }
   ],
   "source": [
    "print(position1)"
   ]
  },
  {
   "cell_type": "code",
   "execution_count": 11,
   "metadata": {
    "collapsed": false
   },
   "outputs": [
    {
     "name": "stdout",
     "output_type": "stream",
     "text": [
      "10000\n"
     ]
    }
   ],
   "source": [
    "position1=position1[1:sample+1]\n",
    "print(len(position1))"
   ]
  },
  {
   "cell_type": "code",
   "execution_count": 12,
   "metadata": {
    "collapsed": false
   },
   "outputs": [
    {
     "name": "stdout",
     "output_type": "stream",
     "text": [
      "76\n"
     ]
    }
   ],
   "source": [
    "reactor=[]\n",
    "capture=[]\n",
    "through=[]\n",
    "\n",
    "num_r=0\n",
    "num_c=0\n",
    "num_t=0\n",
    "\n",
    "size1=np.arange(0,est_1+1,h)\n",
    "print(len(size1))"
   ]
  },
  {
   "cell_type": "code",
   "execution_count": 13,
   "metadata": {
    "collapsed": false
   },
   "outputs": [],
   "source": [
    "for j in range(est_1+1):\n",
    "    reactor.append(num_r)\n",
    "    capture.append(num_c)\n",
    "    through.append(num_t)\n",
    "    x = size1[j]\n",
    "    nt=0\n",
    "    nc=0\n",
    "    nr=0\n",
    "    for i in range(sample):\n",
    "        if position1[i] > x:\n",
    "            nt += 1\n",
    "        elif position1[i] > 0:\n",
    "            nc += 1\n",
    "        else:\n",
    "            nr += 1\n",
    "    if nr == 0:\n",
    "        num_r = 0.001\n",
    "    else:\n",
    "        num_r = nr\n",
    "    if nc == 0:\n",
    "        num_c = 0.001\n",
    "    else:\n",
    "        num_c = nc\n",
    "    if nt == 0:\n",
    "        num_t = 0.001\n",
    "    else:\n",
    "        num_t = nt"
   ]
  },
  {
   "cell_type": "code",
   "execution_count": 14,
   "metadata": {
    "collapsed": true
   },
   "outputs": [],
   "source": [
    "reactor_n=reactor[1:est_1+1]\n",
    "capture_n=capture[1:est_1+1]\n",
    "through_n=through[1:est_1+1]"
   ]
  },
  {
   "cell_type": "code",
   "execution_count": 15,
   "metadata": {
    "collapsed": false
   },
   "outputs": [
    {
     "name": "stdout",
     "output_type": "stream",
     "text": [
      "[1234, 1234, 1234, 1234, 1234, 1234, 1234, 1234, 1234, 1234, 1234, 1234, 1234, 1234, 1234, 1234, 1234, 1234, 1234, 1234, 1234, 1234, 1234, 1234, 1234, 1234, 1234, 1234, 1234, 1234, 1234, 1234, 1234, 1234, 1234, 1234, 1234, 1234, 1234, 1234, 1234, 1234, 1234, 1234, 1234, 1234, 1234, 1234, 1234, 1234, 1234, 1234, 1234, 1234, 1234, 1234, 1234, 1234, 1234, 1234, 1234, 1234, 1234, 1234, 1234, 1234, 1234, 1234, 1234, 1234, 1234, 1234, 1234, 1234, 1234]\n",
      "75\n"
     ]
    }
   ],
   "source": [
    "print(reactor_n)\n",
    "print(len(reactor_n))"
   ]
  },
  {
   "cell_type": "code",
   "execution_count": 16,
   "metadata": {
    "collapsed": false
   },
   "outputs": [
    {
     "name": "stdout",
     "output_type": "stream",
     "text": [
      "[0.001, 66, 2007, 7652, 7714, 7765, 7826, 7891, 7959, 8001, 8061, 8114, 8160, 8210, 8254, 8291, 8323, 8360, 8400, 8443, 8486, 8516, 8541, 8572, 8594, 8623, 8642, 8662, 8677, 8681, 8694, 8706, 8713, 8722, 8728, 8734, 8739, 8747, 8752, 8755, 8758, 8759, 8760, 8762, 8763, 8764, 8764, 8764, 8764, 8764, 8764, 8765, 8765, 8765, 8765, 8765, 8765, 8765, 8766, 8766, 8766, 8766, 8766, 8766, 8766, 8766, 8766, 8766, 8766, 8766, 8766, 8766, 8766, 8766, 8766]\n",
      "75\n"
     ]
    }
   ],
   "source": [
    "print(capture_n)\n",
    "print(len(capture_n))"
   ]
  },
  {
   "cell_type": "code",
   "execution_count": 17,
   "metadata": {
    "collapsed": false
   },
   "outputs": [
    {
     "name": "stdout",
     "output_type": "stream",
     "text": [
      "[8766, 8700, 6759, 1114, 1052, 1001, 940, 875, 807, 765, 705, 652, 606, 556, 512, 475, 443, 406, 366, 323, 280, 250, 225, 194, 172, 143, 124, 104, 89, 85, 72, 60, 53, 44, 38, 32, 27, 19, 14, 11, 8, 7, 6, 4, 3, 2, 2, 2, 2, 2, 2, 1, 1, 1, 1, 1, 1, 1, 0.001, 0.001, 0.001, 0.001, 0.001, 0.001, 0.001, 0.001, 0.001, 0.001, 0.001, 0.001, 0.001, 0.001, 0.001, 0.001, 0.001]\n",
      "75\n"
     ]
    }
   ],
   "source": [
    "print(through_n)\n",
    "print(len(through_n))"
   ]
  },
  {
   "cell_type": "code",
   "execution_count": 18,
   "metadata": {
    "collapsed": false
   },
   "outputs": [
    {
     "name": "stdout",
     "output_type": "stream",
     "text": [
      "[ 1  2  3  4  5  6  7  8  9 10 11 12 13 14 15 16 17 18 19 20 21 22 23 24 25\n",
      " 26 27 28 29 30 31 32 33 34 35 36 37 38 39 40 41 42 43 44 45 46 47 48 49 50\n",
      " 51 52 53 54 55 56 57 58 59 60 61 62 63 64 65 66 67 68 69 70 71 72 73 74 75]\n",
      "75\n"
     ]
    }
   ],
   "source": [
    "print(size1[1:est_1+1])\n",
    "print(len(size1[1:est_1+1]))"
   ]
  },
  {
   "cell_type": "code",
   "execution_count": 19,
   "metadata": {
    "collapsed": false
   },
   "outputs": [
    {
     "data": {
      "image/png": "[encoded data removed]",
      "text/plain": [
       "<matplotlib.figure.Figure at 0xad945d4c>"
      ]
     },
     "metadata": {},
     "output_type": "display_data"
    }
   ],
   "source": [
    "size_array=np.array(size1[1:est_1+1])\n",
    "through_array=np.array(through_n)\n",
    "capture_array=np.array(capture_n)\n",
    "reactor_array=np.array(reactor_n)\n",
    "plt.plot(size_array,through_array,'-',label='through',color='red',linewidth=3.0)\n",
    "plt.plot(size_array,capture_array,'-',label='capture',color='blue',linewidth=3.0)\n",
    "plt.plot(size_array,reactor_array,'-',label='reactor',color='black',linewidth=3.0)\n",
    "plt.legend(bbox_to_anchor=(1.05, 1), loc=2, borderaxespad=0.)\n",
    "plt.xlabel('Size of the shield')\n",
    "plt.ylabel('Number')\n",
    "plt.show()\n",
    "\n",
    "\n",
    "\n"
   ]
  },
  {
   "cell_type": "code",
   "execution_count": 20,
   "metadata": {
    "collapsed": true
   },
   "outputs": [],
   "source": [
    "P_through=through_array/sample\n",
    "P_capture=capture_array/sample\n",
    "P_reactor=reactor_array/sample\n",
    "\n",
    "size1=size1[1:est_1+1]"
   ]
  },
  {
   "cell_type": "code",
   "execution_count": 21,
   "metadata": {
    "collapsed": false
   },
   "outputs": [
    {
     "name": "stdout",
     "output_type": "stream",
     "text": [
      "-0.225423580978 0.910874559872\n",
      "0.9812207325037592\n"
     ]
    }
   ],
   "source": [
    "m_through,b_through=np.polyfit(size1,np.log(P_through),1)\n",
    "print(m_through,b_through)\n",
    "\n",
    "\n",
    "fit_t=m_through*size1+b_through\n",
    "uncertainty_t=(1/tmax)*np.sum((fit_t-np.log(P_through))**2)#Standard Deviation\n",
    "print(math.sqrt(uncertainty_t))"
   ]
  },
  {
   "cell_type": "code",
   "execution_count": 22,
   "metadata": {
    "collapsed": false
   },
   "outputs": [
    {
     "name": "stdout",
     "output_type": "stream",
     "text": [
      "0.0244768790516 -1.38148750265\n",
      "5.6304268522490055\n"
     ]
    }
   ],
   "source": [
    "m_capture,b_capture=np.polyfit(size1,np.log(P_capture),1)\n",
    "print(m_capture,b_capture)\n",
    "\n",
    "\n",
    "fit_c=m_capture*size1+b_capture\n",
    "uncertainty_c=(1/tmax)*np.sum((fit_t-np.log(P_capture))**2)#Standard Deviation\n",
    "print(math.sqrt(uncertainty_c))"
   ]
  },
  {
   "cell_type": "code",
   "execution_count": 23,
   "metadata": {
    "collapsed": false
   },
   "outputs": [
    {
     "name": "stdout",
     "output_type": "stream",
     "text": [
      "9.38015320754e-18 -2.09232416751\n",
      "3.7155169009665004e-16\n"
     ]
    }
   ],
   "source": [
    "m_reactor,b_reactor=np.polyfit(size1,np.log(P_reactor),1)\n",
    "print(m_reactor,b_reactor)\n",
    "\n",
    "\n",
    "fit_t=m_reactor*size1+b_reactor\n",
    "uncertainty_r=(1/tmax)*np.sum((fit_t-np.log(P_reactor))**2)#Standard Deviation\n",
    "print(math.sqrt(uncertainty_r))"
   ]
  },
  {
   "cell_type": "code",
   "execution_count": null,
   "metadata": {
    "collapsed": true
   },
   "outputs": [],
   "source": []
  },
  {
   "cell_type": "code",
   "execution_count": null,
   "metadata": {
    "collapsed": true
   },
   "outputs": [],
   "source": []
  },
  {
   "cell_type": "code",
   "execution_count": null,
   "metadata": {
    "collapsed": true
   },
   "outputs": [],
   "source": []
  }
 ],
 "metadata": {
  "anaconda-cloud": {},
  "kernelspec": {
   "display_name": "Python [conda root]",
   "language": "python",
   "name": "conda-root-py"
  },
  "language_info": {
   "codemirror_mode": {
    "name": "ipython",
    "version": 3
   },
   "file_extension": ".py",
   "mimetype": "text/x-python",
   "name": "python",
   "nbconvert_exporter": "python",
   "pygments_lexer": "ipython3",
   "version": "3.5.2"
  }
 },
 "nbformat": 4,
 "nbformat_minor": 1
}
