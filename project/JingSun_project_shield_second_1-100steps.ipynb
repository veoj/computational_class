{
 "cells": [
  {
   "cell_type": "code",
   "execution_count": 1,
   "metadata": {
    "collapsed": true
   },
   "outputs": [],
   "source": [
    "import random as ran\n",
    "import numpy as np\n",
    "import pylab as py\n",
    "import matplotlib.pyplot as plt\n",
    "from scipy.optimize import curve_fit\n",
    "import math as math\n"
   ]
  },
  {
   "cell_type": "code",
   "execution_count": 2,
   "metadata": {
    "collapsed": false,
    "scrolled": false
   },
   "outputs": [
    {
     "data": {
      "image/png": "[encoded data removed]",
      "text/plain": [
       "<matplotlib.figure.Figure at 0xad95eeac>"
      ]
     },
     "metadata": {},
     "output_type": "display_data"
    },
    {
     "name": "stdout",
     "output_type": "stream",
     "text": [
      "1.00025299857\n",
      "200\n"
     ]
    }
   ],
   "source": [
    "h=1\n",
    "tmax=200\n",
    "tpoints=np.arange(0,tmax+1,h)\n",
    "#print(tpoints)\n",
    "\n",
    "sample=10000\n",
    "s_points=np.arange(0,sample+1,h)\n",
    "\n",
    "mean=100\n",
    "standard=20\n",
    "A0=1/(standard*math.sqrt(2*3.14))\n",
    "Z=(tpoints[1:tmax+1]-mean)/standard\n",
    "dist=A0*np.exp(-1*(Z**2)/2)\n",
    "\n",
    "#print(dist)\n",
    "plt.plot(tpoints[1:tmax+1],dist)\n",
    "plt.show()\n",
    "\n",
    "print(sum(dist))\n",
    "print(len(dist))\n",
    "\n"
   ]
  },
  {
   "cell_type": "code",
   "execution_count": 3,
   "metadata": {
    "collapsed": false
   },
   "outputs": [
    {
     "name": "stdout",
     "output_type": "stream",
     "text": [
      "200\n"
     ]
    }
   ],
   "source": [
    "dist_0=dist[0]\n",
    "for i in range(tmax-1):\n",
    "    if i == 0:\n",
    "        dist[i]=dist_0\n",
    "    else:\n",
    "        dist[i]=dist[i]-dist[i-1]\n",
    "        \n",
    "#print(dist)\n",
    "print(len(dist))"
   ]
  },
  {
   "cell_type": "code",
   "execution_count": 4,
   "metadata": {
    "collapsed": false
   },
   "outputs": [
    {
     "name": "stdout",
     "output_type": "stream",
     "text": [
      "100\n",
      "100\n",
      "73\n",
      "135\n"
     ]
    }
   ],
   "source": [
    "dist1=dist[0:100]# steps from 1 to 100\n",
    "dist2=dist[100:200]# steps from 101 to 200\n",
    "print(len(dist1))\n",
    "print(len(dist2))\n",
    "\n",
    "frac1=ran.uniform(0,dist1[99])\n",
    "est_1=mean-(standard*math.sqrt(-2*np.log(frac1/A0)))\n",
    "\n",
    "est_1=int(est_1//1)\n",
    "\n",
    "print(est_1)\n",
    "\n",
    "\n",
    "\n",
    "frac2=ran.uniform(0,dist2[0])\n",
    "est_2=mean+(standard*math.sqrt(-2*np.log(frac2/A0)))\n",
    "\n",
    "est_2=int(est_2//1)\n",
    "\n",
    "print(est_2)\n"
   ]
  },
  {
   "cell_type": "code",
   "execution_count": 5,
   "metadata": {
    "collapsed": false
   },
   "outputs": [
    {
     "name": "stdout",
     "output_type": "stream",
     "text": [
      "74\n",
      "136\n"
     ]
    }
   ],
   "source": [
    "e1points=np.arange(0,est_1+1,h)\n",
    "e2points=np.arange(0,est_2+1,h)\n",
    "\n",
    "print(len(e1points))\n",
    "print(len(e2points))"
   ]
  },
  {
   "cell_type": "code",
   "execution_count": 6,
   "metadata": {
    "collapsed": true
   },
   "outputs": [],
   "source": [
    "first=1\n",
    "p_same=2/3\n",
    "p_change=1/3"
   ]
  },
  {
   "cell_type": "code",
   "execution_count": 7,
   "metadata": {
    "collapsed": true
   },
   "outputs": [],
   "source": [
    "ele=first\n",
    "pos1=first\n",
    "position1=[]\n",
    "pos2=first\n",
    "position2=[]"
   ]
  },
  {
   "cell_type": "code",
   "execution_count": 8,
   "metadata": {
    "collapsed": true
   },
   "outputs": [],
   "source": [
    "up=2\n",
    "down=-2\n",
    "right=1\n",
    "left=-1"
   ]
  },
  {
   "cell_type": "code",
   "execution_count": 9,
   "metadata": {
    "collapsed": false
   },
   "outputs": [],
   "source": [
    "# loop for capture possibility\n",
    "for i in s_points:\n",
    "    position1.append(pos1)\n",
    "    ele = 1\n",
    "    # 2nd move        \n",
    "    if ran.random() > p_change:\n",
    "        ele += right\n",
    "        test = right\n",
    "    else:\n",
    "        if ran.random() > 1/2:\n",
    "            ele += 0*up\n",
    "            test = up\n",
    "        else:\n",
    "            ele += 0*down\n",
    "            test = down\n",
    "    # 3rd move  \n",
    "    if test == right:\n",
    "        if ran.random() > p_change:\n",
    "            ele += right\n",
    "            test = right\n",
    "        else:\n",
    "            if ran.random() > 1/2:\n",
    "                ele += 0*up\n",
    "                test = up\n",
    "            else:\n",
    "                ele += 0*down\n",
    "                test = down\n",
    "    else:\n",
    "        if test == up:\n",
    "            if ran.random() > p_change:\n",
    "                ele += 0*up\n",
    "                test = up\n",
    "            else:\n",
    "                if ran.random() > 1/2:\n",
    "                    ele += left\n",
    "                    test = left\n",
    "                else:\n",
    "                    ele += right\n",
    "                    test = right\n",
    "        else:\n",
    "            if test == down:\n",
    "                if ran.random() > p_change:\n",
    "                    ele += 0*down\n",
    "                    test = down\n",
    "                else:\n",
    "                    if ran.random() > 1/2:\n",
    "                        ele += left\n",
    "                        test = left\n",
    "                    else:\n",
    "                        ele += right\n",
    "                        test = right\n",
    "        # 4th and later move\n",
    "        for t in range(3,est_1+1):\n",
    "            if test == right:\n",
    "                if ran.random() > p_change:\n",
    "                    ele += right\n",
    "                    test = right\n",
    "                else:\n",
    "                    if ran.random() > 1/2:\n",
    "                        ele += 0*up\n",
    "                        test = up\n",
    "                    else:\n",
    "                        ele += 0*down\n",
    "                        test = down\n",
    "            else:\n",
    "                if test == up:\n",
    "                    if ran.random() > p_change:\n",
    "                        ele += 0*up\n",
    "                        test = up\n",
    "                    else:\n",
    "                        if ran.random() > 1/2:\n",
    "                            ele += left\n",
    "                            test = left\n",
    "                        else:\n",
    "                            ele += right\n",
    "                            test = right\n",
    "                else:\n",
    "                    if test == down:\n",
    "                        if ran.random() > p_change:\n",
    "                            ele += 0*down\n",
    "                            test = down\n",
    "                        else:\n",
    "                            if ran.random() > 1/2:\n",
    "                                ele += left\n",
    "                                test = left\n",
    "                            else:\n",
    "                                ele += right\n",
    "                                test = right\n",
    "                    else:\n",
    "                        if test == left:\n",
    "                            if ran.random() > p_change:\n",
    "                                ele += left\n",
    "                                test = left\n",
    "                            else:\n",
    "                                if ran.random() > 1/2:\n",
    "                                    ele += 0*up\n",
    "                                    test = up\n",
    "                                else:\n",
    "                                    ele += 0*down\n",
    "                                    test = down\n",
    "    pos1 = ele\n"
   ]
  },
  {
   "cell_type": "code",
   "execution_count": 10,
   "metadata": {
    "collapsed": false
   },
   "outputs": [
    {
     "name": "stdout",
     "output_type": "stream",
     "text": [
      "[1, 3, 3, 3, 2, 2, 3, 4, 3, 3, -14, 3, 3, 3, 3, 2, 3, 3, 3, 3, 20, 3, 2, -13, -11, 2, 3, 2, 3, 3, 3, 2, 3, 10, 3, 2, -2, 3, 3, 3, 3, 16, 3, 3, 3, -6, 25, 3, 3, 3, 3, -24, 2, 3, 3, 3, -4, 4, 18, -16, 19, 3, 3, 2, 13, 2, 3, 2, 2, 3, 3, 2, 3, -22, 3, 3, 3, 3, 2, 2, -5, 3, 3, -14, 3, 2, 3, 2, 3, -12, -5, 3, 2, 3, 6, 11, 3, 2, 3, -11, 3, 2, 3, 3, 2, 2, 3, -3, 3, 3, 6, 3, 6, 3, 3, 5, 3, 2, 6, 16, 3, -12, 5, 3, 3, 5, 17, 3, 4, 3, 2, 3, 2, 3, 3, 3, 3, 3, 1, 3, 3, 3, 2, 8, 3, -6, -9, 3, 3, 12, -15, 16, 3, 3, 3, 3, 3, 14, 2, 2, 11, 2, 2, 2, -8, 3, 3, 3, 3, 2, 3, 2, -16, 28, 3, 17, -11, -4, -5, 3, -14, 2, 2, 3, 2, 3, 2, -9, 2, 5, -10, 2, 2, 2, 8, 29, 2, -1, 3, 3, 3, -10, 3, 3, 2, 3, 24, 3, -17, 22, 8, 25, 3, 2, 3, 3, 3, 2, 8, 2, 2, 2, 3, 3, 3, 3, 3, 3, 3, 9, 3, 2, 5, 3, -11, 1, 3, -10, 2, -12, 3, 3, 3, 3, 3, -14, 2, 2, 3, 3, 3, 13, -12, 3, 3, 3, 1, 2, 2, 3, 3, 3, 16, -5, -33, 2, 3, 3, 9, -8, 2, 3, 3, 3, 5, 2, 16, 4, 2, 3, 3, 4, 3, -19, 3, 3, 2, -12, 3, 2, 3, -5, 3, 3, -4, -20, 10, 7, 7, 3, 3, 3, 3, 15, 3, -6, 3, -23, 2, 2, 3, -17, 3, -11, 3, 2, 3, 3, -4, -6, 2, -9, 3, 3, 23, 2, 3, 2, 3, 2, 2, 2, 26, 3, 3, 3, 3, 3, 3, 2, 3, 3, 2, 3, 7, -12, 3, 3, 2, 3, 2, 2, 3, 3, 3, -31, 2, 2, -10, 3, 3, 3, -20, 3, 2, 3, 2, 3, 3, 2, 12, 3, 3, 3, -2, 3, 2, 3, 14, -3, 2, 7, 2, 3, 3, 7, 26, 3, -15, -16, 6, 2, 2, 2, 8, -8, 3, 2, 3, 3, 3, -2, 3, -12, 3, 3, 3, 3, 3, -34, 2, 2, 3, 3, 3, 2, -2, 3, 8, 3, 17, 3, -2, 2, 10, 4, 3, -1, 3, 4, 3, 14, 3, 2, 3, -20, 3, -11, 3, 3, 2, -19, 2, 2, 3, 15, 2, 3, 3, 2, 3, -20, -10, -9, 2, 3, 3, 2, 5, 3, -8, 2, 3, 3, 1, 2, 3, -5, 3, -4, 3, 2, 2, 3, 3, 2, -2, 3, 5, 2, 2, 2, 3, 3, 3, 2, 3, 3, -27, -10, -19, 3, 3, -14, 3, 3, -5, 8, 3, 2, 7, 3, 16, 2, 3, 3, 2, 3, -4, 1, -5, 5, 3, 2, 3, 2, 3, 3, -9, 3, 3, 3, 2, -3, -14, 3, 23, 2, 3, 3, 3, 3, 20, 2, -16, 3, 3, 2, -6, 33, -2, 5, 2, 2, 3, -6, 14, 2, 3, 2, 2, 3, -24, -3, -24, 2, 6, -10, 3, 3, 2, 3, -3, 3, 3, 2, 3, 3, 3, -11, 0, 2, -14, 3, 3, -2, 3, -8, -4, 4, 3, 2, 3, 2, 3, 16, 17, 22, 3, 3, -6, 3, -17, 3, -16, 2, 7, 3, -2, 2, 2, 3, 2, -4, 3, 3, 3, 3, 3, -14, 5, 2, 10, 1, 3, -5, 3, 12, 3, 3, 3, 2, 3, 3, 3, 2, 3, 3, -1, 3, 9, -3, 3, 16, 2, -15, 3, -10, 19, 3, 3, 3, 0, 3, 2, 22, -15, 3, 3, 2, 3, 3, 2, -18, 3, 21, -16, 3, 11, 11, 2, 3, 3, 21, -4, 3, 3, 3, 3, 3, 3, 3, 6, 3, 2, 3, 2, 2, 2, 2, 3, 2, 3, 3, 18, 16, 2, 21, 3, 2, -5, 16, 10, 2, 3, 2, 3, 10, 2, -6, -13, 3, -11, 3, 3, -3, 14, 3, 3, 3, 3, 3, 3, 3, 3, 2, 3, -30, 26, 3, 19, 6, 3, -10, 8, 1, 2, -3, 2, 1, 2, -26, 3, 3, 3, 3, 3, 5, -11, -14, -14, 11, 2, 3, 3, -19, 3, -10, 8, 3, 2, 3, 3, 3, -14, 3, 3, 3, 2, 3, -1, 24, -3, -8, 2, -3, -13, 3, 10, 3, 3, 3, 3, 3, 3, -2, -4, 3, -12, 3, 2, 3, 3, 3, 3, 3, 2, 3, 3, 3, 3, -21, 15, -7, 25, 3, 3, 2, -15, 11, 3, 3, 3, 3, 3, 13, 3, 3, 3, 3, 3, -14, 27, 2, 2, -14, 2, 20, -3, 3, 9, 3, -1, 2, 2, 2, 3, 3, 14, 3, 3, 16, 3, 2, 3, 3, 30, 3, 2, 2, 2, 2, 11, 3, -7, 3, 3, -13, 3, -6, 2, 16, 2, -25, 3, 9, -7, 2, 3, 3, 2, -2, 2, 3, -5, 2, 3, 4, 3, 2, 3, 3, 2, 3, 3, 2, 3, 2, 3, 4, -10, 3, 2, 6, 0, 2, 3, 3, 7, -6, 2, 3, 2, 31, 2, 2, -17, 3, 13, 3, 2, 2, 3, -17, 3, 3, -13, 7, 3, 3, -4, 3, 3, -13, 3, 3, 2, -13, 1, -1, -9, 3, 3, 6, -3, 3, 3, 2, 3, 3, 3, 19, 3, 3, 3, 2, 2, 7, 3, 3, 3, -5, 4, 3, 3, 2, 3, 2, 2, 2, -4, 2, 3, 3, 2, 2, 12, 6, 2, 6, 3, 3, 3, 3, 2, 2, 2, 5, 3, 3, 2, 11, 1, -1, -23, 2, 3, -21, 3, -8, -8, 20, 3, -1, -5, -11, 3, 3, 3, 2, 3, 2, 20, 2, 2, 3, 3, 2, -39, 2, 3, 3, 2, 3, 2, -2, 3, 2, 2, -4, -21, 3, 3, 3, 2, 3, 3, -9, -3, -22, 2, 2, 1, -30, 2, 8, -6, -1, 2, -22, 3, 2, 3, 3, 3, -13, 2, 3, 2, 7, 4, 2, 3, 14, 3, 11, 13, 8, 3, 1, -10, -7, 3, 3, 3, 2, 2, 2, 3, 2, -3, 6, 3, 3, -7, -23, 15, 3, 1, 3, 3, 3, 3, 3, 3, 3, 9, 33, 3, 3, 2, 3, 3, 15, 2, 12, 3, 3, 2, 3, -17, 5, -2, -10, 3, 16, 3, 3, -8, 3, 3, 3, 3, -2, 3, 3, 3, 3, 3, 3, 10, -19, -9, 3, 2, 2, -17, -12, 3, 2, -2, 7, 3, 3, 2, 3, 2, 16, 3, 4, 3, 3, 3, -15, 2, -6, 3, 3, 2, -16, 3, 2, -7, 3, 3, 14, 4, 6, 2, 2, -6, 3, 2, 10, 2, 2, 3, 3, 3, 3, 3, 3, 15, 15, 2, 3, 3, 3, -14, 2, -6, -12, 3, 3, -7, 2, 3, 3, -14, 2, 8, 3, 3, 3, 3, 3, 3, 3, 3, 3, 2, 2, -6, 3, 3, -1, 3, 3, 3, 3, 0, 2, -11, 3, 3, 3, 3, 3, 3, 15, -12, 3, 3, 3, -20, 3, -16, 3, -12, 2, -24, 2, 3, 2, 3, 3, 13, 3, 3, 3, 3, -5, -8, 3, 26, -14, 9, 3, 3, -3, 2, 5, 2, 10, 2, 3, 2, 2, 3, 3, 3, 9, 3, 3, 3, -17, 2, 3, 3, 3, 25, -7, 3, 3, 3, 2, 2, 3, 3, 13, 2, 3, 3, 11, 3, 22, 2, 3, 3, 7, 3, -5, 2, 2, 15, 3, 10, -3, 3, 3, 3, 3, 2, 2, 3, 3, 3, 10, 3, 3, 3, 3, 3, 13, -15, 2, 2, 4, 18, 3, 3, 2, 6, 2, 3, 2, -2, 2, 25, 2, 3, 3, 3, -14, 3, 2, 6, 4, 2, -24, 3, 3, 3, 3, 3, 2, 17, 3, 2, 5, 3, 3, 2, -21, 3, 3, 2, 3, -30, 3, -10, 2, 3, 3, 2, 3, 13, 3, 2, 2, -20, 37, -14, -4, 2, 3, 3, 2, 3, 3, 3, -1, 3, 0, 3, 3, 3, 2, 2, 3, 2, 3, 3, 3, 3, 3, 2, 2, 2, 3, 3, 3, -3, 2, 3, 3, 3, 10, -11, 3, 3, 2, 3, -5, -6, 3, 2, 2, 2, 3, -7, 3, 2, 2, 3, 2, 3, 3, -3, 3, -23, 13, 3, 2, 3, 4, 27, 15, 2, 20, 2, 3, 3, -21, 9, 3, 3, 3, 1, 26, 2, 3, 3, 3, 3, 3, 3, 3, 2, 3, 3, 3, 2, 10, -8, 3, 4, 2, -10, 2, -26, 6, -6, 2, 3, 3, 3, 2, -14, 4, 13, 2, -7, 7, 3, -3, -29, 3, -13, 6, 3, 3, 3, 3, 3, 3, 16, 3, 3, -1, 17, 2, 2, 2, 24, 3, 3, 7, 2, 3, 3, -11, 3, 3, 3, -3, 3, 7, 2, 23, 2, 2, 3, 3, 3, -6, 2, 2, 2, 3, 2, 2, -17, -20, -3, 2, 3, -2, 3, 3, 2, 3, -17, 2, -13, 8, 3, 3, 6, 2, 2, 3, -6, -7, 0, 2, 1, 18, 3, 3, 3, 25, 2, 2, 3, 3, 7, 20, 3, 3, 3, 2, 3, 2, 1, 10, 2, 3, 2, 3, 2, 3, 14, 3, 3, -18, 3, -10, 3, 3, 10, -20, 2, 10, 2, 3, -9, 4, 3, 23, 3, 2, 3, 5, 2, 14, 3, 2, -3, 2, 2, 3, 0, -3, 3, 10, 3, 3, 3, 3, 3, 3, 2, 3, 2, 3, -8, -1, 3, 3, 2, 2, 2, 2, 3, -1, 3, 3, 3, -1, 2, 3, 2, 2, 3, 3, 8, -5, 3, 3, 3, 3, -2, 2, 3, 3, 2, 2, 2, -2, 3, -16, 2, 3, 3, 3, 3, -10, 3, 4, 3, 3, 3, -6, 11, 3, 3, 2, 2, 3, 3, -13, 19, 3, 2, 14, 3, 24, 3, 3, 17, 3, 2, 10, 3, 2, -16, 8, 2, 2, 2, 2, 2, 3, 2, 2, 3, 3, 3, 3, 25, -21, 2, 3, 8, -12, 6, 3, 3, 4, -6, 3, 3, 17, 3, 2, 29, 2, 7, 3, 3, 2, 3, 26, 18, 3, 3, -4, 3, 3, 3, 3, -8, -20, -8, -22, 3, 2, 8, 2, 3, 3, 3, -26, 3, 3, -4, 3, 3, 3, 3, 3, 2, -18, 3, 3, 2, 3, -5, 3, 8, 3, 3, 3, 3, 10, 3, 3, 3, 2, 2, 2, 3, 2, 10, 3, 3, 2, 3, 3, 2, 3, 3, 2, 7, 2, 12, 3, -10, 3, 4, 3, 2, 2, 2, 15, 3, 2, 3, -4, 2, 3, 3, -8, -1, 2, -11, 2, 9, 3, 2, -22, 3, 0, 3, 2, 3, 3, 3, -16, 2, 2, 2, 2, -16, 3, 2, 2, 3, 2, 2, 3, -5, 25, 29, 3, 3, 2, 2, 3, 3, -19, 3, 21, 1, 3, 2, 3, -28, 3, 12, 3, 3, 10, 3, 13, 3, 2, 0, -20, 3, 3, 2, 3, 1, -8, -5, 9, 8, 3, 3, 2, 2, 3, 2, -4, 3, 3, 3, 3, 2, -32, 2, 3, 2, 3, -2, -10, -16, 2, 15, 3, 3, 3, 3, 3, 2, -1, 13, 2, 3, 8, 2, 2, 13, 3, 3, 11, 3, 3, 9, 0, 1, 7, 3, 3, 15, 2, 0, 3, 3, 9, 3, 3, 2, 2, 3, 23, 3, -9, 3, 2, -11, 13, 16, -2, 10, 3, 3, 15, 6, 3, 3, -23, 3, 2, 3, 9, -6, 1, 1, 3, -8, 3, 5, 20, 33, -1, -6, 3, 3, 3, 3, 7, 3, 3, 3, 3, 3, 2, 3, 3, -8, 3, 3, 14, 12, 3, 10, 3, 3, 3, 3, 7, 23, 31, -9, -6, 2, 3, 3, 3, 3, -1, 3, -28, -6, 3, 2, 2, 6, 3, 2, 2, 3, 3, 3, 3, 2, 3, 6, 3, 3, 3, 3, 3, 2, 3, 8, 3, 2, 3, 10, 3, -9, -3, 14, -3, 9, 2, 15, 2, 2, 11, -19, 3, 3, 3, -13, 2, 3, 3, 3, -6, 2, 3, 3, 2, 3, 2, 3, -22, 3, 3, 3, -4, -6, 3, 3, 3, 3, 6, 21, 3, 3, -2, -8, 3, 2, 12, 3, 2, 13, 3, 3, 33, -7, 2, 3, 3, 3, 3, 2, 26, 2, -18, 2, 5, 2, 3, 9, 3, 3, 3, 3, 2, -10, 10, 3, -6, 3, 3, 3, 3, 3, -7, -2, 3, 3, 2, 3, 2, 3, -2, 7, 3, -5, 3, 3, 3, -10, 2, 2, 2, 2, 3, 3, 3, 15, 2, 3, 2, 3, 14, -7, -1, -11, 9, 3, 3, 20, 3, 3, -8, 2, 26, 3, -9, 3, 3, -12, 3, 10, 3, 2, 3, 2, 3, 2, 2, 3, 3, -6, -13, 3, 3, -7, 3, 3, 23, 2, 3, 3, -21, 2, 13, 21, -2, 3, 3, 3, 3, 3, 7, 3, 3, 7, 17, 2, 1, 3, 3, -31, 2, 3, 12, 3, 3, 2, 3, 26, 2, 3, 3, -4, -9, 2, 2, 2, -11, 3, 15, 3, 3, -3, 3, -5, 3, -5, 2, 3, 3, 2, 3, 7, -18, -13, -8, 3, 3, 3, -8, 0, 2, 3, 2, -19, -26, 2, 2, -3, 3, 2, 2, 8, 2, 3, 2, 3, 3, 3, 2, 3, 2, 3, 9, 17, 3, 3, 3, 7, 3, 0, 3, 6, 21, 2, 3, 3, 22, 2, 2, 7, -4, 2, 9, 3, -15, 2, 3, 3, 5, 3, 3, 2, 3, 3, 3, 2, 3, 3, 2, -10, 3, 4, 3, 2, 9, 2, 3, 2, 2, 2, 3, 2, 3, 2, 14, 3, 2, 3, 3, 3, 3, -1, 3, 3, 3, 3, 3, 3, 2, -1, 2, 4, -10, 3, 3, 17, 3, 14, -16, 3, -8, 3, 3, -8, 2, 2, 2, -3, 2, 2, 3, 2, -4, 6, 2, 10, 19, 3, 3, -4, 3, -2, 3, 3, 2, 8, 3, 30, 2, 3, 0, 0, 3, 3, 3, 3, 3, 3, 2, 1, 3, -7, 3, 3, 3, 0, 13, 3, 3, 2, 3, -3, 5, 3, 2, 9, 3, -2, 2, -7, 0, 3, 3, 3, 3, 3, 3, -11, 2, -7, 3, 2, 2, -12, 2, 3, 3, 2, 3, 3, 2, -3, 3, 3, 3, 15, 2, 3, 2, 2, 3, 2, -6, -24, 3, 3, 14, 2, 3, 3, 3, -18, 3, 3, -15, 1, 31, 3, 15, 2, -16, 21, 3, -14, 3, 3, 3, 2, 20, 34, 2, 3, 2, 8, 3, 2, 3, 17, 2, 3, 3, -8, 2, -10, 2, 3, 2, -15, 2, 3, -12, 3, -27, 3, 2, 15, 3, 3, 2, 3, 19, 2, 18, 3, 10, 3, 3, 12, 2, 2, 3, -9, 3, 3, 11, 2, 8, 16, -9, 0, 3, 2, 2, 1, 3, 3, -21, 5, 2, -1, 3, 15, 1, 2, 3, 2, -7, 2, 3, 6, 28, 2, 19, 6, 3, 3, 2, 3, 17, -2, 3, 20, 3, 3, 2, 2, 3, 3, 3, 3, 3, 3, 2, 3, 2, 7, 2, 3, 3, 3, -20, 9, 5, 2, 2, 3, 3, 6, -13, 3, 2, 3, 2, 2, 3, 3, 10, 3, -16, 3, 3, 2, 14, 3, -4, 7, 3, -15, 3, 3, 2, 26, 3, 3, 2, 2, -1, 2, 2, 9, 3, 3, 3, 7, 2, 3, 2, 3, 3, 4, 2, -9, 7, 2, 2, 2, 3, 1, -5, 3, 9, 4, 25, -5, -10, -19, 3, 3, 3, 3, 3, 3, -25, -2, 9, 7, 2, 3, 3, 2, -13, 2, 0, 3, 7, 2, 3, 3, 2, 2, 3, 2, 3, -1, 3, 3, 3, -3, -20, -13, 3, 3, -2, 3, 2, -11, -7, 2, 3, 3, -4, 3, 29, 2, 2, 2, -7, 2, 3, 3, 2, 2, 3, 3, 3, 3, 2, 3, 14, 3, 8, 3, 3, 5, 3, 3, 3, 3, 2, 2, 1, 3, 3, 3, 3, 3, 3, 1, 3, 6, 3, 2, 3, 3, 3, 2, 9, 2, 3, 2, 3, 9, 3, 4, 3, 4, 3, 3, 2, 8, -6, 2, -9, 2, 4, 3, 2, 3, 3, -5, 2, 2, 3, 3, 2, 14, 3, 3, 2, 3, 3, 3, 3, 2, 3, 2, 3, 2, 13, 15, 3, 3, 3, 3, 3, 3, 3, 18, 3, 3, 3, 3, 3, 3, -3, 3, 2, 1, 17, 3, 11, 9, 3, 3, 3, 3, 2, 3, 2, -1, -25, 2, 3, 2, 3, 2, -12, 1, -19, 3, 3, 5, 19, -23, 3, 3, -17, -8, -15, -12, 3, 12, 3, 20, 3, 3, 3, 21, 3, 3, 3, 1, 2, 3, 2, 3, 10, 2, 2, -12, 2, 6, 2, 3, 3, 3, 3, 3, 2, 2, 3, 3, 2, 28, 3, 3, 2, 2, 3, 2, 2, 3, 3, 25, -7, 2, 3, 3, -3, 3, 3, 3, 3, 2, 2, 4, 3, 3, 15, 3, -3, 2, 3, 3, -1, 3, 10, 27, 11, -35, 3, 23, 2, 3, 2, 3, 3, 10, 3, 3, 7, -4, 3, 2, 3, 2, 3, 3, 3, 3, 3, 3, 3, 9, -6, 3, 3, 3, 3, 3, 2, 3, 3, 3, -33, 3, 3, 3, 2, 3, 4, 2, 3, 2, 3, 21, 0, 7, 2, -23, 3, 3, 11, 3, 2, 3, 3, 2, 3, -24, 10, 21, 3, 3, -6, 2, -21, 2, 3, 3, -14, 3, 15, 3, 8, 2, 3, 3, 3, 2, 3, 2, -11, 3, 3, 3, 3, 3, 3, 3, -17, 3, 2, 3, 3, 3, 6, 3, 3, 9, 0, 3, 3, 2, 1, 3, -15, 3, 3, 3, 2, -6, 2, 2, 2, 2, 2, 4, 3, 3, 4, 3, 3, 3, 3, 3, -13, 3, 3, 20, 2, -17, 2, -11, 3, 3, 3, 3, 13, 2, 3, 2, 3, 3, 3, -1, -4, -2, 3, 2, -11, 3, 12, 2, 3, 3, 3, 3, 2, 2, -1, -1, 14, -10, 2, 3, 2, 3, 3, 3, 3, 16, 3, 3, 3, 3, 2, 2, 3, 13, -12, -8, -6, 3, 3, 3, 3, 2, -25, 3, -13, 3, 3, 3, 2, 2, -1, 2, 3, 3, 3, 2, 2, 2, 2, 3, -2, 6, 3, 2, 3, 3, 2, 3, -6, 3, -5, 3, 3, 14, 4, 3, 2, 3, 2, 2, 3, -16, 3, -3, 29, 3, 3, 2, 3, 3, -9, 11, 2, 2, 3, 15, 3, 3, 2, 5, 14, 3, 2, 4, 2, 2, 3, 2, 2, 3, 3, 18, 3, 3, 2, 3, 3, -15, 3, -6, 2, 3, 2, 3, 16, 5, -36, 25, 2, -2, 3, 3, 3, -6, 3, 1, -13, 3, 2, 17, 3, 7, 3, 2, 2, 9, 3, 8, 3, 2, 2, 3, 3, 3, 1, 2, 17, 7, 3, 2, 2, 3, 6, 3, 3, 3, 10, -9, 3, 3, 3, 2, 6, 12, 3, 3, 3, 2, 2, 2, -10, 4, 2, 8, -6, 20, 3, 3, -4, 3, 3, 3, -5, 3, 16, 3, 3, -6, 20, 2, 3, 2, 11, 2, 2, 2, 2, 3, 3, 2, 3, -8, 3, 14, -10, 2, 4, 3, -8, 3, -10, 2, 2, 3, 21, 2, -9, -22, 3, 6, 3, 3, 3, 3, 3, 3, 10, 3, 20, 3, 3, 16, 3, 3, 2, 2, 3, -10, 3, 6, 2, 3, 3, 3, 4, 2, 3, 3, 2, -7, 2, 3, 2, 2, 2, 3, -8, 3, -17, 3, 3, 3, 3, -6, 2, 3, 3, 3, 2, 2, 9, 3, 3, -17, 3, 3, 2, 3, 2, 16, 2, 3, 3, 20, 3, 2, 3, 2, 3, -3, 2, 3, 3, 3, -12, 3, 17, -8, 2, 3, 3, 5, -15, 3, 2, -7, 11, 3, 3, 2, -2, 11, 3, 3, 3, 2, 3, 3, 3, 2, 2, 3, -8, -15, 3, 2, 31, 2, 3, 3, -12, 2, 3, 2, 3, 2, 3, 3, 2, 3, 3, 3, 2, 3, 3, 2, -9, 3, 3, 3, 3, 17, 9, 2, 10, 3, 3, 3, 2, 14, 12, 2, -11, 2, 3, 3, 2, 31, 3, 2, 3, 2, 3, 3, 2, 2, 3, 3, 3, 3, 3, 2, -21, 3, 2, 8, 4, -15, 3, 3, 2, 3, 2, -14, 2, 2, 2, 3, 3, 2, 2, -2, 3, 2, 2, 3, 3, 3, 3, 2, 3, 3, -1, 2, 3, -5, 3, 3, 3, -6, -18, 3, 2, 3, 14, 3, 6, 3, 3, -1, 31, 3, 2, 3, 2, 3, 3, 2, -11, -17, 24, -4, 1, 3, 3, 3, -5, -7, 2, 2, 3, 3, 2, 3, 3, 3, 3, 6, 16, 2, 3, 2, -32, -13, 2, 3, 3, 3, 3, 2, -20, 3, 2, -7, 3, -11, 3, 3, 25, 7, 2, 3, 2, 2, -8, 2, 2, 2, 3, 3, 3, -19, 2, 10, 2, 3, 2, 3, 3, 3, 3, 3, -5, -10, 9, 3, 9, 3, 3, -12, 0, 3, -12, -21, 6, 3, 3, 6, -21, 0, -20, -24, 3, 16, 3, 3, -12, 3, -4, 3, 3, -5, 2, 3, 3, -16, 3, -2, 3, 2, 8, 3, 3, 3, 3, 2, 3, 2, 2, 3, -3, 30, 3, 3, 9, 3, 2, 3, 3, 3, 2, 3, 3, 3, 2, -31, 3, 3, 3, 3, 2, 26, 3, -5, 3, 3, -6, 13, 2, 17, 3, 3, 2, -10, 2, 2, 3, -11, 3, 1, 3, 3, 7, 3, 2, 2, 3, 3, 3, 2, 3, 5, 3, -2, 2, 2, 4, 2, 4, 3, 2, 3, 2, 2, 2, 3, 14, 3, -19, 3, 3, 3, 2, 3, 3, 3, 3, 3, 2, 3, 3, 3, -8, 14, 3, 8, 2, 3, -32, 3, 2, 3, -12, 3, 3, 5, 3, 3, 3, 3, 2, 3, 3, 3, 11, 3, 2, 15, 2, 2, 3, 3, 2, 3, 3, 3, 3, 10, 3, 3, 2, 3, 3, 2, -7, -11, 3, 3, 3, -1, 3, 3, 2, 3, 3, -9, 2, -3, 3, 10, 3, 3, 2, -9, 2, 3, 2, 3, 2, -29, 2, 3, 9, 3, 3, 8, 2, 3, 2, 3, 2, 2, -3, 3, 2, 3, 3, 3, 2, 2, 2, -3, -12, 3, 11, 3, 7, 3, -19, 2, 6, 3, 3, 3, -15, 3, 4, 3, 3, 3, 3, 3, 3, 2, 2, 14, 3, 3, 3, 3, 2, -3, 7, -5, 2, 3, 2, 28, 3, 3, 3, 3, -13, 3, -12, 3, 16, -11, 2, 2, 2, 3, -6, 2, -19, 3, 3, 3, 3, 2, 2, 2, 9, 2, 2, 3, 26, 3, -4, -25, 1, 3, 3, 3, 2, 17, 0, 3, -7, -2, 3, 6, 3, 2, -16, 2, 11, -17, 3, 3, -11, 2, 2, 3, 3, 2, 3, 3, 2, -5, 2, 3, 2, 3, 2, 16, 3, 3, 2, -16, 3, 2, 3, 3, 3, 8, 3, 3, 4, 3, 3, 3, 3, 3, 2, 9, 12, 3, 3, 3, -11, 3, 3, 0, 2, 3, 2, 3, 2, -16, 3, 2, -15, 3, 3, 2, 3, 3, 3, 3, 11, -3, -27, 2, 2, 2, 2, 3, 3, 2, 4, -12, -3, 3, -4, -8, 3, 0, 2, 3, 3, 30, 2, -16, 3, 3, 3, 12, 3, 3, 3, 2, 9, 3, 2, 15, 3, 2, 3, -3, -10, 3, 3, 3, 3, 3, 3, -4, -3, 2, 26, 2, 2, 4, 12, -10, 9, 3, 2, 2, -31, -5, -10, -2, 3, -9, 16, 2, -7, 3, 2, 3, 2, -1, 3, 3, 3, -3, 3, -2, 3, -19, 3, -16, -16, 3, 3, -9, 3, 3, 0, 3, 3, 2, 2, 28, 11, 17, 2, 3, -15, 2, 11, 3, 3, -10, 2, 8, 2, -6, 2, 3, 3, 2, 9, 3, 3, 2, 3, 2, 2, 10, 3, 3, 3, 3, 3, -3, -5, -15, 2, 5, -8, 8, 3, 3, 2, 3, 3, -3, 0, 21, 3, 2, 3, -3, 3, -1, 9, 2, 3, 2, 14, 3, 2, 2, 3, 9, 2, -13, 2, 2, 3, 3, -11, 2, 3, 3, 3, 2, -4, 2, 3, 3, 3, 2, 3, 3, 3, 3, 2, 3, 3, 3, -14, 4, 38, 3, 2, -6, 2, 3, 3, -22, 3, 2, 2, 9, 3, 3, 13, 3, 2, 3, 2, 2, 3, -12, -8, 3, 10, 7, 1, 3, 3, 3, -35, 3, 3, 0, 3, 3, 3, 3, 3, 3, 3, -10, 3, 3, -34, 3, 7, 8, 7, 2, 3, 3, 2, 4, 3, 3, 2, 3, 2, 2, 3, -21, 3, 17, -2, 3, 3, 3, 3, 3, 2, 3, 3, 3, -10, -9, 3, 3, -6, -12, 2, 3, 2, 8, 3, 2, 3, 1, -4, 2, -3, 3, 10, 2, 2, -18, 3, 3, 9, 3, 2, 3, -31, -10, 14, 12, 3, 9, 3, 3, 2, 3, 2, 3, 3, -7, 2, 3, 3, -1, -24, 2, 3, 3, 13, 4, 3, 3, -3, 3, 3, 3, 3, 2, 4, 3, -6, 3, 3, 3, 2, 3, 3, 3, -6, 10, 2, 3, 3, 3, 3, -8, 3, 2, 2, 2, 3, 3, 29, -5, 2, 3, 2, 2, 3, 2, 3, 10, 2, -1, 3, 3, -8, 3, 3, 0, 3, 2, 3, 2, 2, 22, 3, 19, 3, 17, 2, 3, 3, 3, 12, 3, 13, 3, 2, -9, 3, 2, 3, 3, 3, 12, -16, 3, 16, 3, 3, 3, 3, 3, 5, -7, 2, 3, 2, 2, 3, 3, 8, -4, 2, 2, 3, 3, 3, 2, 2, -2, 3, 3, 2, 23, 3, 3, 3, 3, 3, 3, 3, -21, 3, 3, 3, 2, 2, 3, 3, 3, 3, 13, 2, 1, 11, 3, 3, 3, 2, 4, -18, 15, -19, 3, -14, 3, 15, -22, 3, -4, 3, 3, 3, 9, -1, 3, -19, -3, 2, 3, 3, -9, 3, 3, 2, 3, 3, 33, 17, 2, 3, 2, 2, 3, 25, -6, 3, 3, 3, 3, 10, 3, 3, 2, 3, 2, 3, 3, 3, 3, 3, 2, 2, 2, 27, 2, 0, -4, 3, 13, -10, 3, 2, 5, 3, -3, 3, 2, 2, 3, 3, 2, 3, 3, 5, 1, 3, 3, 3, 2, 3, -7, 3, 3, 3, 3, 2, 3, -12, 5, 3, 3, 2, 5, 7, 3, 3, -12, 10, 2, -5, 2, 3, 3, 3, 17, 2, 3, 3, 2, 3, 2, 3, 3, 2, 3, 3, -3, 3, 17, 3, 2, 3, 4, 14, 3, 3, 3, 3, 3, -7, 3, 4, 2, -13, -3, 3, 3, 2, 3, 3, 21, 3, -11, 3, 3, 2, 2, 3, 2, 3, 3, 3, 3, 4, 3, 3, 3, 2, -22, 2, 2, -16, 3, 2, 3, 2, 17, 3, 2, 3, -11, -18, 2, 3, 0, 21, 2, -16, 2, 3, 9, 2, 2, 2, 2, 3, -23, 2, 2, 3, 3, 3, 3, 2, 2, -6, 3, 3, 2, 2, -8, 3, 3, 19, 3, 3, 3, 3, 2, 3, -20, 3, 3, 7, 5, 4, 2, 3, -3, 2, 10, -19, -24, 3, 3, 14, 2, 2, 2, 3, 0, 3, 3, 3, 3, 11, 3, 3, 3, 3, 4, 3, 17, 9, 3, 3, 2, 3, 2, 3, 23, 3, 2, 2, 3, 2, 5, 4, 3, 3, 3, -26, 2, 3, 2, 3, 3, 2, 2, 3, 3, 2, 2, 3, 3, 3, 4, 2, 3, -6, 3, 3, 3, -11, 3, 13, 8, 3, 17, -3, 2, 3, -3, 3, 3, -4, 3, 3, 17, 3, -2, 3, 3, 2, 3, 3, 5, 28, 3, -1, 3, 3, 3, 2, 8, 2, 3, 15, 2, 2, 3, 2, 3, 3, -4, 2, 3, -4, 3, 7, 3, 2, 3, 3, 3, 3, 3, 3, 3, 17, 2, 10, 3, 6, 3, 3, -6, 3, 3, 3, 3, 2, 3, 3, -16, 2, 3, 2, -3, 2, -6, -2, 3, 3, 3, 3, 3, -13, 3, -4, 3, 2, 2, 1, 2, 20, 3, -4, 3, 2, 3, 3, 2, 14, 3, 2, 6, 3, -7, 3, 2, 3, 3, 2, 3, -11, -33, 2, 4, 2, 3, 2, 3, -4, 3, 2, -10, 3, -14, 10, 5, 21, 0, 3, 3, 0, 3, -1, 2, 3, 26, 21, 2, 2, 3, -3, 2, 3, 3, 3, 3, 2, 2, 3, 2, 3, 3, -8, 3, 3, 14, -15, 2, 3, 9, 14, 3, -9, 3, 3, 3, -18, 15, 3, 3, 3, 3, 2, 3, 3, 2, 2, 2, 1, 3, 3, 3, 2, 2, -21, 2, 3, 7, 2, 2, 3, 2, 14, 3, 3, 14, -2, 1, 2, 3, 24, 3, 3, 2, 2, 2, 0, 3, 3, 2, 2, 3, 3, 3, 2, 2, 3, 3, 18, 5, 3, 2, 3, 2, 3, 3, 2, 1, 3, 3, 2, 3, -10, 19, 3, 2, 3, 4, 3, 3, 2, 3, 3, 2, -1, 2, 6, 3, 3, 2, 22, 3, 13, -11, 2, 3, 3, 3, 3, 3, 21, 3, 3, 3, 3, -5, 17, 2, 3, 2, 3, 3, 3, 2, 3, 3, 2, 3, 20, 2, -9, 3, 2, 21, 3, 3, 3, 2, 3, -1, 3, 3, -9, 3, 3, -12, 3, 0, 3, 3, 2, 2, -10, 3, 3, 3, 2, -8, 3, 11, 2, 2, 13, 3, 3, 3, -18, 3, 2, 2, 3, 11, 2, 3, 3, 3, 3, 3, 3, 3, 2, 3, 3, 3, 3, -16, 2, 10, 2, 2, 3, 3, 3, 3, 3, 2, -8, 3, -4, 3, 3, 3, 3, 3, 3, 3, 3, 18, -4, 19, 3, 3, 2, 3, 3, 20, 1, -1, 10, 3, 2, 17, 3, 3, 3, 3, 2, 0, 6, 2, -18, 3, 2, -3, 14, 3, 2, 2, 3, 3, 0, 3, 3, 0, 3, 3, 14, -27, 2, 3, 3, 3, 3, -1, -22, 9, -34, 0, 3, 3, 2, 2, 20, 3, 3, 26, 3, -10, 3, 3, 3, -7, 2, -4, 3, 2, 3, 3, -18, 9, 11, 5, 2, 2, 2, 17, -6, 11, 9, 2, -9, 3, 3, -1, 4, 3, 3, 5, 3, 10, 3, 3, -1, -18, 3, 2, -4, -15, 2, 2, 13, 2, 2, 3, 3, 3, 2, -7, 3, -16, 2, 3, 8, 26, 0, 3, 3, -9, 3, 2, 3, 2, -2, 3, 3, 2, 2, 2, 24, 2, -8, 5, 3, 3, -7, 3, 2, 2, 3, 3, 2, 3, 3, 3, 3, 3, 2, 13, 2, 3, 3, 3, 29, 2, 2, 4, 3, 2, 15, 0, 3, -1, 10, 14, 2, 7, 2, -3, 2, 2, 2, 2, 0, -15, 3, 3, 3, 3, 3, 3, 2, 2, 2, 2, 3, 2, 3, 3, 3, 3, -20, 12, 27, 3, 3, -15, 3, 7, 13, 7, 3, -18, 3, -1, 3, 3, -14, 3, 0, 3, -14, 3, 3, 3, 3, 3, 3, 3, 3, 3, 5, 3, 3, 10, 3, 1, 24, 12, 5, 3, -26, 3, 12, -27, 3, -23, 3, 3, 3, 3, 3, 3, 3, 2, 24, 2, 30, 3, -26, 3, 2, 2, 2, 0, 0, 2, 3, 3, -12, 3, 3, -17, 3, 0, 5, -2, 3, 3, 2, 3, 9, 2, 22, -13, 3, 2, 3, -14, 3, 3, 3, 3, 2, 3, 31, 2, 13, 2, 2, 3, 3, 1, 3, 3, 3, 2, 2, 3, 2, 2, 16, 3, 3, 3, 32, 3, 2, 3, 2, 23, 1, 2, 2, 2, 3, -9, 3, 3, 3, 3, -19, 3, 2, 3, 3, 1, 3, 2, -8, 2, 2, 3, 2, -12, 3, 2, 3, 2, -1, 2, 2, 28, 6, 3, 2, 3, 2, 2, -25, 3, -16, 8, 3, -7, -1, 3, 2, 6, 17, -38, 2, 3, 3, 3, 3, 10, 3, 2, 2, -15, 2, -2, 3, 2, 10, 2, 12, 3, 21, 3, -6, 3, 3, 3, 3, 8, 3, 3, 2, 2, 2, -3, 3, 2, -14, -4, -8, -2, -15, 21, -5, 3, 2, 2, 0, 15, 3, 3, 2, 3, -14, 2, 3, 2, 3, 2, 3, 3, 3, 3, 2, 3, 22, 6, 22, 2, 2, 3, 3, 13, 1, 2, 3, 8, 10, 2, -5, 6, -4, 2, 2, 3, -4, 3, 3, 22, 4, 3, -15, 3, 3, 23, 3, 12, 6, -7, 3, 3, 2, 2, 3, 19, -14, 21, 3, 18, 3, 2, 2, 2, 3, 3, 3, 2, 3, 7, 3, -9, -4, 20, 3, 2, -2, 3, 10, -1, 3, 3, 2, 3, 3, 3, 4, 3, 3, 3, 22, -37, 3, 3, 13, 3, 2, 2, 3, 25, 3, 3, 2, -15, -4, 3, 3, 2, 8, 2, 3, -10, 3, 12, 13, 3, 3, -5, 2, 3, 3, 0, 2, 1, 3, -5, 2, 3, -2, 3, -18, 2, 3, 24, -7, 3, -7, 2, 3, 2, 11, 3, 3, 3, 3, 3, 10, 2, -8, -3, 3, 2, 3, 3, 3, 6, 2, 3, -8, 2, 3, 3, -9, 3, 3, 2, 3, 3, 2, 6, 3, -25, 2, 30, -19, 3, 3, 3, 2, 2, 3, 3, 2, 3, 2, 3, 2, 2, 3, 16, 3, 3, 3, 2, 2, 3, 2, 3, 2, 3, 12, 15, 3, 15, 3, -3, 3, 3, -17, 3, 3, 3, 33, 2, 2, -10, 3, 3, 2, 3, -15, -15, 3, 2, 6, 3, 9, 3, 3, 2, 2, 3, -8, -7, 2, 3, 8, 2, 3, -4, 2, 3, -15, -15, 4, -1, 15, 3, 3, -10, 7, 3, 3, 0, 2, 2, 2, 2, 2, 5, 8, 3, -1, 3, 3, 3, 3, 3, 3, 3, 3, 3, 3, 3, 3, 10, 3, 3, 3, 2, -9, 2, -9, -5, 13, -13, 3, 16, 3, 3, 3, 2, 2, 3, 3, 3, 14, 3, 3, 3, 2, -15, 2, 3, 2, 2, 3, 2, -3, 3, 3, 2, 3, -5, 23, 2, 3, 3, 3, 3, 2, -10, 2, 2, 2, 13, 3, 3, 2, -5, 3, 3, 3, 3, 3, 0, -14, 3, -8, 3, 15, 3, 3, 13, 3, 29, 3, 2, 3, 2, 3, 3, 2, 2, 4, 3, 2, 2, 3, 3, -5, 3, 2, 10, 2, 3, 2, 0, 2, 3, 3, 2, 3, 2, 3, 3, 3, 3, 3, 3, -12, 3, 2, 2, 3, 3, 3, 1, 2, 9, 3, 3, 2, 2, 3, -5, 3, 3, 3, -20, 3, -11, 3, -7, 3, 3, 11, 2, 3, 3, 3, 3, 2, 3, 3, 2, 2, 3, 2, 3, -3, 3, -6, 24, -3, 2, 3, -2, 3, -3, 11, 2, 2, 3, 2, 3, 3, 2, 3, 2, 3, 3, 3, -18, 3, -7, 3, 3, 3, 3, 3, 3, 2, 3, 3, 15, 3, 3, 2, 2, 3, 2, 3, 3, 3, 3, 3, 3, -5, 2, 3, 3, 2, 5, 2, 2, 2, 3, 3, 2, 2, 3, 10, 3, 2, 2, 2, 3, 2, -2, -5, 3, 10, 3, -6, 3, 3, 0, 18, 2, 18, 2, -1, 3, 27, 2, -14, 2, 2, -5, 2, 6, 3, 2, 3, 3, 3, 21, 14, 3, -1, 14, 3, -4, -10, 2, 3, 6, 2, 3, 3, 3, 3, 22, 17, 3, -16, 0, 3, -8, 2, -12, -13, -5, 23, 17, 3, 3, 2, 2, 2, 9, 3, 2, 2, -4, 2, 2, -11, 2, 5, 12, 3, 2, 2, 3, 3, 3, 3, 3, -5, 9, 3, -14, 3, 2, 2, 3, 2, 2, 3, 11, 3, 3, 3, 3, 2, -12, 13, 3, 2, 3, 14, 3, 2, 3, 3, 3, 3, 3, 1, -3, 3, 2, -3, 6, 2, 3, 3, 3, 7, 2, 2, 2, 3, 3, 2, 3, 3, 3, 3, 3, 3, 3, 3, 1, 3, 2, -22, 3, 3, -1, 2, 2, 3, 2, 2, 8, 2, 2, -4, 32, 6, -9, 3, -8, 2, 3, 3, 3, 3, -16, 3, -12, 2, 3, -13, 3, -7, 3, 2, 2, 21, 2, 3, -24, 2, 3, 3, 2, -10, 2, 2, -20, 3, 2, 3, 13, 3, 19, 3, 16, -25, 3, -20, 2, 11, 3, 3, 3, 3, 17, 3, 5, 8, 3, 3, -4, 1, 3, 3, 3, 3, -12, 2, 2, -4, 2, 2, 3, 3, 3, -14, 2, 12, 13, -6, 2, 3, 13, 3, 3, -30, 2, -14, -11, 3, 2, 3, 2, 2, 3, 3, -3, 2, 6, 3, -3, 3, -8, 3, 3, 2, 3, 3, 3, 3, 2, 2, -10, 3, 3, 3, 3, 3, 2, 3, 2, 2, 3, 2, 12, 3, 2, 3, 3, 3, 3, 3, 3, 12, 3, 12, 2, -2, 3, 2, 3, 2, 3, -13, -8, 3, 3, 3, 2, 2, 11, 2, 3, 3, 2, 2, 3, 3, 2, 3, -4, 2, 2, 3, 2, 16, 3, 3, 3, 3, 3, 3, 2, 3, 3, 2, 3, 2, 2, 3, 2, 3, 3, 3, 2, 3, 2, 3, -18, 20, 9, 3, 3, 21, 3, -20, 3, -2, 3, 3, 6, 3, 16, 15, 2, 2, 3, 3, 3, -20, 3, 14, 10, 2, 2, -17, 3, 14, 3, 3, 3, 3, 10, 3, 3, 2, 3, 2, 1, 3, 3, 3, -7, 3, 3, 3, 3, 3, 2, -26, 3, 14, -4, 3, 2, 3, 2, 3, -5, 3, 3, 3, 2, 3, 3, 3, 2, 2, 3, 3, 3, 2, 3, 3, 3, -5, 3, 2, 3, 3, 3, -2, 3, 2, 12, 25, 2, 3, -6, -8, 2, 3, 18, 2, -11, 2, 2, 2, -22, 3, 18, 27, 3, 14, 3, 3, 3, 3, 15, 34, 3, 3, 3, 3, 3, 3, 3, 3, 2, -15, -18, 2, -24, -12, 3, -9, 1, 3, 2, 5, 3, 3, 38, 2, 3, -6, 9, 5, 3, 3, -13, 4, 2, 3, 3, 2, 2, 3, -5, 2, 16, 2, 3, -10, 2, 3, -5, 3, 3, 3, 16, 2, 2, 3, 3, 3, 2, 4, 3, 2, 3, 3, 3, 2, -8, 3, 3, 3, -13, 3, 3, 2, 2, 3, 3, -4, 5, 3, 16, 3, 3, 3, 3, -6, 10, 2, -5, 2, 3, 2, 3, 3, 3, 5, 3, 2, 15, 3, 3, 3, 3, 12, 3, -21, -12, 3, 3, 2, 3, -6, -18, 5, 3, 3, 3, 3, 2, 3, 3, -12, 3, 3, 12, -3, 3, 2, 3, 3, 3, 5, 3, 2, 3, 4, -19, 2, 3, 2, 1, 3, 3, 2, 3, -8, 3, 10, 3, 2, 2, 5, 2, 3, 3, -17, 2, 13, 3, 3, 3, -9, 3, 3, 3, 3, -24, 2, 3, -5, 2, 3, 3, 2, 2, 17, -15, 3, 2, -2, 2, 3, 3, 3, 3, 1, 6, 7, 3, 13, 8, 2, 3, 2, 3, 3, 2, 0, 2, -3, 2, 3, 3, 2, 3, -11, 3, 3, 3, 3, 2, 2, 3, -5, -9, 2, 2, 8, 2, 3, 3, 3, 3, -14, 3, 3, 3, 2, 3, 3, 20, 3, 3, 6, 3, 2, 3, 11, 3, 3, 3, 2, 2, 2, 4, 12, 3, 3, -6, 3, 3, 3, 2, 3, 3, 6, 3, 2, 3, 3, 3, 3, 1, 3, 3, 3, -11, 3, 3, 2, -23, 3, 2, 2, 3, 3, 8, 23, 3, 7, 3, 3, 3, -7, 3, 3, 3, -4, 3, 3, 2, 2, 3, 3, 3, 2, 9, 3, 3, 3, 3, 3, 2, 3, 3, 2, 3, 0, 3, -18, 2, -11, 3, 22, 2, 3, 8, 5, 3, 3, 2, 2, 2, 12, 0, 2, 3, 2, 3, 5, 2, 3, -7, 3, 3, 2, 3, -16, 3, 3, 3, 3, 3, 5, -15, -16, 3, 13, 3, 2, 2, 3, -18, 2, 3, 3, 3, 3, 3, 3, 3, -11, 2, 3, 2, -3, 3, 2, 2, 7, 2, 3, -11, -8, 3, -3, 3, 3, 11, 3, 19, 2, -5, 3, 12, 3, 3, -4, 2, 3, -28, 3, 3, -13, -9, 2, 3, 5, 3, 2, 2, 8, 3, 4, 2, -6, 2, 3, 3, 2, 3, 2, 2, 3, -8, 13, 3, 3, 3, -8, 3, 2, 3, -1, 3, 2, 2, 3, -4, 9, 3, 3, 3, 3, 3, 0, 2, 2, 2, 14, 2, 2, 3, 3, -15, 3, 3, 2, 3, 3, 2, -17, 2, 2, 2, 3, 3, 3, 3, 3, 2, 2, 13, 3, -22, -1, 1, 3, -5, 2, -22, 3, 3, 8, 2, 2, 3, 3, 11, 2, 3, 3, -8, 3, -2, 2, 2, 3, -9, 3, 2, 34, 3, -3, -12, 13, 2, 3, 3, 6, 15, 3, 2, -9, 3, -9, 2, 3, 3, 3, 3, 2, 3, 3, 2, 2, 3, 3, 3, 3, 3, -18, 2, 3, 2, 2, 2, 3, 3, -6, 2, 9, 3, -1, -14, 7, -23, 12, -18, 3, 3, -9, 3, 2, 3, 3, 3, 11, 3, 9, 12, 3, 2, 3, 3, 3, 3, 2, -5, 2, 4, 2, 2, 2, 2, -1, 2, 3, 2, 3, 3, 34, 2, 3, -11, -11, 3, 3, 2, 3, 3, 2, 3, 20, 18, 2, 3, -28, 3, 2, 14, 3, 2, 3, 2, 3, 17, -21, 11, 2, 6, 3, 3, 3, 9, 3, -5, 3, 3, 2, 0, 3, 3, 2, 2, 3, 2, 3, 15, 2, 3, -10, 3, 2, 3, 2, 17, 2, -3, 0, 3, 3, 7, 5, 3, 3, 3, 2, 3, 6, 3, -28, 3, 3, -31, 3, 3, 3, 2, 14, 3, -15, 3, -3, 3, 3, 1, 3, 2, 4, 12, 3, 21, 2, 3, 4, 3, 3, 3, 3, -4, 3, 10, 2, 3, 2, 3, 0, -7, 3, -7, 8, 3, 3, 3, 2, 2, 6, 3, 3, 3, 3, 3, 9, -19, 2, -8, 3, 2, 11, 8, 2, 3, -2, 2, 2, 3, -17, 2, 3, 3, 3, 3, 4, 3, 16, -10, 3, -13, 3, -14, 3, -21, 8, 3, -5, 2, 2, 2, 2, 3, 2, 3, 2, 2, 15, 3, 3, -13, 2, 3, 2, 3, 3, 3, 3, 3, 3, 2, 3, 3, 3, -7, 3, 3, 10, 6, 8, -3, 16, 7, 2, 3, 2, -1, 3, 3, 3, 3, 3, 3, -8, 2, 13, 3, 3, -20, -13, 7, 10, 3, 3, 3, 2, 3, 3, 6, 3, 7, 3, 3, 3, -26, 3, 3, 18, -6, -12, 6, 3, 3, 3, 3, 3, 3, 17, 3, 2, -4, 3, 0, -8, 3, 3, 3, 2, -8, 3, 2, 2, 3, 3, -9, 3, 3, 3, 3, 3, 2, 3, 3, 4, 2, -5, 3, 4, 3, 3, 3, 3, 3, 4, 2, 3, 3, 3, -2, 3, 3, 2, 3, 3, -13, 3, 2, 3, 3, 2, 3, 3, 3, -8, 18, 3, -9, -30, 4, 5, 3, 2, 16, 3, 3, 2, 3, 3, 2, 3, -21, 3, 3, 2, 2, 2, 3, 0, 11, 3, 2, 2, 3, 3, 2, 3, 12, 3, -17, -9, 3, 4, 3, -7, 2, 3, 2, -14, 2, -14, 2, 2, 2, -6, 3, 3, 15, -5, 3, 2, 3, 2, 3, -26, 3, 21, 3, 13, -2, 3, 2, 3, 2, 3, 3, 10, 9, 2, 2, 3, 2, 3, -5, 1, -17, 2, 3, 2, 3, 3, 16, 3, 3, -3, 10, 2, 7, 3, -25, 2, 2, 22, 2, 3, 3, 2, -14, 2, 2, 2, 3, 5, -8, 3, 3, 3, 3, 0, 3, 2, 3, 2, -13, 3, 3, -3, 3, 3, 2, 2, 3, 3, -4, 2, 3, 2, 21, 3, 2, 3, 2, -14, 16, 3, -4, 3, -8, 3, 3, 2, 2, 3, 14, 3, 3, 3, 3, 3, 3, 3, 13, 3, 3, 12, 8, 2, 2, 3, 3, 6, 3, 2, -7, 3, 6, 3, -19, 3, 2, 3, 14, -1, 3, 0, 3, 1, 12, 3, -3, 3, 3, 2, 9, -9, 3, -6, 0, 7, 2, 2, 14, 3, -8, 24, 0, -6, -9, 2, -9, 2, 2, -10, -10, 3, 3, 2, 3, -11, 2, 15, 5, 3, 3, 2, -1, 2, 3, 3, -3, -3, 3, -6, -12, 3, 2, 2, 3, 2, 22, 20, -6, 7, 3, 3, 0, 7, -25, 3, -5, -2, 2, 12, 3, -5, 3, 3, 8, 3, 4, 2, 3, 24, 8, 7, 3, 2, 3, 3, 3, 2, 2, -15, 3, 3, 3, 21, 2, 2, 3, -15, 2, 2, 3, 12, 0, 2, 3, 13, 6, 3, 2, 12, 2, 5, 3, 9, 2, 12, 3, 2, 3, 3, 2, 3, 3, 3, 3, 25, 3, 3, 3, 2, 8, -20, 1, 29, 6, 3, 3, 3, -11, 2, 2, 2, 7, -1, 3, 3, 3, 3, 3, 3, 9, 3, 2, 3, 3, 2, 3, 2, 3, 2, 3, 12, 2, 5, 3, 16, 3, 2, -6, 5, 13, 3, 3, 2, 3, -7, 6, 12, 10, -5, 2, 2, 2, -4, 2, 3, 3, 2, 3, 3, 2, -10, 2, 3, 2, 3, 3, 3, 3, 14, 2, 2, 4, 3, 3, 3, 2, 3, -15, 9, -2, 3, 3, 11, 3, 3, -16, 3, 2, 3, -11, 3, 3, 19, 14, 3, 2, 2, 2, 3, 11, 3, -9, 2, 3, 3, 3, 3, 3, 3, 2, 3, 21, -4, 3, 3, 5, 0, 2, 3, 3, 3, 2, 3, 2, 3, 2, 2, -7, 3, -10, 2, 3, 3, 2, 3, 2, -5, 3, 24, 2, 3, 13, 2, 28, 3, 4, 2, 3, 3, -7, 11, 2, 2, 2, 3, 3, 5, 2, 2, 2, 2, 3, 3, -7, 3, 2, 2, 2, 3, 2, 3, 3, 3, 3, 3, 17, 2, 2, 2, 3, -9, 3, -5, -25, 3, 16, 2, 3, 3, 2, 3, 3, 3, 3, 2, 3, 2, 3, 3, 3, 13, 2, 3, 3, 2, 3, -37, 2, 11, 3, 3, 2, 2, 3, -19, 3, 11, -19, 18, 2, 2, 2, 3, 3, 3, 3, 2, 2, 3, 2, 17, 3, -10, 3, 2, 3, -1, 2, 2, 2, 22, 3, 2, 2, 2, -8, -21, 2, -9, 3, -2, 3, 5, 3, 3, 3, 3, 3, 14, 2, -24, 3, 3, 4, 3, 3, 2, 3, 3, 3, -7, 22, 3, -4, -3, 3, 2, 2, 2, 2, 3, 2, 3, 2, 3, 3, -11, 2, 2, -15, 3, 3, -12, 3, 3, 3, 3, 3, 2, 3, 18, 3, 3, 3, 2, 3, 3, 3, 3, 3, 12, 9, 10, 11, 2, 3, 3, -7, 2, -5, 8, 3, 2, 3, 5, 25, 3, 3, -7, 2, 3, 3, -22, 2, 6, 2, 3, 3, 2, 3, 2, 3, -1, 3, 6, 2, -15, 2, 33, 3, -15, 2, 3, 3, -4, 2, -11, 3, -17, 3, -5, 6, -17, 3, 2, 4, 3, 3, -3, 2, 3, -1, 17, 0, 3, 2, 2, 3, 3, 2, 3, 3, 6, 3, 2, 2, 2, 3, 3, 18, 13, 3, -11, 3, -11, 16, 2, 3, 2, -8, 3, 14, 3, 2, 2, 3, -17, -2, 3, 3, 2, 3, 3, 19, -1, 2, 2, 3, 2, 2, 3, 3, 3, 3, 3, 4, 3, -14, 6, 6, 3, -18, -15, -2, 2, -4, 2, 2, 2, 3, -1, 3, 3, -6, 2, 3, 3, 2, 2, -21, 3, 3, -16, 3, 2, 3, 3, 2, 3, 2, -15, 13, 2, 3, 2, 3, 3, 3, -12, 2, -5, 2, 2, 3, 2, 3, 3, 3, 3, 6, 3, 2, 3, 3, 3, -13, 3, 3, 8, 3, -23, 3, 3, 7, 3, 2, 3, 3, 3, 3, -6, 3, -7, 11, -7, -2, 2, -5, -16, -5, 2, 2, 4, -6, -25, 3, 3, 3, 12, 3, 3, 3, -18, -13, 3, 2, 11, 2, 3, 10, 3, 2, 3, 3, 3, -7, -5, 3, 9, 15, 3, -17, 3, 3, -17, 3, 3, 3, 14, 3, 3, 2, 3, 2, -17, 20, 2, 3, -25, -1, 29, -5, 3, 7, 2, 8, -13, 2, 13, 3, 2, -4, 3, 2, 3, 2, 3, 3, 3, 3, 3, 26, 2, 3, 3, 3, 3, 17, 3, 3, 3, 3, 2, 3, 1, 3, 3, 3, 2, -1, 10, 6, -10, 3, 3, 2, 4, 2, -8, 2, 9, 9, 2, 3, 2, 3, 2, 2, 3, 3, 2, 3, 3, 2, -9, 3, -25, 12, -7, 4, 2, -13, -3, 3, 2, 2, 3, 3, 3, 3, 3, 3, 3, 3, -1, 2, 3, 2, 3, 2, 2, -19, -20, 3, 2, 6, 3, 3, 3, 3, 3, -7, -2, -9, -8, 6, 3, -11, 3, 3, 3, 3, 3, 3, 3, 3, 3, 3, 2, 3, 3, 2, 14, -3, 3, 3, 2, 3, -4, -4, 2, 3, 3, -4, 0, 7, 3, 26, 19, 12, 2, 3, 16, 3, 12, 2, 3, -4, 2, -1, 2, 2, 3, 3, 1, 11, 2, -29, 3, 3, 3, 2, 3, 3, 2, 2, 3, 1, 2, 3, 3, -4, 5, 3, 4, -16, 22, 3, 2, 2, 14, 11, 9, 2, 2, 7, 3, 3, 3, 21, 2, 3, 3, 3, 3, 12, 9, 2, 3, 1, 2, 3, -8, 15, 9, 2, 18, 3, 2, 2, 3, 3, 9, 2, 2, 11, -20, 3, 2, 3, 17, 3, 3, 3, 3, -13, -6, 3, 3, 3, -16, 2, 3, -8, 2, 8, 1, -3, 3, -4, 2, 3, 3, 3, 3, 4, 20, 3, 3, 2, 3, -21, 3, -6, 2, -4, 3, -5, 9, 3, -14, 3, 15, 3, 2, 7, -8, 3, 2, 3, 2, 17, 2, 3, 2, 3, -14, 2, 3, 2, 3, 13, -14, 2, -26, 3, 3, -7, 2, -16, 3, 3, 3, 2, 17, 2, -12, 2, -20, -18, 3, 3, -24, 3, 2, 3, 3, -8, -11, -12, 2, 15, 25, 3, 1, 3, 1, 2, 21, 2, 13, 3, 2, 3, 15, 3, -7, 18, 2, 2, 3, 2, 3, 12, 15, 23, 3, 0, -29, 3, 3, 3, 3, 3, 2, 11, -7, 3, -7, 3, -2, 3, 3, 9, -2, 3, 3, 3, -3, 2, 3, -4, 2, 2, 3, 3, 3, 3, 3, -21, 3, 2, -4, 3, 3, 3, 2, 3, 3, 3, 2, 3, 3, 2, 3, 3, -10, 2, 3, 3, 3, 2, -18, 3, 2, 3, 2, 13, 2, 3, 2, 2, -8, 2, 3, 3, 3, 3, 2, 3, 3, 2, 16, 19, -8, 2, 3, 3, -30, -17, 3, 3, 3, 3, -18, 3, 2, 7, 3, 6, 2, 2, 3, 3, 3, -8, 2, 3, 3, 3, 2, 3, 2, 26, 13, 1, 3, 3, -5, 3, -15, 3, 3, 3, -7, 3, 3, 13, 2, 3, 8, 3, -3, 3, -11, 3, 3, 3, 4, 2, 2, 3, 3, 3, 2, 5, -4, 5, 3, 3, 3, 4, 3, 9, 2, 2, 2, 3, 3, 2, -5, 3, 2, 2, 3, 2, 3, -1, 3, 3, 6, 2, 6, 3, 3, -26, -9, 2, -10, -11, 19, 5, 2, 3, 3, 3, 1, 3, 3, 26, -2, -14, 3, 5, 11, 2, -18, -6, 2, -16, 4, 3, 3, 3, 3, 3, -13, 12, 3, 2, 3, -34, 3, 2, 2, 3, 3, 3, 3, 3, 3, 3, 2, -9, 3, 3, -8, 3, 3, 3, 3, 3, 3, 2, 17, 3, -11, 2, 18, 3, 2, 3, 3, 3, 3, 3, -6, 3, 3, -4, 2, 3, 5, -14, 3, 7, -19, 2, 3, 2, 2, 14, 13, -24, 3, 14, 2, 3, 24, -14, 3, 3, 3, 6, 3, 2, 8, 3, 3, 3, 2, -8, 3, 3, 2, 3, 3, 3, 2, 3, 3, 11, 3, 3, 3, 3, 3, -8, 3, 3, 2, 3, 16, 15, 5, 2, 3, 3, 21, 2, -15, 12, 12, 3, 3, -15, 2, 3, 3, 7, 9, 2, 3, -17, 7, 2, 3, 3, 3, 3, -17, 3, 3, 3, 3, 2, -12, 3, 2, 3, 3, 2, 3, 3, 11, 2, 2, 3, -1, -1, 2, 2, 2, 3, -13, 18, 18, 8, 3, 33, 2, -6, 2, 13, 5, 2, 3, 21, 3, 3, 3, -11, -7, 4, 3, 4, 12, 12, 3, 3, 13, 3, 3, 3, 3, 2, 3, 3, -19, 2, -12, 2, 11, 2, 3, 3, 3, 2, 11, 1, 3, 0, 3, 2, 2, -26, 13, 3, 6, 24, 3, 3, 3, 15, 3, 3, 5, 3, 2, 3, 3, 16, 3, 9, -1, 3, 6, 5, 3, 2, -5, 3, 3, 2, -6, 2, -8, 3, 3, 3, -3, 2, 2, 3, 12, 3, 10, -14, 27, 26, 6, 2, 2, 2, 2, 2, 2, 3, 2, 3, 3, 3, 3, -9, 3, 14, 1, 2, 3, 1, 5, -4, 3, 3, 7, 3, -7, 8, 3, 21, 2, 3, 3, 2, 19, 3, 19, 3, 3, 2, 6, 3, 3, 3, 2, 3, 3, 3, 2, 2, 2, 3, 3, 3, 2, 3, 8, -8, 3, -4, 2, 3, 3, -16, 3, 2, -6, 3, 3, 3, -11, 3, 6, 3, 3, 2, 3, 3, -1, 3, -25, -17, 7, 3, 2, 3, 3, 20, -4, 2, 3, -12, 2, -5, 2, 3, 2, 2, 2, 2, 3, 3, 3, 3, 19, 2, 3, -11, 3, -3, 2, 3, 3, 3, 3, 3, 2, -1, 3, 3, 1, 6, 3, -9, -24, 3, -4, 3, 3, -5, 3, 2, 3, 2, 3, 3, 3, 3, 3, -6, 2, 7, 2, 3, 3, 2, 3, 3, 26, 3, 3, 3, 2, 2, 3, 3, 3, 3, 2, 3, 3, 2, 3, 3, 3, 3, 3, -3, 2, 10, 7, 3, 2, 3, 2, 3, 3, 2, 2, 4, 3, 11, -28, 2, 0, 3, 0, 3, 2, 3, 3, 3, 2, 3, -3, 3, 3, 3, 2, 2, 3, 3, -11, 2, 2, 3, -21, 3, 0, 3, 3, 5, 2, 3, 3, -2, 3, 13, 3, -15, 3, 2, -11, -10, 3, -3, 2, 3, 1, 9, 3, 2, 3, 3, 3, 3, -5, 3, 2, 2, 3, 2, 5, 17, 3, 2, 3, 3, -4, 3, -3, 3, 3, -4, 6, 11, 2, 3, 2, 3, 2, 2, 3, 3, 2, 2, 3, 2, 2, 2, 3, 5, 5, 12, 3, 3, 15, 3, -14, -3, -19, -6, 3, 31, 2, 3, 1, -27, 3, 3, 3, 5, -7, 2, 2, 3, 2, 6, 12, 3, 3, -5, -22, -10, 2, 3, -24, 10, 3, -8, 3, 3, 3, 2, 3, 3, 3, 3, 2, 6, 17, 2, 2, 3, 3, 2, 2, 1, 20, 4, 3, 3, 3, 10, 3, 2, -11, 3, 3, 3, -12, 30, 3, 3, 3, 3, 3, 3, -7, 2, 2, 2, 3, -6, 9, 3, 2, 15, 2, 3, 2, 3, 12, -1, 3, 3, 2, 2, 3, 4, 3, 3, 3, 3, 2, -4, -1, 2, 2, 3, 3, 2, -7, 3, -2, 4, 3, 3, 3, 3, 2, 3, 3, 3, -7, 3, -11, 2, 3, 3, 2, 3, 3, 3, 9, 2, 2, 3, 3, 2, -26, 5, 3, 3, 2, 3, 5, 13, 3, 2, -14, 3, 2, 3, 8, 2, 3, 3, 19, 3, -4, 3, 2, 3, 2, 2, 5, 3, -5, 3, -5, 3, 3, 3, 3, 2, 3, 3, -2, 2, 3, 14, 3, 3, 3, -15, -5, -3, 3, 2, 3, 3, -21, 3, 2, 3, 3, -6, 2, 3, -13, 3, 3, 17, 3, 2, 3, 20, 3, 2, 3, 1, 3, 2, 3, 2, 2, 8, 3, 3, -13, -25, 2, -31, 4, 2, -5, 3, 2, 3, 3, -18, 3, 3, 2, 2, 3, 3, 3, -1, 27, -12, -20, 3, 3, 2, 3, 15, 38, 2, 3, 11, 15, 3, 2, 3, 3, -14, -28, -29, 3, 3, 2, -1, 3, 3, 2, 2, 3, -3, 3, 3, 3, 3, 3, 12, -21, 2, 3, 2, 0, 6, -17, 3, 3, 3, 3, -4, 2, -3, -17, 6, 2, 20, 2, 2, -10, 3, -15, -12, 3, -19, 3, 3, 3, 3, 2, 22, 2, 2, 2, 3, -5, 3, 3, 2, 3, -5, 3, 2, 5, 3, 2, 3, 2, 3, 23, 2, 3, 6, 2, 2, 2, 2, 3, 3, 3, 3, 2, 3, 2, 3, 3, 3, 18, 2, 7, -16, 3, 3, -5, 3, 3, 3, 3, 3, 14, 3, 2, 3, 3, 3, 3, 3, 3, 3, 3, 2, 33, 3, 3, 2, 3, 2, 2, 3, 2, 3, 3, 3, 2, 8, 3, 2, -10, 2, 2, 5, 3, 2, 12, 3, -17, 2, 3, 2, 2, 14, 2, 2, 11, -2, 2, 2, 3, 2, 2, 3, 3, 3, 3, 4, 6, 3, 2, 2, 3, 10, 2, 2, -8, 3, 3, 2, 3, 3, -6, 3, 3, -4, 3, 2, 2, 2, 3, 3, 9, 3, 2, 2, 25, 2, 3, 12, -5, 9, 3, 2, 2, 3, 24, 3, -16, 3, 19, 3, 2, -19, 3, 2, 3, 2, 3, 3, 2, 3, 2, -19, 2, 3, 3, 4, -5, 3, 3, 16, 3, 16, 2, 3, 3, -7, 17, 2, 2, 2, -17, 2, -24, 2, 2, 3, 3, 14, 3, 3, 3, -1, 3, 3, -9, 3, -4, 3, 3, 3, 17, 0, 3, 3, 3, -14, 2, 3, 3, 2, 3, 3, 5, 3, 24, 3, 2, -10, 3, 3, 3, -11, 2, 2, 3, -11, 3, 15, -14, 3, 2, 3, 2, 3, 3, 2, 3, 3, 2, 3, 2, 3, -9, 3, 3, 3, 3, 3, 19, -13, 3, 2, -41, 9, 3, 2, 2, 3, 3, 2, 2, 13, 7, 3, 3, 3, 3, 3, -10, -1, 3, 2, 0, 3, -26, 11, 3, -8, 3, 4, 3, 23, 3, 3, 3, 3, 3, 8, 3, 2, 2, 3, -3, 2, 3, 3, 4, 3, 3, 2, 2, 3, 16, -14, 2, 3, 3, 3, 19, 3, 2, 2, 6, 7, -18, 3, 3, 3, 1, 3, 3, 3, 3, 15, 12, 2, 3, -4, 3, 2, 3, 3, 2, 3, 3, 3, 11, 2, 2, 3, 3, 3, 3, -18, 8, 3, 2, -7, 3, 3, 2, 3, 2, 3, -9, 35, 3, 3, 2, 2, 5, 2, -11, 3, 3, 2, 2, -9, 13, 15, 2, -4, 2, 2, 3, 3, 3, 3, 2, 3, 3, 3, 3, 3, 3, 2, 2, 2, 3, 2, 3, 3, 3, 2, 1, 2, 3, 7, -2, 2, -7, -15, 4, 8, 3, 2, -12, 2, 17, 3, 13, -5, -16, -18, -25, 3, 3, -9, 2, 20, 2, 2, 3, 3, 3, 21, -4, -2, 2, 2, 3, 3, 3, 3, 2, 2, -8, 2, 2, 3, 3, 4, 4, -3, 14, 2, 2, 2, -20, -3, 2, 2, 2, -21, 9, -2, 3, 3, 5, 3, 3, 3, 3, -9, 3, 3, 3, 13, 3, 3, 18, 3, -1, 3, 11, 3, 18, 2, 6, 3, -12, 3, 3, 3, 13, 3, 16, 3, 2, 3, 3, 8, -10, 3, 2, 7, 2, -11, -15, 3, 2, 6, 2, 2, 2, 3, 19, 2, -11, 6, 2, 3, 3, 3, 16, 3, 3, -6, 2, -4, 3, 3, 3, 13, 3, 2, 3, 4, 3, 3, 3, 3, 22, 3, 2, 2, -3, 0, 3, 3, 3, 3, 2, 3, 3, 11, 2, 2, 3, 5, 3, 27, -17, -9, -7, 3, 2, 3, 22, 3, 38, 2, 3, 3, 3, 2, 3, 3, -1, 2, 3, 3, 3, 2, 2, 2, -1, 3, 4, 3, 10, 2, 3, 10]\n"
     ]
    }
   ],
   "source": [
    "print(position1)"
   ]
  },
  {
   "cell_type": "code",
   "execution_count": 11,
   "metadata": {
    "collapsed": false
   },
   "outputs": [
    {
     "name": "stdout",
     "output_type": "stream",
     "text": [
      "10000\n"
     ]
    }
   ],
   "source": [
    "position1=position1[1:sample+1]\n",
    "print(len(position1))"
   ]
  },
  {
   "cell_type": "code",
   "execution_count": 12,
   "metadata": {
    "collapsed": false
   },
   "outputs": [
    {
     "name": "stdout",
     "output_type": "stream",
     "text": [
      "74\n"
     ]
    }
   ],
   "source": [
    "reactor=[]\n",
    "capture=[]\n",
    "through=[]\n",
    "\n",
    "num_r=0\n",
    "num_c=0\n",
    "num_t=0\n",
    "\n",
    "size1=np.arange(0,est_1+1,h)\n",
    "print(len(size1))"
   ]
  },
  {
   "cell_type": "code",
   "execution_count": 13,
   "metadata": {
    "collapsed": false
   },
   "outputs": [],
   "source": [
    "for j in range(est_1+1):\n",
    "    reactor.append(num_r)\n",
    "    capture.append(num_c)\n",
    "    through.append(num_t)\n",
    "    x = size1[j]\n",
    "    nt=0\n",
    "    nc=0\n",
    "    nr=0\n",
    "    for i in range(sample):\n",
    "        if position1[i] > x:\n",
    "            nt += 1\n",
    "        elif position1[i] > 0:\n",
    "            nc += 1\n",
    "        else:\n",
    "            nr += 1\n",
    "    if nr == 0:\n",
    "        num_r = 0.001\n",
    "    else:\n",
    "        num_r = nr\n",
    "    if nc == 0:\n",
    "        num_c = 0.001\n",
    "    else:\n",
    "        num_c = nc\n",
    "    if nt == 0:\n",
    "        num_t = 0.001\n",
    "    else:\n",
    "        num_t = nt"
   ]
  },
  {
   "cell_type": "code",
   "execution_count": 14,
   "metadata": {
    "collapsed": true
   },
   "outputs": [],
   "source": [
    "reactor_n=reactor[1:est_1+1]\n",
    "capture_n=capture[1:est_1+1]\n",
    "through_n=through[1:est_1+1]"
   ]
  },
  {
   "cell_type": "code",
   "execution_count": 15,
   "metadata": {
    "collapsed": false
   },
   "outputs": [
    {
     "name": "stdout",
     "output_type": "stream",
     "text": [
      "[1580, 1580, 1580, 1580, 1580, 1580, 1580, 1580, 1580, 1580, 1580, 1580, 1580, 1580, 1580, 1580, 1580, 1580, 1580, 1580, 1580, 1580, 1580, 1580, 1580, 1580, 1580, 1580, 1580, 1580, 1580, 1580, 1580, 1580, 1580, 1580, 1580, 1580, 1580, 1580, 1580, 1580, 1580, 1580, 1580, 1580, 1580, 1580, 1580, 1580, 1580, 1580, 1580, 1580, 1580, 1580, 1580, 1580, 1580, 1580, 1580, 1580, 1580, 1580, 1580, 1580, 1580, 1580, 1580, 1580, 1580, 1580, 1580]\n",
      "73\n"
     ]
    }
   ],
   "source": [
    "print(reactor_n)\n",
    "print(len(reactor_n))"
   ]
  },
  {
   "cell_type": "code",
   "execution_count": 16,
   "metadata": {
    "collapsed": false
   },
   "outputs": [
    {
     "name": "stdout",
     "output_type": "stream",
     "text": [
      "[0.001, 86, 2383, 7011, 7121, 7219, 7326, 7413, 7494, 7586, 7670, 7741, 7812, 7889, 7959, 8020, 8074, 8130, 8159, 8188, 8221, 8257, 8279, 8297, 8315, 8334, 8356, 8366, 8374, 8384, 8391, 8399, 8401, 8410, 8414, 8415, 8415, 8416, 8420, 8420, 8420, 8420, 8420, 8420, 8420, 8420, 8420, 8420, 8420, 8420, 8420, 8420, 8420, 8420, 8420, 8420, 8420, 8420, 8420, 8420, 8420, 8420, 8420, 8420, 8420, 8420, 8420, 8420, 8420, 8420, 8420, 8420, 8420]\n",
      "73\n"
     ]
    }
   ],
   "source": [
    "print(capture_n)\n",
    "print(len(capture_n))"
   ]
  },
  {
   "cell_type": "code",
   "execution_count": 17,
   "metadata": {
    "collapsed": false
   },
   "outputs": [
    {
     "name": "stdout",
     "output_type": "stream",
     "text": [
      "[8420, 8334, 6037, 1409, 1299, 1201, 1094, 1007, 926, 834, 750, 679, 608, 531, 461, 400, 346, 290, 261, 232, 199, 163, 141, 123, 105, 86, 64, 54, 46, 36, 29, 21, 19, 10, 6, 5, 5, 4, 0.001, 0.001, 0.001, 0.001, 0.001, 0.001, 0.001, 0.001, 0.001, 0.001, 0.001, 0.001, 0.001, 0.001, 0.001, 0.001, 0.001, 0.001, 0.001, 0.001, 0.001, 0.001, 0.001, 0.001, 0.001, 0.001, 0.001, 0.001, 0.001, 0.001, 0.001, 0.001, 0.001, 0.001, 0.001]\n",
      "73\n"
     ]
    }
   ],
   "source": [
    "print(through_n)\n",
    "print(len(through_n))"
   ]
  },
  {
   "cell_type": "code",
   "execution_count": 18,
   "metadata": {
    "collapsed": false
   },
   "outputs": [
    {
     "name": "stdout",
     "output_type": "stream",
     "text": [
      "[ 1  2  3  4  5  6  7  8  9 10 11 12 13 14 15 16 17 18 19 20 21 22 23 24 25\n",
      " 26 27 28 29 30 31 32 33 34 35 36 37 38 39 40 41 42 43 44 45 46 47 48 49 50\n",
      " 51 52 53 54 55 56 57 58 59 60 61 62 63 64 65 66 67 68 69 70 71 72 73]\n",
      "73\n"
     ]
    }
   ],
   "source": [
    "print(size1[1:est_1+1])\n",
    "print(len(size1[1:est_1+1]))"
   ]
  },
  {
   "cell_type": "code",
   "execution_count": 19,
   "metadata": {
    "collapsed": false
   },
   "outputs": [
    {
     "data": {
      "image/png": "[encoded data removed]",
      "text/plain": [
       "<matplotlib.figure.Figure at 0xac3f9c8c>"
      ]
     },
     "metadata": {},
     "output_type": "display_data"
    }
   ],
   "source": [
    "size_array=np.array(size1[1:est_1+1])\n",
    "through_array=np.array(through_n)\n",
    "capture_array=np.array(capture_n)\n",
    "reactor_array=np.array(reactor_n)\n",
    "plt.plot(size_array,through_array,'-',label='through',color='red',linewidth=3.0)\n",
    "plt.plot(size_array,capture_array,'-',label='capture',color='blue',linewidth=3.0)\n",
    "plt.plot(size_array,reactor_array,'-',label='reactor',color='black',linewidth=3.0)\n",
    "plt.legend(bbox_to_anchor=(1.05, 1), loc=2, borderaxespad=0.)\n",
    "plt.xlabel('Size of the shield')\n",
    "plt.ylabel('Number')\n",
    "plt.show()\n",
    "\n",
    "\n",
    "\n"
   ]
  },
  {
   "cell_type": "code",
   "execution_count": 22,
   "metadata": {
    "collapsed": true
   },
   "outputs": [],
   "source": [
    "P_through=through_array/sample\n",
    "P_capture=capture_array/sample\n",
    "P_reactor=reactor_array/sample\n",
    "\n",
    "size1=size1[1:est_1+1]"
   ]
  },
  {
   "cell_type": "code",
   "execution_count": 23,
   "metadata": {
    "collapsed": false
   },
   "outputs": [
    {
     "name": "stdout",
     "output_type": "stream",
     "text": [
      "-0.274689226976 0.368656905298\n",
      "1.4097087895285811\n"
     ]
    }
   ],
   "source": [
    "m_through,b_through=np.polyfit(size1,np.log(P_through),1)\n",
    "print(m_through,b_through)\n",
    "\n",
    "\n",
    "fit_t=m_through*size1+b_through\n",
    "uncertainty_t=(1/tmax)*np.sum((fit_t-np.log(P_through))**2)#Standard Deviation\n",
    "print(math.sqrt(uncertainty_t))"
   ]
  },
  {
   "cell_type": "code",
   "execution_count": 24,
   "metadata": {
    "collapsed": false
   },
   "outputs": [
    {
     "name": "stdout",
     "output_type": "stream",
     "text": [
      "0.0253546826531 -1.43169714674\n",
      "6.885532403875753\n"
     ]
    }
   ],
   "source": [
    "m_capture,b_capture=np.polyfit(size1,np.log(P_capture),1)\n",
    "print(m_capture,b_capture)\n",
    "\n",
    "\n",
    "fit_c=m_capture*size1+b_capture\n",
    "uncertainty_c=(1/tmax)*np.sum((fit_t-np.log(P_capture))**2)#Standard Deviation\n",
    "print(math.sqrt(uncertainty_c))"
   ]
  },
  {
   "cell_type": "code",
   "execution_count": 25,
   "metadata": {
    "collapsed": false
   },
   "outputs": [
    {
     "name": "stdout",
     "output_type": "stream",
     "text": [
      "4.88281061859e-18 -1.84516024596\n",
      "4.401862785740953e-16\n"
     ]
    }
   ],
   "source": [
    "m_reactor,b_reactor=np.polyfit(size1,np.log(P_reactor),1)\n",
    "print(m_reactor,b_reactor)\n",
    "\n",
    "\n",
    "fit_t=m_reactor*size1+b_reactor\n",
    "uncertainty_r=(1/tmax)*np.sum((fit_t-np.log(P_reactor))**2)#Standard Deviation\n",
    "print(math.sqrt(uncertainty_r))"
   ]
  },
  {
   "cell_type": "code",
   "execution_count": null,
   "metadata": {
    "collapsed": true
   },
   "outputs": [],
   "source": []
  },
  {
   "cell_type": "code",
   "execution_count": null,
   "metadata": {
    "collapsed": true
   },
   "outputs": [],
   "source": []
  }
 ],
 "metadata": {
  "anaconda-cloud": {},
  "kernelspec": {
   "display_name": "Python [conda root]",
   "language": "python",
   "name": "conda-root-py"
  },
  "language_info": {
   "codemirror_mode": {
    "name": "ipython",
    "version": 3
   },
   "file_extension": ".py",
   "mimetype": "text/x-python",
   "name": "python",
   "nbconvert_exporter": "python",
   "pygments_lexer": "ipython3",
   "version": "3.5.2"
  }
 },
 "nbformat": 4,
 "nbformat_minor": 1
}
