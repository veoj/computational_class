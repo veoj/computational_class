{
 "cells": [
  {
   "cell_type": "code",
   "execution_count": 1,
   "metadata": {
    "collapsed": true
   },
   "outputs": [],
   "source": [
    "import random as ran\n",
    "import numpy as np\n",
    "import pylab as py\n",
    "import matplotlib.pyplot as plt\n",
    "from scipy.optimize import curve_fit\n",
    "import math as math\n"
   ]
  },
  {
   "cell_type": "code",
   "execution_count": 2,
   "metadata": {
    "collapsed": false,
    "scrolled": false
   },
   "outputs": [
    {
     "data": {
      "image/png": "[encoded data removed]",
      "text/plain": [
       "<matplotlib.figure.Figure at 0xad9115ac>"
      ]
     },
     "metadata": {},
     "output_type": "display_data"
    },
    {
     "name": "stdout",
     "output_type": "stream",
     "text": [
      "1.00025299857\n",
      "200\n"
     ]
    }
   ],
   "source": [
    "h=1\n",
    "tmax=200\n",
    "tpoints=np.arange(0,tmax+1,h)\n",
    "#print(tpoints)\n",
    "\n",
    "sample=10000\n",
    "s_points=np.arange(0,sample+1,h)\n",
    "\n",
    "mean=100\n",
    "standard=20\n",
    "A0=1/(standard*math.sqrt(2*3.14))\n",
    "Z=(tpoints[1:tmax+1]-mean)/standard\n",
    "dist=A0*np.exp(-1*(Z**2)/2)\n",
    "\n",
    "#print(dist)\n",
    "plt.plot(tpoints[1:tmax+1],dist)\n",
    "plt.show()\n",
    "\n",
    "print(sum(dist))\n",
    "print(len(dist))\n",
    "\n"
   ]
  },
  {
   "cell_type": "code",
   "execution_count": 3,
   "metadata": {
    "collapsed": false
   },
   "outputs": [
    {
     "name": "stdout",
     "output_type": "stream",
     "text": [
      "200\n"
     ]
    }
   ],
   "source": [
    "dist_0=dist[0]\n",
    "for i in range(tmax-1):\n",
    "    if i == 0:\n",
    "        dist[i]=dist_0\n",
    "    else:\n",
    "        dist[i]=dist[i]-dist[i-1]\n",
    "        \n",
    "#print(dist)\n",
    "print(len(dist))"
   ]
  },
  {
   "cell_type": "code",
   "execution_count": 4,
   "metadata": {
    "collapsed": false
   },
   "outputs": [
    {
     "name": "stdout",
     "output_type": "stream",
     "text": [
      "100\n",
      "100\n",
      "73\n",
      "135\n"
     ]
    }
   ],
   "source": [
    "dist1=dist[0:100]# steps from 1 to 100\n",
    "dist2=dist[100:200]# steps from 101 to 200\n",
    "print(len(dist1))\n",
    "print(len(dist2))\n",
    "\n",
    "frac1=ran.uniform(0,dist1[99])\n",
    "est_1=mean-(standard*math.sqrt(-2*np.log(frac1/A0)))\n",
    "\n",
    "est_1=int(est_1//1)\n",
    "\n",
    "print(est_1)\n",
    "\n",
    "\n",
    "\n",
    "frac2=ran.uniform(0,dist2[0])\n",
    "est_2=mean+(standard*math.sqrt(-2*np.log(frac2/A0)))\n",
    "\n",
    "est_2=int(est_2//1)\n",
    "\n",
    "print(est_2)\n"
   ]
  },
  {
   "cell_type": "code",
   "execution_count": 5,
   "metadata": {
    "collapsed": false
   },
   "outputs": [
    {
     "name": "stdout",
     "output_type": "stream",
     "text": [
      "74\n",
      "136\n"
     ]
    }
   ],
   "source": [
    "e1points=np.arange(0,est_1+1,h)\n",
    "e2points=np.arange(0,est_2+1,h)\n",
    "\n",
    "print(len(e1points))\n",
    "print(len(e2points))"
   ]
  },
  {
   "cell_type": "code",
   "execution_count": 6,
   "metadata": {
    "collapsed": true
   },
   "outputs": [],
   "source": [
    "first=1\n",
    "p_same=2/3\n",
    "p_change=1/3"
   ]
  },
  {
   "cell_type": "code",
   "execution_count": 7,
   "metadata": {
    "collapsed": true
   },
   "outputs": [],
   "source": [
    "ele=first\n",
    "pos1=first\n",
    "position1=[]\n",
    "pos2=first\n",
    "position2=[]"
   ]
  },
  {
   "cell_type": "code",
   "execution_count": 8,
   "metadata": {
    "collapsed": true
   },
   "outputs": [],
   "source": [
    "up=2\n",
    "down=-2\n",
    "right=1\n",
    "left=-1"
   ]
  },
  {
   "cell_type": "code",
   "execution_count": 9,
   "metadata": {
    "collapsed": false
   },
   "outputs": [],
   "source": [
    "# loop for capture possibility\n",
    "for i in s_points:\n",
    "    position1.append(pos1)\n",
    "    ele = 1\n",
    "    # 2nd move        \n",
    "    if ran.random() > p_change:\n",
    "        ele += right\n",
    "        test = right\n",
    "    else:\n",
    "        if ran.random() > 1/2:\n",
    "            ele += 0*up\n",
    "            test = up\n",
    "        else:\n",
    "            ele += 0*down\n",
    "            test = down\n",
    "    # 3rd move  \n",
    "    if test == right:\n",
    "        if ran.random() > p_change:\n",
    "            ele += right\n",
    "            test = right\n",
    "        else:\n",
    "            if ran.random() > 1/2:\n",
    "                ele += 0*up\n",
    "                test = up\n",
    "            else:\n",
    "                ele += 0*down\n",
    "                test = down\n",
    "    else:\n",
    "        if test == up:\n",
    "            if ran.random() > p_change:\n",
    "                ele += 0*up\n",
    "                test = up\n",
    "            else:\n",
    "                if ran.random() > 1/2:\n",
    "                    ele += left\n",
    "                    test = left\n",
    "                else:\n",
    "                    ele += right\n",
    "                    test = right\n",
    "        else:\n",
    "            if test == down:\n",
    "                if ran.random() > p_change:\n",
    "                    ele += 0*down\n",
    "                    test = down\n",
    "                else:\n",
    "                    if ran.random() > 1/2:\n",
    "                        ele += left\n",
    "                        test = left\n",
    "                    else:\n",
    "                        ele += right\n",
    "                        test = right\n",
    "        # 4th and later move\n",
    "        for t in range(3,est_1+1):\n",
    "            if test == right:\n",
    "                if ran.random() > p_change:\n",
    "                    ele += right\n",
    "                    test = right\n",
    "                else:\n",
    "                    if ran.random() > 1/2:\n",
    "                        ele += 0*up\n",
    "                        test = up\n",
    "                    else:\n",
    "                        ele += 0*down\n",
    "                        test = down\n",
    "            else:\n",
    "                if test == up:\n",
    "                    if ran.random() > p_change:\n",
    "                        ele += 0*up\n",
    "                        test = up\n",
    "                    else:\n",
    "                        if ran.random() > 1/2:\n",
    "                            ele += left\n",
    "                            test = left\n",
    "                        else:\n",
    "                            ele += right\n",
    "                            test = right\n",
    "                else:\n",
    "                    if test == down:\n",
    "                        if ran.random() > p_change:\n",
    "                            ele += 0*down\n",
    "                            test = down\n",
    "                        else:\n",
    "                            if ran.random() > 1/2:\n",
    "                                ele += left\n",
    "                                test = left\n",
    "                            else:\n",
    "                                ele += right\n",
    "                                test = right\n",
    "                    else:\n",
    "                        if test == left:\n",
    "                            if ran.random() > p_change:\n",
    "                                ele += left\n",
    "                                test = left\n",
    "                            else:\n",
    "                                if ran.random() > 1/2:\n",
    "                                    ele += 0*up\n",
    "                                    test = up\n",
    "                                else:\n",
    "                                    ele += 0*down\n",
    "                                    test = down\n",
    "    pos1 = ele\n"
   ]
  },
  {
   "cell_type": "code",
   "execution_count": 10,
   "metadata": {
    "collapsed": false
   },
   "outputs": [
    {
     "name": "stdout",
     "output_type": "stream",
     "text": [
      "[1, 2, 3, 3, 3, 3, 2, 3, -8, 3, 3, 3, 2, -14, 11, 2, 3, 2, 3, 3, 2, 2, 3, 21, 3, 9, 12, -13, 3, 3, 3, -2, 5, 7, 2, 3, 3, -5, 8, -10, 17, 2, 0, 10, -7, 1, 3, 2, 3, 2, 3, -14, 7, 3, 2, 21, 3, 3, 3, 2, 3, 3, 7, 3, 1, 3, 3, 3, 3, 2, 3, -10, 3, 3, -13, 7, 5, 2, 2, 3, 3, 2, 2, 3, 3, 3, 12, -12, 3, 15, 3, 2, -2, 2, 2, 2, 3, 3, 3, -7, 3, 2, -15, 3, 2, -5, -17, 2, 3, 18, 23, 2, 2, 7, 15, -4, 3, 2, 24, 3, 3, 3, 3, 36, 2, 2, 21, 17, 18, 2, 2, 2, 2, 3, 2, 3, 16, 2, 3, 13, 2, 3, 6, 3, 0, 2, 3, 3, 3, 3, 17, 2, 3, 13, 2, -3, -5, 2, 2, 2, 2, 1, 2, 3, 1, 3, 3, 3, 3, 3, 3, 8, 3, 3, -2, 2, 3, 3, 2, 3, 3, 3, -6, 2, 9, 3, -8, 3, 1, 2, -10, 23, 3, 3, -5, 3, 3, 12, -16, 2, 3, 3, 3, 3, 2, 2, 2, 2, 3, -18, 2, 2, 30, 3, 3, 18, 3, 3, 3, 2, 3, 2, -6, 2, 3, 3, 3, 3, 19, 3, -3, 3, 3, 2, 5, 2, -25, 2, 3, 3, 3, 3, -8, -25, -6, 3, 3, 2, 3, 3, 2, 7, 26, 3, 3, 2, 3, 2, 11, 2, 3, 2, -10, 4, 2, 3, 3, 2, 3, 6, 3, 14, 3, 3, 3, 3, -29, 3, 3, 3, 1, 3, 7, 3, 3, 15, 3, 2, 8, -3, 18, 3, 3, 2, -24, 3, 3, -5, -12, 3, 3, 2, -14, 2, 3, 2, 3, 13, 3, -29, 3, 3, 7, 2, 3, -2, -2, 0, 10, -11, -6, 2, 2, 2, 3, 26, 3, 6, 3, -22, 0, 3, 2, -13, 3, 2, 2, 2, 3, 3, -10, 2, 2, 3, -6, 2, 3, 3, 2, 2, 2, 3, 2, 2, -12, 3, -6, -7, 2, 2, 2, 3, 3, 3, 2, -1, 3, 2, 2, 3, 3, 2, 8, -13, 8, 4, 2, 2, 3, 3, 3, -16, 4, 2, 2, 3, 2, 3, 3, 3, 3, -1, 1, 3, 18, 2, 2, 10, -14, 2, 3, 17, 3, -10, 12, -12, 2, 3, 12, -19, 2, 2, 3, 9, 3, 2, -5, 3, 2, 3, 3, 7, 14, 2, -26, -2, 14, 5, -4, -13, 2, 3, 16, 2, 3, 3, 3, 2, 17, 3, 3, 15, 9, 10, 3, 3, 16, 3, -32, -13, 3, -12, 3, 3, 3, -2, 7, -4, 3, 2, 3, 3, 2, 2, -7, 3, 2, 32, -10, 2, 2, 3, 3, 3, 3, 5, 3, 3, 3, 2, 18, 3, 3, 2, -4, 3, 3, 3, 8, 2, -7, 3, 3, 3, 3, 2, 3, 16, 2, 3, 3, 3, 2, 3, 3, 3, 2, 2, 3, -7, 10, -18, 3, 3, -5, 6, 3, -9, 3, 18, 3, 2, 3, 2, 12, 3, 3, 2, 2, -9, 3, 3, 3, -24, 2, 3, 22, 13, -3, 2, 3, 3, 3, 3, 3, 3, 10, 3, 2, 1, 3, 24, 2, 3, 3, 42, 3, 3, 0, 3, 2, 3, 3, 12, 8, 2, 2, 3, 3, 3, 2, 2, 2, 3, 2, 38, 3, 3, -11, 2, 2, 16, 3, 10, -29, 3, -17, 3, 2, 3, -4, -27, 12, 2, 2, 2, 2, 3, 3, 7, -16, 2, 5, 8, 3, 2, 3, 2, 2, 2, 2, 25, 2, 2, 3, 2, -4, 3, 2, -10, 3, 8, 3, 3, -21, 2, -15, 3, 2, 3, 3, 5, 3, 3, -15, 3, 2, -19, 3, 2, 3, 3, 1, -9, 1, 2, 2, 12, 3, -6, -1, -14, 2, -15, 2, 3, 0, 3, 5, 3, 3, 5, 12, 3, -22, -17, 3, 2, 2, 2, 3, 2, 2, 2, 3, 3, -2, 3, 2, -4, -25, 3, 2, 3, 3, 3, 3, 3, 3, 3, 19, 3, 19, -4, 2, 3, -16, 10, 2, -13, 2, 3, 2, 3, 3, -5, 3, 5, 10, -8, -9, 3, 3, -17, 19, 3, 3, -18, -11, -3, 2, 2, 9, 3, 11, 2, 24, 3, 3, 3, 2, 2, 3, 10, 2, 3, 3, 13, 3, -14, -10, 2, 2, 3, 3, 15, -2, 3, 19, 2, -1, 3, 2, -10, 3, 8, 2, 0, 2, 3, 3, 2, 3, 3, -8, -14, -16, 3, 3, 3, 10, 3, 3, 2, 3, -13, 3, 3, 3, 2, 2, 3, 19, 3, 3, 2, 3, 2, 11, -5, -3, 31, -16, 3, 3, 3, 3, 3, 7, -3, 5, 4, 17, -19, 3, 3, -20, 2, 6, 3, -11, 3, 4, 3, 3, 0, 3, 2, -3, -11, -16, 2, 2, 3, 3, 3, 2, 3, 3, 3, -18, 2, -6, -15, 2, 3, -32, 3, 2, 3, 6, 13, -18, 2, -4, 3, 3, -4, -4, 3, 10, 3, 3, 3, 4, 2, 3, -8, -16, -15, 3, 3, 3, -8, 7, 3, 3, 2, 2, 2, 3, 2, 2, 3, 3, 3, 3, 2, 2, 4, 3, 3, 3, -9, -1, -17, -10, 3, 3, 21, -31, 3, -18, 3, 2, 2, 3, 2, 3, 2, 6, 2, 3, 16, 1, 3, 2, 3, 19, 3, -10, -11, 2, 24, 3, 3, 3, 3, 13, -14, 3, 3, 2, 2, -9, 3, 8, 3, -21, 6, 2, 2, 3, 32, 3, 2, 3, 6, 10, 0, 2, 3, 2, 3, -5, 3, 3, 3, 3, -8, 3, 2, 2, -20, 3, 2, 2, 3, 2, 3, 2, 2, 2, 3, -6, 3, 3, 2, -11, 3, 15, 2, 2, -1, 2, 3, 2, 3, 2, 3, 3, -12, 3, 2, -8, 2, 0, 3, 3, -16, 3, 2, 3, 2, -2, -1, 3, 3, 10, -4, 3, -8, 3, 3, 2, 3, -6, 3, 3, 3, 3, 3, 3, -4, 2, 2, 3, -6, 3, 3, 2, 3, -1, 16, 3, 3, 3, 3, -5, 3, 3, 3, 3, 2, 3, 2, 2, 3, -11, -12, -21, 2, 2, -6, 3, 3, 2, 2, 9, 2, -13, 3, 3, -8, 3, 2, 2, 13, 3, 27, 3, 3, 3, 3, 3, 3, 3, 2, 2, 2, 3, 3, 2, 3, 3, 1, 26, 3, 18, -1, 11, 2, 2, 3, 2, 2, 3, -7, 3, 6, 4, 27, 21, -24, 3, -8, 2, 3, 2, -10, -5, -19, 2, 2, 3, 20, 3, 2, 2, 2, 8, 3, 3, 3, 3, 3, 3, 3, 3, 17, 3, 3, -9, 3, 3, 3, 2, -16, 3, 2, 3, 2, -15, 3, 7, -12, 3, 9, 2, 3, 14, 3, 3, 2, -18, -10, 3, 15, 3, 3, -10, 3, 3, 3, 3, 17, -3, 3, 3, 13, 3, 3, 3, 3, 4, 3, 3, 3, 3, 3, 3, -7, 3, 2, 3, 2, 3, 2, 2, 3, 2, 3, 23, 3, 0, 3, 2, -19, 2, 14, -3, 3, 3, 3, 5, 3, 3, 12, 3, 3, 0, 3, 3, 3, 2, 3, 3, 2, 3, 3, 3, -6, 20, 3, 30, -7, 2, 2, -4, 11, 3, 2, 3, 2, 10, -4, 2, -20, -2, 2, 27, 2, -14, 3, 2, 3, 3, 2, 2, 3, 2, 2, 3, 3, 20, -6, 3, 2, 3, 2, 2, 3, 3, -9, 8, 12, 3, 2, 3, -19, 12, 11, 3, 3, 2, 3, -15, 3, 3, 3, -10, -12, 2, 3, 3, -1, 3, 13, 3, -12, 4, -6, 2, -1, 9, 13, 3, -7, 5, 3, 19, -2, 3, 3, 3, 3, 3, 3, 9, 2, 2, 3, 3, 3, 3, 3, 2, 4, 3, 3, 17, 3, -15, 2, 2, 13, 2, 3, 2, -1, 9, 2, 23, 0, 3, 2, 3, 10, 3, 2, 3, 3, 2, 3, 3, 2, 1, 3, 3, 2, 2, 2, 2, 3, 3, 4, 13, 3, 2, 10, 3, 3, 2, 6, -6, 2, 3, 3, 2, 3, 2, 3, 2, 5, 2, 3, 0, 3, 3, 3, 3, 3, 2, 3, 3, -15, 3, 2, 1, 33, 2, 3, 2, 3, 3, 3, -2, 2, 14, 3, 3, 2, -10, -18, 3, -18, 3, 12, 11, 3, 2, -14, 2, 3, -3, 2, 3, 3, 3, 2, 2, -17, 14, 2, 10, 2, 2, 3, 0, 3, 2, 3, 3, 17, 3, 2, 0, 14, 2, -4, 2, 3, 2, 3, 2, 3, 2, 17, 3, 3, 3, 2, 3, 3, 3, 3, 1, 3, 4, 3, 3, 3, 3, -34, 2, 2, 13, 2, 4, -16, 2, 3, 2, 3, 3, 3, -23, 3, 3, 2, 2, -16, 3, 2, -20, 2, 7, 16, 2, 3, 2, 26, -14, 2, 3, 2, -3, -8, 3, 2, -5, 3, 2, 3, 3, 3, 3, 2, 2, -1, 3, 3, 3, 2, 3, 2, 8, 3, 2, -8, 2, 1, 2, 2, 6, 3, 2, 2, -11, 3, -18, -11, 3, 2, 3, 2, 3, 3, -10, 3, 3, 12, -27, -9, 3, 2, 2, -29, -7, 2, 3, -2, 2, -11, 2, 2, -6, 3, 3, 12, 3, -3, 3, 2, 3, 2, 3, 2, 3, 3, 3, 3, 3, 3, 3, 3, 7, 2, 2, 20, 3, 3, -26, 11, 3, 3, 13, -33, 2, 3, 3, 5, 2, 2, 3, 3, 2, 9, 2, 28, 8, 3, 2, -2, -2, 2, 2, 3, 3, 3, 3, 3, 3, 2, 16, 3, 3, 3, 2, 2, 3, 10, 23, -2, 2, 3, 0, 2, 3, -34, 3, 3, -25, 2, 3, 2, 2, 3, 14, -5, 3, 9, 0, -6, 3, 3, 3, -13, 2, 3, 3, 3, 2, 3, 9, 2, 3, 3, 3, -3, 3, 3, 3, 3, -14, 4, 3, 3, 8, 3, -17, 7, 3, 2, 3, 10, 3, -12, 3, 3, 2, 2, 3, 3, 3, 7, 3, 2, 3, 3, 2, 1, -16, 2, 13, 3, 3, 13, -9, 3, 4, 2, 3, 3, 3, 2, 3, 2, 3, 2, 3, 2, -23, 2, 2, 3, 2, 17, -10, 3, 3, 3, 2, -1, 3, 0, 3, -7, -12, 3, 22, 22, 4, 0, 10, 3, -8, 5, 3, 3, 20, -15, 3, 3, 3, 3, 3, 3, 2, 3, -17, 2, 17, 2, 3, -5, 2, 3, 2, 3, 2, 3, 7, 3, 3, 3, 3, 3, 3, 2, 6, 3, 3, 3, 3, 2, 0, 3, 2, -5, 1, 27, 2, 3, 3, -6, 3, -8, 2, 3, 3, 24, 3, 9, 3, 13, 3, 3, 3, 2, -1, 2, 3, 3, 3, 9, -13, -1, -15, 3, 2, 2, 2, 3, -10, 14, 11, -21, 3, -11, 3, -6, 3, 3, 3, 2, 3, 3, 2, -6, 3, 2, 3, 2, 3, 3, 3, 3, -12, 6, 3, 3, 3, 3, 3, 2, 2, 13, 2, 3, 2, 3, 3, 3, 2, 14, 2, -21, 3, 3, 3, -9, -3, 3, -15, 6, 3, 3, 3, -10, 2, 2, 5, 2, 3, 3, 3, -6, 3, 2, 3, -3, 3, -18, 2, 3, 6, 3, 3, -19, 2, -21, 2, 2, 15, 3, 2, 2, 2, 3, 3, 3, 3, -25, 4, 3, 2, 28, 3, 3, 3, 3, 2, 3, 3, 3, 7, 3, 7, 3, 3, 3, 3, 3, 10, 3, 7, 2, 4, 2, -17, 3, 3, 3, -6, 2, -23, 3, 3, 3, 11, -19, 21, 3, -8, 2, 2, 3, 3, 2, 6, 3, 9, 3, 2, 29, 3, 2, 3, 2, 1, 3, 3, 3, 2, 2, 3, -1, 3, 2, 3, 3, -15, 3, 3, 3, 2, 8, 3, 2, 3, 3, 2, 3, 15, 3, 3, 13, 3, 2, 24, 3, 3, 2, 3, 2, 3, 3, 3, 2, 3, 2, -9, 3, 3, 5, 3, 3, -2, 2, 3, 2, 3, 3, 2, 3, -30, 2, 3, 3, 4, -24, 3, 3, 6, 3, 2, 3, -1, 2, 3, -5, 20, 3, 3, 3, 17, -2, 3, 3, 3, -22, 24, 2, 3, 3, -9, 3, 2, 3, 3, 5, -11, 29, 3, 3, 3, 2, 11, -6, 2, 3, -9, 2, -3, 3, 3, -18, 2, 2, 3, 3, 3, 2, 3, 2, 3, 2, 2, 3, -9, 2, 2, 24, 2, 3, 3, 3, 3, 3, 3, 5, 3, -3, -7, 3, 3, 2, 3, -7, 2, 10, -1, 3, -14, 18, 14, 2, 3, 2, 3, 2, 10, -7, 2, 3, 3, 3, 21, 3, 3, 2, 3, 2, 8, 3, 3, 3, 2, 2, 13, 2, -18, 3, -6, 3, 5, 14, 4, 3, 5, 19, 3, -13, 2, -6, 3, 2, 17, 3, 2, 3, 2, 2, 3, 3, 13, -15, 3, 2, 2, 11, 3, 3, 2, -5, 2, 3, -4, 2, 3, -7, 3, 3, 27, 3, 11, 3, 3, 3, 0, 3, 6, 3, 4, 2, -33, 2, 2, 3, 3, 3, 2, 3, -6, 3, 2, -17, -5, 3, 3, -21, 2, 3, 3, 3, 3, 3, 8, 17, 21, 2, -13, 3, 0, 3, 2, 3, -12, 3, 26, 3, 3, 3, 3, -9, 3, 2, 3, 3, 3, 3, -13, -18, 2, 3, 3, 2, -4, -1, 3, 2, 2, 1, 2, 3, 2, -8, 29, 2, -4, 3, 2, 18, 2, 9, 2, 2, 3, 3, 4, 2, 10, 2, 5, 3, 3, 2, -1, -42, -5, 3, 3, 2, 3, 3, -1, 18, 3, 32, 26, 3, 3, 26, 2, 3, 3, 2, -8, 21, 3, 3, 6, 3, 11, -21, 35, 3, 3, 3, 3, 2, 2, 3, -2, 2, 3, 3, 3, 9, -15, 8, 4, 2, 3, -8, 3, 3, 3, 3, 11, 2, 3, 7, 3, 9, 2, 2, 3, 2, 3, 2, 2, 3, 3, 8, 4, 23, -1, 3, 6, -6, 3, 2, 2, 3, 7, -10, 3, 2, 3, 3, 12, 2, 6, 2, 3, 3, 3, 16, 3, 3, 2, 16, 3, 3, 2, 2, 13, 2, 3, -4, 0, -12, 2, 23, 21, 3, -6, 2, -3, 3, -10, 3, -8, 2, 3, 3, -10, 3, 3, 3, 3, 3, 3, -12, 3, -8, 3, -8, 2, -20, 3, 3, 3, 3, 2, 3, 3, 3, 3, 3, 3, 2, 3, 3, 3, 10, 3, -7, 2, 2, 3, -7, 3, 2, 16, -11, 3, 3, 2, 3, 16, 2, 3, 3, 2, 3, -16, 3, -14, 2, 2, 3, 2, 2, 3, 2, 2, 12, 3, 3, 9, 2, 3, -9, 2, 3, -2, 3, 3, 3, 2, 3, -16, 3, -14, 15, 3, 2, 3, -16, 2, 3, 3, -2, 3, 2, -1, -11, 3, 0, 3, -17, 3, 2, 7, 3, 3, -1, 8, 2, -8, 19, 3, 2, 3, 2, 3, -17, 3, 2, 0, 17, 3, -14, 3, 3, 3, 3, 3, 21, 3, 2, 4, 3, 3, 3, 3, 2, 5, 3, 3, 3, 3, 3, 3, 3, 3, -5, -10, -1, 2, -2, 3, 3, 2, 3, 3, 3, 2, 1, 2, 10, 2, 4, -4, 2, 3, 2, 3, -9, 2, 3, 2, 3, 3, 3, 12, 3, 2, 3, 3, 2, 3, 2, 3, 2, 2, 3, 2, 3, 3, -10, -7, 3, 3, 3, -7, 3, 3, -24, 3, -21, -3, -2, 3, 8, 3, 3, 21, 2, 2, 2, 2, 4, -7, 3, -2, 3, 3, 3, 3, 3, 2, 3, 3, -16, 12, 3, 2, 2, -8, 3, 5, 2, 3, 3, 3, -11, -16, 2, 3, 3, -11, 3, 9, 3, 3, 3, -4, -12, -8, 3, 0, 33, -9, 2, 2, 2, 2, 3, 3, 3, 3, 3, 3, 2, -19, 2, 2, 3, 3, 3, 3, 2, 0, 3, 2, 3, 3, 3, 3, 1, -8, 1, -8, 3, 3, -5, -18, 17, 3, 2, 3, 2, 3, -34, 3, 2, 2, 3, 6, 3, 3, 2, 2, 2, 3, 2, 3, 3, -18, 2, 3, 2, -22, 2, -20, 2, 2, 33, -15, 11, 2, 2, -8, 12, 3, 19, 14, 2, 2, 11, 3, 2, 3, 3, 2, 3, 2, 9, 3, 3, 3, 2, 2, 3, 2, 8, -1, -20, 2, 2, 3, 14, 3, 3, 3, 2, 13, 2, 3, 2, 3, 3, 3, 3, 3, 3, 2, 10, 2, 2, -16, 3, -24, 20, 3, 2, 3, 2, -5, 3, 10, 3, -1, -16, 2, 3, 3, 3, 3, -4, 5, -11, 3, 2, 3, 3, 2, -5, 3, 24, 2, 3, 13, 3, 2, 26, 3, -20, 2, 4, 3, 17, 20, 21, 3, -2, -3, 3, 2, 23, 3, 2, 2, 0, 2, 2, 3, 3, 10, 1, -4, 3, 21, 0, 3, -21, 34, 3, 2, 3, 13, 2, 2, 3, 2, 17, -8, 3, 29, 2, 2, 3, 2, 3, 3, -11, 3, 3, 8, 2, 18, -19, 2, 3, 3, 3, 13, 2, -20, 3, 5, 3, -28, 3, -24, 2, 3, 2, 3, 3, 2, 3, 2, 11, 3, 2, 2, 2, 2, -2, 2, 3, 3, 2, 11, -11, 6, 3, 2, 3, -6, 13, 3, 2, 3, 2, 2, 2, 2, 13, 2, 3, -6, 3, 3, 2, 19, 7, 2, 2, 3, -11, 3, 3, 3, 3, 3, 2, 3, 3, 3, 3, 2, 3, -5, 2, 3, 12, -5, 3, 3, 3, 26, 2, 2, 7, 3, 3, 3, 3, 3, 3, 3, 13, 3, 12, -4, 2, 2, 14, 3, 2, 3, 7, 3, 3, 11, 2, 2, 1, 3, -18, 3, 3, 13, 3, 3, 7, 4, 13, 11, 2, 3, 3, -6, 2, 3, 3, 10, 8, -5, -7, 3, -19, 2, 2, 1, 3, 20, -2, -32, 2, 3, 3, 3, 0, 3, 3, 3, 2, 3, 3, 3, 3, -17, 3, -8, -5, 11, 2, 2, -17, 2, 3, 7, -2, 3, 2, -6, 6, -21, -18, 2, 3, 3, 2, 2, 2, 2, 2, 3, 21, 3, -9, 8, 3, 3, 3, 3, 3, 3, 18, 3, 3, 2, 21, 2, 3, 3, 2, 2, 14, -14, 3, 2, 3, 2, 3, 3, 3, 17, 3, 3, 3, 3, 3, 3, 18, 2, 3, 2, 14, 3, 2, 3, 2, 3, -29, -1, 3, -4, 3, 3, 3, 3, -12, 2, 2, 2, 3, 2, 3, 3, 7, 3, 3, 3, 2, -11, 3, -16, 8, 7, 2, 3, 2, 3, 3, 2, 3, 3, 2, -20, 3, 2, -13, 3, 3, 2, 3, -1, -1, 3, 3, 20, -2, 2, 3, 2, 3, -3, 2, 3, 5, 8, 3, -4, -13, 2, -6, 2, 3, 2, 4, 2, 3, 10, 16, 3, 3, 3, 2, -2, 3, 2, 3, -7, 3, 3, 3, -14, 2, 3, -11, 2, 10, 14, 3, 2, 3, -10, 2, 20, -6, 3, 3, 3, -7, 12, -15, -4, 3, -19, 3, 7, 2, 2, 3, 3, 3, 34, 3, 3, 2, 3, 3, 2, 3, 2, 2, 3, -32, 2, -13, 10, 8, 3, 2, -1, 3, -31, 9, 15, 3, 2, -17, 2, 3, 3, 17, 2, 3, -17, 3, 22, 3, 3, 3, 3, 9, 3, 5, 2, 3, 2, 3, 3, 3, 9, 3, 3, 4, -3, 3, 2, 2, 2, 42, -7, 2, 4, 7, -30, 8, 3, 9, -2, 2, 16, 3, 3, 3, 2, 8, 2, -9, 3, 2, 3, 4, 3, -12, -5, -19, -11, 3, 20, 3, 3, 3, 3, 2, 13, 15, 3, 3, 3, 6, 2, 7, -19, 3, 3, 9, -7, 3, 3, 2, 3, 3, 3, 2, 3, -2, 3, 6, 2, 2, 3, -7, 2, 3, 3, 16, 3, 9, -2, 3, 2, 3, 7, -24, 3, 3, 2, 3, 3, 3, 13, 3, 2, -1, 2, 3, 1, 0, 2, 2, -16, -9, -12, 9, 3, -2, 3, 3, 2, 3, 2, 3, -8, -9, 3, 3, 8, 10, -4, 3, 2, 9, 2, -15, 9, -3, -3, 37, 3, 3, 3, 3, 2, 3, 2, 2, 2, 2, 3, 2, -5, 3, 2, 3, 3, -1, 2, -6, -17, -11, 3, 3, 3, 2, 3, 2, 6, 3, 2, 14, 3, -5, 2, 2, 3, 18, 3, 3, 3, 2, 5, 3, 3, 3, 9, 3, 19, 0, 3, 3, -9, 2, 3, 2, 2, 3, 3, 3, 2, 3, 7, 3, -14, 6, 3, 3, 23, 3, -5, 22, 3, -22, 2, -9, 2, 2, 3, 3, 3, 3, 3, 3, 4, 2, -9, 36, 3, 3, 3, 15, 3, 2, -1, 3, 3, -16, -14, -7, 3, 14, -15, 3, 3, 3, 2, 9, 2, 3, 3, -11, 3, 3, 3, 2, 3, -11, -3, 3, 3, 9, 2, 3, 2, 3, 18, 3, 3, 17, 2, -12, 3, 2, -2, -30, 3, -2, -21, 2, 2, 3, 8, 3, 3, 3, 15, 2, 7, 2, 3, 3, 3, 3, 2, 3, 2, 2, 3, 3, 3, 3, 2, 3, 2, 3, 3, 3, 3, -22, 3, 3, 3, 7, 3, 3, 16, 2, 2, 2, 3, 3, 3, 3, -1, 3, 3, 3, -8, 13, 2, 3, 3, -10, -25, 8, 3, 2, -3, -6, 6, 2, 3, -3, 2, 3, -12, 3, 3, 3, 14, 3, 9, 3, 3, 3, 3, 8, 12, 8, 2, -11, 0, -17, 12, 3, 8, 3, -15, 3, 0, 3, 5, 5, 16, 0, 2, 2, 2, 3, -14, 4, 8, 3, 3, 2, 18, 3, 2, -21, -5, 3, 3, 3, 3, 3, 2, 4, 3, -31, 3, 11, 3, 16, -6, 12, 6, 2, -6, -6, 2, 2, 3, 3, 3, 12, -28, -6, 3, -16, 3, -18, 3, 14, 2, 3, -20, 2, -8, 3, 3, 3, 2, -15, 3, 2, 3, 2, 3, 3, 3, 3, 2, 3, 2, 3, 3, 3, 9, 3, 22, 3, 2, 3, 2, 3, 25, -2, 2, 2, 16, 2, 6, 2, 3, 2, 19, 3, 3, -5, 3, 3, 3, 2, 2, -4, -8, 2, -11, 3, 3, 3, 3, 2, 3, 3, 3, 14, 9, 2, -6, 3, 2, 3, 3, 2, 10, -19, -2, 6, 9, 3, 3, 3, 2, 2, 2, 3, 14, 3, 3, 2, 2, 2, -16, 3, 3, 3, 0, -4, 2, 2, 3, 3, 3, 3, 3, -19, 3, 3, -25, 3, 3, 3, 3, 3, 3, 2, 2, 3, 3, 3, 3, -12, 3, 3, 3, 3, -5, 3, 2, 2, 3, 2, 3, -16, -7, 7, 3, -4, 3, -13, 3, 2, 3, 3, -4, 3, 14, -10, 2, 3, 2, 3, 2, -11, 3, 2, -23, 3, 2, 3, 3, 3, 3, 3, 3, 3, 2, 2, 3, 3, 12, 3, 2, 3, 2, 2, 2, 2, 3, 3, 3, 3, 3, 15, 2, 3, 2, 34, 3, 3, 18, 2, 18, 14, 2, 2, 5, 3, 3, 3, 2, 2, 2, 2, 10, 4, -19, 3, 2, 2, 3, 2, 2, 2, 17, 3, 3, -6, 3, 3, 3, 3, 3, 3, 3, 2, 3, 3, -19, 3, 3, 3, -1, 2, 3, 12, 3, 3, 3, 8, 2, 3, 2, 2, 3, 2, 3, 3, -23, -22, -2, 3, 2, 3, 3, 2, -5, 3, 3, 7, -16, 3, 3, 3, 3, 13, 2, -5, 3, -6, 3, 3, -12, 3, 3, 3, 2, 3, 3, 2, 1, 3, 2, 3, 14, 3, 5, 2, -22, 3, -6, 2, 2, -8, -29, 3, 8, 2, 3, -3, 3, 3, 10, 2, 3, 19, 32, 3, 5, 2, 2, 2, 2, 2, 3, 2, 3, 2, 3, 3, -11, 3, 3, -1, -10, 3, 3, 3, 3, 3, -9, 2, 3, 2, 3, 3, 5, 3, 2, 2, 2, 2, 3, 3, 3, 2, 3, -3, 3, 21, 2, 3, 2, 2, 1, 2, -7, 3, 2, 15, 3, 3, -3, 3, 3, -16, 9, 2, 20, 2, 2, 3, 3, 3, 3, 3, 2, -10, 15, -23, 11, 2, 5, 0, 3, 2, 3, 3, 2, 3, 3, 3, 3, 3, 2, 12, 3, 3, 4, 2, -14, -18, 15, 2, 3, 3, 3, 3, 2, 25, 3, 2, -13, 2, 2, 2, 2, 3, 3, 1, -18, 3, 2, 3, 2, 3, 17, 2, 12, 2, 2, 3, 2, 3, -18, -26, 3, 3, 2, 2, 3, 3, -8, 2, 3, 3, 10, 3, 2, 3, 2, 21, 3, 2, 3, 3, 3, 3, 10, 3, -7, 2, 6, 3, 2, 2, 3, 2, 2, 2, 27, 2, -12, 3, 3, 5, 2, 3, 2, -13, -16, 2, 18, 3, 3, 2, 5, 3, 3, 8, 3, 2, -3, 3, 3, 24, 2, 3, 3, 3, 2, -24, 2, 3, 21, 3, 2, 2, 2, 11, 3, 11, 2, -18, 0, 23, 3, 3, 20, 8, 2, 7, 3, 2, 3, 0, 3, 2, 2, 3, 3, 3, -14, -2, 3, 3, -15, 6, 2, 3, 10, 2, 3, 0, 12, 3, -16, 3, -2, 2, 2, -31, 3, -27, -16, 3, 2, 3, 2, 2, 17, 3, 3, -10, 3, 3, 3, 3, 3, 3, 2, 2, 3, 2, 3, 10, -8, 3, 22, 0, 3, 2, 3, 2, 3, 5, 2, 3, 11, 7, 2, 3, 3, 3, 2, 9, 3, 2, 3, 2, 3, 2, -26, 3, 2, 3, 3, -14, -1, -16, 3, 0, 3, 3, -13, -15, 2, 3, 3, 3, 2, -5, -21, -12, 3, 3, -5, 3, 2, 2, 3, 3, 3, 3, 3, 2, 18, -7, 3, 9, 3, 3, -5, 22, 3, 3, 3, 3, 3, 2, 2, -2, 3, 3, 2, 8, 3, 12, 2, 19, 2, 2, 2, 3, -2, 3, -4, -5, 2, 12, 3, 3, 3, 3, 3, 3, -17, 2, 3, 1, -8, 3, 2, 1, 3, 2, 3, -9, 3, 2, 2, -16, 3, 3, 3, -10, 2, 2, 1, -11, 3, 3, 2, 3, 2, 2, 3, 2, 3, 3, 3, -13, 3, 5, 3, 3, 2, 3, 3, 2, 2, 3, 30, 2, 3, 3, -3, 2, 3, 3, -1, -13, 3, 3, 2, 3, -24, 3, 3, 2, 3, 2, 3, 3, -15, 3, 3, 2, 3, 3, -6, 3, 3, -12, 2, 3, 2, 2, 3, 2, 8, 2, 2, 24, -14, 15, 5, 3, 15, 20, 3, -6, 26, 3, 3, -6, 3, 3, 15, 2, 2, -3, 3, 2, 3, 3, 2, 3, 3, 3, -6, 3, 3, 2, 3, 3, 3, 2, 2, 3, -19, 3, 2, -3, 21, 3, 23, 3, 2, 12, 3, 3, 3, 2, -15, 2, 3, -8, 19, -6, 3, 9, 3, 3, 3, 3, 3, 2, 3, 3, 2, 3, 3, -18, 3, 2, 17, 3, -4, 2, 16, -4, 3, 3, 3, 2, 3, -1, -2, 2, 22, -18, 3, 3, 2, 3, 8, 3, -20, 2, 3, 3, -4, -13, 3, 2, 6, 3, 2, 3, -7, 2, 3, 3, 3, 2, 2, 3, 2, 2, 13, 3, 18, -7, 12, 3, -3, 3, 3, 3, 2, 3, 3, 3, 14, 3, -3, 2, 3, -11, 2, 3, 15, 3, 3, 3, 4, 3, 2, 3, -5, 3, 3, -4, -14, 2, 3, 5, -6, -1, 3, 2, 2, -5, 3, 3, -18, 3, 3, -4, 3, 3, 2, 9, 3, 3, 3, 11, 3, 2, 3, 3, 2, 3, 3, 9, 2, 2, 3, 3, -9, 3, -8, -1, 3, 3, 3, 3, 3, 3, -9, 20, 3, 2, 11, 4, 4, 3, 3, 3, 3, 3, 3, -1, 2, 2, -23, 3, 3, 15, 2, 3, -11, 2, 2, 3, -18, 3, 2, 2, 3, 2, 3, -12, -5, 2, 3, 3, 3, 2, 3, 2, 6, 3, 2, 3, 3, 3, 2, 3, 2, 15, 2, 0, 17, -4, 3, 3, -6, -13, 2, 3, 2, 2, 2, 2, 2, 22, 3, -20, 2, -8, 3, 3, -3, 3, 3, 14, 8, -2, 3, 31, 2, 2, 3, 2, 3, 3, 3, 3, 3, 3, 2, 2, 3, 20, 2, -23, 3, 2, -3, 2, 2, 3, 3, 5, 2, 3, -1, 3, 11, 3, -17, -9, 3, 1, 3, 3, -5, 10, 3, 3, 2, 10, 12, 2, 3, 2, 2, 3, 3, 3, 3, 3, 2, 2, 5, 3, 3, -8, 3, 19, 3, -19, 3, 3, 3, 3, 23, 2, 3, 11, 6, 1, -6, 3, 3, 3, 2, 11, 3, -13, 17, 18, 3, 3, -24, 3, 3, 3, 3, 3, 3, -7, 15, 3, 2, 3, 2, 2, 3, 3, 2, 2, 9, 21, 3, 3, -20, 11, 2, 2, 2, 4, -12, 0, 3, 3, 2, 3, -23, 3, 2, -8, -10, 3, 2, 3, -3, 8, 2, 6, 3, 2, 3, 2, -10, -4, 3, 2, 3, 2, -5, 15, -19, 3, 1, -1, -9, 23, -13, 3, 3, 2, -2, 7, 2, 3, 7, -21, 3, -3, 2, 2, 2, 2, -2, 6, 19, 2, 3, 3, -9, 3, 2, 2, 11, -8, 3, -19, 2, 3, 2, 2, 3, 0, -6, 26, 3, 2, 4, 14, 3, 3, 3, 3, 3, 7, 3, 7, 3, 3, -3, 9, 3, -11, -1, -22, 3, 3, 2, -12, 2, 1, 2, -22, 10, 15, 3, 3, 10, 3, -1, -5, -4, 3, 7, 3, 3, -29, 3, 3, 2, 2, 24, 2, 3, 3, 6, 3, 3, 2, 3, 2, 3, 3, 3, 3, 3, -3, 3, 3, 3, 9, -4, 2, 3, -24, 3, 2, 2, 3, 2, 2, 3, 10, 3, 2, 2, 2, 3, -11, 3, 6, 3, -4, 3, 2, 3, 3, 3, 18, -22, 3, 3, 3, 3, 4, 8, 3, 2, 3, 12, -3, 3, -10, -11, 2, 3, 2, 2, -4, 3, 3, -7, 3, 2, 3, -14, 19, 3, 3, 2, -5, -3, -10, 3, 9, 3, 3, 3, 9, 9, 3, 2, 3, 3, 2, 3, 2, 3, 3, 18, 18, 3, 3, 11, 2, 3, 3, 3, 12, 3, 3, 2, 3, 2, 3, -9, -19, 3, 3, 2, 3, -11, -10, 3, -27, 3, 3, -18, -12, 2, 19, 2, 2, 3, 3, 3, 3, 3, 2, -6, 2, -1, 3, 1, 7, -10, -4, 2, 3, -14, 3, 2, 3, 3, 3, -28, 3, 3, 11, 2, 2, 3, 3, 3, 3, 2, 3, 3, -17, 2, 3, 8, 5, -1, 3, 3, 2, 3, 2, 22, -8, -15, 2, 2, 3, 3, 3, 2, 3, 3, 3, 18, -1, 2, 3, 3, 3, 3, 4, 14, 2, 3, 3, 3, 3, 3, 2, 8, 2, 3, 3, 2, -11, 21, -26, 3, 27, 3, 3, 3, 3, 3, 3, 6, -3, 2, 2, 3, 3, 2, -17, 3, -15, 2, -16, 3, -19, -10, 2, 5, 3, 3, 2, 5, 6, 3, 2, 18, -3, 2, 3, 3, -20, 2, 10, 7, 3, 2, 3, 3, 3, -4, 12, 3, 3, 2, 3, 17, 2, -8, 17, 3, 3, 13, 2, 3, 3, -1, 4, 3, -6, 2, 3, 26, -7, 3, 7, 2, 2, 3, 4, 3, -15, 3, 3, 3, 2, 3, 3, 2, 9, 13, 20, 2, 3, 3, 3, 14, -4, 3, 3, 3, 3, -5, 3, -11, 4, 3, 2, -13, 35, 3, 3, 3, 2, 3, -3, -5, 2, 3, 3, 5, 3, 3, 3, 3, 2, 5, 3, 3, 9, 2, 13, 3, 2, 7, 3, 3, 3, 2, 3, 3, 5, 3, -16, 3, 3, 2, 3, 13, -12, 35, 3, 3, 3, 3, 3, 3, 2, 20, 3, 2, 2, 23, 11, -30, 3, -1, 2, 3, 3, 3, 10, 2, 5, 3, 3, 3, 2, -20, -11, 3, 6, 4, 3, 2, 3, 2, 14, 3, 3, 2, 2, 2, 2, 3, 3, 9, 2, 2, 2, 2, 3, 3, 3, 8, -5, -17, -4, 3, 2, 3, 8, 2, 27, 3, 3, 3, 3, 3, 26, 1, 7, 3, 3, 3, 2, 3, 2, 2, 3, 2, 2, 3, 2, 3, 0, -6, 2, -19, 3, 2, 3, 3, 3, 3, 3, 3, 17, 3, 3, 3, 1, 5, 35, -14, 14, 2, 3, 2, -14, 2, 3, -6, 3, 2, 15, 2, -3, 3, 3, 3, 2, 3, 3, 2, 3, 3, 3, 5, -1, 15, 3, -5, 3, 3, 5, -5, 4, 2, 25, -10, 3, 8, 3, 3, 3, -5, 3, 3, -2, 3, 2, 3, 2, -6, 3, 2, 3, 2, 3, 3, 3, 3, 6, 3, 4, 3, -21, 3, 3, 3, -4, 3, 2, 3, 11, 2, 3, 12, -15, 2, 3, 3, 3, 3, 3, 2, -6, -10, 2, -10, 2, 3, 4, 11, 25, 16, 12, -10, -6, 3, 3, 3, -9, 3, -20, -23, 3, 2, 3, 2, 2, 3, 3, 20, 3, 3, 3, 3, 3, 3, 18, 3, 15, 3, 3, 3, 3, 2, 2, 0, 2, 3, 2, 3, 2, 3, 3, 2, 3, 3, 3, -9, 25, 3, 15, 3, 3, -1, 2, 3, 2, 2, 3, 3, 5, 28, 3, 3, 3, -6, 3, 3, -6, 3, 3, -23, 3, -3, 3, 10, 2, 3, 3, 15, -21, 16, 3, 2, 2, 3, 5, 2, 3, 2, -27, 3, 3, -2, 3, 3, 2, 2, 2, 13, 3, 3, 3, -5, 19, 2, 2, 3, 13, 16, 3, 2, 2, -1, 2, 2, 3, 3, -2, 3, 3, 2, 3, -11, 3, 19, 31, 3, 3, 12, 2, -23, 3, 3, 2, 3, 3, 9, 5, -9, 2, 3, 3, 26, 3, 3, 2, 3, 3, 3, 3, 2, 3, 12, 3, 2, 3, -11, 2, 3, 2, -1, -25, 3, 3, 12, 0, 3, 3, 2, 2, 3, 3, -21, 3, 10, 3, -23, 2, 2, 14, 3, 3, 3, 3, 3, 3, 2, 2, -32, 2, 2, 2, 14, 3, 3, 3, 3, 3, -10, -1, 3, 2, 3, 2, 0, 2, 2, 3, 3, 3, 3, 2, 37, 3, 3, 3, 0, 3, 2, 3, 3, 3, 31, 2, 3, 2, 3, 2, 3, 2, -17, 3, 2, 0, 8, -4, 3, -8, 3, -12, 3, 3, 3, 2, 2, 3, 2, 3, 27, 2, 2, 3, 2, 3, 3, 3, 3, -4, 2, 15, -10, 3, -7, 2, -22, 2, 2, -9, 3, 2, 2, 2, 2, 3, 2, 2, 3, 3, -21, 2, 3, 2, 2, 2, 3, 1, 17, 3, 4, -11, 2, -15, -5, -6, 11, 3, 2, 3, 14, 3, 2, 3, 3, 2, 3, -20, 3, 3, 8, 19, 3, 2, 3, 2, -10, 3, 3, 19, 2, 29, 2, 3, 2, 3, 10, 3, 3, 3, 2, -5, 3, 3, 4, 3, 2, 3, 2, -29, 2, 2, 2, 3, 3, 3, -7, -9, 3, 10, 3, 3, -12, 3, 2, 3, -6, 2, -6, 3, -1, 3, 3, 6, 3, 12, 3, -6, -6, 3, 10, 13, -19, 2, 3, 3, -23, 3, 2, 3, 2, 2, 3, 2, 3, 3, 25, 3, 3, 3, 2, -9, -8, 17, 2, 1, 2, 3, 3, 6, 2, 3, 3, 26, 2, 2, 2, 3, 3, 10, 3, 3, 7, 24, 2, 2, -3, 3, -11, 9, 2, 2, 2, 3, 3, 3, 3, -18, 3, 2, 3, 3, 1, -12, 3, 3, 16, 3, 19, 3, 3, 3, 3, 15, 3, 3, 3, -7, 6, 2, -5, -5, 3, 3, 25, 3, 2, -4, 17, 17, 3, 3, 2, 3, 15, 2, 3, -1, 9, 3, 9, 3, 2, 23, 3, 3, 3, 8, 3, 27, 2, 5, 3, 3, 2, 3, 3, 3, 13, 3, 3, 2, 10, -10, -29, 3, 3, 3, 2, 2, 3, 3, 2, 3, 3, 3, 3, 3, 3, 2, 3, 3, 2, 3, 3, 2, 3, 2, 11, 3, 6, 9, 3, 7, 16, -13, 3, 3, -14, 2, -29, 10, 3, 2, 24, 3, 2, -10, 13, 4, 3, 3, -20, 3, 2, 3, 9, 2, 2, -1, 0, 3, -4, 3, 3, 24, 3, 2, 23, -32, 3, 3, 18, -11, -12, 3, 3, 10, 3, 7, 2, -3, 6, 2, 3, 3, 2, 3, 10, 3, 3, 4, 2, 3, 3, 2, -21, -8, 2, -3, -13, 2, 7, 3, 3, 9, 3, 2, 2, 11, 3, 3, 2, 3, 3, 2, 29, 2, 3, 11, 3, 3, 3, 3, 3, 3, 3, 3, 2, 3, 3, 3, 2, 3, 3, 3, 3, 4, 3, -3, 3, 3, 3, 3, 8, 3, 2, 3, 3, 3, -25, 3, -8, 3, 3, 3, 2, 3, -12, 2, 3, 3, 2, 2, 3, 3, 3, 2, 2, 2, 3, 3, 3, 3, 3, 2, -7, 3, 3, -4, 3, 3, 7, 3, 2, 3, 8, 3, 2, 3, 3, 14, 3, 3, 3, 3, 3, 2, 3, 2, 3, 8, 3, 3, 3, -18, -4, 3, 3, 3, 2, 3, 3, -8, 2, 2, 3, 21, 29, 3, -3, 3, -3, 2, 2, 3, 3, -1, 24, 14, 22, 2, 3, 2, 2, 4, 3, 8, 2, -12, 3, -15, 3, -19, 5, 3, 3, 1, 18, 3, 3, 3, 3, 2, 14, 2, -22, -34, 2, -27, 17, -13, 3, 3, 3, -10, 2, 3, 2, -31, -5, 13, 3, 3, -20, 3, 2, 2, 1, 3, 6, 3, 3, -5, -13, 2, -1, 2, 2, 3, 3, 2, 2, 3, 3, 2, 5, 2, 2, 3, 3, 3, 3, 3, 2, 3, -12, 3, 3, -9, 11, 2, 3, 3, -3, 3, 2, 2, 3, -18, 3, 2, -21, 10, 3, 7, 3, 2, 3, 3, 3, 1, 2, 7, 21, 3, 2, 3, 3, 2, -27, 3, 9, 3, 3, 3, 2, 3, 2, -16, 2, 2, -7, 3, 3, 3, -24, 2, 16, 3, 3, 3, 3, 22, 3, -7, 2, 3, 3, -16, 8, 3, 9, 3, 3, 2, 2, 3, 3, 3, -8, 5, 24, 3, -11, 2, -18, 2, 3, 3, -1, 3, -6, -7, 3, -4, 2, 3, 3, 2, 3, 15, -12, 2, 3, 3, 5, 2, 6, 2, 3, 3, -4, 3, 8, 2, 2, 3, -20, 3, 3, 3, 2, 11, 2, 2, -1, 2, 18, 3, 3, 2, 3, 3, 3, 3, 21, 3, -23, 16, 2, 2, 13, -12, 3, 3, 10, 3, 2, -2, -12, -1, -17, 3, 41, -5, -24, 19, 3, 3, 5, 3, 3, 3, 3, 3, 3, 3, 14, 3, 2, 12, 3, 3, 4, 3, 3, -14, -4, -3, 13, 3, 3, 3, 2, 2, -12, 3, 3, 3, -13, -9, 2, 3, 3, 3, 3, 8, 3, 2, 3, 3, 2, 9, 3, -12, 14, 7, 3, 2, 2, -6, 3, 3, 2, 3, 3, 8, 17, 3, 2, 2, 2, -21, 3, -18, 2, 29, -6, 2, 3, -14, 3, 8, 3, 3, 3, 3, 2, 3, -6, 3, 2, 3, -12, 3, 2, 3, 2, 2, 3, 3, -7, 2, 8, -12, -19, 0, 2, 2, 2, 2, 3, 13, 2, 3, 10, 8, -10, 2, 3, 3, -16, 2, 3, -4, 2, 3, 3, 2, 3, 3, 3, 3, 10, -27, 3, 10, 3, 3, 3, 3, 2, 3, 3, 12, 3, 2, 3, 2, -11, 3, 3, 2, 3, 2, 3, 10, 0, 3, 2, 3, 3, 2, 3, 3, 3, 3, 2, 3, 2, 2, -18, 3, 3, 3, 3, -12, 3, 8, 2, 3, 2, 3, 3, 3, 3, 2, 3, 3, 3, 10, 3, 2, 3, 2, 24, 3, 3, 3, 12, 3, 2, 3, -7, 2, 5, -17, 3, 12, -21, 3, 3, -2, 3, 2, 3, 3, 3, -9, 2, 3, 3, -12, -5, 3, 2, 2, 3, 3, 3, -22, 3, -10, 2, 2, 3, 3, -5, -5, 3, -22, 9, 4, 3, 3, 2, 3, -25, -18, 3, 3, -2, 3, 3, 3, 8, 3, 2, -9, -5, 2, 3, 5, 2, 8, 4, -8, 3, 9, 3, 3, -18, 1, 2, -8, -13, 3, 3, 3, 3, 3, -4, 3, 2, 3, 3, 29, 2, 2, 2, 3, 3, 12, 3, 2, 3, -25, 1, 3, 3, 3, -20, 2, 1, 3, 2, 2, -3, 3, 13, -16, 3, 6, 3, 7, 2, 3, 3, -8, 2, -10, -1, -19, 3, 2, 2, 2, 3, 3, 32, 3, 6, 2, 2, 2, -5, 3, 2, 2, 3, -13, 3, 2, 3, -8, 6, -4, 2, 2, 0, 3, -2, 2, 2, 3, 3, 2, 3, 3, 3, 2, 3, -19, 3, 2, 2, 2, -3, 3, 3, 2, 2, 20, 3, 3, 3, 3, 2, 3, -12, 2, -2, 2, 2, -17, -10, 11, -2, 2, 3, 2, -8, 6, 3, 3, 4, -2, 3, 3, -6, 3, -7, 3, 12, 3, 41, 2, 3, 2, 3, 3, -15, 3, 3, 2, 3, 23, 3, 2, 3, 17, -13, -6, -6, 3, 2, 3, 2, -6, 2, 3, 3, 3, 41, 3, 2, 14, -13, 2, 3, 2, -4, 3, 9, 3, 3, 2, 3, 2, -16, 2, -1, 3, 3, 1, -6, 3, 2, 2, 3, 20, 3, -9, 3, 2, 2, 3, 2, 2, 3, 2, 3, 20, -4, -7, 3, 3, 24, -7, 3, 3, 3, 3, 14, 20, 3, 2, -8, 2, 4, 3, 2, 3, 2, 2, 19, 2, 3, 18, 3, 3, 3, -3, 2, 10, 3, 2, 2, 0, 2, 3, 2, -14, 14, 5, -3, 2, 3, -14, 2, -15, 3, 16, 3, 11, 2, 3, -12, 3, 6, -4, 3, -1, 3, 2, 3, -6, 3, 2, -17, 3, 3, 6, 2, 2, 2, 4, 3, -9, 3, 3, 3, 3, 2, 14, 2, -4, 3, 16, 1, 2, 3, 3, 3, -8, 2, 3, -21, 1, 3, 8, 3, 3, 17, 3, 3, 3, 2, -10, 3, 3, 3, 3, -9, 6, 3, 2, 2, 3, 2, 3, 3, 3, 2, 2, 3, 3, 21, 3, -8, -22, 3, 3, 3, -17, 25, -16, -9, 3, 2, 3, 3, 3, 9, 3, 3, 3, 2, 3, 3, 3, 2, 3, 20, 3, 9, -11, 3, 2, 3, 2, 3, 3, -13, -8, 3, 3, 11, 2, 3, 0, 2, 3, 3, -17, 3, 2, 3, 3, 26, 3, 3, 3, 3, 2, 3, 2, 2, 3, 3, 29, 3, 3, 5, 3, 2, 12, 2, 2, -17, 3, 2, 3, 3, 3, 3, 3, 3, 2, 2, 3, 8, 3, 7, 11, 9, 14, 3, 2, -8, 0, 2, 2, 3, 3, 3, -15, 2, -2, 3, 3, 1, 0, 3, 3, 2, 2, 3, 3, 3, 3, 2, 3, 26, 2, -7, 3, 3, 2, 2, 2, 4, 3, 2, 3, 3, -12, -28, 3, 3, 10, 2, 2, 7, 2, -3, 2, 3, 3, 3, 9, 2, 3, 22, 3, 2, 3, 2, 3, 3, 2, 3, 3, 3, 3, 3, 2, 2, 3, 3, 14, 2, 2, 3, -14, 3, 3, 3, 2, 2, 1, 3, 2, 2, 3, -6, 3, 3, 4, 29, 3, 3, 12, 3, 2, 3, 3, 2, 3, 3, -12, 3, 2, 2, 6, 1, 2, 3, 3, 6, 18, 4, 3, 3, 0, -18, 3, 3, 12, 3, 3, -14, -29, -2, -6, 2, 3, 3, 2, -9, 3, 3, 2, 10, 3, 2, 12, 3, 2, 2, 2, 2, 2, 3, 3, -18, 3, 2, 19, 3, 7, 3, 3, 3, 3, 2, 2, 3, 3, 2, -4, 21, 3, -7, 10, 16, 3, 2, 2, -5, -2, 21, 3, -2, -5, 3, 3, 3, 3, 3, 3, 3, 20, 7, 13, 3, 3, 3, 3, 2, 3, 2, 2, -14, 12, 2, 2, 1, -7, 2, 3, -8, 0, 2, 3, 3, 3, 3, 3, 13, -4, 3, 2, 0, 16, 3, 3, -15, -18, 9, 24, -2, 3, -9, 3, 11, 3, 6, 3, 3, 3, 2, 3, 35, -29, 3, 3, 12, 2, 3, 3, 2, 2, 3, 2, 3, 2, 3, -7, 0, 2, 13, 3, 3, 3, -5, 2, 3, -8, 3, 2, -7, 3, 3, 3, 3, 2, -6, 2, 3, 2, 2, 3, 3, -4, 17, 3, 17, 3, 3, 3, -1, 17, 3, 2, -4, 3, 3, 7, 5, -2, 3, -12, -26, -9, 2, 3, 8, 1, 3, 3, 3, 25, 2, 3, 20, 9, -6, 3, -12, 3, 2, 2, 0, 2, 3, 3, 3, 2, 3, -14, 3, -4, 3, -5, 0, 3, -8, 34, 3, 2, -7, 3, -2, 3, 3, 3, 12, 2, 3, 3, -3, 3, 3, 3, 3, 2, 3, 3, 3, 3, 14, 2, 3, 3, 0, 2, 3, 3, 3, 3, 3, 16, 3, 3, 27, 2, 3, -9, 3, 2, -3, 2, -12, 3, 0, 2, 3, 2, 12, 2, 23, 3, 3, 3, -11, 0, 2, 11, 3, 2, 3, 3, 3, 2, 3, -6, 17, 3, -2, 3, 3, 3, 2, 2, 3, -15, 3, 2, 3, 3, 3, -8, 2, 1, -12, 2, 30, 7, 3, 3, 3, -3, 3, -18, 3, -10, 3, 7, 3, -20, 6, 3, 2, 10, 9, 2, 3, 2, 3, 3, 3, 3, -18, 3, 3, 11, 2, 3, 2, 2, 3, 3, 3, 3, 3, 2, 2, 8, 5, 3, 3, -2, 3, -12, 3, 3, 3, 3, 2, 11, 3, 6, 3, 7, 3, 8, 3, 3, 2, 16, -11, 3, -24, 3, 29, 3, -13, 3, 3, -20, 13, 3, 2, 3, 3, 3, 2, 2, 3, 3, 3, 9, 3, 3, 2, 3, 3, 3, -2, 3, 3, 4, 3, 13, 3, 0, 20, 15, 3, 3, 29, -9, 2, 3, 3, 3, 3, 2, 2, 2, 2, 3, 9, 21, 3, 11, 2, 2, 5, -10, 3, 3, 3, 2, 3, 3, 3, 3, -8, 3, 3, 3, -4, 14, 3, -13, 3, 3, 3, 17, -9, 3, 22, 2, 2, 3, 2, -23, 2, 17, 15, 6, 21, 3, 2, 3, 2, 3, 2, 2, 3, -6, 3, 2, 9, 3, 3, 2, 3, 3, 3, 2, 3, 3, 3, 3, 2, 3, 3, 8, 3, 3, 3, 2, 2, 4, 3, 3, 15, 9, 3, -13, 3, 3, 37, 3, 28, 3, 3, 2, 2, 2, 2, 3, 2, 3, 2, 3, 3, 3, 26, 10, 3, -21, 3, 13, 2, 3, -17, 3, -7, 3, 3, -6, 1, 3, 2, 5, 3, -2, 2, 2, 2, 3, -7, 3, -11, 3, 3, 2, 3, 20, 2, 3, -10, 3, 2, 3, 2, 3, 28, 2, 2, 3, -13, 2, 3, 3, 3, 3, 3, 3, 3, 3, -24, -22, 18, -9, 3, 3, -9, 3, 2, 3, -16, 2, -6, 2, 3, -7, 3, -27, 3, 1, -20, -20, -23, 3, -1, -9, 3, 3, 3, 3, 16, 3, 2, 3, -19, 2, 3, 3, 3, 13, 3, 3, -1, 3, 13, 3, -18, 3, 8, 3, 3, 3, 3, 2, -14, 3, -15, 6, 2, 3, 3, 2, 2, -30, 2, 3, 3, 3, 3, 3, 5, 14, 2, 2, 2, -22, 3, -30, 2, 2, 3, -2, -26, 3, 3, 2, 2, 12, -1, 3, 2, 2, -13, 21, 12, -5, 9, 3, 3, 8, 3, -5, 3, 3, 2, 17, 3, 3, 3, 10, -30, 2, 2, 2, -8, 3, 0, 3, 17, 3, 1, 3, -7, 3, 3, 3, 3, 3, 2, 1, 3, 3, -6, 3, 3, 2, -4, 3, 2, 11, 3, 3, -12, 3, -4, 2, 3, 3, 3, -4, 3, 3, 3, 3, 2, 3, 2, 3, 3, 3, 2, 3, -9, 3, 5, 0, 3, 3, -8, 2, 2, 2, 2, 2, 3, 3, 2, -15, 3, 3, 2, 16, 2, -18, 3, -30, 20, 3, 2, 2, 11, 3, 3, 3, 3, 3, 0, 3, 2, 5, -4, -17, 3, 22, 3, 3, -3, 6, 3, 3, 3, 2, 3, 3, 2, 3, 2, 3, 18, 3, 3, 31, 8, 3, 3, 3, 15, 3, 2, 3, 3, 3, 3, 23, 3, 3, 3, 3, 3, 2, 3, 3, 2, -10, 3, -2, 15, 4, 3, 2, -15, 3, 3, 10, 2, 2, 2, 3, 3, 2, 3, 2, 3, 3, -1, 3, 3, 3, 2, 3, 11, 3, 17, 3, 3, 2, 3, -17, 3, 21, -7, 3, 2, 3, 3, 2, 2, 2, 3, 3, -10, 14, 3, 3, 2, 3, 2, -16, 2, 2, -17, 2, 3, 10, 3, 3, 24, 3, 3, 2, 2, 3, 3, -1, 13, 3, 3, 5, 3, -21, -9, 2, -1, 3, 3, 2, 3, 3, 3, 3, 12, 2, 3, 3, 3, 2, -13, 2, -28, 3, 27, 3, 7, 2, 2, -9, 9, 3, -2, 3, 2, 3, 8, -14, 3, -13, 3, 3, 22, -11, -26, 3, 3, 3, 2, 3, 4, -11, 2, -1, 3, 3, 3, 9, 2, 24, 3, 3, -2, 3, 16, -18, 3, -1, 3, -13, 3, 3, 2, 2, 2, 2, 3, 2, 3, 3, 2, 3, 3, -2, 2, 3, 2, 3, -1, 3, 2, 3, 3, 3, 3, -11, 3, 3, 2, 2, 3, 2, 3, 8, 3, 3, 2, 3, 3, -31, 3, 1, 3, 3, 2, 2, 9, -16, 2, 3, 3, 2, 2, 9, 3, 2, -8, 2, 2, 2, -5, 3, 2, 2, 6, 7, 2, 3, 3, 3, 2, 6, 2, -10, 2, 2, 2, 2, -6, 3, 3, 2, 3, 32, 3, 3, 3, 3, 21, 3, 2, 4, 2, 6, 30, 2, -20, 3, -13, 2, 3, -17, -20, 3, 3, 3, 3, 3, 2, 3, 7, 2, 3, -9, 9, 3, 3, 3, 3, -8, 3, 3, 3, 3, 3, 4, 3, 2, 23, 3, 18, 3, 3, 3, 3, 3, 2, 7, -7, 2, 19, 3, 2, 3, 17, -2, 3, 13, 3, 3, 2, 2, 15, 3, 3, 2, -24, 3, 2, 2, 3, 3, 2, 2, 3, 3, 11, 2, 17, 19, 1, 0, 3, 2, 2, 2, 14, 3, 3, 3, 2, 4, 2, 3, 3, 2, 2, 2, 3, 14, 3, 5, 2, 3, 2, 3, 3, 7, 3, 3, 9, 3, 8, 3, -3, -2, 3, 2, 2, 2, -6, 1, 3, 3, 3, 3, 3, 3, 3, 3, 2, 3, 3, 16, 2, 2, 2, 3, -4, 3, 3, 3, 3, 2, 2, 30, -9, 2, -25, 3, 2, -1, 3, 3, 2, 3, -8, 3, 3, -6, 3, 10, 3, 3, -22, 3, 2, -1, -12, -4, -11, 3, 2, 2, 2, 2, -13, 21, 3, 3, 3, 2, 3, 2, 3, 3, -4, 3, 2, 7, -7, 3, 3, 3, -5, 3, 3, 2, 3, -6, 3, 2, -20, 2, 3, 3, 3, 3, 3, 3, 3, 3, 18, 3, 3, 2, 6, 2, 2, 2, -7, 3, 3, 3, 3, 3, 3, 3, 2, -17, 7, 16, 3, 3, 3, 2, 2, -10, 3, 3, 3, 3, 3, 3, 30, 3, 2, 3, 24, 2, 13, 3, 15, 3, -2, 3, 3, 7, 2, 2, 2, 13, 2, 2, 0, 3, 2, 2, 2, 3, 3, 7, 3, 2, -25, 3, 16, 3, 3, 3, 2, 3, 3, -22, -8, 3, 2, 2, 3, 9, 4, 3, 2, -6, 3, 5, 3, 2, 3, 3, 3, 5, 2, 3, 2, 2, 2, 2, 3, 27, 3, 2, 3, 2, -3, -15, 2, 3, 2, 2, 3, 3, 3, 21, 3, 3, 7, 2, 2, -2, 3, -21, 3, 3, 3, 3, 2, 3, 3, 2, -13, 16, -3, 3, 3, 3, 3, 3, 3, 2, 3, 3, -12, 3, 2, -15, 17, 2, 3, 3, 3, 1, 6, 3, 2, 3, 3, 3, 2, 6, 3, 6, 2, 3, 3, 3, -2, -15, 3, 30, 2, 2, 3, 2, 2, 3, 3, -6, -19, -5, -19, 3, 3, 3, 3, 3, 3, 3, -6, 2, 3, 3, 2, 8, 3, 3, 33, 0, 2, 3, 3, -4, 3, 3, 3, 2, 3, -6, -4, -7, 3, 2, -5, 3, 18, 2, 3, 14, 3, 2, 2, 3, 2, 3, 3, 3, 3, 2, 3, 3, 3, 3, 2, 12, 9, 4, 3, 3, 3, 3, 3, 2, 2, -1, 3, 3, 9, 8, 3, 3, 3, 2, 3, 2, 2, 3, 3, 2, 3, 3, 2, -9, 3, 3, -9, 3, 3, 2, 3, 3, 3, 3, 3, 3, -15, 3, 2, -2, 2, 3, -6, 3, -3, 3, 24, 11, 3, -1, 2, 3, 3, 3, 3, 3, 3, 2, -2, 3, -17, 2, 2, 2, 2, 2, 3, 3, 3, 3, 2, -11, 2, 3, 3, 2, 3, 2, -16, 2, 3, 3, 0, 3, 7, 3, 3, 5, 2, 3, 0, 20, 3, 3, 3, 3, 17, 3, 2, 3, -3, 2, -7, -6, -10, 3, 2, -2, 3, 3, -7, 3, 8, 2, 15, 2, 2, 3, 3, 21, -10, 3, 3, 3, 3, 3, 3, 3, 23, 3, 3, 3, 3, 3, 3, 3, 2, 2, 2, 3, 3, 2, 3, 3, 5, -24, 2, 3, 20, -25, 13, 3, 3, 2, 3, 3, 3, 3, 2, 2, 2, 3, 3, 2, 3, 3, 10, 2, 3, 2, 3, -8, 2, 3, 3, 3, 2, 3, 3, 12, -13, 2, 3, -23, 3, 2, 19, -24, 2, 21, 3, 3, 2, 3, 3, 3, -12, -2, 3, -9, 3, 2, 3, 2, -2, 13, 2, -10, 2, 3, 18, 3, 2, 3, -19, 2, 2, 3, 3, 3, 3, -11, 2, 38, 3, 3, 2, 3, 3, 3, 3, 3, 3, 2, 3, 3, 3, 3, 3, 3, 2, 3, 2, 3, 3, 3, 3, 0, 3, 3, 15, 3, 6, 2, 2, 2, 3, 3, -8, 2, 2, 15, -37, 27, 2, 3, -7, 24, 3, -9, 12, 2, 3, 3, 3, -6, 2, 2, 3, 3, 3, 2, -3, 2, 2, 3, 3, 3, 3, 3, 3, 3, 2, 3, 3, 2, 3, 2, 3, 3, 0, 3, 3, 3, 2, 2, 2, 3, 19, 3, -5, 8, -6, 2, 3, 3, 2, 3, -16, 2, 2, 3, 3, -32, 15, 3, -8, 3, 3, 3, 3, 6, 17, 3, 2, -10, 3, 3, 3, 3, 0, 3, 3, 3, 2, 6, 10, 3, 2, 2, 2, 2, 3, 3, 3, 3, 3, 3, 20, -12, 9, 2, 3, -9, -15, 2, 2, 2, 3, 2, 2, 3, 3, 2, 2, 0, 3, 3, -6, 3, 9, 2, 3, 3, -3, 2, -3, 3, 3, 2, -16, 3, 3, 5, 3, 2, 10, 3, 3, 3, -15, 3, 3, 6, 3, 2, -11, -10, 3, 7, 2, -26, 3, 3, 3, -16, 3, 2, 3, 2, 3, 17, 15, 3, 2, 7, -10, 2, -6, 3, 2, 3, 3, 3, 5, 15, 3, 3, 2, 12, -10, 3, 3, -11, 3, 3, 2, -20, 3, 14, 3, 3, 2, 2, 13, 2, 2, 6, 3, 3, 6, 24, 3, 2, 14, 3, 3, 3, 3, 3, 3, 3, -24, 3, 2, 2, -8, 21, 3, 3, 3, -1, 3, 3, 3, 6, 2, 3, 3, 2, 2, 30, 8, 3, -14, 2, 3, 15, 4, 3, -2, 2, 3, -1, -1, 3, 3, 2, 3, 3, -20, 3, 2, 3, 2, 2, 2, 2, 3, -4, 2, 3, 2, 10, -9, 3, -2, 12, 2, -32, 3, 17, 3, -28, 3, 3, 2, 3, -1, -12, -23, 15, -14, 3, 2, 3, 2, 3, 3, 3, 2, -8, 2, -11, 2, 2, 7, 2, 3, 3, 8, 2, 2, 15, -10, 3, -1, -11, 3, 3, 3, 3, 2, 8, 3, 2, 2, 4, 2, 2, 17, 3, -5, 2, 3, 2, -14, 2, 2, -2, 3, 2, 3, -3, 3, 3, 3, 9, 3, -12, 3, 2, 1, 3, 3, 3, 3, -25, 3, 3, 3, 3, 2, 2, 3, -16, -1, 3, 3, 3, 3, 20, 9, -15, 3, -5, 3, -19, 3, 3, 10, 3, 3, -1, 4, 3, 2, 3, 6, 24, 2, 1, 3, 2, 3, 3, 3, 2, 2, 2, -8, 3, 3, 14, 3, -5, 3, 3, 0, 6, 3, 3, -21, 3, 3, 3, 16, 10, 3, 3, 2, 3, 2, 5, -12, 3, 3, 2, -14, 3, -20, 3, -3, 3, 2, 2, 3, -4, 3, 3, 3, 3, 1, 2, 4, 3, -4, 2, 2, 3, 2, 19, 3, 3, -8, 3, 3, 2, -2, 2, 3, 3, 0, 3, 3, 3, 3, -5, -1, 15, 3, 3, 3, 4, 3, 19, 2, 23, 3, 3, 2, 2, 2, -30, 2, 2, 2, 3, 2, 3, 2, 3, -8, 12, 2, 5, 2, 3, 3, 3, 2, 2, 3, 2, 3, 3, 3, 3, 3, 3, 3, 3, -12, -1, -5, 3, 2, 2, 2, 6, 2, 3, -16, 1, 2, 2, 7, 2, -32, 2, 3, 2, 2, 3, 12, 3, 3, 3, 3, 8, 3, 3, 2, -18, 3, 3, 3, 24, 3, 3, 2, -1, 5, 2, 3, 3, 3, 2, 3, 2, 2, 3, 24, 3, 3, 2, 2, -4, 2, 3, 3, 3, 3, 2, 1, 3, 11, 2, 3, 3, 2, 3, 10, 3, 2, 3, -13, 5, 3, -14, 2, 2, 3, 3, 3, 2, 2, 2, 2, 3, 2, 3, 3, -3, 2, -9, 2, 2, -8, 2, 3, -15, 14, -1, 2, 3, 3, 2, 3, 3, 3, 1, 3, -11, 10, 3, 3, -13, -15, -1, 3, 2, 3, 2, -11, 3, 3, 3, 2, 3, 3, 3, 2, 2, 3, 3, 8, 3, 3, 2, 3, 3, 2, 3, 1, -2, 3, 2, 2, 2, 9, 9, 4, 3, 12, 3, 3, 0, 3, 3, 2, 3, 10, 3, -24, 17, 3, -2, 2, 2, 2, 3, 8, 3, 3, 3, -4, 3, 15, 3, 1, 3, -17, 3, 2, 3, -18, 3, 2, 3, 0, 3, 3, 3, 2, 13, 13, 2, 16, 3, 3, 26, -8, 3, 4, 3, 3, 3, 3, 2, -12, 3, 2, 2, 6, 3, 3, 3, -13, 3, 3, 2, 3, 2, 3, 3, 3, 2, 3, 3, 2, 3, 3, 15, 0, 3, 3, 3, -25, 2, 3, -5, 3, 7, 3, 3, 3, 3, -11, 3, 3, 16, -3, 2, 3, 3, 9, 3, 1, -20, 4, 1, 2, 2, 3, 0, -16, 20, 3, 3, 2, -8, 3, 3, 3, 3, 3, 3, 3, 2, 2, 2, 3, 2, 2, 3, 2, 3, -24, 2, -15, 3, 3, 3, 9, -7, 3, 2, 3, 3, 3, 3, 3, -9, 15, 3, 3, 2, 2, 3, 3, 12, 2, 3, -7, 3, 3, 2, 3, -12, 16, -9, 3, 3, 3, 3, 2, 2, -11, 4, 3, 3, 3, 21, 3, 3, 3, 3, -9, 2, 2, 2, 3, 14, 3, 3, -2, 3, 10, 3, 3, 3, 3, 3, 3, 5, 2, 9, 3, 2, 3, 3, 28, 5, 3, 2, 3, -11, 6, 3, 3, 3, 3, 2, 3, 3, 3, 2, 3, -24, 3, 3, 3, 4, 6, -24, 24, 8, 3, 3, 2, 2, 3, 2, 3, -18, 3, 3, 3, -26, 2, -17, 8, 3, 3, -23, 2, 3, 3, 3, 12, 3, 27, 2, 4, 2, -16, 2, 3, 19, 2, 3, 16, 2, 3, -23, 3, 24, -11, 0, 2, 3, 3, 3, 3, 3, 3, 3, 13, -15, 3, -3, 3, 2, 2, 3, 2, 2, 3, 2, 3, 2, -3, -4, -4, 3, 19, 3, 3, 3, 25, 3, 3, 2, 17, 3, 3, -4, 3, 42, 2, -3, 2, 2, -2, 3, 3, 3, 3, 3, 2, 3, -4, 3, 2, 3, 3, 3, -31, 3, 3, 3, 2, 3, 2, 2, 3, 3, 3, -10, 2, 6, 9, 2, -18, 3, 2, 2, 2, 2, 3, -27, -2, 3, 24, 3, 25, 3, 3, 3, 3, 2, -14, 2, 2, 3, 9, 2, -6, -2, 3, 2, 2, 3, 3, 2, 3, 3, 2, -20, 3]\n"
     ]
    }
   ],
   "source": [
    "print(position1)"
   ]
  },
  {
   "cell_type": "code",
   "execution_count": 11,
   "metadata": {
    "collapsed": false
   },
   "outputs": [
    {
     "name": "stdout",
     "output_type": "stream",
     "text": [
      "10000\n"
     ]
    }
   ],
   "source": [
    "position1=position1[1:sample+1]\n",
    "print(len(position1))"
   ]
  },
  {
   "cell_type": "code",
   "execution_count": 12,
   "metadata": {
    "collapsed": false
   },
   "outputs": [
    {
     "name": "stdout",
     "output_type": "stream",
     "text": [
      "74\n"
     ]
    }
   ],
   "source": [
    "reactor=[]\n",
    "capture=[]\n",
    "through=[]\n",
    "\n",
    "num_r=0\n",
    "num_c=0\n",
    "num_t=0\n",
    "\n",
    "size1=np.arange(0,est_1+1,h)\n",
    "print(len(size1))"
   ]
  },
  {
   "cell_type": "code",
   "execution_count": 13,
   "metadata": {
    "collapsed": false
   },
   "outputs": [],
   "source": [
    "for j in range(est_1+1):\n",
    "    reactor.append(num_r)\n",
    "    capture.append(num_c)\n",
    "    through.append(num_t)\n",
    "    x = size1[j]\n",
    "    nt=0\n",
    "    nc=0\n",
    "    nr=0\n",
    "    for i in range(sample):\n",
    "        if position1[i] > x:\n",
    "            nt += 1\n",
    "        elif position1[i] > 0:\n",
    "            nc += 1\n",
    "        else:\n",
    "            nr += 1\n",
    "    if nr == 0:\n",
    "        num_r = 0.001\n",
    "    else:\n",
    "        num_r = nr\n",
    "    if nc == 0:\n",
    "        num_c = 0.001\n",
    "    else:\n",
    "        num_c = nc\n",
    "    if nt == 0:\n",
    "        num_t = 0.001\n",
    "    else:\n",
    "        num_t = nt"
   ]
  },
  {
   "cell_type": "code",
   "execution_count": 14,
   "metadata": {
    "collapsed": true
   },
   "outputs": [],
   "source": [
    "reactor_n=reactor[1:est_1+1]\n",
    "capture_n=capture[1:est_1+1]\n",
    "through_n=through[1:est_1+1]"
   ]
  },
  {
   "cell_type": "code",
   "execution_count": 15,
   "metadata": {
    "collapsed": false
   },
   "outputs": [
    {
     "name": "stdout",
     "output_type": "stream",
     "text": [
      "[1609, 1609, 1609, 1609, 1609, 1609, 1609, 1609, 1609, 1609, 1609, 1609, 1609, 1609, 1609, 1609, 1609, 1609, 1609, 1609, 1609, 1609, 1609, 1609, 1609, 1609, 1609, 1609, 1609, 1609, 1609, 1609, 1609, 1609, 1609, 1609, 1609, 1609, 1609, 1609, 1609, 1609, 1609, 1609, 1609, 1609, 1609, 1609, 1609, 1609, 1609, 1609, 1609, 1609, 1609, 1609, 1609, 1609, 1609, 1609, 1609, 1609, 1609, 1609, 1609, 1609, 1609, 1609, 1609, 1609, 1609, 1609, 1609]\n",
      "73\n"
     ]
    }
   ],
   "source": [
    "print(reactor_n)\n",
    "print(len(reactor_n))"
   ]
  },
  {
   "cell_type": "code",
   "execution_count": 16,
   "metadata": {
    "collapsed": false
   },
   "outputs": [
    {
     "name": "stdout",
     "output_type": "stream",
     "text": [
      "[0.001, 76, 2430, 7001, 7089, 7178, 7267, 7353, 7448, 7546, 7632, 7693, 7767, 7836, 7897, 7953, 7999, 8058, 8098, 8135, 8170, 8209, 8226, 8248, 8280, 8292, 8311, 8326, 8332, 8345, 8354, 8359, 8365, 8369, 8373, 8378, 8380, 8383, 8385, 8385, 8385, 8388, 8391, 8391, 8391, 8391, 8391, 8391, 8391, 8391, 8391, 8391, 8391, 8391, 8391, 8391, 8391, 8391, 8391, 8391, 8391, 8391, 8391, 8391, 8391, 8391, 8391, 8391, 8391, 8391, 8391, 8391, 8391]\n",
      "73\n"
     ]
    }
   ],
   "source": [
    "print(capture_n)\n",
    "print(len(capture_n))"
   ]
  },
  {
   "cell_type": "code",
   "execution_count": 17,
   "metadata": {
    "collapsed": false
   },
   "outputs": [
    {
     "name": "stdout",
     "output_type": "stream",
     "text": [
      "[8391, 8315, 5961, 1390, 1302, 1213, 1124, 1038, 943, 845, 759, 698, 624, 555, 494, 438, 392, 333, 293, 256, 221, 182, 165, 143, 111, 99, 80, 65, 59, 46, 37, 32, 26, 22, 18, 13, 11, 8, 6, 6, 6, 3, 0.001, 0.001, 0.001, 0.001, 0.001, 0.001, 0.001, 0.001, 0.001, 0.001, 0.001, 0.001, 0.001, 0.001, 0.001, 0.001, 0.001, 0.001, 0.001, 0.001, 0.001, 0.001, 0.001, 0.001, 0.001, 0.001, 0.001, 0.001, 0.001, 0.001, 0.001]\n",
      "73\n"
     ]
    }
   ],
   "source": [
    "print(through_n)\n",
    "print(len(through_n))"
   ]
  },
  {
   "cell_type": "code",
   "execution_count": 18,
   "metadata": {
    "collapsed": false
   },
   "outputs": [
    {
     "name": "stdout",
     "output_type": "stream",
     "text": [
      "[ 1  2  3  4  5  6  7  8  9 10 11 12 13 14 15 16 17 18 19 20 21 22 23 24 25\n",
      " 26 27 28 29 30 31 32 33 34 35 36 37 38 39 40 41 42 43 44 45 46 47 48 49 50\n",
      " 51 52 53 54 55 56 57 58 59 60 61 62 63 64 65 66 67 68 69 70 71 72 73]\n",
      "73\n"
     ]
    }
   ],
   "source": [
    "print(size1[1:est_1+1])\n",
    "print(len(size1[1:est_1+1]))"
   ]
  },
  {
   "cell_type": "code",
   "execution_count": 19,
   "metadata": {
    "collapsed": false
   },
   "outputs": [
    {
     "data": {
      "image/png": "[encoded data removed]",
      "text/plain": [
       "<matplotlib.figure.Figure at 0xac3b6eac>"
      ]
     },
     "metadata": {},
     "output_type": "display_data"
    }
   ],
   "source": [
    "size_array=np.array(size1[1:est_1+1])\n",
    "through_array=np.array(through_n)\n",
    "capture_array=np.array(capture_n)\n",
    "reactor_array=np.array(reactor_n)\n",
    "plt.plot(size_array,through_array,'-',label='through',color='red',linewidth=3.0)\n",
    "plt.plot(size_array,capture_array,'-',label='capture',color='blue',linewidth=3.0)\n",
    "plt.plot(size_array,reactor_array,'-',label='reactor',color='black',linewidth=3.0)\n",
    "plt.legend(bbox_to_anchor=(1.05, 1), loc=2, borderaxespad=0.)\n",
    "plt.xlabel('Size of the shield')\n",
    "plt.ylabel('Number')\n",
    "plt.show()\n",
    "\n",
    "\n",
    "\n"
   ]
  },
  {
   "cell_type": "code",
   "execution_count": 20,
   "metadata": {
    "collapsed": true
   },
   "outputs": [],
   "source": [
    "P_through=through_array/sample\n",
    "P_capture=capture_array/sample\n",
    "P_reactor=reactor_array/sample\n",
    "\n",
    "size1=size1[1:est_1+1]"
   ]
  },
  {
   "cell_type": "code",
   "execution_count": 21,
   "metadata": {
    "collapsed": false
   },
   "outputs": [
    {
     "name": "stdout",
     "output_type": "stream",
     "text": [
      "-0.272388599731 0.856755268927\n",
      "1.2893299654604087\n"
     ]
    }
   ],
   "source": [
    "m_through,b_through=np.polyfit(size1,np.log(P_through),1)\n",
    "print(m_through,b_through)\n",
    "\n",
    "\n",
    "fit_t=m_through*size1+b_through\n",
    "uncertainty_t=(1/tmax)*np.sum((fit_t-np.log(P_through))**2)#Standard Deviation\n",
    "print(math.sqrt(uncertainty_t))"
   ]
  },
  {
   "cell_type": "code",
   "execution_count": 22,
   "metadata": {
    "collapsed": false
   },
   "outputs": [
    {
     "name": "stdout",
     "output_type": "stream",
     "text": [
      "0.0255018922124 -1.44300801696\n",
      "6.587513941791809\n"
     ]
    }
   ],
   "source": [
    "m_capture,b_capture=np.polyfit(size1,np.log(P_capture),1)\n",
    "print(m_capture,b_capture)\n",
    "\n",
    "\n",
    "fit_c=m_capture*size1+b_capture\n",
    "uncertainty_c=(1/tmax)*np.sum((fit_t-np.log(P_capture))**2)#Standard Deviation\n",
    "print(math.sqrt(uncertainty_c))"
   ]
  },
  {
   "cell_type": "code",
   "execution_count": 23,
   "metadata": {
    "collapsed": false
   },
   "outputs": [
    {
     "name": "stdout",
     "output_type": "stream",
     "text": [
      "-4.88281061859e-18 -1.82697222498\n",
      "2.487494266390842e-16\n"
     ]
    }
   ],
   "source": [
    "m_reactor,b_reactor=np.polyfit(size1,np.log(P_reactor),1)\n",
    "print(m_reactor,b_reactor)\n",
    "\n",
    "\n",
    "fit_t=m_reactor*size1+b_reactor\n",
    "uncertainty_r=(1/tmax)*np.sum((fit_t-np.log(P_reactor))**2)#Standard Deviation\n",
    "print(math.sqrt(uncertainty_r))"
   ]
  },
  {
   "cell_type": "code",
   "execution_count": null,
   "metadata": {
    "collapsed": true
   },
   "outputs": [],
   "source": []
  },
  {
   "cell_type": "code",
   "execution_count": null,
   "metadata": {
    "collapsed": true
   },
   "outputs": [],
   "source": []
  }
 ],
 "metadata": {
  "anaconda-cloud": {},
  "kernelspec": {
   "display_name": "Python [conda root]",
   "language": "python",
   "name": "conda-root-py"
  },
  "language_info": {
   "codemirror_mode": {
    "name": "ipython",
    "version": 3
   },
   "file_extension": ".py",
   "mimetype": "text/x-python",
   "name": "python",
   "nbconvert_exporter": "python",
   "pygments_lexer": "ipython3",
   "version": "3.5.2"
  }
 },
 "nbformat": 4,
 "nbformat_minor": 1
}
