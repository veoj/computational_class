{
 "cells": [
  {
   "cell_type": "code",
   "execution_count": 1,
   "metadata": {
    "collapsed": true
   },
   "outputs": [],
   "source": [
    "import random as ran\n",
    "import numpy as np\n",
    "import pylab as py\n",
    "import matplotlib.pyplot as plt\n",
    "from scipy.optimize import curve_fit\n",
    "import math as math\n"
   ]
  },
  {
   "cell_type": "code",
   "execution_count": 2,
   "metadata": {
    "collapsed": false,
    "scrolled": false
   },
   "outputs": [
    {
     "data": {
      "image/png": "[encoded data removed]",
      "text/plain": [
       "<matplotlib.figure.Figure at 0xad9765ec>"
      ]
     },
     "metadata": {},
     "output_type": "display_data"
    },
    {
     "name": "stdout",
     "output_type": "stream",
     "text": [
      "1.00025299857\n",
      "200\n"
     ]
    }
   ],
   "source": [
    "h=1\n",
    "tmax=200\n",
    "tpoints=np.arange(0,tmax+1,h)\n",
    "#print(tpoints)\n",
    "\n",
    "sample=10000\n",
    "s_points=np.arange(0,sample+1,h)\n",
    "\n",
    "mean=100\n",
    "standard=20\n",
    "A0=1/(standard*math.sqrt(2*3.14))\n",
    "Z=(tpoints[1:tmax+1]-mean)/standard\n",
    "dist=A0*np.exp(-1*(Z**2)/2)\n",
    "\n",
    "#print(dist)\n",
    "plt.plot(tpoints[1:tmax+1],dist)\n",
    "plt.show()\n",
    "\n",
    "print(sum(dist))\n",
    "print(len(dist))\n",
    "\n"
   ]
  },
  {
   "cell_type": "code",
   "execution_count": 3,
   "metadata": {
    "collapsed": false
   },
   "outputs": [
    {
     "name": "stdout",
     "output_type": "stream",
     "text": [
      "200\n"
     ]
    }
   ],
   "source": [
    "dist_0=dist[0]\n",
    "for i in range(tmax-1):\n",
    "    if i == 0:\n",
    "        dist[i]=dist_0\n",
    "    else:\n",
    "        dist[i]=dist[i]-dist[i-1]\n",
    "        \n",
    "#print(dist)\n",
    "print(len(dist))"
   ]
  },
  {
   "cell_type": "code",
   "execution_count": 4,
   "metadata": {
    "collapsed": false
   },
   "outputs": [
    {
     "name": "stdout",
     "output_type": "stream",
     "text": [
      "100\n",
      "100\n",
      "151\n",
      "62\n"
     ]
    }
   ],
   "source": [
    "dist2=dist[0:100]# steps from 1 to 100\n",
    "dist1=dist[100:200]# steps from 101 to 200\n",
    "print(len(dist1))\n",
    "print(len(dist2))\n",
    "\n",
    "frac1=ran.uniform(0,dist1[0])\n",
    "est_1=mean+(standard*math.sqrt(-2*np.log(frac1/A0)))\n",
    "\n",
    "est_1=int(est_1//1)\n",
    "\n",
    "print(est_1)\n",
    "\n",
    "\n",
    "\n",
    "frac2=ran.uniform(0,dist2[99])\n",
    "est_2=mean-(standard*math.sqrt(-2*np.log(frac2/A0)))\n",
    "\n",
    "est_2=int(est_2//1)\n",
    "\n",
    "print(est_2)\n"
   ]
  },
  {
   "cell_type": "code",
   "execution_count": 5,
   "metadata": {
    "collapsed": false
   },
   "outputs": [
    {
     "name": "stdout",
     "output_type": "stream",
     "text": [
      "152\n",
      "63\n"
     ]
    }
   ],
   "source": [
    "e1points=np.arange(0,est_1+1,h)\n",
    "e2points=np.arange(0,est_2+1,h)\n",
    "\n",
    "print(len(e1points))\n",
    "print(len(e2points))"
   ]
  },
  {
   "cell_type": "code",
   "execution_count": 6,
   "metadata": {
    "collapsed": true
   },
   "outputs": [],
   "source": [
    "first=1\n",
    "p_same=2/3\n",
    "p_change=1/3"
   ]
  },
  {
   "cell_type": "code",
   "execution_count": 7,
   "metadata": {
    "collapsed": true
   },
   "outputs": [],
   "source": [
    "ele=first\n",
    "pos1=first\n",
    "position1=[]\n",
    "pos2=first\n",
    "position2=[]"
   ]
  },
  {
   "cell_type": "code",
   "execution_count": 8,
   "metadata": {
    "collapsed": true
   },
   "outputs": [],
   "source": [
    "up=2\n",
    "down=-2\n",
    "right=1\n",
    "left=-1"
   ]
  },
  {
   "cell_type": "code",
   "execution_count": 9,
   "metadata": {
    "collapsed": false
   },
   "outputs": [],
   "source": [
    "# loop for capture possibility\n",
    "for i in s_points:\n",
    "    position1.append(pos1)\n",
    "    ele = 1\n",
    "    # 2nd move        \n",
    "    if ran.random() > p_change:\n",
    "        ele += right\n",
    "        test = right\n",
    "    else:\n",
    "        if ran.random() > 1/2:\n",
    "            ele += 0*up\n",
    "            test = up\n",
    "        else:\n",
    "            ele += 0*down\n",
    "            test = down\n",
    "    # 3rd move  \n",
    "    if test == right:\n",
    "        if ran.random() > p_change:\n",
    "            ele += right\n",
    "            test = right\n",
    "        else:\n",
    "            if ran.random() > 1/2:\n",
    "                ele += 0*up\n",
    "                test = up\n",
    "            else:\n",
    "                ele += 0*down\n",
    "                test = down\n",
    "    else:\n",
    "        if test == up:\n",
    "            if ran.random() > p_change:\n",
    "                ele += 0*up\n",
    "                test = up\n",
    "            else:\n",
    "                if ran.random() > 1/2:\n",
    "                    ele += left\n",
    "                    test = left\n",
    "                else:\n",
    "                    ele += right\n",
    "                    test = right\n",
    "        else:\n",
    "            if test == down:\n",
    "                if ran.random() > p_change:\n",
    "                    ele += 0*down\n",
    "                    test = down\n",
    "                else:\n",
    "                    if ran.random() > 1/2:\n",
    "                        ele += left\n",
    "                        test = left\n",
    "                    else:\n",
    "                        ele += right\n",
    "                        test = right\n",
    "        # 4th and later move\n",
    "        for t in range(3,est_1+1):\n",
    "            if test == right:\n",
    "                if ran.random() > p_change:\n",
    "                    ele += right\n",
    "                    test = right\n",
    "                else:\n",
    "                    if ran.random() > 1/2:\n",
    "                        ele += 0*up\n",
    "                        test = up\n",
    "                    else:\n",
    "                        ele += 0*down\n",
    "                        test = down\n",
    "            else:\n",
    "                if test == up:\n",
    "                    if ran.random() > p_change:\n",
    "                        ele += 0*up\n",
    "                        test = up\n",
    "                    else:\n",
    "                        if ran.random() > 1/2:\n",
    "                            ele += left\n",
    "                            test = left\n",
    "                        else:\n",
    "                            ele += right\n",
    "                            test = right\n",
    "                else:\n",
    "                    if test == down:\n",
    "                        if ran.random() > p_change:\n",
    "                            ele += 0*down\n",
    "                            test = down\n",
    "                        else:\n",
    "                            if ran.random() > 1/2:\n",
    "                                ele += left\n",
    "                                test = left\n",
    "                            else:\n",
    "                                ele += right\n",
    "                                test = right\n",
    "                    else:\n",
    "                        if test == left:\n",
    "                            if ran.random() > p_change:\n",
    "                                ele += left\n",
    "                                test = left\n",
    "                            else:\n",
    "                                if ran.random() > 1/2:\n",
    "                                    ele += 0*up\n",
    "                                    test = up\n",
    "                                else:\n",
    "                                    ele += 0*down\n",
    "                                    test = down\n",
    "    pos1 = ele\n"
   ]
  },
  {
   "cell_type": "code",
   "execution_count": 10,
   "metadata": {
    "collapsed": false
   },
   "outputs": [
    {
     "name": "stdout",
     "output_type": "stream",
     "text": [
      "[1, 2, 3, 24, 3, 3, -9, -6, 3, 3, 3, 3, 15, 2, 10, 3, 3, 3, 2, 28, 29, 3, 3, 3, 12, 2, 3, -3, 2, 19, 3, 5, 2, 2, 2, -9, 3, 35, 3, 4, 39, 2, -14, 3, 3, 13, 2, 3, 27, 3, 1, 15, 3, 3, 3, 3, 2, 3, 3, -23, 4, 3, 3, 2, 3, 2, 2, 6, 10, -6, 8, 2, -20, 3, 4, 3, 2, 3, 20, 60, 3, 3, 2, 3, 2, -4, 3, 28, -2, 3, 2, -27, 3, 3, 3, 3, 3, 2, 11, 3, 1, 3, 3, 2, -1, 3, 2, 2, 24, 2, 3, -7, 24, 2, 21, 3, 23, 2, -15, 3, 2, 3, 2, 2, 28, 2, 3, 2, 3, 45, 3, 3, 13, 3, 3, 13, 9, 15, 2, -31, 2, 3, 19, 3, 3, 2, 3, 3, -13, 3, 3, 2, 3, 2, 2, 2, 3, -48, 0, 2, 3, 0, 3, 3, -20, 2, 3, 3, 3, 2, 10, 3, 35, -20, 3, 3, -20, 3, 3, 2, 2, 3, 11, 2, 2, 3, 3, 3, 3, 2, 3, 34, 2, 3, 2, 2, 3, 2, 2, 3, -43, 3, -18, 16, 2, 3, 2, 2, 2, 3, -2, -26, 3, 2, 3, 3, 3, 3, 3, 3, -12, 11, 2, 0, 2, -4, 2, 2, 3, 3, 3, 3, -4, 2, -34, 3, 3, 3, 3, 3, 3, 3, -12, 3, -27, -1, 2, -19, 3, -8, 3, 3, -1, 2, 2, 15, 19, 2, -16, 3, 2, 3, 2, 3, 13, 3, 3, 3, -14, -22, 3, -15, 3, 3, -38, 2, -18, 2, 3, 13, 3, 3, 2, 3, 3, 3, 0, -10, 5, -16, -16, 3, 3, 3, 3, 2, 3, 3, 5, -11, 3, 22, 3, 17, 2, 2, 3, 3, 6, 8, 2, 3, 3, -48, 3, 3, -8, 3, 3, 2, 2, 3, 3, 38, -20, 3, 3, 3, 3, -1, -18, 2, 3, -20, 3, 3, -8, -9, 3, 3, 2, 3, 2, 3, -12, 32, 3, 2, 3, 3, 3, 3, 1, 2, 2, 3, -19, 18, 3, 17, 3, 3, 14, -15, 2, -22, 3, 3, -10, 2, 2, 2, 2, 2, 3, 3, 2, 2, 3, 3, 3, 2, 3, 6, 3, 3, 2, 3, 3, 2, 3, 3, 3, 2, 2, 2, -22, 2, -18, -3, -13, 2, 2, 3, 2, 2, -4, 3, -24, -23, 3, 2, 3, 3, 3, -16, 2, 3, 3, 3, 3, 3, 2, 3, -9, 2, 3, 3, 22, -17, 3, -3, 3, 3, 3, 2, 3, 31, -18, 2, -4, 3, 3, 2, 3, 3, 2, 2, 3, 3, 3, 2, 3, 3, 3, 3, 27, -17, 3, -38, 3, 2, 3, 2, 17, 10, 3, 2, 2, 2, 24, 3, 7, 7, 26, -6, 3, 2, 34, 3, 3, 2, -18, -15, 3, 2, 2, -16, 2, 14, 0, 3, 1, 3, -17, 3, 3, 5, -24, 2, 3, 2, 3, 3, 7, 3, 2, 3, -2, 2, 40, 3, -23, 3, 2, 3, 3, -4, 3, 3, 3, -24, 2, 2, 3, 2, 3, 3, 3, 3, 3, -27, 3, 17, 11, 26, 2, -32, 3, -42, 3, 3, 3, 3, 3, 3, 2, 3, 3, 2, 3, 2, -3, 3, 2, -6, 2, 3, -10, -9, 3, 3, -7, 3, 3, 3, -7, 3, 2, 2, 2, 40, 2, -13, 3, -32, -28, 2, 14, 2, 4, 23, 3, -21, 3, -7, 3, 2, 20, 3, 2, 2, 2, 10, 3, 3, 5, 2, 3, 13, 2, 2, 3, -16, -52, -23, -14, 2, 3, 3, -16, 3, 3, 3, -17, 2, 3, 3, 6, -13, 2, -6, 3, 3, 2, 3, -36, -2, 3, 2, 2, 0, -2, 3, 2, 6, 3, 3, 2, 3, 19, 3, 2, 18, 3, 8, -24, 2, -4, 3, 2, -3, 2, 3, 3, 3, 3, -16, 3, 16, 3, 3, 2, -19, 2, 12, 3, 3, 3, 2, 3, 9, 3, 14, 3, 4, 39, 3, 3, 3, 3, 3, 9, 0, 3, 3, 27, -1, 3, 38, 3, 3, 3, 3, 3, 3, -9, 2, 17, 3, 3, 2, 2, -6, 11, 2, 3, 3, 3, -18, 3, 3, 3, 3, -14, 3, 3, 21, 2, 3, 3, 2, 2, -13, 3, 14, 9, 3, 3, 3, 3, 2, 2, 3, 3, 3, 3, 11, 3, 9, 3, 2, 33, 2, 5, 3, 3, 3, 2, 26, 3, -6, 3, 3, 3, 3, -20, 3, 2, 3, 3, 21, 3, 2, 2, 2, 2, 37, 2, 3, 7, 2, 4, 41, 3, 3, 15, 3, 2, 2, -48, 3, 2, 12, 21, 2, -40, -31, 2, 32, -10, -18, 2, -4, 3, 2, -3, 3, 2, 2, 18, 3, -25, 2, 3, 2, -7, 3, 3, -11, 37, 3, -27, 3, 24, 10, -15, 4, 2, 2, 2, 3, 2, 3, -16, 2, 3, -3, 3, 2, 2, 2, 2, 2, 2, 2, 3, -1, 19, -25, 3, 15, 18, 21, 16, -2, 3, 30, 3, -9, 2, 13, 2, -19, 3, 32, 8, 3, 24, 2, -41, 16, 3, 2, 3, -17, -21, 3, 2, 3, 3, 3, 3, 3, 3, -16, 3, 2, 2, 3, 2, 3, 2, 3, 3, 3, 2, 3, 3, 3, 3, 2, 3, 7, 2, 2, 3, 3, 2, -24, 3, 9, 2, 19, 2, 3, 2, 2, 3, 2, 3, 3, 3, -19, -32, 20, -4, 2, 2, 3, 3, 3, -11, 0, 3, -5, 2, 3, -5, 2, 2, 2, 3, 37, 2, 3, 2, 3, 5, 2, 3, 48, -1, 2, 33, 3, 3, -32, 3, 3, 2, 9, 2, 21, 3, 3, 3, 3, 3, 3, 3, 3, 3, 3, 3, 3, 29, 3, 29, -26, 3, 2, 3, 2, -37, 3, 2, -35, 3, 3, 2, 3, -15, 10, 40, 3, 2, -14, 31, 3, 3, 3, 3, 3, 60, 3, 9, 1, 3, 3, 13, 2, 3, 3, 3, 3, 3, -12, 3, -4, 3, 2, 2, 9, 3, 2, 3, 2, 3, 3, 10, 14, 2, 3, 3, 3, 2, -10, 11, 2, 3, 0, 3, 3, 3, 3, 2, 3, 3, 3, -2, 3, 3, 2, -16, -4, 2, 3, 31, 2, 2, -26, 5, 25, -16, 2, 14, 3, 2, 3, 10, 8, 7, 2, 30, -5, 34, 2, 3, 28, 2, 3, 21, 3, -42, 2, 7, 15, 3, 3, 3, 3, -11, 11, 3, -17, 3, 3, 3, 3, -6, 3, 3, 27, 2, 3, -14, 3, 3, 2, -9, 3, 2, 3, 2, 3, 3, 2, 2, 3, 2, -19, 2, 2, 15, 2, 3, 3, 3, 3, 20, 3, 3, 3, 2, -27, 2, -9, 3, 3, 3, -1, 3, 3, 3, 3, 3, 10, 43, 3, -6, 2, 3, 3, 3, 2, 2, 3, 3, 3, 3, 3, 3, 2, 3, 3, 3, 3, 3, 3, 3, 2, 6, 3, -1, 3, 3, 2, 3, -25, 3, 3, 2, -6, -18, 2, 3, 3, 3, 3, 2, 3, 2, 3, 5, 2, 18, -8, 2, -17, -18, 2, 1, 2, 24, 3, 3, 2, 6, -21, 2, 3, 26, 5, 3, 3, 2, 2, 3, 3, -8, 3, 2, -8, 3, 3, 3, 3, -6, 3, 2, 27, 2, 2, 3, 2, -20, 10, 3, 3, 3, 3, 3, 2, -11, 3, 9, -34, 3, 3, 3, 24, 2, 2, 2, 19, -10, 2, -1, 46, 3, -38, 3, 3, 3, 3, 2, 3, 2, 2, 3, 3, -1, 18, -23, 7, 3, 0, 6, 6, 11, 27, 3, 3, 2, 3, 3, -22, -34, -24, 3, 2, 2, 3, 2, 16, -24, 10, -21, 3, 15, -7, 2, 8, 2, 3, -16, 3, 1, 3, -13, 2, 2, -20, 3, 3, 13, 34, 37, -24, 25, 2, -10, 2, 3, 3, 3, 2, -22, 3, 5, 3, 3, -6, 2, 3, 2, 3, 22, -13, 2, 2, 2, 2, 10, 2, 2, 3, 3, 2, 3, 7, 3, 3, 0, 5, 2, -2, 5, 2, 20, 2, 0, 3, 3, 2, 3, 3, 2, 2, -13, -13, 2, 3, 3, 2, -2, 3, 3, 3, -14, 2, 2, 3, 3, 3, 3, 2, 3, 2, 0, 3, 3, 3, -5, -22, 2, -25, -1, -33, 29, -11, 0, 20, 2, 3, 3, -18, 2, 33, -54, -9, 3, 2, -2, 2, 2, -4, 2, 3, -30, 16, -27, 3, 3, 2, 19, 3, 2, 3, 3, -11, 3, 2, -27, 3, 2, -5, 2, 2, 3, 3, 24, 3, 3, 3, -2, 3, 3, 2, -3, 3, 3, 9, 5, 2, 2, -6, 2, 3, -25, 23, -6, -35, 28, -14, 2, 3, 3, 3, 15, 3, 3, 3, -15, 3, 15, 3, 15, 2, 3, 3, 3, 3, 34, 41, -7, 3, 3, 2, 2, 34, 3, 3, 3, 3, 16, -16, 2, 3, -41, 12, 3, 49, -7, 3, 3, -25, 3, 3, 3, 3, -4, 2, 3, 2, 2, 2, -20, 7, -20, 3, 3, 2, 3, 3, -23, 3, 3, 6, 3, 3, 22, 3, 3, 7, 3, 2, 2, 2, 3, 3, 3, 3, -14, -32, 3, 3, 2, 8, 3, 3, 2, 3, 3, 3, -23, 3, 9, 36, 2, -4, -2, 3, 3, 3, 9, 2, 3, 3, 16, 3, 13, -8, 3, 3, 3, -6, -6, 3, 3, 3, 2, 2, 13, 2, 2, 2, 9, 3, 22, -3, 3, 3, -28, 2, 3, 3, 3, 1, 3, 3, 8, -40, 10, 1, 3, 3, 2, 3, 5, 2, 3, 3, 3, 3, 3, -12, 3, -34, -17, 3, 2, -5, 3, -18, 2, 3, 3, 3, 2, -16, 3, 2, -22, 2, -19, -6, 3, 21, 3, -26, 4, 3, -7, -27, 3, 3, 2, 3, 3, 3, 3, 5, 1, 3, 2, 27, 2, 2, 2, 2, 3, -35, 13, 3, 4, 12, 2, 1, 3, 2, 3, 3, 3, 3, 3, -17, 28, 3, 7, -28, -11, 2, -17, 3, 3, 8, 3, -4, 3, -9, -35, 3, 2, -8, 3, 3, 13, 3, -13, 2, 2, 3, 2, 3, 31, 3, 3, 18, 3, -7, 9, 3, 3, 3, 3, 3, 3, 31, 3, 3, -7, 3, 3, -5, 3, 3, 2, 3, -3, 3, 3, 3, 3, -13, 3, 2, -3, 20, -12, 1, 3, 2, 2, 2, 2, 3, 18, 4, 3, 2, 3, 3, 3, 2, -17, -35, -9, 52, -20, 3, 7, 20, 3, 2, 2, 7, -4, 17, 25, 3, 3, 3, 2, 2, -4, -15, 2, 2, 26, 3, 3, 3, 3, 3, 3, -4, 2, 3, 2, 2, 3, 15, 3, 18, 3, -3, 3, 3, 3, 3, 3, 3, 6, 2, 3, 3, 18, 3, 3, 3, 3, -1, 2, 8, 3, 8, 2, 3, 3, 3, 9, 16, 22, 3, 3, 3, 3, 14, 14, 3, 3, 54, 3, 2, -8, 3, 5, 2, 2, 2, 2, -4, 19, -27, 2, -8, 5, 2, 2, 7, 3, 3, 5, 2, 3, 3, -20, 3, 2, 3, 3, 3, 2, 3, 5, 2, 9, 3, 11, 34, 2, 3, -30, 3, 3, 3, 3, 23, 3, 2, 3, -30, 3, 2, 17, 14, 2, 2, -30, 5, 1, 2, 2, -9, -4, 3, 3, 2, 3, -29, 10, 24, 3, 17, 14, 3, 3, 3, 3, 3, -14, 1, 0, 2, 3, 3, 3, 6, -10, -6, 3, 2, 2, 2, 3, -15, 3, 23, 12, 3, 3, 3, 3, 3, 2, 19, 3, 2, -16, 3, 3, 3, 2, 2, 3, 2, 3, 3, -10, 3, 21, 3, 2, 3, 21, 2, 10, 2, 31, -2, 3, 3, 2, 10, -17, -2, 15, -18, 4, 3, 3, 27, 2, 26, 0, 3, 3, 3, 3, 2, 3, -16, 3, 3, 3, 3, 3, 3, 3, 2, -22, 3, 3, -7, 2, 3, 3, 2, 3, 3, 3, -19, 50, 3, -6, 3, -15, -22, -28, 1, 2, 3, 18, 10, -7, 2, 2, -14, 2, -4, -7, 3, 3, 2, 3, 2, 2, 3, 3, 3, 3, 3, 2, 2, 3, 3, 15, -22, 3, 3, 21, 29, 2, 2, 2, 3, -44, 3, 3, 3, 3, -27, 3, 2, 3, -26, 15, 24, 3, 2, 3, 3, 2, 2, 2, 19, 3, 18, 2, 12, -46, 3, 3, 2, 3, 10, 2, 2, -28, 3, 3, 16, -1, 2, 2, 3, 2, 3, 2, 3, -30, -22, 2, 3, 3, 22, 2, 3, -6, 2, 2, -14, -2, 9, -9, 2, 3, 2, -3, 3, 5, 9, 3, 2, 2, 3, 3, 2, 2, 3, -8, 3, -35, 3, 3, 3, 2, -1, 20, 15, 2, 13, 2, 2, 3, 3, -23, -29, 2, 3, 3, 3, 3, 3, 3, 2, 3, 3, 2, 3, 3, 3, -37, 3, 2, 26, 2, 3, 3, 3, 3, 3, -22, -47, 2, 0, 3, 2, -1, 26, 2, 2, 3, 53, 3, 2, 3, 2, 3, 3, 3, 3, -26, -20, 3, 3, 3, -31, 2, 3, -20, 2, 3, 2, 3, 3, 3, -7, 3, 3, 2, 2, 3, 2, 2, 3, 6, 3, 3, 2, 3, 16, 2, 3, 2, 3, 7, 3, 3, 2, -16, 9, 3, 0, 3, -8, 3, 3, 2, 2, 2, 30, 30, 3, 16, 2, 33, 0, 2, 3, 3, 3, 3, 3, 3, 21, 3, 3, 2, 3, 3, 3, -29, 3, -9, 3, -9, -7, 3, 3, 3, -24, -1, 17, 34, -20, 3, 3, 3, 2, -49, 3, 3, 2, 13, 21, 3, -9, 3, 3, -12, 3, 3, 3, 1, 3, 4, 3, 55, 2, 1, 3, 2, 2, 3, 3, 2, 6, 3, 10, 3, 3, 3, 11, 2, 3, 46, 3, 2, -5, 3, 3, 3, 3, 2, 3, -12, 3, 3, 3, 2, 3, 3, 3, 3, 21, 3, 3, 5, 3, -28, 3, 29, 3, 7, 2, -14, 3, 13, 3, -1, 3, -13, 2, 3, 2, 2, 13, -8, 2, 3, 3, -8, 3, 3, 3, 3, -9, 3, 4, 3, -1, 3, 3, 3, 2, 16, 3, 5, 3, -2, 3, 19, 3, 3, 3, 32, -33, -17, 2, 35, -12, 3, 3, 2, 2, 9, 3, 2, 3, 3, -16, 3, 40, -34, 20, 3, 2, 3, 3, 16, -5, -22, 0, 3, 2, -13, 3, 2, 7, 3, -28, 7, 23, 2, 3, -10, 3, 2, 3, 3, 2, 16, 3, -19, 3, 2, 2, -67, 3, -9, 3, 2, -34, 3, 2, 3, 3, 21, 3, 6, 3, 3, 26, 3, 3, 2, 4, 3, -19, 16, 3, -1, 3, 22, 28, 3, 2, -1, 2, 3, 2, 2, 35, 3, -23, 3, 29, -10, 16, 3, 7, 10, 3, -23, 3, -5, 3, -40, 3, -9, 9, 2, 3, 3, 55, 3, 3, -11, -3, -4, 2, 3, 14, -30, 2, 3, 3, -6, 8, 3, 0, 11, 3, 3, 3, 2, 2, -21, 2, 3, 3, -8, 3, 2, 2, 3, 2, -3, 3, 24, 3, 3, 2, -46, 3, 3, -18, 2, 2, 3, 2, 2, 3, 3, 3, 3, -32, 3, 3, -54, 2, 3, 3, 12, 3, 10, 3, -46, 3, 2, -25, 3, 3, 2, 3, 3, -17, -23, 3, 0, -29, 2, 3, 2, 2, 2, 2, -8, 17, 37, 3, 3, 2, 6, 3, 2, -11, 3, -16, 2, 6, 3, 2, 14, 3, -15, 3, 3, 3, 2, 2, 3, 26, 20, 3, 3, 2, 3, 2, 3, 2, 3, 2, 2, 2, 2, 2, 2, -9, 3, 3, 2, -31, 5, 3, -27, -18, -12, -16, 21, 3, -3, 3, 2, 2, 3, -24, 2, 3, 48, 3, 3, -8, 2, 3, 5, 2, 3, 3, -12, 2, 10, -21, 2, 2, 2, 3, 2, 3, 2, 3, 3, 2, 3, 3, 49, 3, 2, 2, 3, 20, 2, 22, 2, 3, 3, 13, 2, 2, 3, 3, -12, 16, 49, -1, 9, 17, 3, 3, 10, 6, 3, 3, 36, 6, 3, 3, 3, 2, -22, 2, 2, 3, 4, -39, -17, 3, 37, 2, 3, -8, -35, -47, 3, 2, 12, 2, 3, 2, 3, 2, 3, -3, 2, 3, 13, 3, 3, 2, 3, 3, 3, 3, 3, -29, 3, 3, 3, 15, 3, 3, 2, -17, 3, 2, 3, 2, 18, 2, 2, 3, -12, 3, 3, 3, 2, 3, -13, 3, 2, 2, 3, 3, 5, 8, 2, 3, 29, 3, 2, 1, -29, -11, 3, 3, 2, 3, 3, 16, 3, -3, 3, 2, 3, 2, 2, 14, 3, 7, -33, -25, -20, 4, -13, -11, 7, 35, 3, 2, 4, 21, 2, 2, 3, 3, 3, 4, 19, -21, 29, -3, 5, 3, 2, 2, 2, 3, 3, 3, 2, 2, 3, 3, 2, 3, 2, 3, 2, 28, 3, 2, 9, 31, 3, 2, 2, 3, 2, 6, 2, 3, -3, 13, 2, -17, 3, 3, -11, 3, 3, 3, 3, -19, 3, 2, 3, 19, -31, 4, 10, 3, 2, 2, -16, 3, -22, 2, 3, 2, -9, 3, 3, 2, 2, 14, 3, 2, 3, 3, -26, 2, 2, -3, 3, 3, 2, 2, 3, 2, 2, -15, 3, 3, 8, 3, 3, 2, 6, -28, 2, 3, 3, 2, 2, 39, 3, 25, 18, 3, 3, 3, 2, -2, 3, 26, 3, 18, 1, 3, 4, 3, 3, 16, 3, 3, -4, 3, 2, 2, 3, 2, 3, 3, 2, 25, 3, 3, 3, 3, -13, 2, 3, 2, 3, 3, 11, -28, 3, 24, 3, 20, 2, 3, 11, -15, 3, 12, 3, 2, 3, 2, 13, 3, 3, -22, 2, 9, 2, 2, 3, 3, 3, 2, 3, -10, 8, -28, 3, -14, 3, 3, -36, 7, 3, 2, -15, -4, 3, 2, 3, -4, 3, 3, 21, 2, 2, 2, 28, 2, 34, 3, 30, 2, -13, 3, 3, 3, 3, -3, 36, 4, 2, 3, 3, 3, 3, 3, -13, 3, -9, 3, 9, 3, 3, 4, 3, -17, 2, 3, 2, 3, 2, 3, 49, 3, -21, 2, 4, 3, 3, 7, 3, 3, 3, 3, 0, 3, 3, 2, 3, -19, 3, 3, -7, 3, -23, -11, 3, 3, 2, -22, 3, -15, 3, 3, 2, 1, 3, 3, 2, 3, 3, 2, 2, 3, 21, -27, 2, 13, 3, 19, 3, 10, -4, 3, 3, 30, 3, 2, 32, 21, 2, 3, 2, -15, 3, 11, 3, 2, 2, 3, 3, 3, 2, 3, 5, 3, -6, 2, 2, 3, 3, 3, 21, 3, 2, -17, 4, 2, -9, 3, 0, 2, 3, 2, 3, 3, 18, 3, 3, 3, 3, 3, 3, 3, 2, -3, 3, 3, -3, 2, 3, 3, 2, 2, 2, -9, 3, -5, -25, -12, 3, 0, 3, -15, 3, 3, 3, 2, 15, 25, 2, 2, 3, 3, 3, 3, 3, -52, 3, 3, 2, 3, -7, 30, 10, -34, -2, 2, 2, -11, 2, 2, 3, 3, 2, 3, 3, 2, -12, -6, 2, -4, 3, -1, -22, 3, 3, 2, 3, 3, 3, 3, 5, 3, 3, 44, 3, 2, 2, 3, 3, 1, 3, -1, 3, 3, 3, -1, -23, 3, -13, -7, 2, 3, 2, -16, 2, 3, 3, 3, 2, 3, 2, 6, 2, 3, 3, 2, 3, 12, 3, -1, 3, 2, -12, 3, 3, 20, 3, 2, 3, 2, 36, 2, -7, -22, 3, 3, 2, 3, 3, 3, 2, 3, 24, 3, 3, 2, 15, 3, 3, 2, 2, 3, 3, 2, 2, -16, 16, 4, 41, -24, 3, 44, -8, 3, 3, 2, 2, 3, 3, 3, 2, 9, 2, 3, -10, 3, -6, 3, -37, 3, -31, 2, 2, 3, 3, 2, 3, 3, 3, 3, 3, 3, 2, 3, 2, 3, -12, 3, 3, 2, 3, 10, -3, 3, 22, 2, 3, 3, 2, 2, 2, 34, 3, 3, 3, 3, -21, -27, 3, 3, 3, 5, 42, -43, 1, 3, 3, 18, 27, -11, 3, 18, 2, 3, 2, 5, 2, 5, 3, 3, 3, 8, 3, 10, 3, 3, 2, 3, 3, 2, 27, 2, 2, 3, -20, 3, 3, 3, 2, 3, 2, -5, 3, -12, 2, 2, 3, -42, 2, 1, 3, 2, 30, 22, 2, 2, 9, 2, 2, 2, -11, 3, 3, 2, 12, 3, 3, 2, 9, 3, 2, -8, -17, 0, 26, 2, 3, 3, 3, 20, 3, 2, 3, 2, 3, 28, 3, 3, 3, 3, -17, 2, 2, 3, 2, 5, 17, 0, 3, 2, -11, 14, 2, 21, 36, 2, 42, 3, -17, 3, 3, 28, 2, -23, 3, -25, 3, 3, 2, 3, 2, 12, -20, 2, -24, 3, 13, -31, 2, 3, 30, -1, 20, 3, 3, 4, 3, 5, -15, 3, 3, 3, 3, -33, 6, 3, 3, 3, 3, 3, 19, -5, 3, 3, -29, 44, 3, 3, 2, -2, -19, 3, -29, -6, 3, -18, 3, 2, 5, -40, 5, 3, 2, 3, 7, 3, 1, 2, 2, 2, -4, -21, 3, 3, 3, 3, 3, 3, 2, 2, 3, -59, 21, 3, 3, 2, 7, 9, 11, 2, 3, 2, 3, 2, 30, 3, 2, 3, 3, 1, 3, 3, 3, 3, 2, 2, -9, 2, 6, 3, 3, 5, 9, 2, 3, -26, -4, 2, 3, 3, -11, 3, 12, 1, 2, 0, -3, 2, 3, 3, 3, 3, 3, -9, 2, 3, 3, -2, -22, 2, -7, 18, 2, 3, 3, -19, 2, 3, 3, 3, -14, 2, 3, 3, 3, 3, 2, -13, 3, 3, 3, 30, -19, 3, 2, 2, 3, 3, 3, 2, 2, 2, 4, 3, 3, -14, 3, 37, 2, 3, 3, 12, 2, 3, 8, 3, 3, 3, 2, 3, 3, 2, 3, 2, 3, 3, 22, 2, 2, 2, 2, 3, 10, 2, 2, 28, 3, 3, 2, 3, 3, -21, 7, 33, 3, 10, 3, 2, 2, 9, 2, 9, 3, -31, 13, 3, 13, 3, 3, 3, 3, 3, -8, 3, 3, 2, 2, -4, -16, 2, 10, 3, 3, -28, 3, 3, 3, 3, 3, 3, 3, 3, 3, 2, 29, 2, -25, 2, 3, 3, -3, 2, 3, 3, -54, 3, 41, 2, 8, 21, -4, 3, -16, 15, 14, 3, 2, 3, -14, 3, 3, 3, -1, 2, 3, 23, 3, 40, -2, 2, 26, -6, 2, 5, -34, 3, 3, 3, 12, 2, -10, 2, 3, 2, 3, 3, 3, 3, -27, 3, 3, 18, 2, -11, 3, 11, -3, 3, 2, 3, 51, 2, 3, 17, 3, -11, 3, 2, 3, -3, 3, 3, 2, 2, 3, 2, 2, 3, 1, 2, 3, 3, 3, 3, 16, 2, 2, 20, 2, 2, 2, -21, 12, 16, 3, 3, -27, 2, 3, 3, 8, 3, 3, 3, -11, 3, -13, -1, -16, 3, -23, 1, 3, -35, -23, 3, 3, 2, 25, 3, 2, 3, 14, 3, 23, 3, 2, 33, 32, 1, 3, -2, 3, 3, 3, -12, 2, -5, 3, 2, 3, 3, 3, 2, 3, 2, 2, 3, 3, 2, 3, -1, 3, 3, 3, 3, 15, 2, 2, 3, 2, 3, 2, 2, 3, 3, 3, 2, 2, -7, 32, -2, 3, -25, 3, 3, 3, 2, 3, 3, 3, -10, 2, 3, 3, 14, 3, 3, 5, 3, -15, -18, 2, 3, -8, 3, -11, 23, -14, -8, 44, 2, 46, -9, -11, 3, 21, 3, 2, 3, 2, 3, 2, -11, 3, 3, 3, 3, -17, -31, 2, 3, -3, 3, 3, -20, 1, 2, 2, 3, 3, 3, -14, 3, 2, 3, 3, 0, 2, 3, 3, 2, -19, 2, -43, -8, 3, 32, 5, 1, 36, 3, 3, 8, 0, 2, 2, 3, 2, 3, -1, 3, 2, 23, 3, 2, 3, 3, 3, 3, 6, 3, 3, 12, 3, 3, 2, 2, 2, 3, 2, 2, 3, 2, 15, 3, -14, 2, 2, 22, 3, 3, -6, 3, 1, 8, 19, 0, 3, 2, 3, 3, 3, 3, 3, -50, -4, -12, -4, 3, 2, 7, 32, 3, 3, 2, 3, 2, 2, 3, 3, 2, 14, -11, 2, -18, -8, 2, 3, 2, 2, 43, 2, -4, 3, 2, 3, 3, 3, 3, 3, 2, -18, -23, 23, 3, -49, 8, 16, 2, 2, -1, 3, 5, 3, 2, -37, -11, 15, 3, -10, 3, 3, -17, 5, 3, 3, -19, 3, 2, 2, -9, -25, 3, 3, 2, 3, 3, 3, 3, 3, 3, -12, 3, 3, 2, 3, 2, 3, 3, -28, 3, 3, 2, 3, -21, 12, 3, 2, 3, 3, 3, 3, 12, 39, 3, 18, 5, 3, 3, 2, 3, 10, -8, 3, 3, 2, -15, 3, 2, 3, 3, 2, 3, 3, 26, 3, 14, 2, 3, -9, 2, 3, 0, 3, 2, -1, 17, 3, 3, 2, 5, 5, -48, 3, 4, 3, 3, 3, 3, -14, 30, 25, 3, 3, 3, 3, 2, 3, -12, 3, 2, 2, 3, -3, 3, 2, 11, 2, 3, 3, 3, 3, 3, -15, 13, 2, 3, 2, 3, 2, 3, 3, 3, 2, 3, -25, 14, 21, -16, -9, 2, 3, 3, 3, 22, -25, 3, 3, 2, 2, -8, -14, 3, 3, -21, 3, 3, 2, 2, -25, 3, 2, 2, 3, 2, -10, 3, 2, 0, 6, 3, 7, 3, 3, 3, 2, -27, -10, -17, 3, 3, 1, 3, 2, 3, 3, 3, 2, 3, 5, 3, 3, 3, 2, 3, 44, -22, 53, 3, 2, 3, -4, 2, 3, -2, -18, 2, 17, 2, 3, 2, -23, 6, 10, -6, -34, 3, 3, -6, 2, 2, -20, 2, 2, 2, 2, 18, 12, 20, 30, 3, 3, -4, 3, 3, 14, 5, 32, 5, 3, 2, -7, 2, 3, 2, -6, 3, 23, 3, -7, 2, 2, 2, 3, 9, 2, -12, 3, 2, 2, 3, 8, 3, 3, 2, 3, 2, 3, -2, 3, 3, 3, 3, 3, 3, -13, 2, 3, 3, 2, 3, 3, 3, 3, 2, 7, -1, 3, 2, 8, -33, 2, 3, 2, 2, 2, 10, 3, 3, -3, 3, 13, -3, 2, 2, 25, 2, 3, -24, 3, 2, 3, 2, -30, 23, 27, 2, 3, -33, 3, 3, 16, 2, 3, 2, 2, 2, 2, -27, 14, -35, -5, 3, 3, 11, 3, 2, 2, -72, 2, 3, 2, 3, 3, 3, 2, 3, 3, 3, 3, 2, 16, 3, 3, 3, 0, 3, 2, 3, -9, 3, 2, 3, 2, -18, 3, 3, 20, 26, 2, 2, 3, -5, 2, 2, 2, -10, 3, 2, 3, 3, 2, 44, 3, 3, -7, 3, 3, 11, 3, -18, 2, 2, -16, 2, -27, -19, -21, -9, 3, -4, 2, -11, 3, 3, 2, 3, 3, 2, 2, 32, 3, 2, 2, 3, 3, 3, 3, 3, -11, 3, 2, 11, 29, 3, 20, 3, 26, -6, 18, 35, 3, 3, 2, 3, 3, 4, 6, 3, 2, 2, 3, 24, -12, -28, -3, -8, -29, 2, 2, -10, 29, -4, 3, -1, 16, 2, -2, 2, 0, -23, 3, 3, 2, 3, -4, 3, -6, 2, 3, 3, 3, 3, -1, 3, 3, -15, 2, -5, -3, 18, 49, 23, 7, 30, -50, 2, 3, 3, 2, -22, 3, 2, 3, 3, 2, 3, 14, -21, 5, 3, 3, 0, 3, 3, 14, -23, 3, 3, 20, 9, 3, 3, 2, 2, 2, -49, 2, 2, 0, 3, 3, 3, 2, 2, 3, 2, 8, -18, -16, 18, 3, 1, 3, 2, 3, -29, 3, 2, 2, 2, 12, 2, 3, 3, 3, 3, 3, 2, 3, 3, 3, 3, 3, 17, 2, 3, 2, 8, 3, -6, 2, 3, 3, 3, 2, 3, 3, -16, 3, 3, 3, 3, -10, 3, 3, 3, 3, 2, 13, 2, 3, 3, -8, 3, 3, 3, 3, 2, 3, 3, 30, 2, 3, 13, 3, 11, -24, 2, 2, 1, 2, 3, 3, 2, 3, 3, 3, 10, 3, 8, 3, 3, 2, 3, 2, 3, -8, 3, 3, 27, 6, -2, 2, 3, 3, 14, 2, 3, 2, 3, -25, -5, 7, 3, 3, 2, 3, 3, 3, 3, 37, 3, 17, 3, 3, 3, -4, 2, -3, 3, 3, 3, 19, 2, 3, 3, 30, 3, 3, 21, -15, 2, -33, 3, 12, 28, 3, 3, -6, 2, 2, -23, 2, 28, 3, 3, 2, 3, 3, 3, 2, 2, 2, 2, 26, -28, 4, 3, 3, 3, 2, 2, -5, 3, 3, 3, 3, 57, 29, 3, 3, 3, 3, 3, 21, 2, 3, 2, 2, 3, -19, 2, 3, -13, -7, -3, 3, 3, 3, 0, 3, 2, 3, 3, 3, 1, 3, 2, -8, 3, 3, 2, -4, 3, -10, 3, 2, 1, 2, -19, 3, 2, 2, 3, 16, 2, -8, 28, 2, 3, -12, 3, 3, 11, 3, 3, -12, 2, 0, -20, 4, -9, -18, 2, 2, 12, 3, 7, -6, 2, -16, 3, 2, 5, 2, 2, 30, 3, 14, 3, 2, 3, -23, 2, 3, 2, -15, 2, 3, 3, -6, -18, 3, 3, 19, -4, -22, 2, 2, 2, 3, 3, 3, 3, 3, 3, 11, 2, 16, 2, 29, 3, 2, 3, 36, 5, -31, 3, 2, 7, 3, 2, 2, 15, 2, 3, 16, 3, 2, 3, 2, -20, 3, 2, 0, 3, 3, 3, 3, 39, 2, -11, 2, -20, 2, 3, -5, 3, 3, 3, 34, 1, 2, 7, 3, 3, 28, 14, 6, 3, 3, 3, 2, 3, 2, 11, 3, -6, 2, 3, -10, 14, -1, 2, 3, 11, 2, 2, 0, 23, 3, 3, 3, 5, -15, 3, -48, 3, 4, 3, 3, -6, -5, 1, 2, 3, 38, 2, 2, 2, 4, 37, -18, 2, 3, -24, -8, -43, 3, 3, 3, 3, 3, 3, -15, 3, 3, 3, -27, -1, 2, 2, 3, -9, 3, -9, 3, 2, 3, 12, 2, -11, 6, 2, -17, 3, 1, 3, 19, -21, 3, 3, 3, 3, 41, -1, 23, 2, 12, -6, 7, 2, 2, 3, 3, 3, 2, 35, 3, 11, 2, 3, -11, 3, 3, 3, 1, 3, 2, 39, 3, 2, 3, -4, 2, 3, 35, 2, 3, 5, 3, 3, 3, 2, 3, 3, 2, 3, -14, 3, -29, 2, 3, 0, 3, -25, 3, -19, 1, 2, 14, -2, -6, 3, 3, 3, 2, 9, 3, -33, 3, 3, 2, 15, 13, 3, 3, 32, 10, 4, 3, 3, 9, 3, 2, 2, 3, -38, 3, -26, 2, 3, 3, 19, 3, -6, 3, 31, 3, 2, 3, -14, 3, 3, 2, 5, -5, 3, 3, 3, 11, 2, 18, 2, 2, 2, 3, 2, 22, 3, -1, -14, -6, 2, -3, 2, 13, -3, 3, 3, 3, -3, 3, 3, 2, -4, 16, 2, 3, 3, 3, 4, 3, 3, 3, 3, 3, 3, 2, 2, 3, -16, 1, 3, 11, 2, 3, 3, 3, 9, 11, 32, 2, 2, 2, 3, 3, 3, 4, 3, 3, 26, 3, 2, 21, 3, 2, 3, 22, 3, 2, -2, 13, 2, 4, -29, 3, 3, 18, 30, -16, 2, 3, -20, 11, 3, 15, -24, 2, 2, 3, 3, -31, 2, 3, 2, 3, 26, 13, 3, 7, 3, 32, 1, 2, 9, 3, 2, 3, 3, 6, 3, 3, 2, 2, 3, 3, 3, 3, 3, -41, 3, 3, 3, 10, 3, 3, 3, 2, 23, 3, 3, 3, 24, 2, -22, 28, 2, 3, -9, 3, 3, 17, 3, 3, 2, 3, 3, 3, 3, -26, 2, 8, -3, 3, -7, -19, 3, 3, 3, 3, 3, -14, 3, 2, 3, 2, 3, 3, 3, 2, 4, 17, 3, 2, 3, 3, 2, -7, -32, 5, 10, 14, -7, 31, 3, -5, 3, 3, 3, 3, -8, 10, -14, 21, 2, 3, 3, 3, 10, -20, 2, 3, 22, 3, 3, 2, 2, 3, 0, 3, 2, 41, 3, 3, -5, 3, 2, 2, -29, 3, 3, 3, 3, 2, 3, -15, 10, 8, 3, 3, 2, 3, 7, -6, 3, 2, 2, 3, 3, 2, 4, 3, 2, -27, 2, 3, 17, 3, 3, 3, -23, 3, 2, 3, -2, 2, 2, 29, 2, 40, -19, -17, 3, 2, -5, -35, 3, 0, 2, 14, 2, 0, 2, 3, 3, 3, 3, 3, 1, 2, -10, -7, 3, -34, 3, 2, 2, -31, -12, 3, -14, 2, 3, 3, 3, 3, 2, -26, 3, 3, 3, 3, 3, 2, 13, 2, 3, -23, 4, 3, 2, 2, 3, 3, 2, 3, 2, 3, 3, 22, 3, 27, 2, -27, 7, 3, 34, 3, -16, 3, -8, 3, 3, 2, 21, 3, 3, 2, -8, 0, 2, 3, 2, 3, 1, 3, 2, 2, 2, 2, 3, -14, 23, 0, 3, 15, 2, 7, 2, -9, 43, 3, 3, 3, 21, 3, 3, 3, 0, 11, 18, 3, 3, 2, -1, 3, 3, -29, 3, 3, 3, 3, 12, 3, 2, 3, 3, 3, -4, 18, 3, 2, 2, 5, 2, 3, 3, -21, 3, 3, 33, 3, 3, 3, 14, 3, 3, 34, 3, 3, 0, 2, 2, -10, 21, 2, 11, 2, 24, 3, -17, 12, -13, 2, 3, 3, 3, 3, 3, -14, 1, 3, 3, 36, 3, 3, 28, 27, 3, 3, 3, -9, 2, 3, 3, 3, 3, 3, 2, -5, -16, 19, 3, 2, 11, 2, 27, 2, 2, 11, 3, 3, 2, 3, 3, 3, 36, 2, 3, -1, -7, 41, -9, 3, 3, 4, 2, 3, 3, 2, 3, 3, 7, 3, 3, 2, -48, 7, 3, 3, 21, -7, 3, -32, 3, -20, 2, 2, 42, 22, -11, 21, 3, -29, 4, 15, 2, 2, -9, 23, -19, 3, 3, -2, 2, 2, 7, 3, 3, 3, 2, 2, 3, 2, 3, 2, 9, 2, 2, 31, 3, 2, 3, -4, 3, 2, 2, 3, 3, 3, -7, -27, -2, 3, 3, 2, 2, 3, 3, 2, 3, 2, 3, 22, 23, 3, -40, 3, -14, 2, 3, -12, 3, 3, 26, -44, 10, 3, 17, 3, 32, -8, 3, -24, 3, 2, 43, 3, 16, 3, 3, -4, -11, 3, 2, 3, 3, 2, 3, 3, 3, 3, -17, 3, 23, -30, 3, 3, 3, 3, 16, 2, 3, 3, -11, 0, 15, 3, 2, 3, -15, 11, 3, -6, 3, 3, 2, 3, 3, 3, 3, 2, 9, 3, 2, 14, 1, 3, 3, 2, 2, 3, 3, 2, 3, 2, 2, 3, 3, 3, 3, 3, 3, 2, 3, 2, -34, 2, -21, -3, 3, 3, 7, 3, 3, 3, 3, 3, 2, 2, 2, 2, -12, 3, 3, 2, 3, 2, 14, 13, 20, 3, 3, 3, -4, 3, -30, 21, 3, -28, 3, 3, -8, 3, -3, 15, 24, 2, 3, 3, 3, 8, 3, 3, 10, 3, -8, 3, 3, 2, 2, 2, 11, 3, 3, 3, 3, -7, 2, 3, 13, -3, 3, -34, 3, 3, -17, 3, 3, 3, 3, -4, 3, 3, 3, 2, -19, 13, -1, 3, 3, 3, 3, 3, 2, -9, 3, 2, 3, 3, 2, 3, -7, 0, 2, -48, 26, 3, 2, 18, 30, 3, 3, 3, 8, 3, 3, 3, 1, 2, 1, 6, 3, -2, 5, 3, 2, 3, 3, -3, 3, 3, 32, 3, 2, 3, 3, 2, 3, 2, 2, 21, -23, 2, 6, 9, 2, 3, 3, 2, 3, 28, 3, 3, 28, 10, 3, 2, 3, 3, 3, 3, 3, -31, 3, 2, -19, 3, 3, 3, 7, -23, 3, 7, 3, -22, 3, 3, 3, -4, 2, 52, 3, 2, 3, 2, -9, 3, -2, -36, -8, -1, 3, -8, 3, 14, 12, 2, -2, -9, -1, -11, 3, 3, 3, 3, -15, 3, 8, 3, 3, 3, 14, 3, 3, 3, 14, 29, 3, 2, 3, 2, -23, -6, 3, -22, 3, 3, 25, 15, 3, -13, 3, -7, 2, 9, 22, 3, 2, -18, -8, 6, 3, 3, 2, 3, 3, 3, 3, 2, -24, 3, 3, 3, 3, 3, 3, 2, 3, 2, 3, 2, 3, 3, 3, -21, 3, 3, 3, 3, 3, 3, 2, 3, 2, 2, 3, -38, 3, 1, -9, 1, -28, 2, 3, -16, 3, 3, 3, 2, 3, 3, 2, 2, 14, 2, 27, 2, 2, 2, 42, 3, 15, 23, -4, 2, 3, 17, 3, 2, 15, 20, 3, 2, 2, 11, 3, -13, 2, 2, 2, 2, 2, 2, 2, -7, 2, -25, -7, 3, 3, 3, 3, 3, 3, 3, 3, 3, 3, 2, 3, -28, 9, 3, 3, -6, 2, 3, 3, 2, 2, -11, 24, 3, -7, 2, 2, 0, 3, 3, 11, 3, 3, 2, 21, 3, 3, 3, 3, 3, 3, 1, 3, 4, -18, 3, 2, 3, 3, 17, -69, 31, 3, 3, -4, 3, 3, 3, 3, 3, 15, 2, 20, 3, 14, 3, 6, 3, 3, 3, 3, 2, 3, 2, -1, 2, 3, 3, 3, 3, 3, 2, -17, 3, -1, 22, 3, 3, 3, 3, 11, 3, 3, 3, 3, -15, 2, 3, 3, 3, 2, -17, 2, 3, 24, 2, 3, 3, 30, 3, 3, 2, 5, 3, 13, 3, 2, -6, 2, -21, 3, 3, 3, -13, 3, 3, 2, -2, -17, 21, 23, 17, 2, 2, 15, 37, 3, 3, 2, 2, 26, 3, 3, 9, 3, 3, 3, 3, 3, 2, 3, 3, 3, 3, 0, 2, 3, 4, 2, 3, 2, -27, 3, 10, 3, 3, 14, 33, 9, 3, 3, 3, 3, 3, 22, 2, -13, 3, 3, 23, 5, -19, 3, 2, 3, 3, 2, 20, 3, 2, 2, 28, 2, 3, 2, 3, 3, 3, 3, 3, 2, 3, 3, 3, 2, 3, 3, 32, 3, 1, 16, 3, 3, -4, 10, -7, 3, -15, 3, 2, 2, 3, -29, 2, 3, 2, 2, 2, 2, -10, 3, 2, 2, 3, 2, 3, 3, 37, 2, 3, 2, 3, 2, 3, 4, 3, 3, 2, 3, 2, 3, 3, 5, 3, 3, 3, 2, 3, 2, 3, 3, -24, 3, 6, 3, 3, -29, 2, 3, 39, 2, -24, 3, -29, 3, 3, -1, 3, 2, 3, 3, -31, 3, 3, 3, 21, 2, -8, 3, 2, 3, 3, 3, 3, 3, 3, 3, 3, 4, 3, 7, 3, 3, 2, 3, 3, 3, 9, 3, 3, 3, 3, 3, 3, 11, -10, 3, 3, 8, 3, 3, 0, -14, 3, 3, -3, -15, 2, 2, -19, 1, 1, 3, 2, 2, 3, 3, 3, -4, -16, 2, 3, 3, -8, 2, 3, 3, 33, 3, 2, 8, -2, 14, -19, 1, 3, 2, -7, 2, 3, 3, -12, 3, 3, 2, 3, 2, 2, 3, 2, 2, 3, -22, 6, 36, 3, 3, -34, 13, -5, -9, 4, 3, 0, 2, 2, -42, 3, 3, 21, 2, 2, 3, 3, 3, -15, -33, 3, 2, 2, 2, 2, 17, 2, -15, -4, 2, 14, 1, 24, 3, 3, 3, 3, 3, 2, 0, 3, 3, 3, 2, 2, 35, 3, 2, 2, 3, 23, 3, 2, 3, 2, 2, 22, 6, 2, 3, 2, 3, 3, 3, 2, 2, 3, 3, 3, 17, 2, -34, 2, 22, 2, 3, 2, 8, 3, 23, 16, 15, 2, 3, -40, 3, 2, 39, 0, 10, 3, 3, 3, 29, 3, -6, 3, 3, 2, 3, 3, 3, 2, -14, -2, 3, 3, 15, 3, 3, 5, 3, 2, 2, 3, 3, 2, 3, 3, -38, 5, 3, 3, 3, 3, 10, 3, 40, -23, 2, 3, 15, -31, -13, 3, 2, -17, 19, 3, 2, 3, 2, 3, 3, 3, 3, 3, 2, 3, 3, 2, 9, 3, 3, -2, -6, -16, 3, 3, 3, 3, 2, 6, 3, 3, 3, 2, 12, 2, 2, 3, 21, -5, 2, 2, -2, 3, 12, 2, 2, 3, -44, 3, 2, 2, 3, 8, 3, 3, 3, 15, 3, 3, 3, 2, -11, -9, -33, 3, 3, -5, 3, 60, 2, 3, -27, 2, -27, 3, 3, 2, 3, 3, 3, 14, -24, 3, 2, 3, 2, 3, 3, 2, -33, 3, 3, 6, -10, -12, -8, 2, 7, 2, -25, 3, 3, 2, 3, 1, -13, 3, 2, 18, 3, -9, 3, 2, 2, 3, 3, 11, 15, 19, 3, 3, 14, 2, 2, 3, 8, 3, -2, 3, 2, 2, 2, 3, -17, 30, 2, 2, 29, 3, 3, -6, 2, 3, 3, 2, 2, 3, 2, 2, -3, 3, 3, 3, 3, 13, 3, 1, -19, 3, -32, 2, 2, 2, 2, 2, 3, 2, 3, 3, 2, 2, 3, 3, -14, 3, 3, 1, -31, 3, 3, 2, 3, 2, 3, 3, 7, 3, 3, 3, 3, 20, 3, 3, -4, 7, 2, 3, 3, 9, 3, 3, 3, 3, 3, 2, 3, 3, 3, 3, 2, 3, 4, 2, 2, 27, -9, 3, 0, 30, 3, 3, 8, 3, 2, 3, 3, 3, 2, 3, 29, 3, 25, 20, 2, 2, 15, 3, -24, 3, 3, 3, -10, 3, 2, 13, 6, 3, 2, 3, 3, 36, 3, 3, 14, 3, 3, 3, 3, 2, 10, 2, 9, 2, 3, 3, 2, 3, 3, 3, -16, -21, 3, 23, 3, 3, 3, -15, 2, 2, 14, 3, 3, -8, -11, 2, 3, 3, -12, 2, -6, 3, 12, 3, 3, 3, 2, 3, 3, 2, 2, 3, 3, 3, 2, 2, 2, 16, 2, 3, 30, -11, 11, -22, -7, 3, 3, -42, 2, 9, 3, 7, 3, -12, -19, -3, 9, 3, 3, 3, 3, 2, 3, 3, 3, 43, 3, 22, 2, 3, 3, 10, -24, 3, 3, -28, 2, 2, 2, 3, 2, -7, 5, -17, 3, 9, 2, 6, 2, 3, 19, 2, 3, -15, 2, 3, 1, -7, 8, -11, 2, 3, -7, -6, 3, -5, 2, 3, 3, 2, 3, -17, 8, 3, 2, -9, 6, -32, 3, 2, 3, 3, 2, 3, -13, 2, 3, 3, 3, 3, 36, 3, 3, 2, -7, 2, 3, 2, 3, -9, 0, 2, 3, 27, 3, 2, 10, 3, -24, 3, -11, 3, 2, 3, 0, 3, 3, -30, 3, 11, 3, 3, 2, -14, 3, 0, 3, 3, -7, -21, 3, 3, 3, 3, 31, -22, 2, -4, -25, 2, 3, 3, 3, 3, 3, 16, 3, 2, 3, 3, 18, -37, 3, 3, 3, 3, 2, 3, 3, 3, 3, 3, 3, 3, 2, 3, 3, -40, 2, 3, -20, 3, -5, 3, -13, -15, 2, 3, 3, 3, 3, 9, 2, -4, 3, 3, 3, 34, 2, 3, 2, 2, 4, 3, 2, 3, 3, 2, 3, 3, 8, -6, 23, 3, 6, -15, 2, 3, 2, -10, 2, 3, 2, 3, 3, 10, 13, 2, 3, -9, 2, -3, 2, 25, 3, 21, -8, 3, 3, 3, 3, 3, 3, 3, 3, -28, 3, 0, 3, 3, 3, 2, 2, 3, 25, 3, 36, 2, -12, 3, 32, -16, -11, 3, -13, 3, 3, 6, 21, 2, -5, -31, 3, 3, 3, 3, 3, 3, 2, 4, 3, 2, 3, 3, -8, 3, 2, 3, 3, 9, -1, -6, 2, 12, 3, 57, 2, 2, 2, 25, 3, 3, 3, -6, -31, 18, -1, 3, -9, 3, 3, 3, 2, 29, 3, -23, 6, 2, 1, 3, 3, 3, 18, 3, 2, 2, 26, 3, 3, 4, 3, 4, -7, 2, 3, 2, 3, -6, 3, 3, -8, 3, 3, 9, 3, 3, 3, 27, 3, 2, 3, 3, 2, 3, 2, 3, 3, 2, 2, 2, -9, 2, 32, 24, 3, -2, 2, 3, -50, 3, 2, 3, 8, 3, 2, 6, 2, 2, 5, 3, 2, 3, 3, 2, 9, 3, 2, -23, 3, 3, 21, -1, -12, 3, 3, 3, 3, 0, 3, 3, 3, 2, 3, 29, 2, 10, 3, 3, -19, -10, 2, 3, 3, 2, -1, 3, 3, 2, 3, 3, 3, 3, 2, 22, 3, 4, 2, 3, 3, 2, 3, -5, -16, 10, 29, 2, -3, -18, 3, 2, -4, 3, 3, 2, -25, 2, 3, 42, 20, 2, 2, 3, 3, 3, 3, 3, 2, 3, 14, 3, 3, 2, 3, 3, -25, 2, -2, 17, 3, 3, 3, 2, 2, -17, 2, 3, 3, 3, 0, 3, 3, 25, 3, 3, 2, 19, 2, 3, 3, 3, 3, -3, 3, 3, 2, 3, 2, 2, 2, -8, 3, 3, 3, 2, 3, 3, 18, 3, 14, 3, 2, 3, 15, 2, 3, 3, -18, 3, 16, 3, 36, 3, 2, 2, 3, 3, -3, 3, 3, 3, 5, 2, 3, 3, -18, 3, 2, 3, 3, 3, 2, 3, 3, 2, 2, 3, 3, -24, 33, 3, -6, 3, 27, -17, 3, 2, 3, 3, 2, 2, 3, -12, -8, 3, -12, 2, -25, -33, 25, 3, 3, 3, -21, 29, 15, 3, 3, 3, 3, 3, -10, 3, -25, 3, 18, 3, 0, -6, 32, 3, 3, 3, 3, -17, 2, 2, -1, 3, 3, 2, 3, 3, 3, -10, 3, 3, 3, 2, 3, 3, 13, 3, 2, 23, 20, -57, 12, 4, 3, 3, 3, 2, -22, 2, 2, 3, 3, 3, 3, -6, 3, 3, 3, 2, 2, 6, 2, 3, 3, 3, 3, 3, 2, 3, 3, -7, 3, 3, 3, 3, 3, 3, 3, 3, 18, 25, 3, 3, 3, 3, -30, -8, 2, -33, 3, 3, 3, 24, 3, 6, 3, 3, 3, 2, 3, 3, 2, 2, 3, 3, 19, 2, 3, 3, 2, 3, 3, 3, 5, -8, 3, 4, 3, 10, 3, -12, 3, 3, 3, 1, 3, 2, 3, -25, 3, 3, 2, 3, 3, 2, -12, 2, -23, 3, -23, -29, 2, 17, 3, 3, 2, 3, 2, -11, 2, 2, 3, 25, 3, 8, 2, 3, 7, 22, 3, -4, 3, 2, 18, 2, 2, 30, -33, 3, -21, -11, -2, 2, 2, 2, 17, 8, 10, 12, 3, 2, 17, 2, -7, -24, 3, 3, 2, 31, 18, 2, 3, 2, 2, -17, 3, 2, 3, 3, -14, 3, 30, 6, 3, 2, 3, 3, 3, 3, 21, 3, -30, 3, 3, 2, 3, 2, -33, 3, 2, -19, 3, 3, -19, -4, 10, 2, 3, 2, -17, -22, 3, 2, 3, 2, 21, 2, -6, 3, 3, 2, 3, 2, 3, 2, 3, 1, 2, 2, 3, 2, -2, 3, 3, 3, 2, 2, 2, 2, 3, 3, 3, -29, 18, -9, 2, 3, 2, 2, 3, 3, 3, 2, 44, 3, 3, 3, 21, 2, 3, 3, -2, 5, 19, 3, 26, 3, 0, 3, 3, 3, 3, 3, -14, 3, 3, 2, -32, -4, 4, 2, 3, 3, 2, 6, 3, 3, 3, -2, 3, 3, 2, -10, 3, 3, 2, 2, 33, -3, 3, 3, 2, 2, -15, -21, -10, 8, 3, -13, 3, 3, 2, -7, 3, -12, 2, 8, 2, 3, 3, 3, -22, 38, 20, 4, 3, 3, 7, 31, -9, 2, 3, 3, -20, 2, 3, 2, 2, 16, 3, 3, 9, 3, 2, -17, 2, -3, 2, -18, -8, 3, 0, 3, 2, 3, 3, -9, 1, 3, 2, 3, 16, -13, 3, 3, 2, 2, -19, 2, 3, 3, 2, 1, 2, 3, 3, 2, 2, 3, -12, -4, 23, -15, 3, 2, 2, 3, 9, 2, 3, 3, 4, 2, 2, 8, 2, -3, 3, -4, 3, 3, 9, 3, 2, 2, -13, 3, 2, 3, 3, 2, 38, -39, 3, 2, 3, 3, -3, 3, 23, 3, 3, -32, 3, 2, 3, 2, 3, 11, 3, 7, -13, 3, 3, 3, 3, 2, 2, 3, 54, -26, 3, 2, 24, -5, 3, 3, 6, -54, -4, 17, 3, 2, 3, 2, -12, 3, -2, 2, 22, -10, 3, 2, 3, 3, -9, -1, -29, 3, 25, 3, -33, 2, 3, -17, 3, 2, 8, 3, 3, 3, -11, 2, 3, 3, 3, 3, 26, 2, 3, 2, 3, 19, 3, 3, 3, 15, -24, 2, 3, 2, 0, 3, 6, 14, 3, 3, 57, 2, -11, 2, 3, -9, 3, 2, 3, 3, 3, -9, 3, -6, -3, 9, 3, 2, 2, 3, 12, 3, 1, 3, 2, 3, 1, -1, -9, -17, 20, 3, 24, 5, 2, 2, 3, 3, -17, 3, 3, 3, 3, 2, 36, 15, 1, 2, 45, 2, 2, 3, 34, 3, 4, 3, 3, 3, 6, -12, 3, -18, 3, 3, 3, 3, -27, 3, -5, 19, 3, 3, 3, 2, 31, 28, 3, 1, -10, 2, 2, 30, 2, 2, 2, -27, -2, 2, 3, 3, 2, 3, 2, 2, -29, 2, 3, 50, 23, 3, 2, 2, 3, 2, -13, 2, 3, -5, 3, 3, 8, 15, 2, 3, 3, 3, 3, 2, 13, 17, 3, 3, -20, 3, -7, 3, 3, 3, 3, -17, -31, 3, 3, 3, 3, 3, 2, 3, 3, 2, 2, 3, 22, 3, 3, 3, 20, 3, 3, 3, 3, -27, 2, 2, 3, 3, 2, 3, 2, 3, 3, 0, 3, 3, 3, 1, 2, 3, 35, 2, 3, -17, 3, 3, 3, 3, 2, 21, 2, 3, 2, 20, 3, 22, 8, 35, 8, -9, 3, -28, 23, 3, 3, 3, 3, 26, 15, -1, 3, 2, 3, 3, -12, 4, 14, 17, 2, 3, 2, 3, 2, 2, 10, 2, 2, 3, -8, -25, 3, 1, 3, 6, 2, 2, 38, 3, -13, 3, -31, 13, 3, 2, 3, 3, 3, 3, 3, 3, -15, 3, 3, 3, 10, 9, 3, -28, 2, 3, 2, -57, -3, 3, 3, -19, 3, 3, 3, -16, 3, 3, 2, 2, 2, 2, 3, 2, 2, 2, 3, 6, 3, 3, -8, 3, 3, 2, -4, 3, 2, 17, 3, 3, -4, 17, 2, 3, 3, 2, 3, 3, 3, 2, 9, 3, 2, 2, 3, 3, 3, 16, 7, -8, 3, 2, 3, 2, 2, 3, -42, 27, 3, 10, 3, 2, 3, 6, 3, 3, 3, 3, 3, 3, 43, 3, 19, 3, 3, 2, 3, 3, 44, 8, 3, 3, 2, -36, 3, 3, -23, 2, 3, 15, 3, -13, 3, -1, 3, 3, 3, 3, 2, 3, 30, 3, 2, 2, 3, 2, 3, 2, 27, 19, 3, 3, 3, 2, 14, 10, 3, 3, -9, -15, 3, 2, 3, 3, 3, -13, 2, 3, 3, 2, 2, 2, 10, 2, 3, 3, 8, 3, 3, -10, 2, 3, 3, 3, 3, 3, -8, 2, 3, 3, 2, -11, -25, 3, 2, -7, 3, 3, 2, 35, -24, 2, 29, 3, -6, 3, -9, 3, 2, 25, 21, 2, 2, 3, -19, 9, 2, 3, 3, 2, 3, 3, -4, 3, 3, 3, 2, -4, 9, 3, 3, 3, 2, 3, -12, 2, 2, 2, 3, 3, 3, 27, 3, 6, -23, 3, 6, 2, 2, 2, 3, 3, 2, 3, 3, 2, 2, 3, 5, 3, -17, 2, 3, -18, 2, -3, 3, 3, 2, -12, 7, 3, 2, 3, 8, 2, -12, 3, 2, 2, 3, 3, 2, 3, 2, -2, 14, -11, 3, 25, -13, -5, 3, 3, 5, 3, 3, 2, 3, 3, 13, 3, -15, 33, -9, 3, 3, 3, 2, 3, 2, 3, -11, 3, 2, 2, 3, 3, 3, 2, 3, -1, 3, 3, -26, 3, 2, 2, 10, 2, 2, -27, -20, 3, 23, 7, 2, -10, 2, 3, -17, 14, 2, 2, 3, 7, 3, -7, -5, -22, 3, 5, -38, -18, 3, 5, 3, 3, 3, 3, 20, 2, 0, 3, -21, 2, 3, 3, 17, -22, 3, 3, -1, 2, 2, 3, 46, 3, 3, 2, 1, 40, 2, 2, 3, 3, 3, 3, 7, 2, 3, 35, 2, 3, 15, 3, 2, 3, 3, 20, 2, 10, 3, 3, 3, 2, 3, -10, -17, 2, 2, -18, 2, 3, 46, 3, 2, 3, 24, 3, 2, 2, 2, 3, 2, 3, -22, 2, 3, 3, 33, -2, 2, 4, 44, 2, 2, 2, 27, 3, 2, 3, -3, 2, 3, 3, 2, 3, 2, 2, 3, -32, 58, 55, -13, -11, -20, 3, 3, 3, 2, 3, 3, 3, 3, 3, 2, -8, 3, 3, -16, 26, 3, 3, 0, 16, 16, 3, 9, 34, 11, 3, 3, 31, 3, 3, 3, 3, 6, 2, -19, 2, 3, 3, 3, 2, -15, 22, 3, 2, 3, 3, -4, 3, 3, 9, -14, 16, 3, 3, 2, 3, 1, 4, 2, 5, 2, 3, 3, 2, 16, 3, 2, -15, -19, 24, 3, 3, 12, 3, 3, -3, 3, 2, 2, 2, 31, 2, 2, 3, 3, -24, 3, 3, 40, 3, -5, 3, 3, -17, 3, 2, 3, 23, 2, 3, 16, 3, 3, 2, 3, 2, 3, 2, 3, 3, 3, 2, 3, 2, 2, 3, -16, 2, -21, -25, 3, 3, 2, 3, 2, 3, 2, 2, 30, 3, 3, -3, 2, 2, 3, 3, 3, -5, 1, 23, 1, 6, 3, 2, 10, -36, 10, 19, -3, -8, -21, 3, 3, 2, -7, 3, 2, 42, 2, 2, 3, 3, 3, -17, -19, -34, 2, 3, 2, 3, 3, 3, -12, 3, 2, 3, -5, 2, 3, -16, 2, 3, 3, 3, 3, 3, 3, -11, 26, 3, 2, 1, 3, 3, 2, 14, -21, 3, 2, 19, -6, 3, -25, 13, -5, 3, 2, 27, 3, 31, 11, 28, 4, 40, 3, 3, 22, 30, 3, 2, 3, 3, 2, 41, 3, -41, -31, 3, 2, -2, 3, 3, 2, 2, 3, 3, 2, 3, 3, 2, 30, 2, -22, 12, 2, -18, 3, 2, 3, -5, 3, 2, -16, 3, -6, 3, 2, 3, 3, 24, -3, 2, 3, 2, 3, 27, 3, 13, 3, 49, -36, 3, 2, 3, 3, -29, 3, 21, 3, 3, 30, 3, 2, 10, 3, 18, 2, 3, 17, 2, 3, 3, 2, 3, 38, 28, 3, -8, 2, 12, 2, 2, 3, 2, 3, -3, 9, -7, 26, 3, 2, 3, 2, 3, 35, 15, 2, -13, 3, 2, 3, 0, 3, 3, 2, 2, 19, 39, 7, 18, -2, -19, 3, 2, 3, 18, -9, -3, 2, 3, 2, 14, 3, 2, 3, 3, 3, 19, 27, 3, 3, 3, 3, 3, 3, 2, 3, 3, 2, 2, 52, 22, 3, 2, -44, 2, 14, 16, -22, 2, 7, 23, -33, 3, -10, 3, 3, 2, 2, 5, -26, 3, 12, 2, 2, -13, 2, 3, 3, 3, 3, -13, 2, 3, 3, 2, 3, 3, -2, 3, 36, 2, -10, 3, 3, 3, 2, 3, 3, 19, 3, -19, 3, 3, 2, 2, 3, 2, 3, 16, 3, -35, 2, 20, 3, 22, 2, -6, -1, 3, -21, 3, 2, 2, 12, -7, -4, -6, 3, 3, 9, 2, 3, 8, 3, 3, 3, 3, 2, 3, 9, 3, 33, 3, 3, 3, 3, 2, 17, 3, 17, -42, 2, -3, 3, 18, 3, 2, 3, -6, 3, 3, -18, 2, 2, 2, 3, -27, 1, 17, 1, 2, -23, 3, 2, 11, 3, 26, -7, 4, 2, 2, -12, 2, -6, 15, -1, 3, 3, 3, 2, 3, 3, 3, 3, 9, 1, 3, 3, 3, -3, 2, 31, 3, 3, 3, -7, 2, 3, 2, 2, 3, 2, 2, 2, 2, 3, 3, 5, 2, 2, 2, 6, 22, 3, 13, 3, 19, 3, 3, 2, 2, 3, 2, 2, 19, 3, -24, 3, 20, 3, -32, 3, 3, 14, 2, -46, 3, 3, 10, 3, 3, 2, 3, 1, 3, 2, -1, -7, 2, 3, 3, 3, 2, 3, 3, 3, 30, -32, 2, -4, 14, 27, 3, 3, 8, 2, 3, 3, -6, 2, 3, 2, 24, 2, 26, 11, 3, -9, 3, 3, 2, -17, 3, 3, 3, 3, 5, -24, 2, 2, 3, -3, 3, -35, 3, 7, 3, 11, 14, 2, -6, 3, 10, 2, -15, -12, 42, 3, 3, 3, -5, 9, 2, 3, 3, 3, 2, 3, 3, 3, 29, 3, 3, -4, 3, 3, 3, 3, -5, 14, 4, 3, -5, 3, 1, 22, 3, 3, 3, 32, 3, 2, 3, 3, 23, 3, 3, 17, 3, 3, 20, -2, 3, 34, 2, 3, 3, 3, 5, 2, -13, 34, 2, 3, 3, 3, 2, 3, 29, 2, 3, 3, 8, 2, 3, 3, 3, 3, 3, 3, 3, 2, 3, -3, 3, 3, 3, -3, 6, 2, 2, 3, 3, 25, 2, 2, 24, 3, -10, -6, 2, 2, 3, 13, 3, 3, 3, 3, 5, 3, 8, 3, 3, -10, -3, -17, 2, -10, 3, 3, 6, 3, 3, 3, 3, 3, 3, 2, 3, -35, 2, 2, 2, 3, 3, -43, 3, 3, -2, 3, 2, 21, 12, 22, 3, 3, -10, 3, 3, -33, 3, 2, -40, 3, 3, 33, 14, 3, 3, 12, 3, -18, 3, 3, 2, 3, 3, 2, 3, -4, -13, 20, 3, 3, 3, 1, 3, 3, 18, 3, 3, 2, 13, 3, -11, -16, -29, -10, 0, 3, 3, 3, 3, 26, 2, 1, 2, 3, 14, 8, 3, -20, -41, 2, 2, -7, 3, 2, 27, 3, 3, 2, 6, 3, 3, -31, 3, 3, -24, 2, -20, -6, 3, 3, -6, 3, 3, 7, -19, -10, 3, -27, 3, -25, 3, 2, 3, 2, 11, 3, 3, 3, 3, 3, 3, 3, 3, 3, -1, -6, -1, -23, 3, 3, 33, 3, 2, 2, 3, 15, 2, 2, -3, -41, 3, 2, 3, 3, 3, 3, 3, -3, 3, -29, 3, 3, 2, -19, -10, 3, 3, 3, -13, 2, 2, 3, 2, 2, 3, 3, 40, 5, 2, 2, 15, 10, 5, 10, -7, 3, 3, -35, 2, -2, -6, 2, 2, 2, -8, 3, 3, 3, 3, 2, 2, 2, 3, 3, 3, 9, 3, 3, -13, 3, 5, 3, -14, 6, 2, 3, 3, 3, 3, 2, 3, 3, 2, 3, -10, 3, 3, -22, 3, -6, -32, 2, 3, -34, 3, 3, 3, 3, 1, 3, 3, 3, 3, 3, -20, -38, -36, 3, 3, 2, 2, 2, 3, 3, 3, 13, -16, 2, 3, 25, 3, 7, -9, 2, 13, 3, -16, 14, 3, -6, 2, 19, 3, 3, 2, 3, 3, 3, 2, 3, -4, 3, 3, 2, 3, -12, 3, 2, 2, -13, 3, 3, 3, 15, 8, 3, 3, 2, 9, 2, 3, 3, 3, 18, -32, 3, 3, 3, 2, 2, 28, 4, 8, 3, 2, 2, -11, 3, 2, 3, 13, 2, 2, 3, 26, 3, -32, 2, 3, 2, 2, 2, 3, 44, -51, 2, 3, 3, 2, -41, 3, 28, 3, 3, 3, 2, -15, 13, -19, 2, 25, 2, 3, 3, 3, 3, -12, -30, -8, 2, 3, 3, -37, -40, 2, 1, 13, 2, 2, 2, 27, 3, -9, 3, 2, -4, 3, 2, -14, -5, 3, 20, 3, 33, -7, 2, 17, 3, -13, 3, 2, 22, 2, 3, 30, 3, 3, -23, 3, 3, 42, -6, 3, 3, 2, 13, 2, 5, 3, 2, 2, 40, 3, 3, 3, 18, 2, 2, 3, 2, -18, 3, -17, 2, -58, -4, 2, 2, 2, 3, 68, 11, 3, 31, 3, 23, 3, 2, 2, -26, 3, 3, 3, 5, 26, 2, 2, 2, 3, -17, 3, 3, 2, -4, 3, 3, 3, 3, 3, 2, 3, 3, 13, 3, 3, 3, 2, 3, 2, 3, 3, -9, 3, 3, 2, 1, 3, 3, 3, -7, 3, 3, 3, 4, 3, -14, -32, 3, -1, -5, 3, 26, 40, 3, -10, 2, 3, -16, 3, 2, 3, 38, -14, 16, 0, 3, 3, 3, -17, 3, 3, 3, 3, 3, 3, -42, -7, 19, 2, 2, 2, 3, 3, 3, 3, 1, 3, 3, 9, 3, 3, 2, 13, 22, 38, 26, 2, -27, 14, 3, -11, 2, -14, 2, 3, -17, 3, 2, 2, 3, 3, -14, 3, -8, 2, 3, 7, -16, 2, 2, 3, 3, -21, 15, 3, -24, 2, 2, 3, -17, 3, 2, -7, 3, 2, 6, 3, -15, 2, 2, 3, -14, 3, -2, 3, 3, 3, 5, 2, -33, 4, 3, 3, 3, 2, 3, 3, 3, 3, -36, 3, 2, 3, 3, 2, 3, 2, 2, 3, 10, 2, -9, 3, 0, -5, 3, -6]\n"
     ]
    }
   ],
   "source": [
    "print(position1)"
   ]
  },
  {
   "cell_type": "code",
   "execution_count": 11,
   "metadata": {
    "collapsed": false
   },
   "outputs": [
    {
     "name": "stdout",
     "output_type": "stream",
     "text": [
      "10000\n"
     ]
    }
   ],
   "source": [
    "position1=position1[1:sample+1]\n",
    "print(len(position1))"
   ]
  },
  {
   "cell_type": "code",
   "execution_count": 12,
   "metadata": {
    "collapsed": false
   },
   "outputs": [
    {
     "name": "stdout",
     "output_type": "stream",
     "text": [
      "152\n"
     ]
    }
   ],
   "source": [
    "reactor=[]\n",
    "capture=[]\n",
    "through=[]\n",
    "\n",
    "num_r=0\n",
    "num_c=0\n",
    "num_t=0\n",
    "\n",
    "size1=np.arange(0,est_1+1,h)\n",
    "print(len(size1))"
   ]
  },
  {
   "cell_type": "code",
   "execution_count": 13,
   "metadata": {
    "collapsed": false
   },
   "outputs": [],
   "source": [
    "for j in range(est_1+1):\n",
    "    reactor.append(num_r)\n",
    "    capture.append(num_c)\n",
    "    through.append(num_t)\n",
    "    x = size1[j]\n",
    "    nt=0\n",
    "    nc=0\n",
    "    nr=0\n",
    "    for i in range(sample):\n",
    "        if position1[i] > x:\n",
    "            nt += 1\n",
    "        elif position1[i] > 0:\n",
    "            nc += 1\n",
    "        else:\n",
    "            nr += 1\n",
    "    if nr == 0:\n",
    "        num_r = 0.001\n",
    "    else:\n",
    "        num_r = nr\n",
    "    if nc == 0:\n",
    "        num_c = 0.001\n",
    "    else:\n",
    "        num_c = nc\n",
    "    if nt == 0:\n",
    "        num_t = 0.001\n",
    "    else:\n",
    "        num_t = nt"
   ]
  },
  {
   "cell_type": "code",
   "execution_count": 14,
   "metadata": {
    "collapsed": true
   },
   "outputs": [],
   "source": [
    "reactor_n=reactor[1:est_1+1]\n",
    "capture_n=capture[1:est_1+1]\n",
    "through_n=through[1:est_1+1]"
   ]
  },
  {
   "cell_type": "code",
   "execution_count": 15,
   "metadata": {
    "collapsed": false
   },
   "outputs": [
    {
     "name": "stdout",
     "output_type": "stream",
     "text": [
      "[1671, 1671, 1671, 1671, 1671, 1671, 1671, 1671, 1671, 1671, 1671, 1671, 1671, 1671, 1671, 1671, 1671, 1671, 1671, 1671, 1671, 1671, 1671, 1671, 1671, 1671, 1671, 1671, 1671, 1671, 1671, 1671, 1671, 1671, 1671, 1671, 1671, 1671, 1671, 1671, 1671, 1671, 1671, 1671, 1671, 1671, 1671, 1671, 1671, 1671, 1671, 1671, 1671, 1671, 1671, 1671, 1671, 1671, 1671, 1671, 1671, 1671, 1671, 1671, 1671, 1671, 1671, 1671, 1671, 1671, 1671, 1671, 1671, 1671, 1671, 1671, 1671, 1671, 1671, 1671, 1671, 1671, 1671, 1671, 1671, 1671, 1671, 1671, 1671, 1671, 1671, 1671, 1671, 1671, 1671, 1671, 1671, 1671, 1671, 1671, 1671, 1671, 1671, 1671, 1671, 1671, 1671, 1671, 1671, 1671, 1671, 1671, 1671, 1671, 1671, 1671, 1671, 1671, 1671, 1671, 1671, 1671, 1671, 1671, 1671, 1671, 1671, 1671, 1671, 1671, 1671, 1671, 1671, 1671, 1671, 1671, 1671, 1671, 1671, 1671, 1671, 1671, 1671, 1671, 1671, 1671, 1671, 1671, 1671, 1671, 1671]\n",
      "151\n"
     ]
    }
   ],
   "source": [
    "print(reactor_n)\n",
    "print(len(reactor_n))"
   ]
  },
  {
   "cell_type": "code",
   "execution_count": 16,
   "metadata": {
    "collapsed": false
   },
   "outputs": [
    {
     "name": "stdout",
     "output_type": "stream",
     "text": [
      "[0.001, 89, 2339, 6787, 6855, 6940, 7008, 7073, 7134, 7209, 7282, 7334, 7377, 7436, 7502, 7558, 7607, 7649, 7696, 7737, 7777, 7829, 7869, 7908, 7938, 7962, 7998, 8028, 8054, 8080, 8113, 8133, 8154, 8171, 8189, 8203, 8219, 8230, 8239, 8248, 8261, 8269, 8277, 8283, 8293, 8295, 8300, 8300, 8302, 8308, 8310, 8311, 8314, 8316, 8318, 8321, 8321, 8324, 8325, 8325, 8328, 8328, 8328, 8328, 8328, 8328, 8328, 8328, 8329, 8329, 8329, 8329, 8329, 8329, 8329, 8329, 8329, 8329, 8329, 8329, 8329, 8329, 8329, 8329, 8329, 8329, 8329, 8329, 8329, 8329, 8329, 8329, 8329, 8329, 8329, 8329, 8329, 8329, 8329, 8329, 8329, 8329, 8329, 8329, 8329, 8329, 8329, 8329, 8329, 8329, 8329, 8329, 8329, 8329, 8329, 8329, 8329, 8329, 8329, 8329, 8329, 8329, 8329, 8329, 8329, 8329, 8329, 8329, 8329, 8329, 8329, 8329, 8329, 8329, 8329, 8329, 8329, 8329, 8329, 8329, 8329, 8329, 8329, 8329, 8329, 8329, 8329, 8329, 8329, 8329, 8329]\n",
      "151\n"
     ]
    }
   ],
   "source": [
    "print(capture_n)\n",
    "print(len(capture_n))"
   ]
  },
  {
   "cell_type": "code",
   "execution_count": 17,
   "metadata": {
    "collapsed": false
   },
   "outputs": [
    {
     "name": "stdout",
     "output_type": "stream",
     "text": [
      "[8329, 8240, 5990, 1542, 1474, 1389, 1321, 1256, 1195, 1120, 1047, 995, 952, 893, 827, 771, 722, 680, 633, 592, 552, 500, 460, 421, 391, 367, 331, 301, 275, 249, 216, 196, 175, 158, 140, 126, 110, 99, 90, 81, 68, 60, 52, 46, 36, 34, 29, 29, 27, 21, 19, 18, 15, 13, 11, 8, 8, 5, 4, 4, 1, 1, 1, 1, 1, 1, 1, 1, 0.001, 0.001, 0.001, 0.001, 0.001, 0.001, 0.001, 0.001, 0.001, 0.001, 0.001, 0.001, 0.001, 0.001, 0.001, 0.001, 0.001, 0.001, 0.001, 0.001, 0.001, 0.001, 0.001, 0.001, 0.001, 0.001, 0.001, 0.001, 0.001, 0.001, 0.001, 0.001, 0.001, 0.001, 0.001, 0.001, 0.001, 0.001, 0.001, 0.001, 0.001, 0.001, 0.001, 0.001, 0.001, 0.001, 0.001, 0.001, 0.001, 0.001, 0.001, 0.001, 0.001, 0.001, 0.001, 0.001, 0.001, 0.001, 0.001, 0.001, 0.001, 0.001, 0.001, 0.001, 0.001, 0.001, 0.001, 0.001, 0.001, 0.001, 0.001, 0.001, 0.001, 0.001, 0.001, 0.001, 0.001, 0.001, 0.001, 0.001, 0.001, 0.001, 0.001]\n",
      "151\n"
     ]
    }
   ],
   "source": [
    "print(through_n)\n",
    "print(len(through_n))"
   ]
  },
  {
   "cell_type": "code",
   "execution_count": 18,
   "metadata": {
    "collapsed": false
   },
   "outputs": [
    {
     "name": "stdout",
     "output_type": "stream",
     "text": [
      "[  1   2   3   4   5   6   7   8   9  10  11  12  13  14  15  16  17  18\n",
      "  19  20  21  22  23  24  25  26  27  28  29  30  31  32  33  34  35  36\n",
      "  37  38  39  40  41  42  43  44  45  46  47  48  49  50  51  52  53  54\n",
      "  55  56  57  58  59  60  61  62  63  64  65  66  67  68  69  70  71  72\n",
      "  73  74  75  76  77  78  79  80  81  82  83  84  85  86  87  88  89  90\n",
      "  91  92  93  94  95  96  97  98  99 100 101 102 103 104 105 106 107 108\n",
      " 109 110 111 112 113 114 115 116 117 118 119 120 121 122 123 124 125 126\n",
      " 127 128 129 130 131 132 133 134 135 136 137 138 139 140 141 142 143 144\n",
      " 145 146 147 148 149 150 151]\n",
      "151\n"
     ]
    }
   ],
   "source": [
    "print(size1[1:est_1+1])\n",
    "print(len(size1[1:est_1+1]))"
   ]
  },
  {
   "cell_type": "code",
   "execution_count": 19,
   "metadata": {
    "collapsed": false
   },
   "outputs": [
    {
     "data": {
      "image/png": "[encoded data removed]",
      "text/plain": [
       "<matplotlib.figure.Figure at 0xac41ac4c>"
      ]
     },
     "metadata": {},
     "output_type": "display_data"
    }
   ],
   "source": [
    "size_array=np.array(size1[1:est_1+1])\n",
    "through_array=np.array(through_n)\n",
    "capture_array=np.array(capture_n)\n",
    "reactor_array=np.array(reactor_n)\n",
    "plt.plot(size_array,through_array,'-',label='through',color='red',linewidth=3.0)\n",
    "plt.plot(size_array,capture_array,'-',label='capture',color='blue',linewidth=3.0)\n",
    "plt.plot(size_array,reactor_array,'-',label='reactor',color='black',linewidth=3.0)\n",
    "plt.legend(bbox_to_anchor=(1.05, 1), loc=2, borderaxespad=0.)\n",
    "plt.xlabel('Size of the shield')\n",
    "plt.ylabel('Number')\n",
    "plt.show()\n",
    "\n",
    "\n",
    "\n"
   ]
  },
  {
   "cell_type": "code",
   "execution_count": 20,
   "metadata": {
    "collapsed": true
   },
   "outputs": [],
   "source": [
    "P_through=through_array/sample\n",
    "P_capture=capture_array/sample\n",
    "P_reactor=reactor_array/sample\n",
    "\n",
    "size1=size1[1:est_1+1]"
   ]
  },
  {
   "cell_type": "code",
   "execution_count": 21,
   "metadata": {
    "collapsed": false
   },
   "outputs": [
    {
     "name": "stdout",
     "output_type": "stream",
     "text": [
      "-0.123954802572 -1.53211587607\n",
      "2.1404943361246334\n"
     ]
    }
   ],
   "source": [
    "m_through,b_through=np.polyfit(size1,np.log(P_through),1)\n",
    "print(m_through,b_through)\n",
    "\n",
    "\n",
    "fit_t=m_through*size1+b_through\n",
    "uncertainty_t=(1/tmax)*np.sum((fit_t-np.log(P_through))**2)#Standard Deviation\n",
    "print(math.sqrt(uncertainty_t))"
   ]
  },
  {
   "cell_type": "code",
   "execution_count": 22,
   "metadata": {
    "collapsed": false,
    "scrolled": true
   },
   "outputs": [
    {
     "name": "stdout",
     "output_type": "stream",
     "text": [
      "0.00628700627454 -0.824179419776\n",
      "10.515313154807057\n"
     ]
    }
   ],
   "source": [
    "m_capture,b_capture=np.polyfit(size1,np.log(P_capture),1)\n",
    "print(m_capture,b_capture)\n",
    "\n",
    "\n",
    "fit_c=m_capture*size1+b_capture\n",
    "uncertainty_c=(1/tmax)*np.sum((fit_t-np.log(P_capture))**2)#Standard Deviation\n",
    "print(math.sqrt(uncertainty_c))"
   ]
  },
  {
   "cell_type": "code",
   "execution_count": 23,
   "metadata": {
    "collapsed": false
   },
   "outputs": [
    {
     "name": "stdout",
     "output_type": "stream",
     "text": [
      "-8.24981595752e-18 -1.78916284338\n",
      "9.79138661720806e-16\n"
     ]
    }
   ],
   "source": [
    "m_reactor,b_reactor=np.polyfit(size1,np.log(P_reactor),1)\n",
    "print(m_reactor,b_reactor)\n",
    "\n",
    "\n",
    "fit_t=m_reactor*size1+b_reactor\n",
    "uncertainty_r=(1/tmax)*np.sum((fit_t-np.log(P_reactor))**2)#Standard Deviation\n",
    "print(math.sqrt(uncertainty_r))"
   ]
  },
  {
   "cell_type": "code",
   "execution_count": null,
   "metadata": {
    "collapsed": true
   },
   "outputs": [],
   "source": []
  },
  {
   "cell_type": "code",
   "execution_count": null,
   "metadata": {
    "collapsed": true
   },
   "outputs": [],
   "source": []
  }
 ],
 "metadata": {
  "anaconda-cloud": {},
  "kernelspec": {
   "display_name": "Python [conda root]",
   "language": "python",
   "name": "conda-root-py"
  },
  "language_info": {
   "codemirror_mode": {
    "name": "ipython",
    "version": 3
   },
   "file_extension": ".py",
   "mimetype": "text/x-python",
   "name": "python",
   "nbconvert_exporter": "python",
   "pygments_lexer": "ipython3",
   "version": "3.5.2"
  }
 },
 "nbformat": 4,
 "nbformat_minor": 1
}
