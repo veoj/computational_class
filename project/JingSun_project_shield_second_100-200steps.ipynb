{
 "cells": [
  {
   "cell_type": "code",
   "execution_count": 1,
   "metadata": {
    "collapsed": true
   },
   "outputs": [],
   "source": [
    "import random as ran\n",
    "import numpy as np\n",
    "import pylab as py\n",
    "import matplotlib.pyplot as plt\n",
    "from scipy.optimize import curve_fit\n",
    "import math as math\n"
   ]
  },
  {
   "cell_type": "code",
   "execution_count": 2,
   "metadata": {
    "collapsed": false,
    "scrolled": false
   },
   "outputs": [
    {
     "data": {
      "image/png": "[encoded data removed]",
      "text/plain": [
       "<matplotlib.figure.Figure at 0xad96a24c>"
      ]
     },
     "metadata": {},
     "output_type": "display_data"
    },
    {
     "name": "stdout",
     "output_type": "stream",
     "text": [
      "1.00025299857\n",
      "200\n"
     ]
    }
   ],
   "source": [
    "h=1\n",
    "tmax=200\n",
    "tpoints=np.arange(0,tmax+1,h)\n",
    "#print(tpoints)\n",
    "\n",
    "sample=10000\n",
    "s_points=np.arange(0,sample+1,h)\n",
    "\n",
    "mean=100\n",
    "standard=20\n",
    "A0=1/(standard*math.sqrt(2*3.14))\n",
    "Z=(tpoints[1:tmax+1]-mean)/standard\n",
    "dist=A0*np.exp(-1*(Z**2)/2)\n",
    "\n",
    "#print(dist)\n",
    "plt.plot(tpoints[1:tmax+1],dist)\n",
    "plt.show()\n",
    "\n",
    "print(sum(dist))\n",
    "print(len(dist))\n",
    "\n"
   ]
  },
  {
   "cell_type": "code",
   "execution_count": 3,
   "metadata": {
    "collapsed": false
   },
   "outputs": [
    {
     "name": "stdout",
     "output_type": "stream",
     "text": [
      "200\n"
     ]
    }
   ],
   "source": [
    "dist_0=dist[0]\n",
    "for i in range(tmax-1):\n",
    "    if i == 0:\n",
    "        dist[i]=dist_0\n",
    "    else:\n",
    "        dist[i]=dist[i]-dist[i-1]\n",
    "        \n",
    "#print(dist)\n",
    "print(len(dist))"
   ]
  },
  {
   "cell_type": "code",
   "execution_count": 7,
   "metadata": {
    "collapsed": false
   },
   "outputs": [
    {
     "name": "stdout",
     "output_type": "stream",
     "text": [
      "100\n",
      "100\n",
      "141\n",
      "65\n"
     ]
    }
   ],
   "source": [
    "dist2=dist[0:100]# steps from 1 to 100\n",
    "dist1=dist[100:200]# steps from 101 to 200\n",
    "print(len(dist1))\n",
    "print(len(dist2))\n",
    "\n",
    "frac1=ran.uniform(0,dist1[0])\n",
    "est_1=mean+(standard*math.sqrt(-2*np.log(frac1/A0)))\n",
    "\n",
    "est_1=int(est_1//1)\n",
    "\n",
    "print(est_1)\n",
    "\n",
    "\n",
    "\n",
    "frac2=ran.uniform(0,dist2[99])\n",
    "est_2=mean-(standard*math.sqrt(-2*np.log(frac2/A0)))\n",
    "\n",
    "est_2=int(est_2//1)\n",
    "\n",
    "print(est_2)\n"
   ]
  },
  {
   "cell_type": "code",
   "execution_count": 8,
   "metadata": {
    "collapsed": false
   },
   "outputs": [
    {
     "name": "stdout",
     "output_type": "stream",
     "text": [
      "142\n",
      "66\n"
     ]
    }
   ],
   "source": [
    "e1points=np.arange(0,est_1+1,h)\n",
    "e2points=np.arange(0,est_2+1,h)\n",
    "\n",
    "print(len(e1points))\n",
    "print(len(e2points))"
   ]
  },
  {
   "cell_type": "code",
   "execution_count": 9,
   "metadata": {
    "collapsed": true
   },
   "outputs": [],
   "source": [
    "first=1\n",
    "p_same=2/3\n",
    "p_change=1/3"
   ]
  },
  {
   "cell_type": "code",
   "execution_count": 10,
   "metadata": {
    "collapsed": true
   },
   "outputs": [],
   "source": [
    "ele=first\n",
    "pos1=first\n",
    "position1=[]\n",
    "pos2=first\n",
    "position2=[]"
   ]
  },
  {
   "cell_type": "code",
   "execution_count": 11,
   "metadata": {
    "collapsed": true
   },
   "outputs": [],
   "source": [
    "up=2\n",
    "down=-2\n",
    "right=1\n",
    "left=-1"
   ]
  },
  {
   "cell_type": "code",
   "execution_count": 12,
   "metadata": {
    "collapsed": false
   },
   "outputs": [],
   "source": [
    "# loop for capture possibility\n",
    "for i in s_points:\n",
    "    position1.append(pos1)\n",
    "    ele = 1\n",
    "    # 2nd move        \n",
    "    if ran.random() > p_change:\n",
    "        ele += right\n",
    "        test = right\n",
    "    else:\n",
    "        if ran.random() > 1/2:\n",
    "            ele += 0*up\n",
    "            test = up\n",
    "        else:\n",
    "            ele += 0*down\n",
    "            test = down\n",
    "    # 3rd move  \n",
    "    if test == right:\n",
    "        if ran.random() > p_change:\n",
    "            ele += right\n",
    "            test = right\n",
    "        else:\n",
    "            if ran.random() > 1/2:\n",
    "                ele += 0*up\n",
    "                test = up\n",
    "            else:\n",
    "                ele += 0*down\n",
    "                test = down\n",
    "    else:\n",
    "        if test == up:\n",
    "            if ran.random() > p_change:\n",
    "                ele += 0*up\n",
    "                test = up\n",
    "            else:\n",
    "                if ran.random() > 1/2:\n",
    "                    ele += left\n",
    "                    test = left\n",
    "                else:\n",
    "                    ele += right\n",
    "                    test = right\n",
    "        else:\n",
    "            if test == down:\n",
    "                if ran.random() > p_change:\n",
    "                    ele += 0*down\n",
    "                    test = down\n",
    "                else:\n",
    "                    if ran.random() > 1/2:\n",
    "                        ele += left\n",
    "                        test = left\n",
    "                    else:\n",
    "                        ele += right\n",
    "                        test = right\n",
    "        # 4th and later move\n",
    "        for t in range(3,est_1+1):\n",
    "            if test == right:\n",
    "                if ran.random() > p_change:\n",
    "                    ele += right\n",
    "                    test = right\n",
    "                else:\n",
    "                    if ran.random() > 1/2:\n",
    "                        ele += 0*up\n",
    "                        test = up\n",
    "                    else:\n",
    "                        ele += 0*down\n",
    "                        test = down\n",
    "            else:\n",
    "                if test == up:\n",
    "                    if ran.random() > p_change:\n",
    "                        ele += 0*up\n",
    "                        test = up\n",
    "                    else:\n",
    "                        if ran.random() > 1/2:\n",
    "                            ele += left\n",
    "                            test = left\n",
    "                        else:\n",
    "                            ele += right\n",
    "                            test = right\n",
    "                else:\n",
    "                    if test == down:\n",
    "                        if ran.random() > p_change:\n",
    "                            ele += 0*down\n",
    "                            test = down\n",
    "                        else:\n",
    "                            if ran.random() > 1/2:\n",
    "                                ele += left\n",
    "                                test = left\n",
    "                            else:\n",
    "                                ele += right\n",
    "                                test = right\n",
    "                    else:\n",
    "                        if test == left:\n",
    "                            if ran.random() > p_change:\n",
    "                                ele += left\n",
    "                                test = left\n",
    "                            else:\n",
    "                                if ran.random() > 1/2:\n",
    "                                    ele += 0*up\n",
    "                                    test = up\n",
    "                                else:\n",
    "                                    ele += 0*down\n",
    "                                    test = down\n",
    "    pos1 = ele\n"
   ]
  },
  {
   "cell_type": "code",
   "execution_count": 13,
   "metadata": {
    "collapsed": false
   },
   "outputs": [
    {
     "name": "stdout",
     "output_type": "stream",
     "text": [
      "[1, 2, 2, 24, 2, 3, 3, 3, 2, 3, 2, 0, 3, 24, -28, -5, 3, 2, -30, 3, 3, 3, 3, 3, -8, 40, 3, 3, 2, 3, 3, 3, -26, 3, -4, 3, 2, 2, 14, 2, 2, 3, 2, 3, 3, -9, 2, 3, 3, 3, 3, 21, 3, 3, 3, -22, 3, 2, 2, 2, 3, 3, 3, 2, 3, 2, 3, 3, 12, 11, 2, 2, 3, 3, 3, 3, 2, 2, 45, 3, 3, -12, -22, 2, 3, 3, -8, 3, 3, 2, -17, 3, 9, 3, 3, 3, 2, 3, 3, 3, 3, 3, 3, 10, 7, 10, -1, -4, 3, 3, -30, 3, 14, -15, -14, 2, -18, 2, 3, -9, 2, 3, 11, -11, 3, 3, 3, -18, 15, 2, 3, 31, 3, -11, -4, 0, 3, 3, -10, 3, 2, 2, 3, 2, 3, -15, 3, 3, 2, 2, 16, 3, 2, 2, 3, -19, 2, 26, 3, 2, 3, 3, 2, 1, -2, 22, 3, 3, 2, -4, 3, 3, 3, 2, 3, 3, 2, 3, 3, 3, -1, 2, 15, 3, 3, 3, 3, 6, 3, 2, 20, 3, -44, -26, -23, 3, 3, 3, 3, 2, 3, 3, 2, -7, 3, 3, 3, 3, 3, 3, -5, 3, 3, 2, 3, 3, 2, 3, 2, 16, 31, 3, 3, 2, 3, 2, 3, 3, 3, 2, 2, 3, 3, -14, 2, 3, 8, 2, 18, 14, -29, 3, 3, 3, 3, 30, 3, 3, 3, 3, 3, 3, -5, 11, 10, 2, 3, 3, 2, 2, 3, 2, 3, 3, 3, 3, 3, -10, 3, 2, -14, 3, 3, 2, 3, 13, 3, 2, 19, 2, 11, 2, 3, -11, 5, 14, 2, 20, -26, -9, -14, 0, 3, 3, 2, 2, 2, 3, 3, 3, -15, 2, 2, 2, 1, 2, 2, 38, 3, 2, 2, -25, 3, -36, 13, 2, 3, 2, 1, 3, 4, 3, 3, -23, -2, 3, 3, 2, 3, -12, 2, -28, 12, 3, 3, -21, 3, 4, 2, 32, 3, 3, 3, 3, 3, 2, 47, -8, 3, 3, 4, 3, 3, 2, 2, 3, 3, 2, -9, 2, 5, 3, 3, 2, 2, 2, 2, 8, 2, 2, 3, 3, 2, -14, 3, 3, -7, 3, -10, 9, 3, -3, 2, 2, 3, 3, 3, -4, 3, 3, -4, 2, 2, 3, 3, 3, -9, 3, -18, 2, 15, -32, 3, 0, 3, 2, 18, 3, 20, 3, 2, 3, 3, 15, 3, 3, 18, 3, 3, 3, -20, 5, 3, 3, -27, -16, 3, 2, 16, 2, 2, -23, 3, -8, 2, -8, 2, 13, 3, 2, 2, 3, 14, 2, 3, 2, 2, 3, 3, 1, 3, 2, 3, 3, 14, 2, 3, 2, -2, 9, 3, 3, 3, 3, 3, 3, 3, -41, 3, 2, 2, 3, 15, 3, 3, 2, 3, 3, 2, 3, 2, -13, -21, 2, 2, 12, 3, 3, 2, 3, 34, 3, 2, 2, 3, 1, 2, 11, 2, 23, 3, 2, 3, 23, 3, 2, 3, 3, 3, 3, 8, 3, 24, 3, -13, 3, 3, 3, 31, -7, 2, 2, 2, 2, 3, 3, 10, 2, -22, 3, -6, 2, 3, -10, -6, 3, 2, 3, 3, 3, 3, 3, 15, 3, 2, 24, -5, -8, -28, -10, 2, 29, 3, 3, 3, 3, -25, 3, 2, 3, 3, 3, 2, 3, 3, -13, -1, -5, 3, 2, 3, 10, 2, 2, -10, -35, 3, -22, 2, 2, 3, 3, 3, 2, 2, 3, 3, 3, 3, 2, 24, -22, 2, 3, -7, 3, 2, -1, 2, 12, 3, 3, -2, 3, 3, 20, 1, 2, 2, 2, 3, 3, 3, 2, -30, 3, 3, 10, 2, 2, 2, 3, -12, -51, 2, 3, 3, 3, 3, 3, 2, 9, 3, -8, 2, 2, 3, 2, 3, 3, 2, -5, 2, 8, 3, 13, 8, 2, 3, 3, 3, 2, 3, 2, -1, 22, 2, 3, 3, 7, 2, 6, 3, 3, 3, 2, 3, 3, 2, -27, 3, 36, 3, 3, 3, 2, 3, 2, 2, 3, 3, 2, 3, 2, 3, 2, 2, 2, 2, 2, 3, -12, 2, -9, 3, 17, 3, 3, 3, 3, 3, 12, 3, 3, 3, -3, -2, 3, -12, 3, 2, 3, 3, 3, 12, 3, 2, 3, -31, 3, 3, 3, 2, 3, 3, 2, 9, 2, 2, 3, 2, 2, -17, 3, 3, -6, 3, 2, 3, 23, 19, 3, 2, 3, 2, 3, 3, 3, 19, -9, -9, -16, 7, 3, 6, 3, 3, 3, 3, 3, 3, 3, 3, -7, 3, -21, 3, 3, 2, 3, 2, 3, -21, 9, 2, 4, 28, 3, 3, 2, -10, 3, -29, -8, 2, 3, 3, -13, 3, 3, 2, 3, 3, -10, 2, -16, 3, 2, 3, -7, 3, 18, -5, 3, -22, 20, 2, 2, -8, 31, 3, 23, -11, 2, 3, 3, 3, 2, 2, 3, 2, 3, 3, 2, 11, 47, 3, 2, 3, 3, 3, 2, -6, 3, 2, 3, 2, 3, 3, 3, 3, 2, -9, 2, 3, 2, 3, -10, 2, 2, 2, -33, 24, 3, 3, 3, 2, 9, 2, 3, -10, 3, 3, 1, 2, 2, 3, 3, 2, 3, 2, 3, 3, 3, 2, 3, 3, 31, 28, 2, 2, 9, 3, 2, 2, 8, 32, 3, 3, 2, 3, 3, 2, 3, 3, 2, 3, 15, 3, -2, 2, -2, -7, 2, -15, 3, 3, 2, 4, -42, 3, -8, 3, 2, -8, 3, 22, 3, 3, 3, 2, 3, 5, 3, 3, 3, 3, 3, -25, 15, 2, 3, 2, 3, 3, 21, 13, 3, 3, 3, 23, 3, 3, 3, 9, 3, 3, 2, 3, 2, 3, 0, 21, 2, 10, 3, 2, 2, 4, -11, 2, 3, -24, 2, -7, 5, 3, 2, 3, 3, 2, 28, 3, 15, 4, 0, 3, 3, 24, 3, 3, 3, 2, 2, 3, 3, 3, 3, 3, -5, -15, 2, 3, 2, 3, 13, 3, 3, 3, 3, 9, 3, 13, 2, 18, 2, 3, 3, 3, 3, 3, 2, 2, 3, 3, 11, 11, 3, 3, 2, 3, 3, 3, 14, -9, 2, 29, 2, 3, 3, 3, 2, 3, 3, 3, 19, -14, 9, -38, 3, 35, 2, 2, 3, 3, 7, 3, -2, -15, 3, -13, 45, 2, 3, -5, 22, -22, 3, 3, 13, -23, 2, 10, 3, 3, 2, 3, 3, 3, 2, 3, 3, -21, 2, 2, 3, 3, -32, 3, 3, 2, 2, 3, 3, 2, 2, 3, 3, 25, 2, 32, 3, 3, 3, 3, 3, 12, 3, -17, -1, 3, 2, -17, 3, 3, 3, 3, 3, 3, -28, 22, 3, 3, 12, 5, 3, 2, -2, 2, 28, 28, 3, 2, 2, -2, 2, 3, -9, 2, 8, 16, 3, -16, 2, 0, 2, 2, 3, 2, -9, 3, 3, 3, -9, -13, 0, 2, 2, 3, 22, 2, 3, 2, 3, 2, 3, 2, 3, -14, 3, 3, -2, 6, -1, 3, 8, -2, 3, -11, 3, -4, -10, 3, 18, 3, -5, 3, 4, -26, 3, -10, 3, 3, 2, -26, 3, 2, 2, 6, 3, 2, 3, 3, 3, 3, 3, -23, 3, 2, 44, 3, 2, 3, 2, 2, -21, 2, 2, 3, 2, 2, 2, 3, 2, 2, 2, 3, 3, 19, 2, 3, 3, 3, -4, 3, 2, 2, 2, 33, 7, 3, 3, 3, 0, 28, 3, 3, 3, 2, 2, 3, -12, 2, 3, 2, -27, 14, 3, -4, 28, 13, -4, 3, 6, 3, -21, 3, 6, -39, -26, -21, 2, 3, -5, -24, 3, 3, 2, 3, 3, -7, -24, 4, 9, 2, 3, 3, 3, 3, 41, 2, 2, 2, 3, 2, 3, 3, 16, 3, -7, 21, -25, 2, 3, 2, 3, 3, 2, 3, 3, 2, 3, 3, 3, -32, 3, 2, 4, 5, 3, 3, 14, 3, 3, 2, 3, 3, 3, 3, 2, 5, 3, -14, 3, 19, -20, 2, 2, 3, 2, 4, -13, 3, 2, -5, -6, -20, 8, 3, 3, 3, -15, 3, 3, 2, 31, 3, 2, 35, 3, 3, -12, 2, 2, 3, 3, -5, 3, 8, 3, 23, 2, 3, 2, 3, 3, 3, 15, 2, 3, -16, 3, -4, 2, 3, 3, 28, 3, 1, 2, 2, 2, 8, 2, 3, 3, -13, 24, 3, 3, 3, 3, 3, 3, 3, 19, 3, 2, -1, 3, 2, 3, 3, 3, 3, 3, 3, 4, 14, 3, 41, 2, 2, 3, -33, 3, 16, 2, 3, 3, 3, 3, 3, -2, 3, -25, 2, 21, 33, 3, 3, 3, 3, -23, 2, 13, 3, -3, 1, 2, 3, 2, 3, -25, 33, 2, 2, 2, 2, 0, 3, 3, 2, 18, 2, 3, 3, 3, 3, 3, -10, 2, 2, -4, 3, 2, 3, 2, -4, 3, 3, 3, 2, 22, 3, 3, 3, 3, 3, 3, 3, 2, 3, 3, 3, -1, 6, 2, 3, 3, 2, 3, 3, 3, -9, -13, 3, 18, 3, 2, 3, 32, -25, 7, 3, 3, 2, 3, -3, -23, 3, 18, 31, 3, 14, 10, 12, 3, 26, 1, 3, 5, -6, 8, 3, 31, -26, 2, 2, 2, 2, -14, 2, 3, -13, 2, 20, 3, 16, 3, 2, 3, 1, 3, 11, 2, -6, 3, 6, 31, -7, -9, -4, 3, 3, 3, 3, -27, -19, -19, 2, 3, 2, 3, 3, 2, 3, -1, 3, -5, 2, 3, -14, 3, 3, 2, 6, 24, 2, 3, 2, 3, -4, -4, -8, 2, 3, 17, 2, 3, 2, 15, 3, 2, 2, 3, 20, 5, 2, 3, 3, 14, 3, 6, 2, -5, 3, -8, -21, 2, 3, 3, 20, 3, 3, 3, 3, 3, 3, 2, 3, 3, -3, 3, 3, 9, 7, 15, 3, 2, 25, 5, 2, 3, 3, 3, 3, 3, 2, 3, 2, 2, 3, 2, 3, -13, 38, 3, 2, 3, -26, 2, -14, 7, -16, 3, 2, -24, 3, 3, 22, 33, 3, 3, 2, 12, 2, 3, 3, 3, 3, 7, 3, -8, 3, 14, -22, 3, 34, 3, 2, 2, 2, 3, -18, 3, 28, 3, 8, 17, 3, 21, 3, 0, 2, 3, 2, 3, 13, -20, -22, 2, 0, 2, 3, 3, -8, 3, 2, 3, 2, 23, 6, 3, 3, 3, 2, 3, 30, -7, 21, 3, 3, 2, 6, 3, 3, 3, 3, 3, 3, 0, 2, -39, 2, 2, 15, 16, 3, 23, 3, -17, 25, 25, 3, 2, 41, 32, 2, 28, 2, -10, 3, 5, 3, 2, 3, 2, -18, 31, 2, 3, 38, 2, -6, 3, 3, 2, 2, 2, 3, 3, 3, 3, 3, 3, 3, 3, 3, 3, 3, 2, 2, -9, 2, -12, 42, 2, 2, 26, -5, 16, -2, 7, 3, 3, 3, 3, 3, 3, 2, -13, 3, 2, 18, 3, -7, 2, 2, 2, -4, 2, 3, 23, 3, 3, 11, 3, 3, 3, 28, -8, 3, 2, 2, 2, 2, 3, 3, 3, 3, 3, -8, 15, 2, 3, 3, 2, 3, 2, -6, 3, 3, 3, 3, 2, -26, 3, 19, 2, 21, 3, 3, 6, -10, -36, 3, 3, 2, 2, 3, 3, 3, -7, 3, -1, 3, 3, 3, -34, 26, 3, 32, 3, 2, 8, 3, 3, 3, -40, -8, 3, 12, 2, -13, -2, -30, 8, -23, 3, 3, 16, 3, 3, 2, 3, 4, 2, 11, 3, -25, 27, 21, 3, -14, 3, 2, -6, 3, 3, 3, -7, 3, 2, 2, 3, -22, 3, 3, 2, -16, 2, 3, 9, 3, 3, 3, 24, 2, 34, 3, 3, 2, 24, 2, 19, -6, 3, 27, 8, 3, 3, 8, 17, 3, 2, 2, 2, 3, -12, -19, 3, 31, 3, 3, 3, 15, 2, -20, 2, 2, 16, -29, 3, 3, 20, 2, 3, 3, 23, -1, 3, 3, -4, 3, 3, -16, 2, 2, 3, 3, 3, 2, 3, 3, -11, 3, -8, 2, 3, -19, 2, -19, 3, 2, 20, -9, 3, 3, 2, 3, 2, 2, 2, 31, 3, 2, 3, 2, -3, 3, 2, -21, 34, 2, 3, 15, 3, 3, 2, 41, 3, 3, 3, 3, 3, 51, 2, 43, 3, -6, 3, 3, 10, 3, 3, 22, -39, 2, 51, 3, 19, 3, 2, 2, -8, 30, 3, 3, 3, 8, 2, 3, 3, 2, 3, -16, 2, -29, -5, 2, 3, 2, -18, 2, 2, 2, 3, 3, 3, 2, -12, -8, 2, -14, 3, 3, 3, 3, 3, 3, 3, 3, 3, -20, 2, -25, 2, 3, 2, 3, 3, 3, -2, 3, -22, 3, 2, -11, 7, 3, 3, 2, 3, 2, 3, 3, 3, 2, -21, 3, 3, 3, -23, 2, 3, 3, 3, 8, 14, 11, 3, -12, -3, 3, 2, 2, 3, 3, -18, 1, 4, 2, 28, 3, 2, 3, 10, 3, 3, 3, 3, 3, 2, -65, 3, 3, -14, 3, 3, 3, 3, -8, 20, 3, 3, 2, 3, 3, 23, -15, 3, -6, 3, 2, 25, 2, 2, 3, -2, 2, 2, 36, -31, 3, -1, 3, 41, 3, 3, -12, 2, 3, 3, 3, 3, -29, -25, 3, 2, 2, -29, 3, 3, 3, 0, 2, 3, 3, 10, 2, 2, 37, -11, 3, 2, 3, 2, 2, -24, 2, 2, 8, 3, 3, 2, -12, 2, 3, 3, 3, 33, 29, 3, 3, 3, 3, 2, 3, 3, 3, 14, 33, -37, 3, 2, 2, 39, 2, 23, -1, 3, 3, 0, 3, 2, 16, 3, -2, 2, 6, 3, 3, -3, -7, 3, 15, -5, 2, -14, 3, 3, 2, 3, 3, 32, 3, 3, 2, 21, 2, 3, 2, 3, -6, 2, 3, 16, 3, 3, -18, 3, 3, 3, 2, 3, 8, 3, 3, 12, 15, 2, 3, 3, 2, 0, 2, -3, 24, 14, 3, 3, 2, 7, 3, 3, 3, -5, 3, 3, 3, 3, -12, 3, 3, 6, 25, 3, 2, 2, 3, 3, -1, 2, 5, 2, 28, 2, 3, 2, 3, -2, 3, -30, 21, 3, 2, 34, 3, 3, -21, 5, 3, 3, 2, -14, 3, 32, 3, 3, -18, 3, 3, 3, 3, 2, 3, 2, 11, -8, 2, 21, 3, 3, 16, 0, -3, 3, 3, 3, -20, 2, 3, 3, 0, 3, 3, 2, 3, 3, 3, 2, 3, -24, 2, 2, 3, -2, -19, -27, 19, 3, 26, 2, 2, 3, 3, 2, -4, 2, -14, 2, 2, 3, -26, 2, 3, 3, 8, 4, 3, 2, 14, -15, 16, -13, 3, 8, 2, 25, 2, 15, -18, 3, 3, 3, 3, 3, 2, -3, 3, 3, 3, 17, -4, 5, -24, 2, 3, -44, 2, 2, 2, -13, -2, 2, 23, 11, 3, 3, 3, 14, 2, 3, 3, 3, 3, 2, 3, 33, 2, 7, 2, 3, 3, 3, 3, -34, 2, 2, 3, 3, 14, -12, 2, 23, 7, 3, 22, 2, 3, -4, 2, 3, 3, -24, 3, 23, 2, 3, 40, 3, 2, -38, -12, 3, 26, 10, 2, 2, 2, 3, 2, 3, 18, 3, 3, 4, 2, -39, -11, 3, 3, 3, -27, 3, 2, 3, 2, 3, 3, 2, 44, 2, 2, -16, 2, 2, -4, 3, 3, -2, 3, 2, -30, 3, 3, -42, 2, 3, 3, -29, 3, 2, -25, 3, 2, 2, -1, 4, 5, -13, 3, 3, 3, 3, 3, 19, 3, -18, 3, 37, 16, -17, 3, 16, 3, 2, 1, 3, 3, 3, 19, 3, 3, 3, -13, 2, 3, 10, 16, 3, 3, -4, 3, 0, 3, 2, -13, 16, 10, 2, 2, 3, 3, 2, -16, 3, 2, 2, 3, 2, 3, 3, 2, 3, 11, 2, 3, 3, 3, -42, 3, 3, 2, 3, 3, 2, -10, 3, 6, 40, 2, 3, 11, -6, -33, 3, 3, 3, 10, 2, 1, 3, 3, 39, 3, 3, 3, 3, 2, 2, 2, -35, 3, 2, 3, -16, 2, 2, 0, 3, 3, 3, 3, -14, 3, 2, 2, -8, 1, 3, -1, 3, 3, -3, 2, 3, 2, 3, -3, 28, 2, 3, 3, 3, 3, -20, -7, 3, 3, 3, 2, 3, 3, -1, 3, 2, 38, 54, 3, 16, -18, 7, 3, 2, 3, 4, 3, 3, 2, 2, 3, -25, 3, 3, 2, 2, 3, 3, -22, -18, 2, 17, 3, 3, 2, 2, -3, 2, 2, 3, 3, -23, 3, 3, 3, 3, 3, 2, 3, 3, 3, -8, 3, 3, 3, 11, 2, 3, -4, 3, 3, 12, 3, -8, 3, 2, 2, 3, -5, -14, 6, 3, 3, -5, 3, 4, 11, 3, 2, 2, 3, 2, 3, 2, 25, 12, 23, 3, 3, -2, 9, -15, 2, 3, 4, -4, 2, 0, 2, 3, -19, -5, 3, 3, 2, 3, -15, -28, -15, 3, 2, 21, 0, 3, 3, 3, 3, 3, 20, 3, 15, 2, 2, 2, 0, 0, 3, 3, -10, 12, 3, 2, 14, 2, 3, -24, 3, 2, 3, 3, 3, 3, 27, 3, 2, 3, 3, 3, 2, 11, 21, 3, 3, 2, 3, 3, 22, 3, 29, -31, 3, 3, 3, -14, -17, 2, 2, 3, 3, 3, 5, 2, 2, 3, 8, 3, -41, 3, 3, 43, 3, 3, -20, 3, -16, 8, 5, -6, 3, 3, 3, 3, 3, 2, 12, 7, 3, 3, 3, 3, 2, 9, -16, 3, 3, 2, -4, 2, 29, 3, 2, 33, 8, 2, 3, 2, 3, 3, 3, 3, 4, 3, -3, 3, 3, -25, 3, -7, -6, 2, 3, 3, 2, 2, 3, 2, 16, 2, 3, 40, 2, 2, 3, 2, 2, 6, 2, -29, 2, 3, 13, 3, 3, 3, -16, 3, 3, -26, 2, 3, 6, 2, 3, 3, 3, 9, 37, 33, 3, 3, 26, 14, 3, -36, 3, 3, 2, 3, 2, 3, 2, 3, 3, 3, 3, 3, 18, 3, 3, 3, 19, -1, 3, 3, 2, 3, -16, 3, 21, 13, -2, 12, 17, 3, 2, 20, 2, 3, 3, -45, 3, 3, 3, -2, 2, -28, 2, 3, -25, 2, 3, 2, 2, 3, 3, 3, 3, 22, 3, 2, 13, 12, 3, 2, -16, 3, 2, 2, -4, 23, 3, -2, 3, 19, 13, 3, 2, 3, 20, 3, 2, 2, 3, 3, 2, -6, 3, 3, -10, 3, 3, 3, -29, 3, 3, 3, 2, 3, 3, 3, 1, 3, -21, 3, 26, 22, 3, 3, 3, 18, 14, 9, 21, 3, -6, -10, 2, 3, 2, 21, 3, 2, 10, 3, 8, 3, 3, -29, 3, 2, 16, 3, -14, 3, 3, -24, 3, 3, 24, 2, 15, -27, 9, -19, 3, 2, 2, 2, 3, 2, 3, 3, 3, 30, 3, 8, 2, 3, 3, 3, 3, 3, -8, -15, 3, 1, 44, 2, -12, 3, 2, 31, 2, 3, 3, -1, 3, 3, 2, 2, 2, 3, 3, 37, -8, 3, 3, 12, 3, 2, -13, 2, 17, -17, 3, 31, 7, 3, 20, 2, 3, -21, 2, 3, -18, 2, 11, 3, 3, 2, 3, 3, -3, 2, -8, -17, 2, 3, 2, -15, 2, 3, -25, 3, 33, -28, 3, -31, 3, 3, 1, 3, 3, 17, 3, 2, 2, 33, -10, 2, 2, 16, -22, 28, 3, 3, 2, 3, 2, -17, 52, 11, 2, 3, 3, -2, 1, 2, 3, 3, 3, 3, 3, 3, 2, -14, 3, 1, 3, 3, 2, 39, 19, -8, 3, 3, 3, 3, 3, 15, 2, 2, 3, 7, 3, 21, 3, 3, 3, 30, -42, 3, 2, 3, 0, 2, -11, 3, 3, 3, 2, -6, 21, 3, 2, 28, 2, 3, -2, 3, 2, 3, 2, -27, 3, 2, -21, 3, 3, -34, 2, 3, 3, 3, -31, 3, 3, 2, 2, 3, -14, 3, 2, -5, 3, 3, 20, 3, 3, 3, -4, 3, 3, 3, 15, 3, 3, 2, 3, 2, 3, 2, 19, -14, -11, 3, -9, 3, 3, -4, 15, 3, 3, -17, 3, -2, 27, 2, 3, 3, 3, 17, 3, -7, 13, -28, 3, 16, 7, 2, 2, 3, 2, 3, 3, 7, 3, 3, 3, 7, 20, 3, 3, 38, -32, 16, 2, 3, 3, 3, 3, 3, 3, -39, 3, 3, 3, 2, 3, -32, 2, 2, 2, 0, 2, 3, -23, -15, 40, 2, -6, 15, 2, 2, 3, 23, -3, 26, 3, 7, 2, 3, 3, 3, 2, 3, 3, 3, 3, 2, 14, 2, -37, -14, -2, 2, 3, 3, 3, 3, 3, 11, 2, 2, 3, 3, 2, 2, 6, 3, 3, 28, 2, 3, 3, 12, 14, 22, 3, 2, -6, 17, 2, -32, 3, 5, 14, 3, 3, 3, -15, 2, 3, 3, 7, 23, 3, 3, 2, -7, -9, 3, 2, 3, 2, -19, -9, 3, 2, 3, 1, 2, 3, 3, 2, 3, 3, -14, 3, 8, 3, 2, 3, 3, 3, 3, 14, 3, 2, -32, 29, 41, 2, 0, -5, 2, 3, 8, 7, -7, 3, 3, 3, 2, -14, 27, 38, 2, 19, 2, 4, 2, 2, 2, 3, 3, 3, 2, 8, 2, -5, 3, 14, 2, 2, -1, 2, 2, 2, 2, 2, -9, 2, 2, 3, 2, 3, 23, -2, -26, 3, 2, 4, 2, 3, -8, 20, 3, 3, -8, 17, 3, -29, 3, 2, 18, 3, 3, 39, -9, -13, 3, 3, 3, 3, 3, 3, 3, 2, 3, 17, 0, -16, 2, 3, 2, 3, 3, 3, 2, 3, 2, 25, 3, 2, 2, 9, 2, 2, 3, 3, 3, 3, 3, 2, -36, 2, 3, 3, 3, 2, -9, -16, 3, 3, 29, -9, 3, 3, 3, -6, 3, 3, 8, 3, -7, 3, 19, -1, -7, 3, 3, 25, 3, 3, -29, 3, 3, -35, -6, 3, 3, 3, 3, 3, 2, 3, 3, 3, 2, 3, 3, 3, 3, 22, 2, 18, 30, 3, 3, 2, 3, 12, 3, 2, -3, 2, 2, 3, 2, 3, 3, 15, 3, 3, 3, 3, 3, -16, 3, 3, 3, 3, -2, 3, 5, 44, 35, -10, 3, 3, 2, 2, 3, 3, -46, 2, 3, 3, 3, 2, 2, -5, 2, 3, 2, 3, 1, 3, 3, 2, 2, 18, 3, -14, 3, 27, 9, 2, 3, 3, 2, -5, 3, 3, 31, 8, 3, 2, -11, -13, 2, 3, 3, 3, 3, 10, 3, -8, -8, 3, 3, 22, 3, 3, 2, 2, 23, 3, 24, 3, 3, 2, -16, 3, 3, 3, 2, 2, 2, 2, 21, 3, 2, -15, 3, 3, -15, 3, 3, -25, 3, -11, -14, 8, 3, 2, 3, 21, 3, 3, 3, 2, -1, -27, -2, 20, 3, 2, 15, 21, 2, 2, 4, 2, 3, 3, 3, 13, 2, 3, 3, 3, 2, 2, 2, 3, 2, 2, 3, 7, 11, 19, -2, 3, 3, 7, 15, 3, 2, 3, 3, 3, 3, 2, 3, 1, -30, 2, 3, -7, 3, 3, 5, 3, 3, 20, 3, 2, 3, 2, 2, 3, 3, 25, 12, 8, 3, 3, 2, 11, 3, 3, -13, -18, 2, 2, 2, 2, -1, 3, -30, 3, 2, 2, 3, -3, 3, -1, 2, -17, 2, 3, 44, 2, -18, 13, 2, 3, 2, 3, 2, 9, 28, 2, 3, 2, 29, 3, 8, 3, 26, 33, 2, -34, 2, -27, 3, 3, 8, 3, -8, 3, 3, 3, 22, 3, 2, 10, 3, 2, 2, 32, -8, 3, -2, 20, 3, 2, 3, 3, 10, 2, 3, 3, 2, 3, -1, 14, 2, 19, 3, 3, 2, 3, 3, 3, 2, -10, 2, -7, 2, 22, 2, 3, 2, -19, -2, 3, 2, 3, 2, 3, 3, 2, 2, 0, 3, 3, 3, 3, 2, 2, -6, -7, 3, 2, 18, 2, 3, 3, 2, 3, 3, 2, 3, 3, 2, 2, 2, 25, 3, -21, 2, 2, -12, -14, 2, 4, 3, 43, 10, 3, -24, 2, 3, 8, 3, 3, 2, 3, 12, 3, 3, -1, 3, 3, 2, -2, 3, -23, 3, 2, 3, 15, 2, 3, 3, 3, 25, 3, 6, 31, 2, 3, 3, 3, 2, 3, 3, 21, -26, 3, 2, 2, 3, -46, 3, 3, 3, 3, 3, 2, 3, 20, 13, 3, 19, 3, 3, -18, 3, 2, 2, 5, 3, 3, 14, 11, 13, -14, 2, 3, 3, 3, 3, 3, 3, 27, 17, -42, 3, 2, 2, 7, 2, 3, 3, 3, 3, 3, -2, 3, 2, 3, -4, 3, 3, 2, -10, -11, 3, 3, 2, 3, 3, 2, 2, 6, 2, 3, 7, 11, 3, -19, 3, 0, 3, -11, 3, 3, 3, -13, -1, 3, 9, 3, 2, 3, 2, 3, 3, -14, 2, -9, 2, 4, -15, 3, 2, 2, 3, 2, 3, 3, 2, 1, 30, -1, 3, 3, 2, 3, -4, 5, -8, 1, 3, -1, 3, 3, 3, 3, 3, 3, 3, 2, 3, 3, 2, 8, 3, 3, 17, -3, 0, 2, 3, 3, 3, 11, 3, 11, 27, 3, 3, 3, 3, 3, 3, 3, 2, 3, -1, 3, 3, 3, 3, 3, 2, 21, 3, 3, 2, -26, 3, 3, 3, 22, 3, 6, -17, 2, 3, 3, -12, 3, 2, 2, 3, 3, 2, 2, 2, 3, 3, 38, -21, 3, 3, -21, -6, 3, 3, 3, 3, -9, 3, 1, 2, 3, 3, 2, 3, 3, 3, 9, 3, 3, 3, 3, 3, -33, -38, 3, 2, 3, 2, -4, 3, 2, 2, 3, 20, -12, 2, 8, 3, 3, 9, -19, 9, 2, 3, 3, -15, 3, 3, 2, 8, 3, 3, 3, 2, 3, 3, 2, 2, -3, 3, 35, 3, 2, 15, -25, 7, -14, 3, -6, 2, 3, 7, -32, 20, 3, 3, 2, 21, 1, 3, 3, 2, 3, 3, 3, 3, 3, -7, -4, 5, -24, 3, 2, -19, 32, 3, -20, 2, 17, 3, 3, 3, 3, 11, -4, -21, 2, 3, 2, -24, 31, 3, -1, 3, 26, 3, 2, 2, 12, -28, 3, 2, 2, 3, 3, 33, 3, 3, 3, 6, 3, 2, 31, 3, 2, 3, 2, 9, -18, 3, 3, 2, 2, 2, 3, -4, 2, 14, 27, 3, 3, 20, 2, 3, 3, 2, -18, -12, 3, 27, -19, -21, 3, 2, 2, 3, 2, -12, 3, 2, 3, 2, 6, 30, 2, -3, 20, -25, 3, 9, 2, 3, 2, 3, 10, 2, 2, 3, 3, 28, -4, 3, -11, 3, 5, 3, -18, 3, -14, 3, 3, 3, 3, 2, 3, 3, 3, 3, 1, 2, 3, -20, 20, 1, -25, 3, 3, -38, 2, 2, 2, 2, 6, 2, 3, 3, 2, 16, 3, 3, -6, 3, 3, 2, 15, 2, 3, 18, 3, 2, 3, 3, -29, 3, 3, 2, 2, 25, 26, 2, 3, -10, 3, -9, -16, 2, 2, 3, 2, 3, 3, 3, 3, 3, 2, 19, 3, 2, 3, 2, 2, 3, 3, 3, -21, 3, 3, 2, 8, 3, 3, 9, -33, 20, 15, 2, 3, 3, 2, 3, 3, -6, 0, 3, 3, 3, 2, 2, 2, -2, 2, 2, 3, -15, -12, 3, 3, 3, 3, 2, 2, 2, 3, 3, 2, 3, 2, 3, 3, -10, 11, 28, -29, 3, 6, 35, 11, 2, 2, 2, 2, 3, 4, -8, 3, 2, 3, 3, 3, 5, 3, 3, 2, -4, 2, -14, 3, 6, 3, 4, 3, 3, 2, 3, 3, 3, 3, 3, 2, 3, 15, 2, 3, 2, 3, 10, 2, -4, -36, 3, 2, 3, -2, 3, 3, 3, 3, 3, 20, 3, 5, -11, 0, 2, 2, 4, 3, 2, 2, 2, 3, 14, 3, 3, 3, 3, -14, -19, 3, -9, 3, -12, -9, 3, 3, 3, 3, 2, 2, 3, 3, 3, 26, 2, 3, 18, 8, 3, -28, 2, 3, 18, 2, 3, 3, 18, -5, -9, 2, 3, 3, 3, 3, 2, -5, 3, 2, -1, 3, 14, 3, 3, 3, 2, 3, 3, 3, 18, 2, -27, 2, 3, 2, 3, 3, 2, -20, 3, -23, 3, 2, 17, 2, 3, 11, 2, 3, 27, 3, 3, 3, -29, 3, 11, 18, 3, 3, 3, 5, 3, -3, 3, -1, 11, 5, 3, 2, -10, 3, 15, 2, 5, -1, 3, 3, 3, 3, 3, 3, 3, 2, 3, 3, 3, 3, 3, 3, 3, -16, 2, 11, 47, 2, 2, 2, -4, 3, 2, 3, 2, 3, 3, 2, 3, 3, 3, 3, 3, 3, 3, 3, 2, 32, 1, 3, 3, -8, 3, -1, 3, -10, 2, 3, 3, 3, -2, 3, 10, 3, -4, 3, 4, 3, 19, -3, -12, 3, 3, 3, -8, 2, 3, -23, -2, 3, -1, 11, 2, -21, 2, 5, 12, 2, 3, 3, 3, 17, 3, 2, 9, 3, 3, 6, -14, 8, 3, 3, 2, 3, 3, 16, -19, -14, 10, -20, -26, 3, 3, -12, 3, 3, 3, 2, 1, 2, 3, 2, 30, -15, 15, 2, 3, 2, 3, 3, 2, 3, 3, 13, -24, 3, -17, 3, 3, 3, 2, 9, 3, -13, 10, 3, 3, -16, -8, 3, 34, 23, 2, 3, 3, 3, 3, 3, 2, -9, 2, 35, 2, 3, 8, 25, 3, 3, 2, 3, -24, -8, 3, 3, 3, 2, 2, -1, 3, -9, 3, 3, 15, 12, 3, 2, 2, 17, 10, 8, 3, 3, 15, 3, 16, 3, 39, -9, 2, 2, 2, 3, 8, -2, -6, 3, 3, 5, 35, 2, 3, 3, 2, 3, 3, 5, 3, 3, -2, 3, 3, 3, 3, 3, 2, 21, 2, 3, -1, 3, 31, 3, -12, 3, 2, -13, 3, 2, 2, 3, 3, 2, 2, 3, 22, 6, 3, 2, 3, 1, 3, -6, -32, -9, 3, 3, 3, 2, 3, 3, 2, 22, 3, 3, 23, 26, 7, -12, 2, -17, 2, 14, 13, 17, 2, 2, 2, 2, 3, 2, 9, -8, 3, 2, 3, 2, 19, 2, 2, 26, 2, 3, 3, -28, 2, 3, 0, 2, 3, 3, 3, 9, 3, -3, 3, 3, 3, 11, -12, 3, 3, 18, 3, 3, 3, 3, 3, -14, 3, 2, -19, 2, 2, 17, 2, 3, 3, 3, 16, 3, 3, -7, 8, -18, 3, 3, 3, 2, 3, 2, 3, 3, 2, 3, 3, 38, -28, 12, 3, 3, 3, -4, 3, 3, -13, 3, -3, 3, 15, 3, 3, 3, 2, 2, -19, 3, 2, -4, 3, 3, 3, 35, 3, 32, 3, 2, 2, 2, 2, 2, 2, 3, -5, 2, 3, 2, 3, 2, 2, 3, 3, 21, 3, 3, 2, 3, 2, 3, 3, 2, 3, -6, 27, 1, 3, 2, 3, 2, 8, 3, 2, 3, -14, 3, -16, 2, 3, 2, 2, 2, 3, 3, 3, 3, 28, 2, 3, 2, 2, 3, 29, 2, -8, 7, 2, 3, 3, 3, 2, -14, 2, 2, 3, 2, 3, 3, 3, 3, 21, -22, 2, 16, 2, 2, -16, 3, 3, 51, 0, 10, -2, 48, 3, 3, 3, 20, 3, 3, 12, 3, 2, 3, 3, 2, -12, 2, -11, 3, 2, 3, 3, 3, 3, 2, 3, 2, 27, 2, 2, -27, -7, -10, 3, 2, 1, 3, -19, 3, 3, 3, 3, 2, 20, -3, 25, 3, -5, -10, 2, 2, 3, 3, 8, 3, 2, 2, 2, 3, 3, 2, 3, 3, 3, 2, -17, 3, 3, 15, 3, 3, -9, 3, 3, 3, -17, 22, 17, 2, -12, 10, -7, -8, 2, 3, -34, 3, 3, 17, 3, 3, -20, 3, 22, 3, 3, 3, 3, 2, 3, -20, 2, 3, 3, 2, -20, 2, 2, -1, 0, 3, 3, 10, 2, 3, 19, 3, 3, 8, -39, -22, 3, -15, 3, 3, 2, 18, 5, 3, 26, 3, 2, 14, 2, 3, 16, -6, 3, 3, 2, 2, -14, 3, 3, 13, 3, 3, 3, 3, -21, 3, 3, 2, 2, -24, 2, 3, 2, 3, 6, 3, 3, 9, -15, -11, 3, 3, 2, 2, 2, 3, 3, 3, 3, 19, 3, -16, 3, 34, 8, 8, 31, 2, 2, 3, 2, 2, 2, 3, 3, -8, 3, 3, -33, 2, 3, -33, 3, 3, 3, 2, 3, 32, 2, 1, 2, 3, 4, 3, 3, 3, 16, -13, 3, 2, 3, 3, 2, 5, 3, 3, 3, 3, -3, 3, 5, 3, -17, 3, -20, 2, 3, 3, 2, -10, 2, 23, 2, 2, 18, -27, 2, -2, -29, 3, 13, 2, 2, 21, 3, 3, 3, 3, 2, 2, -3, 3, -2, 2, -22, 3, 3, 2, 10, 3, 3, 2, 2, -21, 3, -13, -1, 2, 2, 2, 3, -33, 49, 3, 2, 4, 3, 2, 2, 16, 39, 3, -45, 3, 3, 3, 1, 3, 2, 2, 2, 3, 3, 2, 3, 2, 3, 3, 2, 3, 3, -7, 3, 2, 3, 3, -16, 10, 3, -2, 2, 3, 3, 3, -7, 3, 11, 3, 2, 3, 3, 3, 3, 2, 2, 3, 2, 2, 3, 2, 3, -14, 7, 3, 3, 27, -17, 3, 3, -13, 3, 3, -4, 3, 3, 2, 3, -16, -1, 3, 2, 3, 3, 3, 3, 3, 12, 3, -10, 3, -6, 3, -19, -37, 2, 3, 3, 3, 18, 3, 3, 3, 3, 2, 12, 3, 2, 2, 3, 2, -1, -20, 3, 3, 6, 3, -6, 16, 3, 2, 3, 2, 3, -12, 2, 3, 3, -25, 3, 24, 20, 3, 3, 2, 3, 3, 3, 2, 2, 2, 2, 3, 3, 2, 3, 3, 3, 3, 3, 3, 3, 2, 2, 3, 3, -5, 3, 3, 3, 2, 3, 2, 2, 2, 3, 2, 3, 3, 3, -15, -9, 23, 2, 3, 2, 3, -23, 3, 3, -32, 2, 3, 3, 3, -23, 3, 3, 3, 3, 2, 3, 3, 3, 3, 3, -17, 3, 5, 7, -4, -26, 14, 3, 3, 3, 3, 2, -23, -5, 3, 2, 3, 2, 3, 3, -18, -6, 3, 3, 3, 3, 3, -20, -18, -16, 3, 3, 2, 3, 3, 18, 1, 19, 3, 3, 2, -1, 2, 3, 2, 3, 24, 3, 3, 3, 2, 25, 3, -28, 3, 2, 3, -7, 3, 3, 2, 3, -11, 3, 2, 16, -17, 2, -1, 2, 2, 3, -22, -4, -9, 2, 3, -20, 20, 3, -7, 3, 11, 3, 3, 2, 2, 3, 2, 3, 3, 3, 3, 3, 16, 19, 3, 9, 2, -9, 3, 19, 2, 3, 2, 28, 3, 37, 3, 3, 3, 3, 9, 40, 3, 3, -8, 3, 2, -6, 3, 2, 2, -43, 3, 3, 3, 13, 3, -5, 3, 3, 3, 3, 7, 2, 3, 3, 3, 2, 3, 22, 3, 10, 2, 27, 3, 3, 3, 2, 2, 11, 3, 28, 42, 3, 2, -4, 3, 9, 15, 3, 8, 3, 2, -20, 3, 3, -18, 3, 2, 3, -5, 3, 16, 3, 2, 2, 2, -2, 3, -12, 2, 2, 3, 3, 3, 12, -18, 2, -18, -7, 33, 3, 3, 2, 2, 2, 2, 3, 3, 2, 3, 2, 2, -23, 2, 2, 2, 3, 2, 3, -20, 3, 2, 3, -25, 2, 3, 2, 33, 3, -36, -26, 3, 3, 3, 3, 3, 2, 3, 3, -25, 2, -10, 2, 3, 3, 2, 30, 2, 2, -9, -10, 20, 3, 3, 3, -16, 1, -13, 3, 23, 9, -12, -16, 3, 20, 2, 3, 3, -14, 3, 3, -4, 21, 3, 3, 14, 3, 3, 2, -40, 3, 3, 2, 3, -11, -27, 2, 27, -6, -34, 2, 3, 3, 3, 3, 2, 3, 3, 2, 3, 3, 3, 3, 2, 3, 3, 14, 3, -12, -2, 2, 51, 3, 2, 5, 3, 30, 3, -24, 2, 3, 45, 3, -6, 3, 2, -20, 3, -24, 3, 2, 3, 2, 3, 3, 3, 3, 2, 3, -19, 3, 2, 3, 10, 3, 2, 4, 2, 3, 19, -19, 3, 0, 3, 2, 2, 3, -55, 3, 2, 12, 3, 3, 2, -12, 3, 3, 2, 3, 2, 2, 2, 3, 19, 0, 2, 2, 3, 3, -46, -2, 26, 2, 8, 3, 3, 3, 9, 2, 3, 3, 3, 3, 3, 3, 3, 14, 3, 2, 2, 3, 3, 3, -7, 2, 3, -16, 2, 3, 15, -8, 3, -17, -13, 3, 3, 3, 3, 20, 17, 27, 3, 10, -16, 2, 3, 17, 2, 2, -18, 3, 2, 3, 16, 3, 37, 2, 3, 2, 48, 3, 3, 25, 15, 2, 2, 21, 3, -12, -43, 3, 3, 3, 3, 3, 9, 2, -44, 2, 4, 3, 24, 3, 3, 3, 3, 3, 2, 2, 13, -14, 2, 3, 3, -11, 3, -12, 6, 2, 21, -33, 3, 33, 22, 3, 0, 2, -21, -21, 3, 3, 2, 2, 2, 2, 2, 3, 2, -3, 3, 3, 3, 3, 2, -28, 3, 3, 2, 3, 12, 28, 3, 15, 2, 3, 2, -28, 0, 3, 8, 11, 3, -36, 2, 3, 2, 2, 24, 3, 5, -3, 3, 3, 3, 3, 2, -17, 3, 3, -4, 3, 2, 2, 2, 3, 2, 2, 2, 3, 6, 3, 3, 3, 2, 3, 2, 2, 14, 3, -2, 2, 3, 3, 3, 3, -3, 2, 2, 3, -20, 3, 3, -28, 13, 3, -7, 3, 5, 2, 3, 3, 2, 3, 2, 2, 3, 3, 2, 3, 3, 2, 2, 3, -16, 3, 3, 3, 3, 3, 3, 3, 3, 19, 29, 2, 3, 2, 2, -2, 2, 3, 48, 2, 3, -28, 59, 2, -3, 3, 3, -8, 20, 3, 3, 3, 25, 3, 23, 28, 3, 3, 3, 3, 3, 3, 3, 3, -6, 3, 2, 3, 2, 3, 24, 3, -11, 2, -28, 2, 2, 2, 2, 3, 2, 3, 19, 3, 14, 10, 3, 9, -43, 3, 2, 7, 2, 3, -6, 3, 3, 3, 19, -17, 13, 3, 3, 21, 2, 3, 18, -8, 2, 2, 3, 3, 3, 2, 2, 2, -14, 2, 3, 3, -5, 2, -19, 2, 3, 3, 3, 9, -11, 3, 3, 3, 3, 3, 2, 2, 3, 2, -37, 3, 3, -10, 3, -31, 3, 3, -3, -2, 3, 3, 5, 2, 2, 2, 3, 3, 2, 3, 3, 3, 3, -11, 27, 3, 3, 2, 3, 30, 3, 2, 2, 2, 3, -16, 3, 3, 2, 3, 2, -9, 3, 3, 18, 3, 3, -1, 3, 2, 28, 4, 3, -18, 3, 1, 3, 2, 3, 3, -4, 30, 3, 4, 3, 3, -5, 7, 2, -22, 3, 3, 3, 3, 3, 3, 3, 2, 3, 2, 3, 3, 20, 3, 25, 20, 2, 8, 2, 2, 3, 26, 34, 3, 3, 3, 5, 2, 3, -11, 3, 3, 3, 3, 4, 3, -25, 3, 23, 3, -14, 2, 5, 3, 3, 2, -26, 3, 3, 2, -8, 3, 3, 3, 2, 10, 3, -22, 2, 2, 2, 33, -35, 10, 3, -18, 20, 2, 2, -34, 27, 3, 3, 3, 3, 19, 2, 3, 3, 2, 3, 3, 3, -31, 15, -27, 2, 3, 2, -8, 3, 3, 3, 5, 3, 3, 6, 2, 2, -4, 3, 2, 2, 25, 3, 3, 3, -3, -11, 23, 12, 3, 2, 2, 3, -18, 3, 3, 21, 14, -5, 3, 3, 3, -22, -8, 13, 3, 3, 2, 25, 3, -25, 2, -14, 2, 2, 2, 3, 3, 10, 34, -3, 6, 10, -18, 3, 3, 3, 2, 2, 3, 20, 3, -14, 1, 9, -14, 2, 2, 3, -21, 3, 3, -22, 3, 3, 3, 3, -7, 3, 8, 3, 3, -23, 7, 2, 3, 2, 4, 3, 11, 2, 3, 2, 46, -8, 21, 2, 3, 2, 3, -7, 3, 3, 2, 3, 25, 3, 2, -48, 2, 2, 3, 2, 5, -29, 2, 2, 3, 47, 2, 3, 3, 2, 3, -13, 27, 3, 3, 2, 3, 3, 3, 2, 2, 2, -8, 3, 19, 2, 3, -12, 19, 2, 3, 2, 2, 3, 2, 11, -38, -13, 17, -16, 3, 3, -19, 3, 5, 2, 3, 2, 2, 3, 3, 3, 3, -14, 3, -23, 3, 2, 3, 2, 2, 2, 3, 11, 3, -16, 3, 3, 3, 3, 2, 3, 4, 12, 18, -10, 3, 3, 2, 3, 3, 3, -1, -14, -6, 18, 14, -40, 3, -28, 3, 2, 3, 5, -19, 3, 3, 2, 3, 3, 3, 3, 3, 2, 2, 3, 3, 3, 3, 2, -22, 3, 2, -8, 3, 2, 3, 3, 3, 3, 3, 4, 3, 8, 1, -3, 3, -7, 34, 2, -11, 7, 3, 8, -16, 3, -14, 2, 3, 14, 34, 3, 33, -2, 10, 27, 2, -3, 3, 3, 3, 2, -11, 3, 3, 3, 3, 26, 3, -1, 3, 25, -2, 3, 3, 2, -2, 2, 2, 3, 2, 3, 3, 3, 2, 3, 26, 2, 2, 25, 3, 3, 8, -11, 0, -2, 3, 12, -4, -17, 41, 2, 3, 3, 3, 2, 2, -7, 3, 2, -2, -11, 2, -4, 2, 3, 3, 3, -3, -17, -15, 2, -17, 24, 2, 19, 3, 3, 27, 2, 3, 3, 2, -9, 3, 3, -8, -29, 3, 2, 16, 9, -8, 3, 19, 18, 10, 3, 3, 3, 3, 3, 2, 2, 3, 3, 2, 3, -16, 2, 3, 3, 2, 18, 2, 3, -21, -22, -7, 3, 2, 3, 16, 3, 3, 2, 3, -8, 5, 2, 3, 3, 3, 3, 3, 19, 3, 2, 3, 3, 3, 3, 2, 3, 4, -7, 3, 16, -45, 3, 3, 3, 3, 3, -23, 28, 2, 1, 2, 3, 3, 2, 34, 3, -21, 3, 12, 3, 3, 35, 3, 2, 4, 3, 2, 3, 29, 45, 3, 3, 3, 2, 3, 3, 2, 2, 3, 3, 3, 3, 3, 3, 2, 2, -2, 2, 3, 3, -10, 3, 3, 3, 3, 3, 2, 2, -7, 8, 3, -22, 3, 2, -3, -15, 2, 3, 3, 2, 3, 2, 20, 15, 2, -18, -5, 3, 3, 15, 2, 6, 3, -7, 2, 2, -13, 3, 3, 13, 12, 11, 31, 3, 3, 3, 3, 2, 2, -13, 8, 3, 3, 2, 2, 3, -2, 3, 3, 3, 3, 2, 3, -8, 3, 7, -16, 19, 16, 2, -36, 29, 3, 3, 3, 2, 3, 3, -35, 20, 10, -5, 3, 14, 3, -4, 2, 2, 2, 3, 2, 3, 3, 3, -24, 3, -18, -10, 3, 2, 3, 2, 3, 2, 3, 3, 3, 2, 2, -32, -2, 2, -32, 3, 3, 3, 2, 3, 3, 3, 3, 2, 3, 3, 3, 3, 3, 3, 4, -19, 14, 3, 2, 3, 3, 3, 2, -3, 3, 2, 3, -61, 3, 3, 2, 3, 2, -16, 3, 24, -31, 3, 3, 3, 19, 3, 3, -8, 3, 3, -5, 3, 3, 2, 2, 3, 2, 3, -11, 2, 3, 26, 25, 2, 3, 3, 3, 3, 3, 2, 2, 3, 3, 3, 3, 3, 0, 13, 2, 3, 2, 3, -8, -3, 3, -35, 0, 3, 26, 3, -10, 2, 18, 2, 2, -24, 3, 3, 2, -15, 3, 2, 2, 2, 3, -20, 2, -19, 20, 3, 3, 3, -20, 8, 7, -7, 3, 2, 3, 20, 3, 2, 25, 2, 18, 3, 3, 3, 15, 3, 5, 3, 2, 3, 3, 21, -6, 2, 3, 3, 3, 2, 2, 3, 2, 2, 34, 3, -10, 3, 3, 2, 3, 2, 3, 4, 2, 3, 13, 3, -1, -2, 2, 3, 2, 2, 2, 2, 3, 3, 2, 3, 3, -10, 2, 3, -51, 3, 2, 2, 3, 1, 3, 3, 2, 2, 42, 24, 4, 2, 3, -13, 2, 2, -6, 2, -2, -5, 2, -17, 3, -33, -40, 2, 3, 2, 2, 3, -11, 2, 3, 3, 2, 3, 3, 2, 3, 2, 3, -26, -26, 3, -44, 3, 3, 2, -34, 3, 7, 2, 3, 3, 9, 2, 14, 3, 3, -16, 10, 3, 3, 3, 3, 2, 7, 2, 23, 3, 3, -11, 2, 3, 3, 23, 12, 2, -24, 3, 3, 8, -29, 3, 2, 3, 3, 3, 4, 3, 3, 3, 3, 2, 2, 3, 55, -9, 3, -6, 4, 24, 2, 3, 4, 53, 11, 3, 3, 28, 2, 3, 3, 41, 3, 3, 18, -15, 3, 32, 3, 3, -17, 2, 3, 16, 3, 3, 3, 12, 1, 2, 3, 3, 2, 3, -16, 3, 13, 3, 3, 2, 3, 3, 3, 2, 3, 8, 3, -33, 3, 3, 14, 45, -15, 3, 3, 3, 2, 2, -9, 3, 2, -8, 3, 2, 3, 3, -3, -19, 12, 3, 0, 3, 8, 3, 2, 2, 3, 3, 3, 3, 3, 3, 2, 3, 3, 3, -31, 2, 3, 2, 3, 3, 2, 13, 3, 3, 3, 3, 10, 3, 2, -30, 3, 2, 3, 2, 3, 2, 3, 3, 3, 3, 3, 32, 3, 30, 3, 5, 2, 2, 26, -9, 3, 2, -33, 2, 10, -43, 31, 10, 7, -2, 2, 3, 3, 2, 3, 2, 3, 4, 3, 3, 14, 3, 3, 3, -9, 3, -3, 2, 16, 3, 2, 3, 1, 1, 2, -8, 3, 9, 3, 4, 6, 2, 2, 15, 2, 3, 8, 2, 3, 35, 3, 3, 9, 2, 3, 2, 3, -11, 3, 2, 3, 49, 10, 3, 3, 3, 2, 3, 3, 6, 3, 12, 3, 2, 2, 3, 3, 3, 3, 3, 3, 3, -17, 3, 3, 2, -19, 3, -33, 3, 2, 10, 2, 44, 2, 3, 3, 3, -6, 1, 2, 3, -13, -10, -7, 3, 3, 2, 12, 2, 2, 2, 13, 2, 2, 2, 2, 2, 2, 1, 2, 3, 3, -40, 12, 3, 3, 13, 3, -5, 2, 12, 2, 2, 28, 3, 2, 33, 2, 3, 3, 3, 2, 2, -4, 2, 3, 3, 3, 3, 9, 40, 3, 2, -31, 1, 3, -22, 2, -15, 3, 3, 3, 3, 3, 3, 3, -11, -15, 3, 3, 3, 3, 2, 27, 3, 3, 14, 10, 3, 3, 16, 3, 20, 3, 3, -33, -8, -26, 3, 3, 2, 3, 23, 3, 2, -19, 3, 29, 9, 3, -8, 3, 2, 0, 2, 2, 2, 2, -19, 14, 2, 2, -1, 3, 21, -28, 3, 3, 2, 2, 3, 10, 3, 3, 5, 1, 2, -26, 3, 3, 2, 3, -16, 2, 2, -10, 2, 2, 2, -20, 2, 3, 3, 3, -24, 13, 3, 3, 3, 3, 2, 3, 6, 3, 7, 2, 3, 2, 3, 23, -32, 3, 2, 3, -37, 25, 2, 4, -38, 3, 21, 3, 3, 1, 2, 3, -6, 9, 10, 3, 18, 3, -6, 12, 6, 1, 3, 3, 3, 3, 3, 13, 2, 3, 3, 3, 2, 2, 3, 29, 3, 36, 3, 16, 7, -13, 2, 3, 2, 2, 2, 3, 3, -2, -3, 3, 3, 3, -31, 18, 3, 2, 3, 12, 3, 2, 3, -6, 3, 21, 2, 3, -24, 3, 2, 3, 3, 3, 5, 3, 3, 9, -11, 3, 3, -6, -12, 32, 2, -24, 6, 1, 2, 2, 2, 2, 3, 3, 3, 3, -21, 2, 3, 3, 3, 3, 18, 3, 40, 3, 2, 0, 2, -6, 24, 3, 3, 31, 3, -23, -8, 3, 5, -10, 15, 3, 2, 1, 3, 3, 3, -28, 11, -15, -9, 3, 2, 3, 3, 45, 3, 31, 19, 2, 3, 3, 3, 3, 3, 3, 3, 3, 2, -26, 3, -2, 3, 20, 2, 3, 3, 3, 3, 10, 0, 3, 3, 2, 1, 3, 3, 3, 2, -8, 2, 4, 3, 31, 3, 3, 3, -12, 3, 15, -41, 2, 2, -5, 3, 2, 2, 3, 20, 3, 3, 2, 1, 3, 3, 2, 3, 3, 3, 3, 9, 3, 3, 3, 23, 3, 17, 1, 2, 2, 2, 3, 3, 2, 3, 3, 3, 3, 6, 3, 2, 2, 25, 0, 3, 2, 3, 3, 3, 3, -13, -5, 3, 12, 3, 3, 3, 2, 2, 2, 3, 3, 13, 24, 3, 3, 3, 3, 3, 3, 2, 3, -16, 2, 3, 0, 20, 2, 3, -3, 3, -8, 3, 12, 2, 16, 2, 11, 3, 3, 3, 3, 3, -23, 3, 3, -17, -5, 9, 2, 3, 2, 3, 2, 3, -20, 2, 3, -15, 0, 2, -31, 3, 3, 39, -9, 4, 3, 3, 21, 7, -21, 3, -22, -9, -41, 19, 2, 2, -11, 3, 2, 2, -8, 3, -1, 3, 13, 2, 1, 3, 3, -4, -37, -29, 10, 3, 3, 2, 2, 3, 1, 3, 3, 27, 3, 3, 2, 3, 3, 8, 2, 2, 3, 2, 2, 11, 3, 3, 12, 3, -32, -6, 2, 2, 2, 2, 3, 3, 6, 3, 3, 3, 24, 3, 11, 3, -11, -16, 3, 3, 3, 37, 2, 2, 2, 3, 27, 3, 2, -35, 14, 5, 2, 3, 3, -25, 2, 3, 2, 3, 3, 10, 3, 2, 3, 3, -15, 30, 3, -16, 3, 3, -8, 27, 2, 3, -30, 4, 3, 21, 2, 3, 3, 13, 2, 3, 3, 3, 2, 2, 3, 3, 3, 3, 2, 3, 2, -34, 3, 2, 3, 3, 3, 3, -20, -13, 3, 3, 17, 11, 1, 18, 3, 3, -13, 2, 3, 2, -16, 3, 3, 3, -26, 2, 3, 3, -2, 3, 4, 3, 2, 3, 3, 3, 33, -19, 2, -34, 2, 3, 3, 3, 2, 3, -8, 2, -10, 3, 3, 2, 2, 2, 2, 2, 3, 12, 28, 8, 29, 3, 3, 2, 3, 3, 3, 7, 2, 2, 6, 3, 3, 20, -3, 6, 7, 3, 3, 3, 2, 25, 15, 3, 3, -1, 2, 3, 3, 3, 3, 3, 2, 3, 2, 2, 3, 3, 3, 2, 3, 3, 3, 3, 3, 3, 3, 3, 3, 3, 3, 2, 3, 4, 2, 3, 2, -15, -12, 2, 14, 3, 3, 3, 3, 2, 2, 3, 3, 9, 2, -2, 3, 2, 30, 10, 3, -10, 3, 3, 2, 19, 3, 2, 3, 3, -17, 3, -23, 3, 2, 3, 2, 24, 3, 3, 3, -2, 3, 2, 3, 20, 3, 3, 3, 28, 3, 3, -14, 3, 2, 3, 3, 2, 3, 3, 3, -21, 3, 3, -30, 2, 3, 30, 3, 3, 2, 3, -15, 13, 3, 3, 2, 3, 23, 23, -5, 3, 2, 3, 3, -36, 3, -9, 3, 2, 2, -10, 3, 2, -34, 2, 3, 2, 23, -6, 3, 2, 3, -18, 3, -41, -6, 3, 31, 3, 3, 1, 0, 12, 2, 2, 12, 3, 2, 3, 10, 3, 3, 5, 2, 20, 3, 2, 2, 3, 3, 3, 25, 3, 3, -1, 9, 3, 13, 3, 2, 3, 2, 38, 3, 3, 3, 22, 3, 23, 2, 3, -10, 3, 3, -20, 2, 3, 2, 2, 3, -7, -14, 3, 2, 2, 2, -8, -6, 28, 14, 3, 3, -12, -16, 2, 2, 2, 3, 2, 3, 2, 3, 20, 3, 21, 3, 3, 9, -31, 35, 18, -24, 3, 3, 3, 3, 3, 18, 3, 35, 3, 3, 3, 2, -15, 2, -40, -17, 2, 3, 3, 14, 3, -32, 17, -19, 17, 2, 3, -2, 6, 3, 2, -11, 3, 3, 2, 2, 2, -6, 3, 3, 3, 3, 3, 3, 2, 3, 35, 2, 3, 3, 11, -6, 3, 2, 2, 3, 2, -17, -13, 3, 3, 3, -18, 2, 6, 2, -34, 3, 45, 3, 16, 3, 2, 5, 3, 3, 3, 3, 3, 12, 29, 3, 3, 2, 3, -7, 3, 18, 2, 3, 3, -4, 3, 3, 2, 3, 3, 3, -21, 3, 2, 2, 17, 3, 15, 3, 3, 2, 3, 2, 3, 12, 3, 12, 3, 8, 3, 2, 2, 3, 3, 3, -8, -45, 3, 3, 0, 36, 3, 3, -5, 2, 2, 2, 3, 10, 2, 3, 3, -7, 3, 5, 35, -1, 9, 2, 3, 2, 3, 2, 3, -14, 3, 3, -19, -7, 2, 3, -13, 2, 3, 2, 3, -7, 3, 4, 3, 3, 3, 17, 24, 3, 3, 3, 26, 3, 2, 33, 5, 5, 2, 14, 3, 12, 7, 3, -11, 2, 2, 3, 2, 3, 3, 2, 24, 2, 6, 2, 3, -8, 3, 2, 3, 3, 3, 4, 3, 3, 3, 3, 3, 2, 2, 2, 3, 2, 2, 3, 3, 2, 2, 3, 3, 3, 3, -7, 3, 7, -18, 2, 1, 3, 2, 3, 2, 3, -9, 2, 3, 3, 3, -2, 1, 7, 3, 3, 3, 3, 3, 16, -13, 1, 1, 3, 3, 31, 21, 3, 7, 3, -25, 18, 3, 21, 3, 2, 3, 3, 14, 3, 3, 3, 3, 11, 24, 3, 3, 3, 2, 12, 12, 3, -3, 3, 3, 3, 3, -1, 3, 3, 3, 2, 3, 3, 2, 3, 3, 3, 3, 3, 3, 3, 2, 3, -4, 3, -8, 2, 2, 2, 3, 3, 2, 2, 18, 3, 18, -1, 3, 3, 2, 3, 2, 3, 3, -16, 3, 3, 2, 3, 3, 15, -12, 3, 2, -17, 3, 12, 2, 2, 3, 3, 2, 3, -13, 3, 10, 3, 34, 2, 2, 2, 7, 3, 16, 3, 2, -23, 3, 35, 28, 2, 1, -1, 2, -44, 3, 8, 3, 2, 3, -37, 3, 3, 3, -28, 2, 3, 1, -4, 3, 2, 2, 3, 2, 2, -11, 3, 3, 2, -12, 12, -2, 3, 2, 2, 3, -14, 3, 3, 2, 2, -25, -28, 3, 3, 20, 2, 3, 3, 3, 10, 3, 2, 3, 2, 2, 5, 3, 3, 3, 24, 3, 3, 2, 39, 2, 3, 13, 3, 3, 2, 3, 2, 2, 3, 3, 2, 2, 2, 2, 3, 3, 18, 2, 0, 3, 2, 2, 2, 2, 3, 3, 3, -31, 3, 2, 3, 3, 2, 28, 2, 18, 3, -18, 3, 17, 3, 3, 3, 3, 3, 0, 1, 3, 3, 23, 23, 3, 2, -4, 3, -1, 3, 2, 3, 2, -10, 3, 10, -11, 3, -39, 2, 2, 3, -10, 3, 2, -4, 13, 2, 15, 18, 30, 2, -5, 3, 2, 13, -8, 3, -3, -20, 11, 3, 2, -17, 3, 2, 13, 12, 3, 3, 3, 3, 3, 3, -31, 3, 3, 3, 10, 3, 3, 3, 3, -13, 13, -11, 3, 3, 2, 2, 3, 5, 2, 3, 2, 2, 3, 2, 3, 2, 37, 3, 3, -6, 3, -13, 2, 3, -43, 25, 22, 17, 3, 3, 3, 3, 2, 2, 2, 2, 3, -25, 3, 2, 3, 2, -19, 3, 3, 2, 2, 3, 3, 3, -32, 3, -4, 2, -26, -18, 2, 2, 0, 3, 3, 6, 3, 2, -19, 3, 2, 3, 25, 3, 3, 2, 3, 1, 2, -11, 3, 3, 5, 3, 3, 2, 39, 2, 2, 2, 3, 2, 3, 3, -4, -4, -33, 3, 3, -12, 3, 8, 2, 14, 3, 3, 3, 3, 3, -4, -12, 3, 54, 3, 2, 2, 3, -8, 18, 64, 11, 2, 3, 8, -11, 2, 3, 3, 2, 3, 2, -39, 23, 2, 3, 2, 2, 2, 3, 2, 3, 0, 3, 3, 3, 3, -3, -11, -3, 2, -19, -14, 5, 3, -5, 6, 3, 3, 2, -31, 3, 2, 3, 8, 2, 2, 3, -13, 3, 4, 3, 2, 4, 3, 3, 3, 3, -17, 3, 3, 18, 3, 2, -15, 2, 12, 15, 3, 3, 3, 3, 2, 3, 3, 3, 3, -25, 27, 2, 3, 3, 3, 3, -7, 17, 2, 3, 2, 2, 3, 3, 3, 3, 3, 2, 8, 3, 2, 2, 17, 12, 5, 2, 19, 3, 2, 3, 3, 28, 2, 2, 3, 2, 27, 3, 3, 16, 2, 8, 3, 17, 18, 3, 2, -9, 3, -28, 2, 2, 17, 3, 2, 1, 0, 2, -10, -14, 3, -19, 3, -4, 3, 2, 10, 25, 3, 2, 2, 2, -2, 2, 2, 3, 10, 3, -4, -14, 3, -1, 3, 3, 33, 3, 3, 2, 3, -9, 3, 3, 17, 3, 2, 3, 2, -12, 3, 3, 3, 3, 2, 2, 3, 7, 3, 3, 3, 3, -8, 3, 2, 2, 3, 2, -31, 2, 3, 2, 3, -24, 3, -12, 10, 2, 3, 3, 3, 22, 3, 19, 19, 3, 27, -14, 3, 3, 3, 2, 3, 3, 7, 3, 1, 3, -10, 33, 6, 2, 3, 2, 2, 2, 2, 2, 2, 3, 2, 3, 2, 3, 3, 3, 3, 3, 3, 3, 2, 3, 3, 3, 6, 3, -4, 3, -13, -6, 3, 38, 15, 24, 2, 2, 2, 3, 3, 31, 2, 47, 3, 3, 2, -14, -4, 3, 20, 14, 2, -9, 3, 40, 2, -32, 3, 3, 3, 16, 14, 19, 3, 2, 3, 3, -41, 3, 2, 3, 3, 10, 3, 9, 3, 3, 2, 3, 3, 2, -8, 2, 14, 3, 2, 2, 3, 3, 6, 5, 3, 2, 3, 2, 24, 38, 2, 7, 2, 2, 2, -1, 3, 2, 2, 2, 31, 2, 2, 3, 3, 3, -23, 2, 3, 2, 2, 3, 3, 3, 3, 3, 11, 37, -6, 3, -44, -11, 3, 2, 2, 3, 3, 3, 2, -16, 3, 2, 3, 2, 3, 3, 3, -5, 10, 17, 2, 3, 2, 3, 3, -4, 3, 2, -19, -19, 12, 26, 28, 3, 3, 3, 2, 3, 3, 2, 27, -1, 3, -3, 16, 3, 34, -6, -1, 3, 3, 2, 2, -6, 10, -6, 3, 3, 14, -1, 2, 3, 2, 20, 7, 3, 19, 4, -18, 2, 2, 2, 3, 3, 7, 26, 2, 3, 9, 2, 1, 3, 33, 2, 3, 2, 2, 3, 2, 2, 3, 2, 3, 3, -21, 3, 2, -20, 3, 3, 9, 3, 3, 3, 2, 3, 3, 2, 3, 3, -33, 3, 3, 3, 3, 2, 14, -4, 2, 23, 2, 3, 2, -11, 3, 3, -29, 2, 2, 13, 3, 7, 3, 3, 3, -10, 3, 16, -11, 3, -4, 9, 3, 7, 1, 3, 22, 17, 3, 0, 3, 2, 2, 1, 3, -21, 10, 16, 19, 3, 17, 3, 3, 3, -58, -20, 3, 7, 3, 3, 3, 3, 3, 3, 3, 2, 3, -6, 3, -38, 2, 2, 2, 3, 14, 3, 11, 2, 3, 17, 5, 3, 3, 2, 3, 10, 3, 2, 3, 2, 2, 3, 3, 2, 3, 3, -25, 3, -16, 3, 2, 11, -19, 3, 3, 2, -10, 3, 3, 3, 17, 2, 21, 3, 3, 3, -16, 10, 23, 3, 3, 2, -36, -5, 16, 2, 31, 3, 3, 3, 3, 2, 3, 3, 0, 2, 3, -32, 3, 3, 2, 25, 3, 3, -12, 30, 3, 26, 3, 3, 2, 2, 5, -12, 3, 3, 2, -13, -31, 6, 2, 3, 3, 3, -19, -13, 2, 2, 18, 3, -34, 2, 3, 2, 2, 3, 3, -8, 3, 3, 3, -28, 3, 3, 2, -34, -15, 2, 10, 2, 2, 2, -6, 3, 2, 2, 3, -22, 16, -12, 3, 4, -3, 2, -7, 3, -44, 3, 20, -3, 3, 3, 20, 3, 3, 3, -7, 3, 3, 2, 2, 3, 2, 2, -17, 3, 3, 18, 0, 2, 25, 2, 2, 17, 3, 6, 3, 3, 2, 2, 3, 3, 2, 3, 2, 3, 37, 3, 3, 2, 3, 3, 2, 2, 2, 3, 3, 3, 3, 2, 4, -7, 3, -18, 2, -19, 3, -7, 3, 3, -9, 2, 2, 3, 3, -6, 3, 7, 3, 3, 3, 3, -5, 3, 3, 3, -8, 3, 3, 8, 2, -27, 2, 3, 3, 3, -14, 2, -3, 3, 2, 10, 3, 3, 2, 3, 2, -2, -12, 11, 10, 29, 2, 3, 7, -9, -3, 3, 3, -6, 3, 25, 2, 2, -7, 3, 3, -4, 3, 3, -20, 3, 2, 3, 2, 3, 2, -39, 2, 3, -2, 3, -25, 3, 3, 3, 3, 0, 3, 3, -26, -19, 3, 3, 2, -14, 2, 16, 2, 3, 3, -11, 3, 2, 2, 3, -25, -41, 2, 2, 3, 34, 2, -19, 2, 3, 32, 3, 14, 2, 2, 3, -39, 3, 2, 8, 3, 3, 2, 3, 3, 3, 15, 2, -32, 2, 3, 2, 3, 2, -4, -12, -25, 3, 3, -1, 0, 3, 3, 5, 3, 2, 3, 3, 3, 2, 3, 2, 3, 2, 2, 3, 31, 3, 3, 2, -1, 3, 3, 2, 2, -19, 35, -19, 2, 3, 3, 3, 3, 3, -17, 2, 1, 3, 2, 23, 3, 3]\n"
     ]
    }
   ],
   "source": [
    "print(position1)"
   ]
  },
  {
   "cell_type": "code",
   "execution_count": 14,
   "metadata": {
    "collapsed": false
   },
   "outputs": [
    {
     "name": "stdout",
     "output_type": "stream",
     "text": [
      "10000\n"
     ]
    }
   ],
   "source": [
    "position1=position1[1:sample+1]\n",
    "print(len(position1))"
   ]
  },
  {
   "cell_type": "code",
   "execution_count": 15,
   "metadata": {
    "collapsed": false
   },
   "outputs": [
    {
     "name": "stdout",
     "output_type": "stream",
     "text": [
      "142\n"
     ]
    }
   ],
   "source": [
    "reactor=[]\n",
    "capture=[]\n",
    "through=[]\n",
    "\n",
    "num_r=0\n",
    "num_c=0\n",
    "num_t=0\n",
    "\n",
    "size1=np.arange(0,est_1+1,h)\n",
    "print(len(size1))"
   ]
  },
  {
   "cell_type": "code",
   "execution_count": 16,
   "metadata": {
    "collapsed": false
   },
   "outputs": [],
   "source": [
    "for j in range(est_1+1):\n",
    "    reactor.append(num_r)\n",
    "    capture.append(num_c)\n",
    "    through.append(num_t)\n",
    "    x = size1[j]\n",
    "    nt=0\n",
    "    nc=0\n",
    "    nr=0\n",
    "    for i in range(sample):\n",
    "        if position1[i] > x:\n",
    "            nt += 1\n",
    "        elif position1[i] > 0:\n",
    "            nc += 1\n",
    "        else:\n",
    "            nr += 1\n",
    "    if nr == 0:\n",
    "        num_r = 0.001\n",
    "    else:\n",
    "        num_r = nr\n",
    "    if nc == 0:\n",
    "        num_c = 0.001\n",
    "    else:\n",
    "        num_c = nc\n",
    "    if nt == 0:\n",
    "        num_t = 0.001\n",
    "    else:\n",
    "        num_t = nt"
   ]
  },
  {
   "cell_type": "code",
   "execution_count": 17,
   "metadata": {
    "collapsed": true
   },
   "outputs": [],
   "source": [
    "reactor_n=reactor[1:est_1+1]\n",
    "capture_n=capture[1:est_1+1]\n",
    "through_n=through[1:est_1+1]"
   ]
  },
  {
   "cell_type": "code",
   "execution_count": 18,
   "metadata": {
    "collapsed": false
   },
   "outputs": [
    {
     "name": "stdout",
     "output_type": "stream",
     "text": [
      "[1575, 1575, 1575, 1575, 1575, 1575, 1575, 1575, 1575, 1575, 1575, 1575, 1575, 1575, 1575, 1575, 1575, 1575, 1575, 1575, 1575, 1575, 1575, 1575, 1575, 1575, 1575, 1575, 1575, 1575, 1575, 1575, 1575, 1575, 1575, 1575, 1575, 1575, 1575, 1575, 1575, 1575, 1575, 1575, 1575, 1575, 1575, 1575, 1575, 1575, 1575, 1575, 1575, 1575, 1575, 1575, 1575, 1575, 1575, 1575, 1575, 1575, 1575, 1575, 1575, 1575, 1575, 1575, 1575, 1575, 1575, 1575, 1575, 1575, 1575, 1575, 1575, 1575, 1575, 1575, 1575, 1575, 1575, 1575, 1575, 1575, 1575, 1575, 1575, 1575, 1575, 1575, 1575, 1575, 1575, 1575, 1575, 1575, 1575, 1575, 1575, 1575, 1575, 1575, 1575, 1575, 1575, 1575, 1575, 1575, 1575, 1575, 1575, 1575, 1575, 1575, 1575, 1575, 1575, 1575, 1575, 1575, 1575, 1575, 1575, 1575, 1575, 1575, 1575, 1575, 1575, 1575, 1575, 1575, 1575, 1575, 1575, 1575, 1575, 1575, 1575]\n",
      "141\n"
     ]
    }
   ],
   "source": [
    "print(reactor_n)\n",
    "print(len(reactor_n))"
   ]
  },
  {
   "cell_type": "code",
   "execution_count": 19,
   "metadata": {
    "collapsed": false
   },
   "outputs": [
    {
     "name": "stdout",
     "output_type": "stream",
     "text": [
      "[0.001, 75, 2382, 6884, 6947, 7015, 7072, 7136, 7215, 7276, 7350, 7409, 7474, 7523, 7587, 7644, 7702, 7747, 7802, 7854, 7912, 7957, 7986, 8030, 8063, 8100, 8127, 8157, 8193, 8210, 8229, 8260, 8277, 8301, 8317, 8333, 8337, 8347, 8358, 8367, 8376, 8384, 8387, 8390, 8396, 8403, 8404, 8409, 8412, 8414, 8414, 8418, 8419, 8420, 8422, 8423, 8423, 8423, 8423, 8424, 8424, 8424, 8424, 8424, 8425, 8425, 8425, 8425, 8425, 8425, 8425, 8425, 8425, 8425, 8425, 8425, 8425, 8425, 8425, 8425, 8425, 8425, 8425, 8425, 8425, 8425, 8425, 8425, 8425, 8425, 8425, 8425, 8425, 8425, 8425, 8425, 8425, 8425, 8425, 8425, 8425, 8425, 8425, 8425, 8425, 8425, 8425, 8425, 8425, 8425, 8425, 8425, 8425, 8425, 8425, 8425, 8425, 8425, 8425, 8425, 8425, 8425, 8425, 8425, 8425, 8425, 8425, 8425, 8425, 8425, 8425, 8425, 8425, 8425, 8425, 8425, 8425, 8425, 8425, 8425, 8425]\n",
      "141\n"
     ]
    }
   ],
   "source": [
    "print(capture_n)\n",
    "print(len(capture_n))"
   ]
  },
  {
   "cell_type": "code",
   "execution_count": 20,
   "metadata": {
    "collapsed": false
   },
   "outputs": [
    {
     "name": "stdout",
     "output_type": "stream",
     "text": [
      "[8425, 8350, 6043, 1541, 1478, 1410, 1353, 1289, 1210, 1149, 1075, 1016, 951, 902, 838, 781, 723, 678, 623, 571, 513, 468, 439, 395, 362, 325, 298, 268, 232, 215, 196, 165, 148, 124, 108, 92, 88, 78, 67, 58, 49, 41, 38, 35, 29, 22, 21, 16, 13, 11, 11, 7, 6, 5, 3, 2, 2, 2, 2, 1, 1, 1, 1, 1, 0.001, 0.001, 0.001, 0.001, 0.001, 0.001, 0.001, 0.001, 0.001, 0.001, 0.001, 0.001, 0.001, 0.001, 0.001, 0.001, 0.001, 0.001, 0.001, 0.001, 0.001, 0.001, 0.001, 0.001, 0.001, 0.001, 0.001, 0.001, 0.001, 0.001, 0.001, 0.001, 0.001, 0.001, 0.001, 0.001, 0.001, 0.001, 0.001, 0.001, 0.001, 0.001, 0.001, 0.001, 0.001, 0.001, 0.001, 0.001, 0.001, 0.001, 0.001, 0.001, 0.001, 0.001, 0.001, 0.001, 0.001, 0.001, 0.001, 0.001, 0.001, 0.001, 0.001, 0.001, 0.001, 0.001, 0.001, 0.001, 0.001, 0.001, 0.001, 0.001, 0.001, 0.001, 0.001, 0.001, 0.001]\n",
      "141\n"
     ]
    }
   ],
   "source": [
    "print(through_n)\n",
    "print(len(through_n))"
   ]
  },
  {
   "cell_type": "code",
   "execution_count": 21,
   "metadata": {
    "collapsed": false
   },
   "outputs": [
    {
     "name": "stdout",
     "output_type": "stream",
     "text": [
      "[  1   2   3   4   5   6   7   8   9  10  11  12  13  14  15  16  17  18\n",
      "  19  20  21  22  23  24  25  26  27  28  29  30  31  32  33  34  35  36\n",
      "  37  38  39  40  41  42  43  44  45  46  47  48  49  50  51  52  53  54\n",
      "  55  56  57  58  59  60  61  62  63  64  65  66  67  68  69  70  71  72\n",
      "  73  74  75  76  77  78  79  80  81  82  83  84  85  86  87  88  89  90\n",
      "  91  92  93  94  95  96  97  98  99 100 101 102 103 104 105 106 107 108\n",
      " 109 110 111 112 113 114 115 116 117 118 119 120 121 122 123 124 125 126\n",
      " 127 128 129 130 131 132 133 134 135 136 137 138 139 140 141]\n",
      "141\n"
     ]
    }
   ],
   "source": [
    "print(size1[1:est_1+1])\n",
    "print(len(size1[1:est_1+1]))"
   ]
  },
  {
   "cell_type": "code",
   "execution_count": 22,
   "metadata": {
    "collapsed": false
   },
   "outputs": [
    {
     "data": {
      "image/png": "[encoded data removed]",
      "text/plain": [
       "<matplotlib.figure.Figure at 0xac412dec>"
      ]
     },
     "metadata": {},
     "output_type": "display_data"
    }
   ],
   "source": [
    "size_array=np.array(size1[1:est_1+1])\n",
    "through_array=np.array(through_n)\n",
    "capture_array=np.array(capture_n)\n",
    "reactor_array=np.array(reactor_n)\n",
    "plt.plot(size_array,through_array,'-',label='through',color='red',linewidth=3.0)\n",
    "plt.plot(size_array,capture_array,'-',label='capture',color='blue',linewidth=3.0)\n",
    "plt.plot(size_array,reactor_array,'-',label='reactor',color='black',linewidth=3.0)\n",
    "plt.legend(bbox_to_anchor=(1.05, 1), loc=2, borderaxespad=0.)\n",
    "plt.xlabel('Size of the shield')\n",
    "plt.ylabel('Number')\n",
    "plt.show()\n",
    "\n",
    "\n",
    "\n"
   ]
  },
  {
   "cell_type": "code",
   "execution_count": 20,
   "metadata": {
    "collapsed": true
   },
   "outputs": [],
   "source": [
    "P_through=through_array/sample\n",
    "P_capture=capture_array/sample\n",
    "P_reactor=reactor_array/sample\n",
    "\n",
    "size1=size1[1:est_1+1]"
   ]
  },
  {
   "cell_type": "code",
   "execution_count": 21,
   "metadata": {
    "collapsed": false
   },
   "outputs": [
    {
     "name": "stdout",
     "output_type": "stream",
     "text": [
      "-0.140039646571 -0.58167542178\n",
      "1.5996170787405881\n"
     ]
    }
   ],
   "source": [
    "m_through,b_through=np.polyfit(size1,np.log(P_through),1)\n",
    "print(m_through,b_through)\n",
    "\n",
    "\n",
    "fit_t=m_through*size1+b_through\n",
    "uncertainty_t=(1/tmax)*np.sum((fit_t-np.log(P_through))**2)#Standard Deviation\n",
    "print(math.sqrt(uncertainty_t))"
   ]
  },
  {
   "cell_type": "code",
   "execution_count": 22,
   "metadata": {
    "collapsed": false
   },
   "outputs": [
    {
     "name": "stdout",
     "output_type": "stream",
     "text": [
      "0.0077246836031 -0.887067072032\n",
      "9.471966023451067\n"
     ]
    }
   ],
   "source": [
    "m_capture,b_capture=np.polyfit(size1,np.log(P_capture),1)\n",
    "print(m_capture,b_capture)\n",
    "\n",
    "\n",
    "fit_c=m_capture*size1+b_capture\n",
    "uncertainty_c=(1/tmax)*np.sum((fit_t-np.log(P_capture))**2)#Standard Deviation\n",
    "print(math.sqrt(uncertainty_c))"
   ]
  },
  {
   "cell_type": "code",
   "execution_count": 23,
   "metadata": {
    "collapsed": false
   },
   "outputs": [
    {
     "name": "stdout",
     "output_type": "stream",
     "text": [
      "3.85855568372e-18 -1.81954185024\n",
      "7.157279862684528e-16\n"
     ]
    }
   ],
   "source": [
    "m_reactor,b_reactor=np.polyfit(size1,np.log(P_reactor),1)\n",
    "print(m_reactor,b_reactor)\n",
    "\n",
    "\n",
    "fit_t=m_reactor*size1+b_reactor\n",
    "uncertainty_r=(1/tmax)*np.sum((fit_t-np.log(P_reactor))**2)#Standard Deviation\n",
    "print(math.sqrt(uncertainty_r))"
   ]
  },
  {
   "cell_type": "code",
   "execution_count": null,
   "metadata": {
    "collapsed": true
   },
   "outputs": [],
   "source": []
  },
  {
   "cell_type": "code",
   "execution_count": null,
   "metadata": {
    "collapsed": true
   },
   "outputs": [],
   "source": []
  }
 ],
 "metadata": {
  "anaconda-cloud": {},
  "kernelspec": {
   "display_name": "Python [conda root]",
   "language": "python",
   "name": "conda-root-py"
  },
  "language_info": {
   "codemirror_mode": {
    "name": "ipython",
    "version": 3
   },
   "file_extension": ".py",
   "mimetype": "text/x-python",
   "name": "python",
   "nbconvert_exporter": "python",
   "pygments_lexer": "ipython3",
   "version": "3.5.2"
  }
 },
 "nbformat": 4,
 "nbformat_minor": 1
}
