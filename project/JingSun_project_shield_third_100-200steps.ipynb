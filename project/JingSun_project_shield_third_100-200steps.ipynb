{
 "cells": [
  {
   "cell_type": "code",
   "execution_count": 1,
   "metadata": {
    "collapsed": true
   },
   "outputs": [],
   "source": [
    "import random as ran\n",
    "import numpy as np\n",
    "import pylab as py\n",
    "import matplotlib.pyplot as plt\n",
    "from scipy.optimize import curve_fit\n",
    "import math as math\n"
   ]
  },
  {
   "cell_type": "code",
   "execution_count": 2,
   "metadata": {
    "collapsed": false,
    "scrolled": false
   },
   "outputs": [
    {
     "data": {
      "image/png": "[encoded data removed]",
      "text/plain": [
       "<matplotlib.figure.Figure at 0xad8b7fec>"
      ]
     },
     "metadata": {},
     "output_type": "display_data"
    },
    {
     "name": "stdout",
     "output_type": "stream",
     "text": [
      "1.00025299857\n",
      "200\n"
     ]
    }
   ],
   "source": [
    "h=1\n",
    "tmax=200\n",
    "tpoints=np.arange(0,tmax+1,h)\n",
    "#print(tpoints)\n",
    "\n",
    "sample=10000\n",
    "s_points=np.arange(0,sample+1,h)\n",
    "\n",
    "mean=100\n",
    "standard=20\n",
    "A0=1/(standard*math.sqrt(2*3.14))\n",
    "Z=(tpoints[1:tmax+1]-mean)/standard\n",
    "dist=A0*np.exp(-1*(Z**2)/2)\n",
    "\n",
    "#print(dist)\n",
    "plt.plot(tpoints[1:tmax+1],dist)\n",
    "plt.show()\n",
    "\n",
    "print(sum(dist))\n",
    "print(len(dist))\n",
    "\n"
   ]
  },
  {
   "cell_type": "code",
   "execution_count": 3,
   "metadata": {
    "collapsed": false
   },
   "outputs": [
    {
     "name": "stdout",
     "output_type": "stream",
     "text": [
      "200\n"
     ]
    }
   ],
   "source": [
    "dist_0=dist[0]\n",
    "for i in range(tmax-1):\n",
    "    if i == 0:\n",
    "        dist[i]=dist_0\n",
    "    else:\n",
    "        dist[i]=dist[i]-dist[i-1]\n",
    "        \n",
    "#print(dist)\n",
    "print(len(dist))"
   ]
  },
  {
   "cell_type": "code",
   "execution_count": 4,
   "metadata": {
    "collapsed": false
   },
   "outputs": [
    {
     "name": "stdout",
     "output_type": "stream",
     "text": [
      "100\n",
      "100\n",
      "141\n",
      "73\n"
     ]
    }
   ],
   "source": [
    "dist2=dist[0:100]# steps from 1 to 100\n",
    "dist1=dist[100:200]# steps from 101 to 200\n",
    "print(len(dist1))\n",
    "print(len(dist2))\n",
    "\n",
    "frac1=ran.uniform(0,dist1[0])\n",
    "est_1=mean+(standard*math.sqrt(-2*np.log(frac1/A0)))\n",
    "\n",
    "est_1=int(est_1//1)\n",
    "\n",
    "print(est_1)\n",
    "\n",
    "\n",
    "\n",
    "frac2=ran.uniform(0,dist2[99])\n",
    "est_2=mean-(standard*math.sqrt(-2*np.log(frac2/A0)))\n",
    "\n",
    "est_2=int(est_2//1)\n",
    "\n",
    "print(est_2)\n"
   ]
  },
  {
   "cell_type": "code",
   "execution_count": 5,
   "metadata": {
    "collapsed": false
   },
   "outputs": [
    {
     "name": "stdout",
     "output_type": "stream",
     "text": [
      "142\n",
      "74\n"
     ]
    }
   ],
   "source": [
    "e1points=np.arange(0,est_1+1,h)\n",
    "e2points=np.arange(0,est_2+1,h)\n",
    "\n",
    "print(len(e1points))\n",
    "print(len(e2points))"
   ]
  },
  {
   "cell_type": "code",
   "execution_count": 6,
   "metadata": {
    "collapsed": true
   },
   "outputs": [],
   "source": [
    "first=1\n",
    "p_same=3/4\n",
    "p_change=1/4"
   ]
  },
  {
   "cell_type": "code",
   "execution_count": 7,
   "metadata": {
    "collapsed": true
   },
   "outputs": [],
   "source": [
    "ele=first\n",
    "pos1=first\n",
    "position1=[]\n",
    "pos2=first\n",
    "position2=[]"
   ]
  },
  {
   "cell_type": "code",
   "execution_count": 8,
   "metadata": {
    "collapsed": true
   },
   "outputs": [],
   "source": [
    "up=2\n",
    "down=-2\n",
    "right=1\n",
    "left=-1"
   ]
  },
  {
   "cell_type": "code",
   "execution_count": 9,
   "metadata": {
    "collapsed": false
   },
   "outputs": [],
   "source": [
    "# loop for capture possibility\n",
    "for i in s_points:\n",
    "    position1.append(pos1)\n",
    "    ele = 1\n",
    "    # 2nd move        \n",
    "    if ran.random() > p_change:\n",
    "        ele += right\n",
    "        test = right\n",
    "    else:\n",
    "        if ran.random() > 1/2:\n",
    "            ele += 0*up\n",
    "            test = up\n",
    "        else:\n",
    "            ele += 0*down\n",
    "            test = down\n",
    "    # 3rd move  \n",
    "    if test == right:\n",
    "        if ran.random() > p_change:\n",
    "            ele += right\n",
    "            test = right\n",
    "        else:\n",
    "            if ran.random() > 1/2:\n",
    "                ele += 0*up\n",
    "                test = up\n",
    "            else:\n",
    "                ele += 0*down\n",
    "                test = down\n",
    "    else:\n",
    "        if test == up:\n",
    "            if ran.random() > p_change:\n",
    "                ele += 0*up\n",
    "                test = up\n",
    "            else:\n",
    "                if ran.random() > 1/2:\n",
    "                    ele += left\n",
    "                    test = left\n",
    "                else:\n",
    "                    ele += right\n",
    "                    test = right\n",
    "        else:\n",
    "            if test == down:\n",
    "                if ran.random() > p_change:\n",
    "                    ele += 0*down\n",
    "                    test = down\n",
    "                else:\n",
    "                    if ran.random() > 1/2:\n",
    "                        ele += left\n",
    "                        test = left\n",
    "                    else:\n",
    "                        ele += right\n",
    "                        test = right\n",
    "        # 4th and later move\n",
    "        for t in range(3,est_1+1):\n",
    "            if test == right:\n",
    "                if ran.random() > p_change:\n",
    "                    ele += right\n",
    "                    test = right\n",
    "                else:\n",
    "                    if ran.random() > 1/2:\n",
    "                        ele += 0*up\n",
    "                        test = up\n",
    "                    else:\n",
    "                        ele += 0*down\n",
    "                        test = down\n",
    "            else:\n",
    "                if test == up:\n",
    "                    if ran.random() > p_change:\n",
    "                        ele += 0*up\n",
    "                        test = up\n",
    "                    else:\n",
    "                        if ran.random() > 1/2:\n",
    "                            ele += left\n",
    "                            test = left\n",
    "                        else:\n",
    "                            ele += right\n",
    "                            test = right\n",
    "                else:\n",
    "                    if test == down:\n",
    "                        if ran.random() > p_change:\n",
    "                            ele += 0*down\n",
    "                            test = down\n",
    "                        else:\n",
    "                            if ran.random() > 1/2:\n",
    "                                ele += left\n",
    "                                test = left\n",
    "                            else:\n",
    "                                ele += right\n",
    "                                test = right\n",
    "                    else:\n",
    "                        if test == left:\n",
    "                            if ran.random() > p_change:\n",
    "                                ele += left\n",
    "                                test = left\n",
    "                            else:\n",
    "                                if ran.random() > 1/2:\n",
    "                                    ele += 0*up\n",
    "                                    test = up\n",
    "                                else:\n",
    "                                    ele += 0*down\n",
    "                                    test = down\n",
    "    pos1 = ele\n"
   ]
  },
  {
   "cell_type": "code",
   "execution_count": 10,
   "metadata": {
    "collapsed": false
   },
   "outputs": [
    {
     "name": "stdout",
     "output_type": "stream",
     "text": [
      "[1, 3, -17, 3, 3, 17, 2, 2, 2, 3, 25, 2, 3, 5, 3, 3, 3, 3, 3, 3, 42, 3, 2, 3, -15, 16, 2, 13, 3, 3, 3, -4, 2, 3, 2, 3, 14, 3, 3, 2, 2, -25, 3, 15, 3, 2, -7, -3, 3, 3, 3, 3, 2, -10, 3, -13, 3, 3, 2, 2, 14, 3, 3, 2, 3, 2, 2, -27, 3, 17, 3, 3, 41, 2, 6, 3, -21, 3, 3, 3, 24, 2, 3, 3, 13, 3, 3, -31, 3, -9, 3, 2, -41, 3, 12, 3, 2, -3, -25, 3, 3, 3, 3, 3, 3, 3, 28, 2, 10, 18, 3, 2, 2, 3, 3, 0, 2, 3, 2, 3, 2, 3, 3, 3, 3, 2, 12, -23, 3, 3, 3, 3, 3, 28, 2, 3, 28, 2, 2, 5, 31, 3, 3, 3, 17, 3, 3, 2, 3, 3, 3, 3, 2, 3, 19, 11, 3, 3, 3, 3, 1, 37, -26, 3, -2, 3, 3, -1, 2, 2, -13, 2, 2, 25, 3, 3, 3, 3, 3, -38, -5, 3, 33, 3, 3, 3, 17, 3, 3, 2, 3, 6, -10, 3, 3, 3, 2, 9, 3, 2, -20, 2, 22, 3, 3, 3, 3, 2, -13, 2, 3, 2, -3, 3, -19, 3, 3, 3, 3, 2, 2, 3, -1, 2, 3, 3, 3, 3, -42, 3, 3, 3, 3, 3, 2, 3, 2, 2, 3, 3, -10, 3, 2, 3, 2, -26, 2, 3, -17, -1, 3, 2, 3, -15, 2, 31, 3, 2, 2, 3, 2, -15, 2, 3, 0, 31, 3, 3, 3, 3, 3, -4, 3, 3, 31, 3, 3, 3, 2, 4, -3, 15, 3, 3, -32, 26, 2, 3, 3, 0, 40, 2, 2, 2, 2, 38, 3, 3, 2, 14, 3, 30, 2, 3, 3, 2, 3, 3, 3, 35, -13, 3, 19, 2, 3, 3, 3, 2, 3, 3, 3, 3, 2, 3, 3, -23, 3, -19, 25, 3, -17, 2, 3, 3, 3, 3, 3, 3, 2, 3, 3, 3, 3, -3, 4, 3, 3, 3, 3, 0, 3, 2, 2, 3, 2, -4, 3, -15, 21, 3, -2, 3, 3, 3, -29, 3, 2, 3, 3, 2, 2, 3, 3, 3, 3, 3, 3, 3, 2, 2, 2, 3, 3, 2, 3, 3, -7, 3, 2, 3, 3, 3, 3, -4, -2, 3, 2, 14, 2, -28, 3, 3, 12, -27, 3, 2, 2, 15, 35, 3, 3, 3, 3, -23, 2, 3, 3, -17, 2, 3, 3, 3, 18, 3, 3, 2, 3, 3, 3, 2, 3, 3, 3, 3, 3, 3, 3, 2, 3, -37, 3, -33, 12, 3, 3, 3, -2, 2, 3, 3, 2, -10, 3, 32, 2, 3, 7, 3, 3, 2, 2, 3, 3, 2, 2, 3, 3, 3, 3, 3, 9, 26, -2, 3, 3, 3, -21, 3, 3, 3, 3, 3, 3, 3, 2, 3, 3, 3, 5, 3, 3, 3, 2, 3, 3, 3, 3, 3, 3, 3, 3, 3, 3, 3, 2, 3, 2, 3, 1, 3, 2, 3, 2, 3, 2, 3, 2, 3, 3, 3, 2, 3, 3, 3, 3, 3, 3, 2, 1, 3, -10, 3, 2, 2, 2, 2, 9, 2, 2, 3, 0, 3, 3, -17, 3, 4, -35, 3, 2, -8, 3, 2, 7, 6, 3, 3, 2, 3, 3, 3, 3, 3, -4, 3, 3, 2, 2, 3, 3, 2, 2, 3, 3, 2, 3, 3, 3, 2, 3, 2, 3, 3, 3, 3, 3, 3, 2, 3, -2, 11, 3, 2, 3, 21, 2, 2, 45, 2, 3, 3, 3, 3, 6, 2, 3, 3, 2, 14, 3, -9, 3, 30, 3, 2, 3, 3, 3, 0, 2, 3, 3, 3, -6, 3, 11, 3, 3, 3, 3, 3, 3, 3, 2, 1, -11, 3, 2, 3, 3, -6, 3, -1, 3, 2, 2, 3, 2, 2, 3, 3, -8, -2, 3, 3, 2, 3, 3, -22, 2, -8, -28, 3, 2, 2, 3, 2, 3, 2, 2, 2, -3, 3, 2, 3, 3, -50, 2, 3, 30, 3, 3, -8, 3, 35, 3, -64, 3, 3, -33, 3, 3, 5, 3, 3, 3, 19, -11, 3, 3, 3, 3, 3, 2, 41, 3, -2, 5, 3, 3, 3, -12, 21, 3, 3, -5, 3, 3, 3, 3, 11, 3, -6, 15, 3, 49, 2, 3, 3, 3, 3, 3, -6, 3, 2, 2, 3, 2, 2, 3, -3, 3, 2, 3, 3, 3, 3, 6, 35, 3, 9, 3, -8, -7, -31, 3, 3, 3, 3, 3, 30, 3, -42, 3, 24, 30, 3, 3, 3, -11, 3, 3, 3, 3, 3, 3, 2, 3, 3, 3, 2, 2, 3, 3, 3, 3, 2, 3, 12, 1, 1, 3, -17, 3, 3, 3, 3, 3, 3, 3, 2, 3, 3, -16, 2, 3, 3, 3, 3, 2, 1, 3, 37, 6, 15, 3, 3, -57, 3, -2, -10, 3, 3, -12, 32, 3, 3, 3, -13, 3, 3, 14, 3, 3, -45, -22, -50, 2, 3, 3, 17, 3, 3, 3, -28, -16, -1, 3, 2, 2, 3, 41, 3, 3, 3, 3, 3, 3, 3, 23, 3, 3, 3, 3, 2, 3, 3, 3, 3, 3, 3, 21, 3, -12, 9, 3, 12, 3, 18, 3, 3, 3, -12, 3, 3, 0, 2, -12, 25, 3, 3, 3, 2, 3, 2, 0, 2, -18, 3, 3, 2, 2, 3, 3, 3, 3, 15, 2, 3, 3, -6, 0, 3, 2, 2, 2, 3, 12, 2, 14, 3, 3, -22, 2, -17, 3, 2, -15, 3, 3, 3, 3, 9, 11, -4, 3, 3, 7, 3, 3, 2, 2, 3, -40, -21, 3, 9, 3, 3, 3, 3, -32, 3, 3, 2, 3, 3, -3, 3, -4, 3, -8, 3, 43, 3, 2, 3, 3, 2, 2, 3, 2, -11, 3, 3, 2, 3, 3, -7, 3, 2, 3, 3, 2, 3, 2, 21, -9, 3, 3, 3, 3, -17, 3, 3, -31, 9, 3, 2, 3, -7, 2, 3, 3, -43, 14, 3, -26, 2, 3, 2, 3, 3, 12, 2, 13, 3, 3, 3, 2, 2, -9, 18, 0, 3, 3, -6, 3, 12, 3, 3, 3, 3, -25, 3, 3, 3, 3, 18, 3, 2, -24, 3, 2, -11, 2, 2, 3, 29, 3, 3, 3, 16, 2, -13, -15, -6, 30, -11, 3, 2, 3, 3, 2, 3, 3, 2, 3, 3, 3, -50, 3, 3, 2, 3, 30, 3, 2, 11, 3, 3, 3, 24, 3, 2, 3, 25, 3, 3, 3, 2, 3, 3, 2, -11, 3, 3, 2, 2, 2, -3, -14, 3, 3, 2, 2, 3, 3, 3, -33, 2, 2, 3, 3, 3, 3, 3, 3, 3, 3, -1, 3, 3, 2, 3, 3, 3, 3, 18, -2, 25, -1, 3, 3, 3, 33, 2, 3, 3, 3, 3, 3, 2, 32, 3, 3, 3, 3, 3, -13, 2, 3, 1, 2, 3, 3, 3, 3, 3, 2, 3, 2, 2, 3, 3, 3, 3, 3, -4, 15, 3, 3, 3, 3, 18, 2, 2, 2, 2, -9, 3, 3, 3, 3, 2, 3, 3, 3, 3, 3, 28, 3, -6, 3, 2, 3, 39, 3, 3, -1, 2, 3, 16, 3, 3, 3, 3, 27, 2, 3, -21, 2, 2, 19, 3, 38, 3, 3, 3, 11, 3, 3, 9, 3, -19, 3, 2, 9, 3, 21, 43, -24, 3, 3, 3, 2, 2, -39, 2, 18, 3, 3, 2, 3, -7, 2, -6, 2, 3, 3, 3, 3, 3, 20, 3, -23, 14, 3, 3, 7, 3, 3, 3, 15, 3, 3, 2, 3, 3, 2, 3, -16, 3, 3, 2, 3, 3, -44, 3, 3, 2, 3, 3, 32, 2, 2, 2, 3, 3, 0, -10, 3, 3, -12, 3, 3, 2, 3, 2, 2, 3, 9, -14, 3, 32, 3, 2, 3, 3, 3, 52, -16, 3, 3, 21, 2, 2, -22, 2, 2, 12, 3, 3, 3, 3, -8, 14, 2, 3, 9, -15, 48, 3, -12, -21, 14, 3, 3, 0, -17, -22, 3, 3, 9, 14, 2, 2, -3, 3, 3, 3, 2, 6, 3, 3, 39, 3, 3, 44, 2, 3, 3, 3, 53, 3, 3, 3, 3, 2, 19, 3, 3, 5, 3, 3, 3, 3, 3, 3, -9, 3, 3, 2, 3, 2, 3, 3, 2, 3, -5, 3, 3, 3, -15, 2, 3, 3, 3, 31, 2, 3, 3, -14, 3, 3, 35, 3, 9, 3, 3, 18, 3, -30, 3, -38, 3, 3, -12, 3, 2, 3, 3, 3, 3, 3, 2, 2, 3, 16, 3, -27, -5, 3, 3, 3, 3, 3, -6, 3, 3, 3, 2, 2, 2, 3, 3, 3, 3, -2, 3, 3, 3, -11, 3, 2, 3, 3, 2, 3, -27, 13, -20, 3, 3, -28, 3, -1, 3, 3, 3, -8, 3, 3, 3, 7, 2, 3, 3, 3, 2, 3, 3, -18, 2, 3, 3, 3, 3, 3, 3, 10, 3, -1, 3, 2, 3, -12, 3, 21, 3, -3, 3, 2, 2, -7, 3, 3, 3, -39, -15, 3, 3, 2, 4, 3, 3, 3, 3, 3, 3, 3, 23, 3, 39, 3, -14, 5, 15, 2, 3, -35, 3, 22, -26, 3, 3, 3, 43, 3, 3, -11, -19, -35, -20, 3, 1, 3, 36, -21, -3, 3, 2, 3, 3, 3, 2, -20, 3, 2, 3, 3, 3, 3, 3, 29, 3, 2, 2, 3, 3, 3, -19, 3, 3, -22, 3, 2, 2, 2, 3, 2, 3, 2, -2, -36, 2, 2, -5, 3, 3, 3, 3, 3, 3, 3, -13, 3, 3, 3, 2, 2, 3, -39, -29, 3, 3, 3, 3, 3, 3, -30, 3, 2, 3, 3, 3, 3, 2, 3, 3, 3, 2, 38, 2, 3, 3, 3, 10, 2, 2, 3, 17, 3, 2, -19, 3, 2, 3, -22, 2, 2, 2, 3, 3, 3, 3, 2, -36, 3, 3, 2, 3, -15, -18, 3, 5, 3, 3, 3, 6, 3, 2, 3, 3, 3, 3, 3, 12, 3, 2, 2, 3, 3, 3, 3, 2, 3, 3, 2, 2, 2, 3, 12, 3, 3, 3, 3, -10, 3, 3, 3, 3, -28, -18, 20, 2, 2, 12, 3, 3, 3, 3, 3, -16, 3, 3, 3, 3, 2, 3, 33, 3, 22, -3, 3, 3, 3, 2, 16, 3, 2, 2, 1, 3, 3, 7, 3, 3, -2, 3, 2, -17, -23, 3, 3, 3, 3, 2, 2, -43, 3, 3, 2, 3, 3, -19, 3, 3, 3, 3, 3, -6, 3, 20, -6, -10, 3, 2, 3, 13, -2, 3, 3, 2, 3, 2, 3, 3, 3, 3, 2, 3, -22, 3, 3, 3, -17, 2, 0, -10, 18, 3, 3, 31, 3, 3, 33, 3, 3, 2, 3, 3, 3, -34, 3, 2, 3, 3, 3, 3, -26, -23, -42, -34, 16, 3, 3, 3, 22, 3, 3, -16, 2, 2, 3, 3, 3, 3, 2, 3, 3, -35, 2, -14, -21, -5, 3, 0, -21, 3, 3, 3, 2, 3, 3, 2, 3, 3, -57, -5, 3, 3, 9, -26, 3, 3, 3, 3, 1, 3, 3, 3, 3, 3, 3, 3, 2, 3, 3, 2, 3, -40, -6, 3, 3, -33, 2, 2, 2, 3, 3, 3, 3, 23, 3, 2, -26, 3, 3, 3, 3, 2, 6, 3, 7, 35, 2, 3, 2, 3, 3, 2, 2, 18, 3, 3, 2, 3, 3, 2, 3, -12, 2, 3, 3, 3, 7, 3, 5, 3, 3, 2, 3, -53, 3, 2, -40, 3, 26, 2, 3, 3, 2, 3, 33, -10, 4, 3, 3, 13, 2, 2, 3, 2, 3, 3, 8, 2, 3, -25, 2, 3, 3, -32, 3, 3, 3, -17, -30, 3, 2, 3, -28, -2, 2, 3, -8, 21, 2, 48, 3, 31, 4, 3, 2, 3, 3, 30, 3, 3, 2, 3, 3, 3, 3, 3, -9, 2, 7, -21, 3, 3, 3, -11, 2, 3, 3, 3, 3, 3, 2, 2, 3, 14, 2, 2, 3, 3, 3, -1, 2, 3, 3, 3, -10, 3, 27, 3, 2, 13, 3, 2, 1, 3, 3, 3, 47, 27, 12, 3, 3, 22, 3, 2, 3, 2, 3, -4, 3, 3, 3, 17, 3, 2, 3, -5, 3, 3, 3, 6, 3, 2, -7, 2, 3, 2, 2, -11, 6, -5, 3, -16, 3, 3, 3, 2, 3, 2, 17, 2, 2, 3, 30, 11, 3, -28, 3, 3, 2, 2, 3, -22, 3, 2, -42, 3, 2, 3, 2, -3, 3, 3, 3, 3, 2, 3, 3, 3, 2, 3, 3, 3, 3, -16, 3, 11, 3, 3, -48, 3, -16, -7, 2, 3, 3, 2, 2, 3, 17, 2, 35, 3, 3, 3, 2, 3, 2, 3, 3, 2, 2, 2, 3, 3, 31, 3, 3, 3, 3, 3, 2, 3, 2, -29, -3, 3, -4, 3, 2, 2, 3, 3, 3, 3, 3, 2, 3, 6, 3, 2, 3, 2, 20, -9, 17, 36, 3, 3, 3, 3, 3, 3, 2, 3, 3, 5, 3, 3, -63, 3, -23, -39, 3, 3, -7, 3, 2, 3, -25, 3, 2, 3, 2, 3, 2, 2, 34, 2, 2, 3, 21, 3, -8, 2, 2, -8, 7, 3, 2, 23, 3, 2, 3, 3, -36, 3, 3, 3, 2, 3, -1, 2, 3, 3, 3, 34, 3, 3, 3, 7, 2, 3, 2, 3, 3, 3, 3, -18, -9, 3, 3, 3, 3, 6, 25, 37, 3, 2, 3, 22, 2, -11, 3, -4, 3, 3, 3, -6, 3, 3, 3, 3, 3, 3, 3, 3, -9, 2, 3, 3, 3, 3, 3, -7, 2, 3, 3, 3, 3, -31, 3, 4, 2, 3, 0, 3, 7, 2, 3, -41, 3, 3, -19, 2, 3, 3, 3, 3, 3, 3, 3, 2, 2, 3, 3, -1, 3, 3, 2, 3, 3, 3, 2, 3, 3, 3, 3, 3, 3, 2, 2, 3, 2, 3, 2, 4, -27, -22, 3, 3, 3, 3, 3, 2, -6, 2, 3, 3, 3, 2, -8, 3, 2, 3, 3, 2, 3, 3, 3, 2, 3, 3, -50, 2, 15, 3, 3, 3, 3, 27, 3, 3, 3, 3, 3, 2, 2, 2, 3, 3, 3, 3, 3, 3, 3, 3, 3, 3, 3, -48, -13, 28, 23, 2, 3, 3, 2, 2, 3, -24, 3, 3, 2, 2, 2, 3, 2, 3, 2, 3, -2, 2, 3, 2, 3, 3, 3, -11, 3, 3, 3, 3, 3, 3, 43, 3, 12, 2, 2, 2, 2, 23, 2, -11, 3, 3, 2, 2, 21, -1, 2, 3, 3, 3, 18, 7, 14, 3, 2, 2, 3, 3, 2, -3, 3, 3, 3, 3, 3, 3, 3, 2, 3, 3, 6, -16, 3, 3, 3, 2, 3, 2, 21, 3, 3, 3, -19, 2, 2, 2, 3, 2, 3, 2, 12, 3, -5, -35, 3, -9, 3, -1, 3, 2, 3, 3, 2, 3, 3, 3, 18, 3, 3, 3, 6, 21, 2, 3, 2, 2, 3, 2, 3, 9, -10, 3, 2, 3, 3, 2, 20, 3, 3, 3, -35, 3, 3, 6, 3, 3, 3, 2, -15, 2, -19, 3, 3, 2, 3, 2, 3, 2, 3, 3, 3, 2, 3, 3, 3, 2, -57, 3, 31, 3, 3, 10, -17, 3, 2, 2, 3, 3, 3, 2, 3, 2, 5, -16, 3, -38, 11, 2, 3, 2, 3, 2, 3, 2, 3, -14, 3, 3, 2, 7, 3, -12, 3, 3, 3, 2, 3, 2, 3, 3, 3, 2, 5, 11, 2, 15, 3, 3, 2, 5, 3, -24, 3, 3, -4, 2, 3, 3, 2, 3, 3, 3, 3, 3, 2, 3, 12, -2, -13, 3, 2, 3, 2, 16, 3, 3, 2, -9, 2, 2, 2, 19, 3, 3, 3, 3, 2, 3, 2, 3, 3, 3, 3, 27, 3, -4, 3, 3, 3, 3, -28, 2, 3, 3, 2, 13, 3, 3, 3, 3, 3, -28, 3, 2, 3, 3, 3, 3, 12, 3, 2, 3, 2, 2, -21, 3, 3, 3, 3, 3, 3, 3, 3, 2, 2, 3, 3, 2, 2, -34, 3, -22, 4, 16, 30, 3, 3, 3, 3, 3, 2, 27, 3, 25, 3, -23, 3, -1, 3, 3, 3, 3, -25, 15, -16, 3, 3, 3, 3, -22, -7, 3, 2, 3, 3, 3, 2, 2, 3, 1, 3, 3, 3, 2, 3, 2, 3, 3, 3, 3, 3, -41, -13, 3, 3, 0, 3, 3, 3, 3, 3, 2, 3, 3, 3, 3, -23, 3, 4, 3, 14, 3, 13, 3, 3, 9, 2, 3, 3, 3, 17, 11, 3, -16, -23, 3, 3, 3, 2, 2, 3, 3, 3, 3, 3, -4, 3, 3, -25, -1, 3, 3, 2, 3, 2, 39, 3, 3, 2, 3, 3, 3, -7, 3, -21, 3, 2, -1, 3, 16, -16, 3, 16, -5, -58, 3, 2, -3, 3, 3, 3, 3, -16, 2, 2, -10, 3, 3, 3, -18, 3, 2, 3, 3, 3, 2, 3, -28, -44, 2, 2, 3, 5, 3, 3, 0, -32, 3, 8, 28, 2, 3, -27, 3, 3, 3, 3, 3, 3, 3, 9, 3, 3, 3, 3, 2, 3, 3, 29, 8, 3, 3, 3, 2, -9, 3, 2, 3, 3, -34, 49, 3, 3, 2, 6, 3, 2, 2, 3, 3, 2, 3, 3, 3, -8, 3, 3, -28, -7, 3, 3, 3, 33, 3, 3, 3, 1, 3, 3, 35, 3, 2, 2, 3, 2, 83, 2, 15, 15, 3, 5, -32, 2, 3, 3, 3, 2, 3, 3, 62, 2, 16, 3, 2, 3, 3, 3, 2, 3, 3, -6, 11, 3, 3, 4, 3, 2, 3, 2, 2, 3, 3, 22, 3, 3, 32, 2, 3, 3, 3, -17, 25, 3, 3, 2, 3, 3, 3, 3, 24, 3, 6, 2, -12, 3, 2, 3, 2, 3, 17, 3, 3, 2, 32, 3, 2, 1, 3, -2, 3, 3, 2, 3, 19, 28, 3, 6, 2, 3, 2, 2, 2, 2, 2, 35, 2, 3, 3, 3, 3, 3, 3, -22, 0, 3, 3, -5, 3, 2, 3, 2, 3, 6, 3, 3, 3, 3, 3, 2, 3, 3, 3, 3, -30, 3, 3, 3, 3, 3, -5, 3, 2, 3, 24, 0, -31, 3, -12, 3, 2, 3, 2, 3, 3, 3, 2, 3, 3, 3, 2, 3, 3, 3, -17, 38, 2, 3, 15, 3, -1, 3, 3, 3, -4, 1, 2, 3, 3, 4, -17, 25, 3, 1, 3, 2, -13, 3, 3, 2, 2, 29, 3, 3, 3, 3, 1, 3, 2, 3, 3, 3, 2, 19, 2, 26, -31, 2, 35, 16, 0, -46, 3, 2, 16, 3, 31, 3, 2, 3, 3, 3, 51, 3, 2, 3, 2, 3, -40, 14, 2, 4, 3, 2, 2, 3, 2, 3, 37, 3, 3, 2, 2, 3, 3, 2, 2, 3, 2, -10, 2, 3, 3, 1, 3, 2, 3, -17, 3, 2, 2, 14, 3, 8, 2, 3, 3, -9, -21, 2, 3, 3, 3, 3, 3, 3, 3, 10, 3, 3, -16, 3, 3, 2, 3, 3, 11, 3, 2, 3, 17, 2, 12, 3, 3, 3, 3, 2, 3, 2, 0, 3, 3, 3, 3, 19, 2, 3, 3, 3, 8, 3, -22, 3, 37, 24, 12, 3, 3, 3, 2, 3, 2, 2, 2, 2, 3, 2, 2, 2, -11, 3, -28, 4, 3, 3, 2, -12, -26, 3, 2, 3, 3, 3, 3, 3, 3, 3, 3, 3, 1, 12, 2, 2, -2, 2, 3, 3, 3, 3, 3, 3, 3, 3, 3, 3, 3, 3, 3, 0, 2, 2, 34, 3, 3, 3, 16, 2, 2, -3, 28, 3, 3, 2, 49, 3, -6, 16, 3, 3, 3, -36, 3, 10, 3, 3, -18, 11, 3, 3, 3, 3, 3, 3, -9, 3, 15, 2, 3, 3, 3, 3, 3, 12, 14, 3, 2, 3, 3, 3, 3, 3, 3, 3, 3, 2, 3, 3, 2, 3, 3, 3, 3, 3, 3, 3, 3, 2, -33, 3, 2, 3, 3, 3, 46, 14, 2, 16, 2, 2, 3, 3, 3, 3, 3, 2, 3, 3, 3, 3, 2, 3, -3, 3, 3, 3, 15, 3, 3, 18, 2, 3, -21, 32, 2, 2, 3, 3, 0, 2, 2, 3, 58, 3, -5, 2, 3, 2, 3, 2, 3, 2, 10, 7, 3, 2, 3, 3, 3, 2, 2, 2, 16, 3, 3, 3, -18, 3, 3, 3, 3, 2, 3, 3, 11, 23, 3, 3, 3, 2, 3, 3, 3, -6, 3, 2, 3, 3, 3, 2, 3, -28, 2, -17, 3, 40, 3, 14, 39, -10, 2, 3, 3, 3, -13, 3, 3, 3, 3, 2, 3, 2, 3, 3, 30, 3, 3, 2, 3, 2, 3, -6, 35, 3, 3, 3, -26, 3, 2, 3, 13, 3, 3, -14, 2, -1, 17, 3, -15, 2, 3, 2, 3, 21, -21, 3, 2, 3, 3, 3, -10, 3, 3, -18, 3, 3, 3, 2, 3, 36, 9, 3, 3, 3, 3, 3, 3, 3, 2, -23, 3, 3, -6, 1, 22, 2, 2, 14, 2, 2, 3, 3, 3, 3, 3, 2, 3, 3, 0, 2, 21, 2, 3, 3, 3, -31, 3, 4, 3, 2, 2, 2, 2, 7, 22, 2, 2, 13, 3, 3, 11, -37, 3, -6, 3, 3, 8, 3, 3, 2, 3, 2, 3, 3, 3, 3, 3, 3, -6, 19, 3, 3, 2, 3, 2, 3, 22, 3, 3, 3, 3, 3, -16, 3, 11, 3, 3, 3, 3, 3, 3, -6, 3, 3, 2, 3, 3, 3, 3, 3, 3, 2, 3, 3, 3, 2, 20, 2, 3, 3, 3, 2, 2, 3, -33, -25, 3, 2, 3, 3, 3, 3, 20, -1, 3, 3, 3, 3, 3, 4, 3, 22, 3, 2, 3, 3, 3, 3, -11, 1, 2, 3, 3, 3, 7, 3, 2, 3, 3, 3, 3, -10, 3, -10, 3, 3, 3, 5, 4, 2, 3, 2, 3, 3, 3, 16, -13, 30, 2, 3, 77, 10, 2, 3, 3, 3, 3, 2, 12, 2, 13, 2, 3, 3, 3, -4, 3, 2, 2, 3, 3, 2, 3, 3, 3, 3, 3, 3, 3, 0, 34, 3, 3, 3, 3, 3, 3, 3, 3, 3, 2, 2, 2, 37, 3, 15, -2, 22, 3, 3, 12, 3, 2, 3, -10, 24, 3, 2, 3, 3, 3, 3, 3, 2, 2, 3, 25, 3, 28, 3, 3, 3, 3, 3, 2, 3, -18, 9, 2, 3, -33, 2, 3, 11, 3, 3, 3, 2, 3, 5, 3, 2, 2, 3, 2, 3, 3, 3, -25, 2, -5, 2, 3, 2, 22, 3, 3, 2, 3, 2, 3, -32, 3, 2, 2, 3, 3, 2, 2, 3, 2, 3, -26, 2, 3, 10, 3, 2, -15, -17, 3, 2, 3, 14, 3, 3, 3, 3, 3, 3, 2, 2, 3, 3, -4, 3, 2, 3, 3, 3, -4, 3, -15, 3, 14, 3, 3, 2, 3, 3, 2, 3, 2, 2, 3, -8, 2, -15, 3, 25, 2, 3, -10, 20, 3, 3, -11, 3, 2, 3, -15, 3, 60, 5, 3, 3, 3, 3, 3, 3, 3, 3, 2, -21, 3, 25, 3, 27, -13, 2, 6, -25, 2, 3, 3, 3, -11, 3, -44, 3, 3, 3, 3, 3, 26, 3, 3, 3, 3, 3, 2, 3, 3, 3, 27, 37, 3, 3, 3, 3, 3, 2, 3, 3, 3, 3, 3, 3, 2, -17, 3, 3, 18, 2, 17, 2, 2, 1, 3, 2, 3, 3, 3, 2, 3, 12, 3, 3, 3, 3, -15, 32, 3, 53, 19, 3, 2, 3, 5, 2, -20, 3, 2, 3, 2, 2, 3, 8, 3, 3, 3, -27, 3, 3, 2, 3, 3, 3, 1, 3, 22, 3, 3, 3, -11, -22, 3, 3, -9, 3, 3, 2, 3, 2, 3, 3, 2, 3, -15, 37, 3, 3, 3, 3, 3, 3, 2, 3, -9, 3, 9, 2, -4, 3, 3, 3, -1, 3, 3, 3, 3, 3, 2, 3, 2, 3, 3, -24, 16, 2, 2, 2, 3, 3, 3, 3, -21, -3, 15, 3, 2, 3, 30, 3, 3, 3, 9, -12, 2, 3, 3, 2, 3, 3, 2, 0, 2, 3, -6, 2, 3, 3, 3, 35, 7, 3, 3, 2, 2, 3, 3, 3, 3, 2, 3, 6, 3, 3, 2, 8, 3, 3, 3, 2, 3, 3, 3, 3, -19, 3, 3, 3, 2, 3, -12, 3, 3, 3, 3, 13, 2, 2, -7, 25, 3, 2, 3, 3, 3, 2, 3, 2, 3, 2, 2, 2, 2, 22, 3, 3, 2, 3, 9, 2, 2, 3, 3, 3, 3, 3, 3, 2, 3, 3, 3, 3, 3, 2, 2, 3, 36, 3, 3, 3, 3, 3, 3, 23, 2, 3, 2, 3, 3, 2, 3, 2, 3, 2, 3, 3, 2, 2, 3, 3, -5, 3, 3, 3, 3, 3, 3, -11, 3, 1, 3, 3, -7, 3, 16, -6, 3, 43, 2, 3, 3, 3, 3, -32, 11, 3, 3, -10, 2, 18, 2, 3, 2, 3, -26, 3, 3, 3, 3, 2, 22, 3, 3, 2, 3, 3, 3, 2, 3, 3, 2, -9, 2, 2, 3, 3, -4, -11, 3, 11, 21, -32, 2, 3, 3, 3, 2, 2, 10, 3, 3, 2, 3, 3, 3, 3, 2, 3, 3, 3, 3, 3, 3, 87, 3, 30, 3, 13, 3, 3, 3, -32, 3, 3, 3, 3, 2, -16, 3, -14, 3, 2, 7, 3, -27, 3, 2, 3, 3, 2, 3, 3, 3, 3, 2, 3, 3, 3, 3, -12, 2, 0, 3, -2, -25, 3, 3, 3, 3, 3, 3, 3, 3, 2, 1, 33, 3, 9, 3, 3, 3, 3, 3, 3, 41, 3, 2, 2, 3, 2, 3, 3, 3, 2, -41, 3, 3, 3, 3, -51, 3, 3, 3, 3, -10, 2, 2, 3, 3, 2, 3, 2, 2, 3, 16, 3, 3, 3, 3, 19, 3, 3, 2, 3, 27, 3, 3, 2, 3, 3, 3, 3, 2, 3, 3, 3, -20, 3, 2, 3, 2, 23, 3, 21, 3, 3, 3, 2, 12, 3, 3, 3, 14, 11, 3, 3, -30, 3, 3, 3, 2, 2, 2, 2, -14, 2, 2, -10, 3, 3, 3, 3, 3, 3, -23, 3, 3, 3, 3, 19, 3, 3, -6, -19, 3, 3, 2, 2, 2, 3, 3, 2, 2, 3, 2, 3, 2, 2, 4, 3, -28, 3, 3, -14, 29, 2, 3, 3, 3, -30, 3, 3, 2, 21, -10, 18, 9, -3, 3, 3, 3, 15, 3, 2, 3, 3, 3, 3, 3, 3, 3, 2, 2, 28, 3, 18, 29, 2, 3, 3, 3, 3, 3, 2, 3, 3, -10, 25, 3, 3, 3, 3, 51, 2, -34, -21, 3, 3, 3, 3, 13, -26, 3, 30, 3, 3, 2, 2, 3, 3, 3, -29, 3, 3, 3, 2, -41, -36, -10, 2, 3, -10, 32, 3, 3, 3, 3, 3, 29, -27, 3, 2, -10, 2, 3, -8, 3, 2, -35, 2, 8, 3, 3, 9, 3, 2, -4, 3, 2, -6, 12, 1, 2, 3, 2, 20, 3, 3, 2, 53, 2, 3, -4, 2, 3, 3, 3, 3, -8, 9, 3, 3, 3, 3, 3, 3, 15, 3, 3, 3, 9, -18, 3, 3, -2, 3, 2, 2, 3, 3, 3, 3, 24, 3, 3, -4, -9, 3, 11, -51, 3, 3, 3, 3, 13, 3, 3, 20, 3, 3, 3, 2, 3, 3, 3, 3, -33, 3, -13, 3, 3, 2, 3, -12, 13, 9, 4, 3, 3, 2, 1, 3, -16, 3, -6, 3, 3, 3, 2, 3, 3, 3, -14, 3, 3, 3, 5, 2, 19, 2, 3, 2, 2, 2, 3, 2, 3, 2, 2, 3, 3, 3, -4, 3, 3, 3, 2, 22, 3, 2, 3, 3, 2, 3, 3, 3, -16, 3, 3, 2, 3, 4, -65, -37, 3, 3, 2, 2, 3, 2, 3, 3, 11, 2, 2, -24, 3, 2, 53, 12, 3, 2, 3, 3, 3, 3, -15, -3, 0, 3, 2, 3, 3, 3, 3, -46, 2, 3, 3, 19, -1, 2, 2, 3, 3, -20, 2, 3, 14, 3, -20, 3, 20, -11, 32, 3, 2, 0, 2, 3, 3, 2, 2, 2, -53, 3, 3, 3, 3, 2, 3, 2, 12, 3, 3, 3, 3, 2, 2, 3, 3, 3, 3, 2, 3, 3, 31, 3, 3, -22, 3, 3, 3, 3, 2, 2, 3, 3, 2, 3, 2, 3, 3, 2, 3, 7, 2, 2, 3, 4, 3, 2, 3, 3, 2, 8, -2, 3, 3, 0, -15, 11, -6, 3, 3, 3, 10, 2, -22, 2, -32, 3, 2, 13, 2, 2, 2, 2, -31, 2, 2, 15, 3, 3, -27, 3, 3, 3, 3, -26, 3, 2, 3, 3, 2, 3, 3, 3, 2, 3, 3, 3, 3, 3, 3, 3, 3, 3, 3, 2, 2, 2, 2, 16, 3, 3, -18, 3, 3, -18, 33, 3, 2, -14, 22, 3, 4, 3, 18, 2, 3, 2, 37, 3, 2, 22, 2, -26, 3, 3, 3, 2, 3, 3, 2, 2, 3, 3, 2, 31, 3, 44, 3, 3, -15, 3, -37, 3, -15, 2, 3, 3, 3, -17, 3, 3, -11, 3, -2, 49, 5, 3, 3, 27, 3, 3, 2, 3, 2, 3, 3, -7, -8, 3, 3, -13, 3, 3, 3, 2, 2, -18, 2, 9, 3, 3, 2, 3, 3, 2, 2, 2, 2, 3, 2, 3, 2, 2, 3, -2, 3, 2, 2, 5, -25, 3, 3, 3, 2, 3, 3, -21, 3, 3, -11, 2, 3, 2, 3, 11, 2, 2, 3, 3, 9, 3, 2, 3, 3, -29, 0, -16, 25, 3, 2, 3, 2, 2, 3, 9, 3, 3, 3, 3, 3, 2, 2, 2, 13, 2, -31, 54, 3, 2, 11, 3, 3, 3, 2, 3, 2, -3, 3, 3, 3, 3, 24, 2, 2, 3, 11, 3, -9, 3, 3, 3, 3, 3, 3, 3, 24, -7, 3, 3, 3, 3, 3, 3, 1, -29, 3, 3, 3, 2, 30, -4, 3, 2, 3, 8, 2, 3, 3, 2, 9, 23, 2, -12, 3, -24, 3, -9, 2, 3, 3, 2, 3, 3, -36, 3, 1, 3, 3, -21, 3, 2, 3, 3, 19, 3, 3, -15, 3, 2, 3, 3, 3, 13, -13, 3, 3, -23, 3, 2, 3, -7, -21, 3, 3, 3, 3, 50, 3, 3, -17, 3, 3, 3, 36, 3, 3, -29, 3, 2, 3, 12, 3, 2, 11, 3, 3, 1, 3, 3, 3, 3, 2, 2, 14, 3, 3, 2, 3, 2, 3, 2, 3, 3, 3, 3, 3, 3, 3, 3, 3, 2, 3, 3, 0, 10, 3, 3, 3, 3, -21, 2, 3, 3, 3, 2, 3, -5, 3, 2, 3, 32, 3, 3, 2, -17, 3, 3, 3, 3, 3, 47, 16, 3, 2, 3, 3, 3, 3, 3, 2, 3, 3, 3, 3, -24, -14, 3, 2, 3, 3, 3, -23, 3, -49, 2, -7, 3, 3, 3, 3, 3, 3, 3, 3, 3, 2, 3, 3, 3, 2, 3, 3, 3, 3, 3, 3, 2, 3, 2, 3, -8, 2, 3, -22, 3, 8, 3, 3, 32, 3, 3, -8, 3, 3, 3, 3, 3, 3, 3, 2, 3, 3, 3, -20, 3, -43, 2, 3, 3, 2, 2, -27, 3, 14, -35, 2, 3, 3, 3, 2, 2, 3, 3, 3, 3, -5, 2, 3, 3, 18, 3, 2, 3, -42, 2, 2, 2, 3, 3, 3, 3, -11, 2, 14, 3, 3, 0, 3, 3, 3, 3, 3, 3, 3, 0, 3, 2, 3, 3, 3, 3, 2, 3, -7, 3, 3, 3, 2, 3, 3, 3, 3, 5, 3, 3, 2, 3, 22, 6, -7, -12, 3, 3, 2, 2, 3, 3, 3, 3, -20, 3, -43, 2, 3, 3, -4, 3, 2, 3, 2, 3, 3, 3, 2, 5, 3, 3, -32, 3, 3, 3, -15, -24, 3, 2, 28, 3, 3, -16, 2, 3, 3, 3, 2, -42, 2, 3, 33, 2, 3, 3, 3, 3, 2, 3, 3, -2, 3, 15, 3, 3, -22, 3, 2, 2, -13, 3, 3, 8, 2, 3, 3, 3, 2, 3, 3, 2, 3, -39, 3, -30, 3, 2, 3, 2, 3, 2, 2, 12, 3, 3, 2, -4, 3, 3, 3, 3, 2, 3, 32, 3, 3, 7, -43, 3, 3, 3, 3, 3, 2, 3, 2, 3, 3, 3, 3, 3, 3, 3, 3, 3, 3, 3, 3, 2, 3, -23, 3, -19, 3, 38, 3, 2, 3, 3, 3, 2, 2, -49, 3, 26, 2, 3, 26, 15, 3, -9, 3, 3, 3, 3, 7, 3, 3, 3, 3, 3, 3, 3, 3, 3, 2, 3, 2, 3, 3, 3, 3, 3, 3, 3, -20, 3, 3, 3, 2, 3, 3, 3, 4, -16, -21, 2, 21, 3, 2, 2, 2, 3, 2, 3, 10, 3, 3, 20, 3, 2, 3, 2, 3, 4, 7, 3, 2, 3, 3, 11, 3, 3, 3, 3, 2, 3, 3, 3, 3, 2, 35, 3, 3, 3, 3, 3, 2, 3, 3, 2, 3, 3, 3, 2, 2, 3, 2, 3, 6, 2, 3, 3, 3, 2, 3, 3, 2, 34, 3, 3, 2, 3, 2, 3, 3, 3, 3, 3, 3, 3, 3, 3, 15, 3, 3, 3, 3, 3, 3, -8, 2, 42, 3, 42, 3, -9, 11, 3, 3, 2, 2, 3, 3, 3, 5, 3, 3, 2, 2, 3, 3, 3, -5, 3, 3, -27, 3, 2, -5, 3, 3, 3, 3, 3, 3, 3, 2, 3, 3, 3, 2, 2, -8, 3, -12, 3, 3, -25, 3, 3, 3, -2, 3, 3, 3, 3, 3, 3, 3, 3, 3, 2, 3, 20, 3, 3, 2, 2, 2, 3, 3, -15, 3, 2, 4, 2, 2, 3, 3, 3, -9, 3, 2, 4, 3, 2, 3, 3, 17, 3, 3, 2, 3, 3, 2, 2, 3, 3, 3, 3, 2, 3, 3, 3, 3, 3, 33, 3, -19, 4, 2, 3, 5, 2, 2, 3, 2, 2, -24, 3, 21, 3, 3, 3, 3, 3, -3, 3, 26, 3, 2, 2, -29, 2, 2, 0, 3, 3, 3, 3, 3, 2, 3, 3, 3, 3, -14, -24, 3, 3, 3, 3, 3, 15, -75, 3, 3, 2, 3, 3, 2, 3, 8, 3, 2, 2, 3, 3, 3, 3, 3, 3, 3, 2, 3, 3, 2, 3, 3, 3, 3, 2, -18, 3, 3, 3, 2, 3, 10, -9, 3, 2, 3, 3, 3, 30, 3, 2, 3, 3, 3, 2, 35, 2, -17, -37, 2, 5, 3, 3, 3, 3, -10, 3, -4, 13, 3, 2, 2, 3, 2, 4, 3, 2, 51, 2, 3, 3, -9, 3, 2, 18, 2, -5, 21, 2, 3, 3, 3, 3, -6, 3, 2, 3, 2, 3, 10, -44, 3, 2, 3, -6, 2, 3, 3, 10, 3, 3, 3, 3, 3, -6, -4, 3, 3, 2, 3, 8, 3, -7, 2, 3, 3, 2, 13, 3, 9, 2, 2, 3, 2, -4, 3, 9, 2, 32, 3, 2, 2, 3, 3, 3, 2, 3, -5, 3, 2, 2, 3, 2, -39, 3, -1, 3, 3, 27, 35, 3, 2, 2, 11, -22, 2, 3, 1, -17, 3, -19, 2, 3, 2, 3, 3, -5, 3, -11, 3, 3, 2, 57, -19, 2, 0, 3, 17, 3, -15, -11, 3, 2, 3, 3, -18, 3, 6, 2, 3, 2, 2, 3, -14, -3, 3, 11, 3, 3, 3, -1, 2, 3, 3, 3, 2, 3, 3, -17, 3, 3, 2, 3, 2, 3, -1, 3, 3, -2, 3, 2, 3, 2, 3, 3, 3, 3, 13, 3, -41, 17, 3, 3, 3, 3, 3, -19, 2, 3, 3, -10, 2, 3, 3, 3, 3, 3, 3, 3, 3, 0, 3, 1, 3, -7, 2, 3, -14, 3, 2, 2, -1, 3, 3, 3, 3, 23, 27, 3, 3, 3, -25, 2, -2, 2, 3, -22, 3, 3, 3, 3, 2, 2, 3, 3, 3, 2, 3, 2, 2, 3, 3, 2, 3, 11, 3, 3, 3, -14, 3, 3, 3, 2, 3, 3, -3, -21, 3, 2, 41, 3, -7, 3, 2, 21, 3, 3, 3, 25, 2, 19, 0, 3, 3, 3, 3, 3, 2, 3, 3, 3, 3, 3, -1, 2, 2, 0, 23, 17, 3, 8, 3, 2, 11, 9, 3, 3, 3, 3, 3, 3, 3, 14, 2, -10, 3, 8, 3, 3, 2, 3, 0, 3, 3, 3, 3, 3, 3, 2, 3, 2, 3, 3, 3, 15, 2, 3, 3, 3, 3, 3, 3, 2, 2, 3, 2, 3, 3, -5, -34, 2, 3, 2, 2, 2, 3, 2, 3, -8, -9, -1, 3, 3, 2, 3, 3, 3, 3, 3, 3, 2, -36, 3, 2, 2, -13, 2, 3, 3, 3, 2, 2, 3, 2, 3, 17, 2, 3, 3, 2, 0, 3, 3, -9, -18, -1, 3, 3, 2, -51, 2, 3, 2, 2, 3, 3, 18, 3, 13, 3, -19, 3, 3, 30, 3, 3, 8, -2, 15, 2, 3, -18, 3, 20, 3, 2, 2, 3, 2, 10, 3, -22, 3, 3, 2, 0, 3, 2, 3, 3, 3, 11, -21, 3, 3, 3, 2, -40, -11, 3, 2, 3, 3, 3, 3, 3, 3, 3, 2, 3, 3, 3, 3, 3, 10, 3, 5, -41, 2, 3, 3, 3, 3, 54, 2, -15, 3, 3, 3, 3, 3, 12, 2, 2, 2, 3, 3, 55, 3, 3, 3, 3, 2, -28, 2, 2, 3, 3, 3, 3, 3, 3, 3, 3, 3, 3, -1, -20, 0, 3, 2, 3, -9, 11, 3, 3, -17, 2, 3, 16, 3, 2, 29, 2, 2, 2, 3, 3, 3, 3, 3, 51, 3, 14, 3, 3, 2, 8, -4, -23, 3, -1, 9, 3, 2, 3, 3, 3, 3, 3, 3, 3, 3, 3, 16, 3, 1, 3, -12, 2, 2, -2, 3, -7, 3, 3, -6, 3, 2, 3, 3, 3, 3, 3, 2, -5, 3, 3, 32, 3, 2, 2, 3, 2, 3, 3, 3, 2, -20, 3, 40, 3, 3, 2, 3, 2, 3, 24, 26, 12, 3, 3, 3, -17, 32, 3, 3, 3, 3, 2, 3, 2, 3, 3, 3, 3, 2, 28, 14, 3, 26, 3, -26, 46, 3, 3, 3, 3, 3, 3, -1, 7, 3, -30, -17, -1, -23, 3, 3, 2, 3, 3, 3, 3, 3, 3, 2, 26, 3, 3, 3, 19, -29, 3, 3, 2, -19, 2, 3, 3, -22, -21, 3, 3, 3, 3, 3, 3, 2, 3, 3, 10, 21, 3, 2, 3, 14, 2, 3, -11, 3, 3, 3, 3, 3, 5, 3, 2, 2, 3, -19, 3, 7, 3, 3, 29, 2, 3, 3, -16, 22, 3, 3, 25, 3, 22, 3, 3, 2, 3, 3, 3, 3, 3, -37, 17, 3, 8, 19, 3, 3, 3, 3, 9, 2, -11, -9, 3, 3, 3, -18, 3, 3, 24, 20, 3, -2, 2, 3, 3, 3, 3, 2, 3, 3, 3, 3, 3, 44, 2, 3, 10, 3, 2, 3, 2, 3, 3, 32, 29, 3, 3, 3, 3, 3, 3, 3, 2, 3, 3, 3, 3, 3, 3, -17, 3, 2, 3, 3, 3, 3, 2, 2, 3, 2, 10, 3, 7, 3, 3, 3, 2, 5, -3, 29, 3, 3, 3, 3, 2, 2, 3, 3, 3, 3, 3, 2, 3, 3, 25, 3, 2, 3, -19, 31, 3, 3, -28, 3, 3, 3, 3, 3, 3, -32, 16, 2, -5, 3, 2, 3, 3, 13, 2, 3, 3, 3, 2, 3, 2, 3, 3, 3, 29, 0, 3, 3, 3, 1, 3, 3, 2, 3, 3, 8, 11, 3, 3, -20, 43, 39, 3, 3, 2, 3, 3, -35, -5, 3, 2, 3, 3, 3, 3, -5, 2, 1, 3, 3, 3, -15, -27, 3, 3, 3, 2, 3, 16, 3, -45, 3, 3, 3, 11, -18, 3, 3, 3, 3, 3, 2, 3, 2, 3, 2, 3, 2, 3, 2, 3, 3, 2, 3, 3, 1, 2, 2, -3, 3, 25, 3, 3, 2, -13, 2, -1, 14, 3, 3, 8, 3, 3, -6, 3, -7, 3, 3, 2, 0, 2, -5, 3, 3, 3, 3, 3, -18, 3, 37, 3, 3, 8, -6, 2, -29, 42, 2, 3, 2, -30, 2, 3, 3, 3, 3, 3, 17, 5, -3, 8, 3, 6, 18, 3, 3, -12, -39, 3, 3, -20, 3, 2, 3, 3, 2, 3, 3, 3, 3, 7, 2, 3, 3, 3, 2, 3, 28, 2, 5, 3, 3, 3, 3, 2, 2, 2, 2, 3, 3, -1, 27, 2, -22, 3, 3, 3, 2, 2, 2, 2, -14, 3, -37, 3, -18, 9, 2, 2, 40, 3, 16, 3, 3, 2, 2, 2, 3, 2, 3, 15, 32, 3, 25, 2, 2, 2, 3, 2, -14, 3, 3, -2, 14, 3, 3, 3, 2, 3, 3, -15, 3, 3, -18, 3, 3, 3, 3, -36, 2, 2, 2, 15, 3, 2, 2, 2, 3, 3, 3, 3, -10, 7, 3, -24, 19, 3, 3, -32, -13, 3, 2, 3, 3, -15, 3, 3, 3, 3, 3, 3, 3, 3, 3, 3, 2, 3, 2, 3, 3, 3, 2, 3, 2, 2, 3, 3, 5, 2, 3, 3, -9, 2, 3, 3, 3, 3, 3, 3, 5, 3, 3, -4, 3, 3, 3, 3, 2, 43, 4, -25, 3, 3, 57, 3, 3, 11, 3, 3, -15, 3, 2, 3, 2, 3, 3, 2, 3, 3, 3, 3, 2, 3, 3, 1, 3, -4, 3, 3, 3, 29, 3, 3, 2, 3, 3, 3, -7, 16, 3, 18, 3, 3, -14, 2, 3, 3, 3, 3, 3, 13, 3, 50, 3, 2, 3, 2, 3, 3, 2, 3, -5, 2, 2, 3, 41, -19, 2, 2, 3, 3, 3, 3, 3, 3, 3, 2, -34, 3, -3, 2, 2, 3, -23, 33, 3, 3, 3, 3, 3, 2, 3, 2, 3, 3, 2, -1, 3, 3, -16, 34, -5, 3, 0, 21, 3, 3, 3, 2, -11, 2, 2, 3, 3, 3, 3, 3, 2, 3, -24, 3, 2, 3, 3, 2, 3, 3, -9, 3, 3, -6, 21, 3, -43, 2, 3, 3, 3, 3, 3, -11, 4, 2, 3, 3, 3, 3, 2, 2, 3, 3, -12, -11, -59, 3, 3, 3, 19, 3, 3, 3, 3, 2, 3, 3, -55, 3, 2, 3, 3, 2, -33, -13, 3, 3, 3, 11, 2, -18, 2, -13, 2, -13, 2, 19, 3, 3, 3, 2, 3, 3, 3, 3, 3, 2, 3, 10, 2, 2, 3, 2, -22, 3, 3, 3, 3, 10, 3, 2, 3, 2, 31, 3, 3, 3, 3, 3, 3, 3, 3, 3, -15, 3, 2, 3, 3, 2, -3, 2, 3, 3, -12, 3, 3, 3, 3, 3, 2, 2, 3, -6, 3, 2, 3, 3, 3, 3, 3, 2, 3, 3, 3, 3, 4, -19, 2, 3, 3, 16, 19, 2, 2, 2, -15, 2, 2, 3, 36, 2, 3, 3, 3, 3, 3, -47, 2, 3, 2, 2, 24, 19, 2, 3, 3, 3, 3, 3, 14, -24, 2, 20, 3, 3, 3, 2, 3, 18, 2, 2, 2, 3, 3, 3, 3, 3, 6, 2, 3, 3, 2, 3, 3, -9, 2, 2, 2, 3, 3, -7, 2, 3, 2, 3, 5, 3, 2, 26, 31, 2, 3, 3, 3, 3, 3, 2, -9, 3, 3, 2, -1, 3, 3, 3, 3, 3, 3, 3, 2, 18, 3, 3, 1, 2, 3, 2, 2, 2, 2, 3, 2, 3, 3, 32, 1, 3, -11, 3, 14, 3, 2, 3, 3, 3, -14, 3, 3, 18, 2, 3, 3, 2, 3, 3, 3, 14, 3, 3, 3, 3, 3, 2, -2, 3, 3, 2, 3, 2, -17, 2, 2, 3, -14, 3, 3, 2, 3, 2, -10, 3, -32, -30, 3, 2, 2, -46, 6, 3, 3, 10, 2, 3, 2, 3, 3, 3, 3, 3, 2, 3, 3, 2, 2, 3, 2, 2, 3, 3, 3, -17, 3, 3, 25, 40, 3, 26, 2, 3, 20, 3, 2, 6, 3, 3, 2, 3, 22, 3, 0, -20, 1, -8, 3, 3, 3, 3, -9, -5, 3, 10, 2, 3, -40, 3, 3, 3, 3, 2, 3, 2, 3, -9, 2, 3, 21, -5, 2, 2, 23, 2, -8, 2, 2, -29, 3, 3, 3, 3, 0, 3, -31, 2, 3, 3, -5, 3, 3, 6, 2, 3, 3, 3, 3, 2, 3, 3, 3, 3, 3, 11, 3, 2, 3, 3, 3, 3, 3, 3, 3, 2, 2, 2, 3, 3, -21, 6, 2, 3, 8, -13, 3, 3, 3, 3, 3, 3, -40, -20, 3, 3, 2, 6, -19, 0, 2, 3, 3, 2, 14, 21, 3, 3, 2, 11, 3, 3, 3, 3, 3, 48, 3, 2, 3, 6, 3, 3, 3, 29, 2, -14, 2, 3, 3, 3, 3, 3, -18, 3, 3, 3, -3, 3, 5, 34, 16, 3, 3, 3, 3, 3, -28, 3, 2, 3, 9, 16, 13, 3, 0, 9, 3, 3, 3, 3, 21, 3, 3, 2, 3, 2, 3, 3, 2, 42, 2, 3, 3, 3, -4, -3, 3, -17, 3, 3, 20, 6, 3, 3, 3, 3, 3, 3, 2, 3, -2, 3, 2, 3, 3, -20, 13, 2, 3, -14, 21, 15, 26, 3, 3, 2, 3, 3, -31, 3, 0, 3, -19, 3, 25, 3, 2, 3, 3, 34, 3, 2, -52, -8, -6, 3, 3, 3, 3, 2, -13, 3, 1, -11, 2, 3, 3, 3, 44, 3, 2, -13, 15, 3, 2, 3, 3, 25, 3, 3, 3, 3, -7, 3, 30, 3, 3, 39, -29, 3, -46, 3, 2, -2, 3, 2, 18, 3, -29, -16, 3, 3, 2, 3, -13, 3, 11, 2, 3, 3, 3, 14, 2, 3, 3, 3, 3, 3, -20, 3, 3, -22, 3, 3, 2, 3, 3, 3, 3, 3, -17, 3, -12, 8, 2, 3, 2, 3, 2, 3, 3, 30, 3, 3, 3, 3, 1, 2, -10, -10, 3, 3, -14, -21, 23, 2, 8, -19, 2, 2, 3, 3, 3, -15, 3, 15, 3, 7, 3, 3, 3, 3, 3, 3, 3, 0, 3, 3, 3, 3, 8, 3, -16, 2, 3, 3, 3, 3, 3, 3, 3, 3, 3, 3, 3, 3, 3, 3, 3, 3, 3, 3, 3, 3, 3, 3, 8, 3, 3, 45, 3, 29, 3, 3, 30, 3, 3, -59, 3, 3, 3, 3, -18, 3, 3, -68, 2, -11, 14, 2, 2, 2, 3, 3, 3, 2, 3, 20, 2, 3, 3, 3, 3, -26, 3, -39, 45, 3, 2, 2, 0, 2, 3, -4, 3, -31, -34, 3, 2, 3, 3, -18, 2, 3, 0, 3, -49, 3, 3, 3, 3, 3, 3, -5, -5, 3, 3, 3, 3, -5, 3, -7, 3, 2, 3, 3, 3, 3, 3, 2, 19, 20, 3, 3, 3, -3, 3, 3, 3, 3, 2, 3, 3, 3, 46, 3, 53, 2, 3, 3, -30, 7, 3, 3, 3, 2, 3, 3, 3, 3, 3, 3, 3, 2, 3, 3, 3, -37, 3, 2, 3, 3, 3, 3, 3, 3, 0, 3, 2, 3, 3, 2, 3, 3, 3, 2, 3, 3, 2, 3, 9, 3, 5, 2, -20, 3, 2, 2, 44, 3, 3, 3, 2, 3, 3, 2, 2, 3, 2, 44, 2, 3, 3, 2, 20, 3, 38, 3, 27, 3, 3, 3, 3, 3, 1, 3, 3, 3, 2, 3, 42, 2, 3, 2, 3, 7, 3, 3, 3, 3, 2, 3, 3, 3, 3, 3, -41, 29, 3, 4, 3, 2, 2, 3, 2, 3, 15, 3, 2, 3, 3, 3, 3, 3, 3, 3, 3, 26, 3, 3, -5, 3, 3, 2, 15, 2, 3, 27, 3, 3, 2, 2, 3, 3, 3, 2, 2, 3, 3, 2, 29, 17, 26, 3, 3, 3, 3, 3, 3, 2, 18, 2, 3, 3, 3, 3, 2, 3, 2, 3, 3, 2, 3, 3, 3, 3, -5, 3, -22, 3, 2, 3, 3, 36, -7, -16, 3, 2, -16, 3, 2, 3, 2, 3, -10, 2, 3, 3, -13, 3, 3, -35, 2, 3, 3, 3, 19, -7, -5, 3, 3, 3, 3, 2, 3, 3, 3, -25, 2, -17, 3, 2, 3, 3, 3, 23, 2, 3, -21, 2, 2, 41, 3, 3, 3, 3, 2, 3, 3, 3, 3, 3, 3, 3, 17, 3, 3, 3, 3, 2, 2, 28, 3, 3, 3, 37, 2, 3, 3, 3, -22, 12, 2, -3, 3, 3, 3, -39, 1, 3, 28, -8, 3, 2, 2, 3, 3, -31, 3, 3, 2, 2, 3, 3, 3, 3, 3, 2, -28, 3, 3, 3, 3, 3, 3, 3, 3, 3, 3, 3, 3, 3, 2, 1, 3, 2, -1, 3, 3, 3, 3, 2, 3, 24, 3, 3, -21, 3, 3, 3, 3, 19, 44, 3, 2, 3, 3, 3, 5, 3, 2, 3, 2, 3, 3, -11, 3, 3, 3, 2, 3, 3, 3, 0, 3, 3, 2, 3, 3, 3, 2, 3, 2, 3, 3, 13, 27, -7, 40, 3, 3, 5, 3, 3, 3, 2, 3, 3, -26, 2, 20, 2, 3, 3, 22, 2, 3, 2, 49, 3, 3, 3, 3, 3, 13, 2, 3, 2, 3, 2, 3, 3, 2, 3, 3, 3, 2, -18, 2, 2, -8, 3, 3, 2, 3, 2, -16, 2, 3, 10, 3, 2, 3, 5, 3, 2, -12, -9, 6, -27, 3, 3, 3, 3, 3, 35, 3, 3, 2, 9, 2, 2, 2, 3, 3, -4, 3, 3, 19, 3, -15, 3, 3, 3, 2, -15, 3, 3, 3, 3, -25, 2, 3, 2, 3, -13, 2, 2, 12, -8, 2, 2, 3, 3, 2, -10, 22, 2, 3, -17, 3, 2, 3, 2, 3, 3, 3, 3, 3, 2, 3, -20, 3, 2, 3, -1, 10, 3, 62, 3, -3, 3, 2, 3, 2, 3, 8, 19, 2, 2, 14, 2, 3, 3, 3, 0, 3, -4, 3, -27, 3, 3, -6, 3, 10, 3, 2, 2, 3, 2, 3, 2, 3, 3, 3, 3, 35, 3, 3, 3, 3, 3, -16, 2, 3, 3, 3, 3, 2, 3, 2, 20, 3, 14, 3, 2, -5, 8, 3, 3, 3, 2, 3, 3, 2, 3, -14, 2, 3, 3, 3, 3, 2, 2, 2, -3, 0, 3, 3, 2, 26, 3, 2, 14, 3, 3, 3, -7, 22, 28, 3, 3, 2, 3, 3, 2, 3, 3, 3, 3, 22, 42, 2, 3, -16, 2, 3, 2, 3, 29, 2, 3, 3, 3, 3, 3, 3, 3, 3, 12, 3, 3, 41, 2, 3, 2, 3, 3, 2, 2, -12, 3, 3, 3, 3, 3, -11, 3, -31, 3, 3, 3, -13, 52, 2, 3, 3, 3, 3, 3, 2, 3, 2, 2, 2, 8, 22, 3, 3, 3, 45, 3, 3, 3, 2, -31, 3, 3, 2, 3, 3, 3, 3, 3, 3, 3, 3, 3, 3, 2, 3, -37, 30, 2, 3, 2, 24, 2, 3, 36, 25, 2, 3, 11, -23, -27, 3, 3, 3, 3, 3, 3, 3, 3, 2, 24, 3, 3, 3, 2, 3, -17, 3, 2, 0, 3, 22, 3, -16, 3, 3, 3, 3, 2, 3, 2, 3, 3, -13, 3, 2, 3, 3, 3, -8, 41, -24, -15, 2, 3, 2, 2, 3, 3, 2, 3, 2, 3, 2, 2, 3, 3, 3, 3, 3, 3, 19, 2, 2, 3, 3, 3, 3, 3, 18, 3, 2, 3, -17, 3, 2, 2, 3, 3, -10, 2, 3, 58, 2, -40, 3, -14, 3, 3, 3, 3, 3, 2, 3, 3, 2, 3, -22, 3, 3, 2, 3, 2, 3, 3, 3, 3, 3, 2, -5, 3, 14, 10, 3, 2, 2, 3, -9, 3, 3, 3, 3, 3, 3, 3, 3, 3, 3, 2, 2, 3, 3, 3, 3, 3, 3, 2, 2, 3, 23, 3, -13, 3, 2, 3, 3, 2, 2, 2, -27, 3, 3, 3, 3, 3, 3, 2, 17, -10, 3, 3, 0, -24, 3, 3, 2, 3, 2, 3, 3, 2, 3, 2, 3, 2, 2, 3, 3, 53, 2, 3, 3, 3, 16, 3, 2, 3, 3, -10, 3, 2, 3, 3, -2, 2, 2, -17, 3, 3, 6, -37, 2, 3, 2, -7, 3, 20, 64, 3, 2, 2, 3, 3, 3, 3, 2, 2, 3, -26, 3, 3, 3, 3, 2, 3, 3, 2, -16, 3, 3, 3, 2, 2, 2, 3, 2, 13, 3, 3, 3, 2, 3, 3, 3, 2, 2, 2, 3, 3, 3, 33, 3, 3, 3, -36, 3, -11, 17, 3, -23, 3, 2, 2, -40, 0, -17, 7, 2, -35, 3, 3, 2, 2, -16, 1, 3, 3, 3, 2, 3, 3, 3, 3, 3, -32, -49, 3, 3, 3, 3, 44, 3, 3, -21, 3, 3, 3, 3, 14, 2, 3, 2, 2, 3, 2, 3, 2, -24, 2, -5, 20, -7, 2, 22, 3, 2, 13, 9, 3, 3, 3, -12, 3, 3, -1, 3, 3, 2, 3, -7, 31, 3, 3, 3, 3, -25, 3, 3, 2, 2, 3, 2, 3, 3, 3, 2, 2, -5, 3, 3, -23, 3, -27, 3, 3, 3, 6, 3, -8, 3, 27, 3, 3, -30, 3, 3, 36, 15, 13, -1, 3, 22, -42, 3, 3, 2, 3, -20, 3, 2, -23, 3, 3, 2, 3, 3, 3, 3, 2, 3, 3, 2, 3, 3, 2, 18, 3, 3, 3, 3, 2, 6, 3, 3, 2, 3, 3, 3, 32, 1, 3, 3, 3, 3, 3, 3, 3, 3, -20, -24, 3, 39, -12, 3, 3, -33, 3, -17, 3, 3, 3, 3, 3, 2, 3, 18, 3, -40, 3, 2, 3, 3, 3, 3, 2, -9, 3, 3, 3, 3, 3, 3, 3, -22, -10, 14, 2, 3, 63, -23, 3, 19, 3, 3, 3, 3, 3, 29, 3, -12, 2, 1, 3, 3, 3, -9, 2, 3, 3, 3, 3, 3, 3, -6, 2, 16, -32, 3, 3, -3, -37, 3, 2, 2, 2, 3, 3, 3, -21, -27, 32, 3, 2, 3, 2, 4, 17, 2, 3, 2, 3, 18, 3, 2, 3, 3, 3, 3, 3, 3, 2, 3, 3, 3, 2, 3, 3, -2, 10, 3, 47, 9, 3, 2, 3, 3, 3, 2, 2, 3, 3, 3, -6, -2, -22, 26, 3, -18, 3, -6, 3, 6, 3, -36, 32, 3, 2, 11, 3, 3, -32, 3, 3, 8, 3, 2, 3, 3, 2, 3, 3, 3, 3, 2, 3, 3, 3, 2, -4, 3, 3, 3, 3, 3, 3, 6, 2, 3, 3, 3, 3, 2, 3, 3, 3, 3, -8, 3, -20, 2, 31, 3, 34, 3, 2, 3, 3, 3, 3, 3, 3, -8, 4, 2, 3, -32, -19, 2, 3, 3, 2, 2, 2, -2, 2, 24, -15, 3, 2, 3, 33, 3, 3, 3, 3, 3, 20, -47, 27, 2, 3, 2, 3, 4, 3, 3, 2, 3, 3, 3, 3, 3, 3, 3, 3, 2, 3, 3, 3, 15, 2, 3, 3, 2, 3, 3, 3, 3, 2, 3, 3, 3, 17, 3, 2, 2, 3, 3, 3, 3, 2, 2, -12, 3, -12, 3, 3, 7, 3, 3, 3, -11, -17, 2, 2, 3, -1, 6, -9, 3, 3, 3, 3, 3, 2, 3, 21, 3, 3, 3, 1, 3, -20, 26, 2, 3, 14, -12, 3, 0, 3, 3, 3, 2, 5, 3, 2, -19, 3, 0, -17, 23, 3, 14, 2, 3, -35, 3, 4, 14, 2, 2, 3, 3, 3, 2, 12, 3, 3, -13, 21, 2, 3, 3, 3, 3, 3, 3, -18, 33, 3, 3, 2, -5, 3, -1, 3, 2, 2, 3, 3, 3, 3, 3, 2, 19, 2, 3, 3, 3, 3, 3, 2, 12, 3, 3, -7, 3, 2, 2, 3, 3, 3, 3, 3, 2, 2, 7, 9, 3, 2, -13, 2, 3, 3, 1, 3, 3, 3, 3, 3, 2, 3, 3, 2, 3, 3, 2, 3, -9, 16, 24, 3, 3, 3, -13, 2, 3, 3, -37, -27, 3, 3, 3, 3, -45, 3, 3, 2, 3, 2, 21, -31, -5, 3, 3, -51, -26, 3, 3, 3, 3, 0, 43, 3, 2, 3, 2, -5, 3, 2, 2, 33, 3, 3, 2, 3, 28, 33, -28, 3, 3, 3, 3, 34, 3, -13, 3, -42, 3, 3, 3, 3, 3, 3, 2, 3, 3, 4, 3, 3, 3, -7, 3, -32, 2, 2, 2, 3, 3, 3, 3, 3, 3, 3, 3, 3, 3, 3, 3, 2, 3, 23, 2, 3, 3, 3, 3, 3, -9, 3, -7, 3, 2, 3, 3, 2, -6, 3, 3, 3, 3, 12, 3, 3, 3, 3, 21, 3, -4, 3, 2, 2, 3, 2, 2, 3, 2, 3, 3, 2, 3, 3, 8, 3, 3, 66, 3, 2, 2, 2, 2, 2, 3, 33, 3, 3, 3, 3, -18, 3, 3, 3, 3, 3, 3, 3, 3, 3, -2, 3, 2, 3, 3, 3, 3, 19, 3, 2, 2, 3, 3, 3, 3, -19, 3, -19, 3, 3, 3, 3, 2, 3, 3, 3, -3, 12, -8, 3, 2, 2, -6, 3, 2, 3, 2, 3, 2, 3, 3, 2, 3, 3, 3, 3, 3, 3, -20, -6, 1, 22, 3, 3, 2, 3, 3, 3, 38, 2, 3, 2, 3, 11, 2, 3, -43, 3, 18, 3, 18, -8, 20, 3, 2, 16, 2, 8, -27, 3, 3, 3, 2, -44, 3, 3, 3, 4, 3, -5, 3, 3, 3, 2, -7, 3, 2, 3, 2, -38, 3, 2, 3, 17, 3, 3, 2, -14, 3, 3, 31, 20, 3, 3, 2, 3, 3, -1, 3, 3, 3, 3, 3, 3, 3, 3, 9, 44, 3, 3, 3, 3, 3, 14, 3, -15, 3, 2, -2, 3, 3, 3, -10, 3, -24, 3, -37, 3, 2, 3, 3, 3, 3, -10, 9, 3, -16, 3, 2, 3, 3, 3, 3, -14, 3, 2, 3, -30, 3, 3, 3, 3, 3, 3, 18, 3, 3, 3, 3, 0, 2, 3, 23, 2, 3, 2, 2, 3, 3, 3, 22, 3, 3, 3, 12, 21, 3, 3, 3, 3, 34, -13, 3, 2, 2, 2, 3, 3, 13, 3, 2, 3, 2, 3, 3, 2, 3, -14, 3, 3, 2, 2, 3, 2, 3, 3, -14, 10, 2, 2, 3, 22, 3, 3, 3, 3, 3, 2, 3, -27, 3, 2, -6, 3, 7, 3, 3, 3, 3, 3, -24, 9, 3, 25, -4, 3, 0, 3, 3, 3, 3, 3, 3, 3, 2, 3, 3, 3, 3, 3, 3, 3, 5, 3, 3, 3, 3, -10, 2, 3, 3, 3, 2, 3, 12, 2, 2, 3, 12, 3, 3, 3, -32, 2, 3, 3, 3, 3, 3, 2, 7, -31, 3, 2, 3, 2, 3, 2, 23, 2, 2, 3, 3, 3, -1, 2, 3, -24, 2, 3, 3, 3, 3, 3, 2, 2, 2, 3, 3, 3, -16, 3, 3, 3, 3, 13, 22, 3, 3, 2, 23, 3, 3, 2, 3, 3, 3, 2, 3, -20, 3, 12, 26, 3, 3, 3, 3, -7, 2, -38, 3, 3, -7, 3, 3, 2, 2, 3, 3, 3, 3, 2, 3, 3, 38, 2, 3, 3, 3, 3, 3, -31, 3, 2, -27, 3, 25, -18, 2, 3, 42, -2, 3, 3, 3, 3, 3, 3, 2, -8, 2, 3, 3, 3, 3, 3, 3, 3, 3, 3, 3, 3, 2, -7, -4, 2, 3, 21, 3, 3, 3, 3, 2, 3, 3, 8, 10, 3, 3, 3, 17, -2, 9, 3, 3, 3, 3, 3, 3, 2, 3, 3, 2, 2, 2, 14, 3, 2, -23, 3, 3, 2, 3, 3, 2, 3, 2, 2, 3, 8, 3, 3, 7, 3, 13, 3, 0, 3, -8, 3, -31, 3, 10, 3, 3, 3, -13, 3, 2, 18, 3, 40, 3, 3, 3, 2, -42, -6, 3, 2, 3, 3, 3, 3, -5, 3, 3, 37, 15, 2, 2, 3, -17, 3, 2, 3, 3, 3, 3, 23, 3, 3, 2, 2, -39, 3, 12, 3, 3, 3, 3, 3, 3, 21, 22, 1, 2, 2, 3, 2, 2, 2, 3, 3, 1, 3, 2, -18, 3, 3]\n"
     ]
    }
   ],
   "source": [
    "print(position1)"
   ]
  },
  {
   "cell_type": "code",
   "execution_count": 11,
   "metadata": {
    "collapsed": false
   },
   "outputs": [
    {
     "name": "stdout",
     "output_type": "stream",
     "text": [
      "10000\n"
     ]
    }
   ],
   "source": [
    "position1=position1[1:sample+1]\n",
    "print(len(position1))"
   ]
  },
  {
   "cell_type": "code",
   "execution_count": 12,
   "metadata": {
    "collapsed": false
   },
   "outputs": [
    {
     "name": "stdout",
     "output_type": "stream",
     "text": [
      "142\n"
     ]
    }
   ],
   "source": [
    "reactor=[]\n",
    "capture=[]\n",
    "through=[]\n",
    "\n",
    "num_r=0\n",
    "num_c=0\n",
    "num_t=0\n",
    "\n",
    "size1=np.arange(0,est_1+1,h)\n",
    "print(len(size1))"
   ]
  },
  {
   "cell_type": "code",
   "execution_count": 13,
   "metadata": {
    "collapsed": false
   },
   "outputs": [],
   "source": [
    "for j in range(est_1+1):\n",
    "    reactor.append(num_r)\n",
    "    capture.append(num_c)\n",
    "    through.append(num_t)\n",
    "    x = size1[j]\n",
    "    nt=0\n",
    "    nc=0\n",
    "    nr=0\n",
    "    for i in range(sample):\n",
    "        if position1[i] > x:\n",
    "            nt += 1\n",
    "        elif position1[i] > 0:\n",
    "            nc += 1\n",
    "        else:\n",
    "            nr += 1\n",
    "    if nr == 0:\n",
    "        num_r = 0.001\n",
    "    else:\n",
    "        num_r = nr\n",
    "    if nc == 0:\n",
    "        num_c = 0.001\n",
    "    else:\n",
    "        num_c = nc\n",
    "    if nt == 0:\n",
    "        num_t = 0.001\n",
    "    else:\n",
    "        num_t = nt"
   ]
  },
  {
   "cell_type": "code",
   "execution_count": 14,
   "metadata": {
    "collapsed": true
   },
   "outputs": [],
   "source": [
    "reactor_n=reactor[1:est_1+1]\n",
    "capture_n=capture[1:est_1+1]\n",
    "through_n=through[1:est_1+1]"
   ]
  },
  {
   "cell_type": "code",
   "execution_count": 15,
   "metadata": {
    "collapsed": false
   },
   "outputs": [
    {
     "name": "stdout",
     "output_type": "stream",
     "text": [
      "[1253, 1253, 1253, 1253, 1253, 1253, 1253, 1253, 1253, 1253, 1253, 1253, 1253, 1253, 1253, 1253, 1253, 1253, 1253, 1253, 1253, 1253, 1253, 1253, 1253, 1253, 1253, 1253, 1253, 1253, 1253, 1253, 1253, 1253, 1253, 1253, 1253, 1253, 1253, 1253, 1253, 1253, 1253, 1253, 1253, 1253, 1253, 1253, 1253, 1253, 1253, 1253, 1253, 1253, 1253, 1253, 1253, 1253, 1253, 1253, 1253, 1253, 1253, 1253, 1253, 1253, 1253, 1253, 1253, 1253, 1253, 1253, 1253, 1253, 1253, 1253, 1253, 1253, 1253, 1253, 1253, 1253, 1253, 1253, 1253, 1253, 1253, 1253, 1253, 1253, 1253, 1253, 1253, 1253, 1253, 1253, 1253, 1253, 1253, 1253, 1253, 1253, 1253, 1253, 1253, 1253, 1253, 1253, 1253, 1253, 1253, 1253, 1253, 1253, 1253, 1253, 1253, 1253, 1253, 1253, 1253, 1253, 1253, 1253, 1253, 1253, 1253, 1253, 1253, 1253, 1253, 1253, 1253, 1253, 1253, 1253, 1253, 1253, 1253, 1253, 1253]\n",
      "141\n"
     ]
    }
   ],
   "source": [
    "print(reactor_n)\n",
    "print(len(reactor_n))"
   ]
  },
  {
   "cell_type": "code",
   "execution_count": 16,
   "metadata": {
    "collapsed": false
   },
   "outputs": [
    {
     "name": "stdout",
     "output_type": "stream",
     "text": [
      "[0.001, 54, 2039, 7641, 7679, 7721, 7762, 7799, 7836, 7886, 7919, 7966, 8011, 8047, 8098, 8136, 8172, 8202, 8239, 8272, 8300, 8336, 8372, 8394, 8412, 8439, 8459, 8477, 8494, 8513, 8535, 8553, 8576, 8593, 8604, 8621, 8630, 8642, 8650, 8658, 8665, 8674, 8682, 8690, 8699, 8703, 8706, 8709, 8712, 8717, 8719, 8723, 8725, 8731, 8733, 8734, 8734, 8736, 8738, 8738, 8739, 8739, 8741, 8742, 8743, 8743, 8744, 8744, 8744, 8744, 8744, 8744, 8744, 8744, 8744, 8744, 8744, 8745, 8745, 8745, 8745, 8745, 8745, 8746, 8746, 8746, 8746, 8747, 8747, 8747, 8747, 8747, 8747, 8747, 8747, 8747, 8747, 8747, 8747, 8747, 8747, 8747, 8747, 8747, 8747, 8747, 8747, 8747, 8747, 8747, 8747, 8747, 8747, 8747, 8747, 8747, 8747, 8747, 8747, 8747, 8747, 8747, 8747, 8747, 8747, 8747, 8747, 8747, 8747, 8747, 8747, 8747, 8747, 8747, 8747, 8747, 8747, 8747, 8747, 8747, 8747]\n",
      "141\n"
     ]
    }
   ],
   "source": [
    "print(capture_n)\n",
    "print(len(capture_n))"
   ]
  },
  {
   "cell_type": "code",
   "execution_count": 17,
   "metadata": {
    "collapsed": false
   },
   "outputs": [
    {
     "name": "stdout",
     "output_type": "stream",
     "text": [
      "[8747, 8693, 6708, 1106, 1068, 1026, 985, 948, 911, 861, 828, 781, 736, 700, 649, 611, 575, 545, 508, 475, 447, 411, 375, 353, 335, 308, 288, 270, 253, 234, 212, 194, 171, 154, 143, 126, 117, 105, 97, 89, 82, 73, 65, 57, 48, 44, 41, 38, 35, 30, 28, 24, 22, 16, 14, 13, 13, 11, 9, 9, 8, 8, 6, 5, 4, 4, 3, 3, 3, 3, 3, 3, 3, 3, 3, 3, 3, 2, 2, 2, 2, 2, 2, 1, 1, 1, 1, 0.001, 0.001, 0.001, 0.001, 0.001, 0.001, 0.001, 0.001, 0.001, 0.001, 0.001, 0.001, 0.001, 0.001, 0.001, 0.001, 0.001, 0.001, 0.001, 0.001, 0.001, 0.001, 0.001, 0.001, 0.001, 0.001, 0.001, 0.001, 0.001, 0.001, 0.001, 0.001, 0.001, 0.001, 0.001, 0.001, 0.001, 0.001, 0.001, 0.001, 0.001, 0.001, 0.001, 0.001, 0.001, 0.001, 0.001, 0.001, 0.001, 0.001, 0.001, 0.001, 0.001, 0.001]\n",
      "141\n"
     ]
    }
   ],
   "source": [
    "print(through_n)\n",
    "print(len(through_n))"
   ]
  },
  {
   "cell_type": "code",
   "execution_count": 18,
   "metadata": {
    "collapsed": false
   },
   "outputs": [
    {
     "name": "stdout",
     "output_type": "stream",
     "text": [
      "[  1   2   3   4   5   6   7   8   9  10  11  12  13  14  15  16  17  18\n",
      "  19  20  21  22  23  24  25  26  27  28  29  30  31  32  33  34  35  36\n",
      "  37  38  39  40  41  42  43  44  45  46  47  48  49  50  51  52  53  54\n",
      "  55  56  57  58  59  60  61  62  63  64  65  66  67  68  69  70  71  72\n",
      "  73  74  75  76  77  78  79  80  81  82  83  84  85  86  87  88  89  90\n",
      "  91  92  93  94  95  96  97  98  99 100 101 102 103 104 105 106 107 108\n",
      " 109 110 111 112 113 114 115 116 117 118 119 120 121 122 123 124 125 126\n",
      " 127 128 129 130 131 132 133 134 135 136 137 138 139 140 141]\n",
      "141\n"
     ]
    }
   ],
   "source": [
    "print(size1[1:est_1+1])\n",
    "print(len(size1[1:est_1+1]))"
   ]
  },
  {
   "cell_type": "code",
   "execution_count": null,
   "metadata": {
    "collapsed": false
   },
   "outputs": [],
   "source": [
    "size_array=np.array(size1[1:est_1+1])\n",
    "through_array=np.array(through_n)\n",
    "capture_array=np.array(capture_n)\n",
    "reactor_array=np.array(reactor_n)\n",
    "plt.plot(size_array,through_array,'-',label='through',color='red',linewidth=3.0)\n",
    "plt.plot(size_array,capture_array,'-',label='capture',color='blue',linewidth=3.0)\n",
    "plt.plot(size_array,reactor_array,'-',label='reactor',color='black',linewidth=3.0)\n",
    "plt.legend(bbox_to_anchor=(1.05, 1), loc=2, borderaxespad=0.)\n",
    "plt.xlabel('Size of the shield')\n",
    "plt.ylabel('Number')\n",
    "plt.show()\n",
    "\n",
    "\n",
    "\n"
   ]
  },
  {
   "cell_type": "code",
   "execution_count": 20,
   "metadata": {
    "collapsed": true
   },
   "outputs": [],
   "source": [
    "P_through=through_array/sample\n",
    "P_capture=capture_array/sample\n",
    "P_reactor=reactor_array/sample\n",
    "\n",
    "size1=size1[1:est_1+1]"
   ]
  },
  {
   "cell_type": "code",
   "execution_count": 21,
   "metadata": {
    "collapsed": false
   },
   "outputs": [
    {
     "name": "stdout",
     "output_type": "stream",
     "text": [
      "-0.130987237868 -0.152620789822\n",
      "1.3909411370027445\n"
     ]
    }
   ],
   "source": [
    "m_through,b_through=np.polyfit(size1,np.log(P_through),1)\n",
    "print(m_through,b_through)\n",
    "\n",
    "\n",
    "fit_t=m_through*size1+b_through\n",
    "uncertainty_t=(1/tmax)*np.sum((fit_t-np.log(P_through))**2)#Standard Deviation\n",
    "print(math.sqrt(uncertainty_t))"
   ]
  },
  {
   "cell_type": "code",
   "execution_count": 22,
   "metadata": {
    "collapsed": false
   },
   "outputs": [
    {
     "name": "stdout",
     "output_type": "stream",
     "text": [
      "0.00723816633967 -0.823376447155\n",
      "9.087788844910882\n"
     ]
    }
   ],
   "source": [
    "m_capture,b_capture=np.polyfit(size1,np.log(P_capture),1)\n",
    "print(m_capture,b_capture)\n",
    "\n",
    "\n",
    "fit_c=m_capture*size1+b_capture\n",
    "uncertainty_c=(1/tmax)*np.sum((fit_t-np.log(P_capture))**2)#Standard Deviation\n",
    "print(math.sqrt(uncertainty_c))"
   ]
  },
  {
   "cell_type": "code",
   "execution_count": 23,
   "metadata": {
    "collapsed": false
   },
   "outputs": [
    {
     "name": "stdout",
     "output_type": "stream",
     "text": [
      "0.0 -2.07704441708\n",
      "0.0\n"
     ]
    }
   ],
   "source": [
    "m_reactor,b_reactor=np.polyfit(size1,np.log(P_reactor),1)\n",
    "print(m_reactor,b_reactor)\n",
    "\n",
    "\n",
    "fit_t=m_reactor*size1+b_reactor\n",
    "uncertainty_r=(1/tmax)*np.sum((fit_t-np.log(P_reactor))**2)#Standard Deviation\n",
    "print(math.sqrt(uncertainty_r))"
   ]
  },
  {
   "cell_type": "code",
   "execution_count": null,
   "metadata": {
    "collapsed": true
   },
   "outputs": [],
   "source": []
  },
  {
   "cell_type": "code",
   "execution_count": null,
   "metadata": {
    "collapsed": true
   },
   "outputs": [],
   "source": []
  }
 ],
 "metadata": {
  "anaconda-cloud": {},
  "kernelspec": {
   "display_name": "Python [conda root]",
   "language": "python",
   "name": "conda-root-py"
  },
  "language_info": {
   "codemirror_mode": {
    "name": "ipython",
    "version": 3
   },
   "file_extension": ".py",
   "mimetype": "text/x-python",
   "name": "python",
   "nbconvert_exporter": "python",
   "pygments_lexer": "ipython3",
   "version": "3.5.2"
  }
 },
 "nbformat": 4,
 "nbformat_minor": 1
}
