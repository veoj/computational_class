{
 "cells": [
  {
   "cell_type": "code",
   "execution_count": 1,
   "metadata": {
    "collapsed": true
   },
   "outputs": [],
   "source": [
    "import random as ran\n",
    "import numpy as np\n",
    "import pylab as py\n",
    "import matplotlib.pyplot as plt\n",
    "from scipy.optimize import curve_fit\n",
    "import math as math\n"
   ]
  },
  {
   "cell_type": "code",
   "execution_count": 2,
   "metadata": {
    "collapsed": false,
    "scrolled": false
   },
   "outputs": [
    {
     "data": {
      "image/png": "[encoded data removed]",
      "text/plain": [
       "<matplotlib.figure.Figure at 0xad8c266c>"
      ]
     },
     "metadata": {},
     "output_type": "display_data"
    },
    {
     "name": "stdout",
     "output_type": "stream",
     "text": [
      "1.00025299857\n",
      "200\n"
     ]
    }
   ],
   "source": [
    "h=1\n",
    "tmax=200\n",
    "tpoints=np.arange(0,tmax+1,h)\n",
    "#print(tpoints)\n",
    "\n",
    "sample=10000\n",
    "s_points=np.arange(0,sample+1,h)\n",
    "\n",
    "mean=100\n",
    "standard=20\n",
    "A0=1/(standard*math.sqrt(2*3.14))\n",
    "Z=(tpoints[1:tmax+1]-mean)/standard\n",
    "dist=A0*np.exp(-1*(Z**2)/2)\n",
    "\n",
    "#print(dist)\n",
    "plt.plot(tpoints[1:tmax+1],dist)\n",
    "plt.show()\n",
    "\n",
    "print(sum(dist))\n",
    "print(len(dist))\n",
    "\n"
   ]
  },
  {
   "cell_type": "code",
   "execution_count": 3,
   "metadata": {
    "collapsed": false
   },
   "outputs": [
    {
     "name": "stdout",
     "output_type": "stream",
     "text": [
      "200\n"
     ]
    }
   ],
   "source": [
    "dist_0=dist[0]\n",
    "for i in range(tmax-1):\n",
    "    if i == 0:\n",
    "        dist[i]=dist_0\n",
    "    else:\n",
    "        dist[i]=dist[i]-dist[i-1]\n",
    "        \n",
    "#print(dist)\n",
    "print(len(dist))"
   ]
  },
  {
   "cell_type": "code",
   "execution_count": 4,
   "metadata": {
    "collapsed": false
   },
   "outputs": [
    {
     "name": "stdout",
     "output_type": "stream",
     "text": [
      "100\n",
      "100\n",
      "155\n",
      "69\n"
     ]
    }
   ],
   "source": [
    "dist2=dist[0:100]# steps from 1 to 100\n",
    "dist1=dist[100:200]# steps from 101 to 200\n",
    "print(len(dist1))\n",
    "print(len(dist2))\n",
    "\n",
    "frac1=ran.uniform(0,dist1[0])\n",
    "est_1=mean+(standard*math.sqrt(-2*np.log(frac1/A0)))\n",
    "\n",
    "est_1=int(est_1//1)\n",
    "\n",
    "print(est_1)\n",
    "\n",
    "\n",
    "\n",
    "frac2=ran.uniform(0,dist2[99])\n",
    "est_2=mean-(standard*math.sqrt(-2*np.log(frac2/A0)))\n",
    "\n",
    "est_2=int(est_2//1)\n",
    "\n",
    "print(est_2)\n"
   ]
  },
  {
   "cell_type": "code",
   "execution_count": 5,
   "metadata": {
    "collapsed": false
   },
   "outputs": [
    {
     "name": "stdout",
     "output_type": "stream",
     "text": [
      "156\n",
      "70\n"
     ]
    }
   ],
   "source": [
    "e1points=np.arange(0,est_1+1,h)\n",
    "e2points=np.arange(0,est_2+1,h)\n",
    "\n",
    "print(len(e1points))\n",
    "print(len(e2points))"
   ]
  },
  {
   "cell_type": "code",
   "execution_count": 6,
   "metadata": {
    "collapsed": true
   },
   "outputs": [],
   "source": [
    "first=1\n",
    "p_same=3/4\n",
    "p_change=1/4"
   ]
  },
  {
   "cell_type": "code",
   "execution_count": 7,
   "metadata": {
    "collapsed": true
   },
   "outputs": [],
   "source": [
    "ele=first\n",
    "pos1=first\n",
    "position1=[]\n",
    "pos2=first\n",
    "position2=[]"
   ]
  },
  {
   "cell_type": "code",
   "execution_count": 8,
   "metadata": {
    "collapsed": true
   },
   "outputs": [],
   "source": [
    "up=2\n",
    "down=-2\n",
    "right=1\n",
    "left=-1"
   ]
  },
  {
   "cell_type": "code",
   "execution_count": 9,
   "metadata": {
    "collapsed": false
   },
   "outputs": [],
   "source": [
    "# loop for capture possibility\n",
    "for i in s_points:\n",
    "    position1.append(pos1)\n",
    "    ele = 1\n",
    "    # 2nd move        \n",
    "    if ran.random() > p_change:\n",
    "        ele += right\n",
    "        test = right\n",
    "    else:\n",
    "        if ran.random() > 1/2:\n",
    "            ele += 0*up\n",
    "            test = up\n",
    "        else:\n",
    "            ele += 0*down\n",
    "            test = down\n",
    "    # 3rd move  \n",
    "    if test == right:\n",
    "        if ran.random() > p_change:\n",
    "            ele += right\n",
    "            test = right\n",
    "        else:\n",
    "            if ran.random() > 1/2:\n",
    "                ele += 0*up\n",
    "                test = up\n",
    "            else:\n",
    "                ele += 0*down\n",
    "                test = down\n",
    "    else:\n",
    "        if test == up:\n",
    "            if ran.random() > p_change:\n",
    "                ele += 0*up\n",
    "                test = up\n",
    "            else:\n",
    "                if ran.random() > 1/2:\n",
    "                    ele += left\n",
    "                    test = left\n",
    "                else:\n",
    "                    ele += right\n",
    "                    test = right\n",
    "        else:\n",
    "            if test == down:\n",
    "                if ran.random() > p_change:\n",
    "                    ele += 0*down\n",
    "                    test = down\n",
    "                else:\n",
    "                    if ran.random() > 1/2:\n",
    "                        ele += left\n",
    "                        test = left\n",
    "                    else:\n",
    "                        ele += right\n",
    "                        test = right\n",
    "        # 4th and later move\n",
    "        for t in range(3,est_1+1):\n",
    "            if test == right:\n",
    "                if ran.random() > p_change:\n",
    "                    ele += right\n",
    "                    test = right\n",
    "                else:\n",
    "                    if ran.random() > 1/2:\n",
    "                        ele += 0*up\n",
    "                        test = up\n",
    "                    else:\n",
    "                        ele += 0*down\n",
    "                        test = down\n",
    "            else:\n",
    "                if test == up:\n",
    "                    if ran.random() > p_change:\n",
    "                        ele += 0*up\n",
    "                        test = up\n",
    "                    else:\n",
    "                        if ran.random() > 1/2:\n",
    "                            ele += left\n",
    "                            test = left\n",
    "                        else:\n",
    "                            ele += right\n",
    "                            test = right\n",
    "                else:\n",
    "                    if test == down:\n",
    "                        if ran.random() > p_change:\n",
    "                            ele += 0*down\n",
    "                            test = down\n",
    "                        else:\n",
    "                            if ran.random() > 1/2:\n",
    "                                ele += left\n",
    "                                test = left\n",
    "                            else:\n",
    "                                ele += right\n",
    "                                test = right\n",
    "                    else:\n",
    "                        if test == left:\n",
    "                            if ran.random() > p_change:\n",
    "                                ele += left\n",
    "                                test = left\n",
    "                            else:\n",
    "                                if ran.random() > 1/2:\n",
    "                                    ele += 0*up\n",
    "                                    test = up\n",
    "                                else:\n",
    "                                    ele += 0*down\n",
    "                                    test = down\n",
    "    pos1 = ele\n"
   ]
  },
  {
   "cell_type": "code",
   "execution_count": 10,
   "metadata": {
    "collapsed": false
   },
   "outputs": [
    {
     "name": "stdout",
     "output_type": "stream",
     "text": [
      "[1, 3, 21, 0, 3, 6, 2, 3, 2, 3, 2, -42, 3, 3, 20, -9, 3, 3, 3, 3, 3, -20, 2, -10, 3, 2, 3, 2, 3, 3, -21, 2, 3, 3, 18, 2, 3, 3, 3, 3, 3, 2, 3, 3, 3, 3, 3, 3, 3, 2, 3, -20, 3, 3, 3, 3, 2, 3, 3, 2, 3, -24, 3, 3, 3, 3, 3, 3, 3, 3, 3, -9, 3, 3, 3, 3, 3, 3, 3, 3, 3, 3, 23, 31, -52, 1, 3, 3, 2, -7, -7, 2, 3, 2, -37, 3, 3, 40, 3, 19, 3, 3, 2, 3, -23, 14, 22, 3, 3, 2, 3, 2, 2, 2, 3, 3, 3, 3, 3, 3, 3, 3, -23, 3, 2, -66, 3, 2, 3, 3, 3, 2, -16, 2, 3, 21, 20, 3, 22, 2, 3, 14, 3, 3, 5, 3, 2, -5, 3, 3, 3, 3, 3, 3, -17, -17, 3, 3, 11, 3, 3, 3, 3, 3, 3, 3, -15, 3, -45, 11, 3, 8, 3, 2, 3, 2, 3, 3, 8, 3, 9, 2, 3, 3, 3, 32, 3, -5, -18, 2, 3, 3, 3, -23, 2, 2, 3, 3, 2, -30, 3, 3, 9, 3, 2, 3, 5, 3, 2, 3, 2, 2, 2, 3, 3, -3, 3, 3, -28, 3, 3, 24, 3, 3, 2, 3, 2, -5, 3, 3, 3, 3, 3, 3, 3, 52, 3, 3, 21, 2, 31, 3, 3, 2, 8, 3, 3, 2, 3, 2, -4, 2, 3, 2, 3, 2, 3, -7, 29, 3, 3, 19, 3, 2, 3, 3, 3, 3, 3, 3, 3, 3, 3, -38, 2, 3, 2, 3, -11, 2, 2, 3, 35, 2, 2, 2, 19, 3, 3, 3, 3, 3, 2, 3, -18, 17, 3, 3, 3, 2, 3, 2, 3, 3, -1, 3, 2, 3, 2, 3, 3, 3, 3, 3, 3, -21, -33, 3, 2, 3, 61, 2, 3, 3, 3, 1, 3, 3, 3, 3, 2, 3, 3, -21, 3, 3, 3, 3, 20, 2, 3, 3, 3, 3, 2, 2, 3, 3, -11, 3, 3, 3, 4, 2, 23, 3, 3, 2, 3, 3, 2, 3, -32, 3, 3, 4, 3, 3, 2, 40, 2, 4, 3, 3, 3, 3, 3, 2, 3, -28, 3, 7, 3, -38, -50, 3, -3, 3, -3, 3, 2, 3, 1, 2, 3, 3, 3, 3, 2, -20, 2, 3, 3, 3, 3, 2, 3, 3, 3, 24, -18, 4, 3, 3, 3, 2, 2, 3, 3, 2, 3, 3, 4, -22, 3, 3, 3, 3, 5, 3, 2, 3, 3, -13, 2, 14, 3, 31, 3, 12, 3, -28, 3, 3, 3, 3, 3, 3, 3, 3, 13, -2, 3, 3, 3, 3, 16, 3, 3, 2, 3, 3, -38, 2, 3, 2, 2, 3, 3, 3, 3, 14, 35, 3, 2, 3, 3, 2, 3, 11, 3, 3, 3, 5, 2, 3, 3, 2, 3, 2, -20, 3, 3, 3, -21, 3, 3, 3, 27, 3, 11, 3, 2, 9, 2, -22, -9, 3, 3, 7, 3, 3, 2, 3, 3, 3, 3, 3, 3, 3, 3, 3, 3, 20, 3, 3, -31, -12, 8, 3, 3, 3, 37, 12, 2, 3, 2, -14, 2, 3, -6, -4, -11, 3, 2, 2, 2, 20, -11, 3, 3, 3, -11, 3, 5, 3, 3, 3, 3, 3, -17, 3, -41, 3, 2, 3, 3, 3, 3, 3, 3, 3, 2, -24, 3, 14, -36, 3, -17, 3, 3, 2, -2, 2, 3, 2, 3, 3, 3, 3, 3, 3, -39, 3, 2, 3, 3, 3, 2, 2, 3, 3, 3, 3, 3, 3, 9, 2, 2, 2, 4, 3, 3, 40, -5, 3, 3, 8, -6, 3, 2, 3, 3, 2, -17, 3, -13, 3, -23, 3, 2, 2, -46, 2, -6, 2, 2, 2, 2, 2, -2, 3, 3, 3, 3, 3, 3, 3, 2, -17, 3, 11, 17, 33, 2, 2, 22, 2, 3, 3, 3, -9, -71, 3, 3, 3, 3, 3, 3, 3, 2, 2, 3, 3, 38, 15, 3, 3, -20, 3, 2, 3, 2, 3, 2, 3, 2, 3, 2, 3, 3, 2, 2, 3, 3, 3, -21, -21, 3, 3, 3, 27, 2, 3, 2, 3, 3, 2, 3, 3, 2, 3, 3, 3, 3, -29, 3, 51, 25, -12, 2, 3, -4, -15, 7, 3, 3, 3, 6, 2, 3, 3, 3, 3, 2, 3, 3, 3, 3, 3, -13, 3, 2, 2, 3, 3, 2, 2, 3, 14, 3, 3, 26, 2, 10, 3, 3, 6, 2, 3, 3, 3, 3, 2, 3, 3, 3, 3, 3, 3, 10, 3, -31, -11, 3, 3, 3, 3, 2, 3, 3, 2, 2, -21, 3, 3, -1, 3, 3, -17, 8, 0, 2, 3, -21, 2, 3, 3, 2, 3, 3, 39, 2, 3, 3, 2, 3, 3, 2, 3, 3, 3, 3, 3, 3, 3, 3, 2, 2, 3, 25, 3, -5, 3, 2, 3, 3, 13, -21, 3, 3, 3, 3, 78, -21, 3, 11, 3, 3, 3, -7, 3, 3, 3, 33, 20, 3, 2, 18, 2, 2, 3, 3, 3, 3, 5, -23, 2, 3, 3, 14, 3, 3, 2, -12, 18, 2, 3, -23, 3, 2, 2, 3, 3, 2, 3, 3, 3, -8, 2, 3, 3, 3, 3, 3, -11, 2, -18, 3, 3, 37, 3, 3, 2, 15, 2, 3, 2, 3, 3, 3, 3, 3, 3, -21, 3, 2, 3, 11, -10, 7, 3, 3, 3, 3, 3, 3, 3, -18, 10, 3, -15, 2, 2, -9, 3, 3, 2, 3, -29, 3, 3, 3, 3, 3, 3, 2, 3, 3, 2, 3, 3, 3, 2, 2, 3, 3, 3, 16, 2, 2, 2, 3, 3, 18, 2, 2, 4, 3, 2, -51, 2, 1, 3, 3, 2, 3, 48, 3, 1, -15, 2, 3, 3, 3, 2, 3, 3, 6, 17, 3, 3, 3, 2, 2, -47, -5, 3, 3, 3, 3, -19, 7, 3, 3, 3, 2, 3, 3, 3, 2, -8, 2, 3, 3, 3, 3, 3, 15, 3, 3, -4, -16, 3, 3, 8, 3, 3, 3, 3, 3, 6, 2, 2, -39, 3, 3, 33, 22, 2, 22, 3, 12, 3, 3, 3, 3, 6, 3, 2, 9, 3, 3, 2, 3, 27, 3, 17, 13, 3, 3, -4, -25, 3, 3, 3, 3, 3, 3, 3, -18, 3, -37, 3, 3, 3, 3, 3, 3, 3, 2, 2, 3, 2, 3, 3, 3, 3, 3, 2, 3, 3, 3, 6, -14, 12, 3, 3, -11, 3, 3, -45, 2, 2, 2, 3, 3, 2, 3, 2, 2, 3, 3, 3, -19, 3, 3, 29, 3, 3, 3, 10, 2, 3, 3, 2, 21, 3, 3, 3, -1, -2, 3, 3, 3, 3, 3, 2, 3, -22, 2, 32, 3, 3, 2, 3, 3, 3, 33, -2, 3, 2, 3, 2, 2, 2, 3, 3, 2, 2, 3, 3, 2, 14, 31, 3, 3, -13, 12, -4, 2, -48, -27, -19, 3, 3, 2, 3, -15, 23, 3, 2, 26, 3, 2, 3, 3, 3, 0, -6, 10, 3, 3, 28, 3, -29, 3, -16, 3, 2, 3, 3, 3, 3, 3, 3, 3, 2, 3, 3, 7, 3, -12, 3, 3, 3, 3, 3, 2, 3, 3, -50, 2, 3, 11, 2, 3, 3, 2, 3, 3, -10, 3, 3, 3, 14, 2, 3, 2, 3, 2, 3, 6, 3, 3, 23, 3, 3, 3, 2, 3, -4, 3, -4, 3, -17, 3, 3, 3, 3, 3, 2, 3, 3, 3, -12, 26, 3, 2, 3, 3, 3, 3, 3, -19, 3, 3, 3, 3, 46, 3, 3, 3, 3, 3, 3, 16, 2, 2, 3, 35, 2, 3, 3, 3, 3, 3, 2, 2, 3, 3, -8, 2, 2, -18, 2, 3, 3, 3, 3, 2, 3, 2, 3, 3, 3, 3, 3, 2, 3, 31, 3, 3, 2, 2, 3, 3, 3, 3, 3, 3, 3, 2, 3, 2, 3, 3, 2, 2, 30, 3, -38, 3, 3, 2, 3, 2, 2, 3, 2, 3, 2, -13, 3, 3, 13, 3, 1, 3, 3, 5, 3, 3, 2, 3, 3, 3, 21, 3, 3, 2, 3, 35, 3, 3, 3, 2, 3, 21, 5, -13, 3, 3, 3, 2, 3, 3, 3, 3, 2, 3, 3, 14, -35, 3, 3, 3, 3, 3, 32, -4, 3, 3, 2, 3, -4, 15, 3, 3, 2, 2, 3, 3, 3, 2, 3, 3, 2, 15, 0, 2, 3, 42, 3, 2, 3, 3, -18, 3, 3, -4, 3, 3, 3, 3, 3, 2, 3, 3, 2, -20, 3, 3, 1, 2, 3, 3, 3, 2, 3, 3, 2, 3, 3, 3, 2, 3, 3, -11, 3, -49, 3, 3, 3, 3, 3, 86, 3, 23, 3, 2, 3, 2, 3, -12, 3, 5, 2, 3, 3, 3, 3, 3, 6, 3, 26, 17, 3, 3, 3, 3, 3, 3, 3, 3, 3, 3, 3, 3, 3, 3, 3, 2, 39, -2, 21, -28, 3, 3, -9, 2, 2, 8, 3, -27, 3, 2, 3, 3, 3, 3, 3, 3, 3, 2, 26, 3, 3, 6, 2, -35, 35, 3, 3, 18, -20, 2, 3, 3, -9, 3, 3, 3, 3, 3, 2, 3, 2, 2, 2, 3, 3, -28, 3, 9, 2, -19, 2, 13, 3, 3, 8, 2, 3, 2, 3, 3, 3, -6, 3, 3, 3, 13, -10, 3, 2, 6, 3, 23, 2, 3, 3, 2, 34, 3, 3, 2, 3, 2, 3, 2, 3, 2, 3, 3, 3, 2, 2, 3, 3, 3, 3, 3, 17, 2, 3, 2, 3, 2, -19, -20, 3, 2, 3, 3, 11, 16, 7, 3, 3, 3, 3, 2, 3, 3, 3, 3, -3, 3, 27, 2, -3, 2, -15, -19, -9, 3, -26, 3, 3, 3, 2, 3, 3, 2, 3, 3, 3, 3, 3, 3, -22, -1, 2, 3, 3, 3, 3, 3, 3, 2, 3, -1, 3, -7, -21, 3, 2, 3, -11, 2, 3, 1, 3, 3, 2, 18, 2, 3, 3, 3, 3, 3, 2, 3, 3, 2, 7, 3, 3, 3, 4, 2, 3, 3, 3, 3, 15, 12, 2, 44, 2, 3, 3, 3, 2, 4, 3, 3, 15, 3, 3, 3, -20, -13, 3, -2, 2, 3, 3, 3, 3, 3, 3, 2, 3, 3, 2, 3, 3, 3, 2, 5, 3, 3, 2, 2, 3, 3, 3, 3, 2, 2, 3, 3, 3, 2, 3, 3, 3, 3, 3, 12, 3, 3, 3, 11, 2, -14, 3, 3, 3, 3, -28, 2, 3, 3, -55, 3, -25, 2, 3, -20, 32, 3, 53, 3, 3, 16, 3, -19, 2, 3, 3, 2, 3, 3, 3, 3, 2, 3, 3, -19, 16, 3, 3, 3, 2, 3, 3, 3, -16, 3, 3, 3, 2, 11, -10, 3, 2, 2, 3, 3, 3, 3, 2, 3, -7, 3, 3, 3, 3, 3, 3, 2, 2, 3, 3, 33, 3, 3, 3, 3, 2, -10, 3, 3, 3, 2, 2, -33, 2, 3, 3, 3, 3, 46, 3, 3, 3, 3, 2, 3, 3, 2, 2, 3, 3, 2, 3, 26, 3, 3, 3, 3, 3, 3, 3, 30, 2, 3, 3, 2, 3, 3, 3, 3, 3, 3, 3, 3, 2, 2, 3, 3, 3, -19, 51, -14, 2, 2, 3, 3, 3, 3, 3, 3, 3, 3, 3, 14, 3, 3, 3, 53, 3, 25, 3, 2, 3, 3, 3, 3, 3, -26, -11, 2, 3, 3, 3, -23, 10, 29, 3, 3, 2, 24, 5, 2, 2, -19, 3, 3, 3, 3, 2, 3, 3, 2, 3, 3, 3, 2, -19, 9, 3, 3, -4, 3, 3, 3, 3, 3, 3, 3, 3, 11, 2, 3, 3, 2, 2, 3, 2, 3, 3, 2, 3, 3, 20, -24, -17, 17, 3, 3, 3, 6, 3, 2, 22, 3, -23, 3, 2, 3, 3, 3, 35, 4, 3, 3, -40, 3, 3, 3, 3, 3, 2, 3, 3, 3, 3, 2, 3, 3, 3, 3, 3, 2, 3, 3, 3, 38, 3, 3, 3, 3, 2, 3, -48, 3, 3, 3, 2, -1, -24, 3, 3, 3, -5, 3, 49, 3, 2, 15, -54, 2, -1, 3, 34, 3, 3, 2, 2, 3, 2, 3, 3, 3, 3, 3, 3, 3, 3, 3, 34, 2, 3, 2, 3, 3, 2, 3, 3, 5, 3, 2, 3, 2, 4, -28, 2, 2, 7, 3, 3, 3, 3, 2, 3, 3, -12, 2, 3, 3, 2, 3, 3, -9, 2, 9, 3, -24, 14, 3, 3, 3, 2, 3, 3, 3, 3, 3, 3, 3, 3, 2, 3, -26, 43, 3, 3, 11, 3, 3, 3, 5, -26, 27, 3, 3, 3, 3, 3, 33, -10, 13, 19, 2, 3, 3, 2, 2, 3, -17, 2, 3, 3, -28, 2, 2, -22, -31, 2, 3, 3, 3, 3, 2, -13, 3, 53, 3, -21, 3, 2, -4, 3, 3, 3, 3, 3, 3, 51, 2, 2, 3, 2, 3, 3, 2, 2, 3, 3, 3, 6, 2, 2, 3, 2, -5, 2, 3, -39, 37, 3, 3, 2, 2, 2, 3, 34, -6, 3, 3, 3, 55, 3, 3, 3, 3, 3, 3, 9, 2, -18, 2, 3, 2, 2, 14, 3, 35, 2, -1, 2, 3, 3, -27, 47, 3, 3, 2, 3, 5, 1, 3, 2, 3, 3, 3, 2, -10, 3, 3, 3, -17, 8, -2, 9, 3, 3, 34, 2, 3, 3, 3, 3, 37, -5, 3, 6, 2, 3, 3, -2, -42, 3, 22, 2, 3, 3, 2, -19, 0, 3, 3, -38, 3, 3, 0, 3, 3, 2, 3, 18, 3, 3, 2, 3, 2, 2, 3, 3, 3, 3, 3, 3, 3, 16, -6, 3, -16, 2, 3, 20, 2, -11, 2, 29, 59, 2, 3, 3, 0, -14, 3, 3, 3, 3, 4, 2, -27, 2, 3, 3, 2, 46, 3, -9, 3, 2, 3, 2, 3, 3, -37, 3, 3, 3, 2, 3, 3, 3, 3, 2, 11, 3, 3, 3, 39, 3, -56, 3, 3, 3, 3, 3, 4, 3, 2, 2, -27, 3, 3, 3, -17, 3, 3, 3, 2, 3, 3, -12, 2, 3, 3, 3, 2, 3, 3, -22, 3, 3, 2, 2, 3, 2, 3, 3, 2, 3, 3, 2, 3, 3, 3, 10, 3, 3, 10, 2, 3, 2, 2, 3, 20, 2, 3, 3, -19, 3, 35, 16, 2, 12, 3, 2, 3, 3, 2, 3, 3, 6, 3, 6, 2, 2, 3, 2, 3, 3, 2, 2, 3, 3, 3, 3, 3, 3, 2, 3, 3, -24, 2, 3, 3, 2, 3, 2, -18, 2, 3, 3, 3, 17, -17, 3, 3, 3, 3, 3, 2, -34, 33, 2, 1, 3, 2, 3, 3, 3, 3, 2, 3, 2, -7, -5, 3, 2, 2, 2, 3, 3, 2, 3, 3, 3, 37, 3, 3, 3, 3, -36, 3, 3, 3, 13, 3, -56, 2, 2, 2, 3, 3, 3, -6, 2, 3, 3, 3, 3, 20, 3, 3, 2, 3, 2, 2, 3, 37, 3, 2, 3, 20, 2, 2, 3, 3, 2, 3, 3, 3, 3, 3, 3, -4, 3, 3, -44, 3, 3, 3, 3, -20, 3, 3, 3, 3, 3, -15, 3, 3, 2, 3, 6, 3, 3, 3, 3, 3, 13, 2, -14, -11, -82, -37, 3, 2, 3, 3, 3, 3, 3, 3, 2, 3, 3, 3, 3, -19, 2, 3, 3, 3, -20, 3, 3, 2, 3, 3, 3, -8, 2, 3, 3, 3, 25, 3, 3, 3, 3, 21, -36, 3, 3, 13, 3, 2, 3, 2, 2, 11, 2, -9, 26, 3, 3, 3, 3, 3, 3, 2, 3, 9, 10, 3, 19, -40, -8, -6, 3, 3, 3, 3, 3, -1, 3, 3, 3, 3, 2, 38, 3, 3, 3, 3, 3, 3, 3, 2, 3, 52, 3, 2, 3, 3, 2, 3, 3, 3, -9, 3, -12, 3, 3, 3, 3, 3, -48, 3, 3, 3, 2, 2, 24, 3, 3, 6, -8, 3, 3, 3, 3, 2, 3, 3, 3, 16, 3, 2, 27, 3, 3, -21, 3, 2, 3, 2, -2, 3, 11, 3, 3, 3, 3, 3, 0, 2, 3, -4, 3, 3, 3, 3, 3, 3, 3, 3, 3, 2, -36, 11, 3, 2, 3, 3, 3, -11, 20, 3, 3, 3, 3, -24, 7, 3, -15, 3, 3, -5, 3, 36, 3, 3, -41, 2, 2, 2, 0, 3, 3, 3, 2, 3, 1, 3, 3, 3, -1, 3, 3, 3, 2, 3, 3, 3, 3, 24, 3, 2, 3, 3, 3, 2, 3, 3, 3, 2, -13, 3, 3, 3, 3, 3, 2, 3, -11, 3, 3, 3, 11, 3, 3, 3, 3, -5, 2, 2, 2, 2, 3, 9, 3, 3, 3, -17, 12, 2, 2, 3, 3, 3, 3, 3, 3, 3, 3, 2, 3, 25, 3, 20, 3, 3, 3, 3, 3, 3, 3, 39, 3, 3, -41, 23, 3, 18, 3, -1, 45, 2, 3, 37, 5, -5, 25, -4, 3, 3, 3, 3, 3, 3, 3, 3, 3, 2, 3, -34, 3, 3, 2, 2, 3, 31, 2, 3, -2, -2, 3, 3, 3, 3, 3, 3, 3, 3, 3, 3, 3, 3, -13, 3, 2, 3, 3, 2, 3, 3, 3, -29, 3, 3, 22, 3, -21, -30, 2, -17, 3, 3, 34, 3, -3, 3, 3, 2, 2, 2, 3, 3, 3, 1, 3, 3, 3, 3, 3, -33, 3, -15, 3, 2, 3, 3, 2, 2, 3, 3, 3, 3, 2, 3, 3, -20, 3, 3, 3, 2, 3, 31, 23, 3, 30, 2, 3, 3, 3, 3, 3, 2, 3, 3, 9, 1, 3, 55, 9, 3, 3, 3, 3, -7, 3, 3, 6, 3, 3, 3, 3, -13, 3, 3, -43, 3, 3, 3, 3, 3, 3, 3, 37, 2, 2, 3, -19, 3, 2, 3, 2, 3, 2, 2, 3, 3, -3, 20, 15, 3, -10, 3, 3, 3, -12, 2, 3, 3, 3, 3, 3, 2, 2, 3, 3, 3, 3, 2, 3, -5, 7, 3, 3, 3, 3, 3, 3, 3, 3, 2, 2, 3, 3, 3, 2, 2, 3, 3, 3, 3, -5, 3, 2, 3, 12, 3, 3, 2, -9, -33, -16, 3, 2, 3, 3, 35, 3, 2, 2, 3, 3, 3, -9, 3, 3, 3, 3, 2, -18, 3, 3, 3, 3, -18, 2, -44, 3, 3, -18, 3, 3, 3, 3, 3, 2, 13, 3, 2, 3, 2, 3, 2, 3, 48, 6, 2, 3, 2, 3, 3, 2, 9, 2, 3, 28, 3, 3, 3, 3, 3, 2, 1, 3, 3, 3, 2, 2, 2, 3, 2, 3, 2, 15, 3, 3, 3, -23, 3, -14, 0, 3, 3, 2, 3, 2, 3, 2, 3, -33, 3, 3, -6, 3, 24, 3, 3, 2, 6, 2, 3, 2, 2, 3, -4, 2, 3, 52, 3, 3, -3, 3, 9, 3, -2, 3, 28, 30, 3, 3, 3, 3, 3, 3, 2, 3, 3, 2, 3, 3, 2, 6, 3, 3, 3, 2, 3, 2, -28, -7, 3, 3, 3, 3, 3, 2, 2, 3, -38, 2, 29, 3, -40, 46, 1, -2, 3, 12, 3, 3, 3, 3, -4, 3, 20, 3, 3, 3, 18, 3, 3, 29, 3, 3, 2, 3, 3, 3, 2, 21, 15, 3, 3, 3, 3, 11, 10, 3, 3, 3, 35, 2, 2, -13, -21, 3, 24, 2, 2, 3, 23, 3, -4, -3, 3, 3, 3, 30, 3, 3, 3, 3, 3, 3, 3, 3, 3, 5, 2, 3, 3, 2, 3, 30, 3, 3, 3, 3, 3, 3, 3, 2, -6, -12, -53, 3, 3, 3, 3, 27, 8, 3, 3, 3, 3, 15, 3, 3, 3, -33, -7, 6, 3, 3, 2, 2, -2, -13, 5, 3, 3, 30, 2, 3, 2, 3, 1, -41, 2, 46, 3, 3, 3, 2, 12, 2, 3, 3, 3, -27, 3, 3, 2, 3, 3, 3, 2, 2, 3, 40, 33, 3, 2, 2, 3, 3, 3, -3, 21, 1, -29, 3, 2, 3, 2, 3, 2, 3, 6, 3, 3, 3, 3, 30, 3, 3, 3, 3, 2, 2, 2, 3, 19, 3, 33, 0, 3, 3, 2, 3, -57, 3, 7, 3, 2, 3, 3, 3, 3, 3, 3, 2, 3, 3, 3, 3, 3, 3, -11, -50, 2, 2, -3, -19, 24, 3, 3, 9, 2, 3, 3, 3, 3, 3, -17, -4, 3, 14, 2, -11, 3, 28, 3, 3, 3, 3, 3, 2, 2, 2, 3, 3, 3, 3, 2, 3, 3, 2, 3, 3, 3, -19, -44, 3, 16, 3, 2, 3, 20, 3, 3, 2, 3, 3, -29, 3, 3, -32, 3, 3, 3, 11, 3, 3, 2, 2, 3, 3, 3, 3, -21, 2, 3, 0, 2, 3, 2, 3, 3, 3, 10, 17, 3, 8, 2, 32, 3, 9, 3, 82, 3, 3, 3, 29, 3, 2, 3, -29, 3, 3, 3, 2, 2, 3, 3, 3, 3, 3, 12, 3, 33, 0, 31, -8, 3, 3, 3, 3, 3, -12, 3, 3, 2, 35, 3, 3, -3, 3, 40, 3, 3, 2, 3, 3, 3, -23, 3, 3, 3, 2, 2, 3, 3, 3, 2, 2, 3, 3, -4, 2, -17, 2, 2, -2, 46, 41, 16, 3, 3, 3, 2, 2, 3, 3, 3, 3, 3, 3, -2, 3, 2, 2, 2, -27, 3, 2, 3, 3, -23, 3, 3, 22, 18, -20, 1, -30, 3, -5, 3, 2, -54, 3, 3, 2, -34, 3, 12, 3, 2, -12, 37, 3, 3, 3, 3, 3, 3, 3, 2, 3, 3, 3, 3, 3, 3, -25, 3, 3, 3, 3, 2, -23, 3, -15, 3, 3, 29, 29, 3, 22, 3, 3, 13, 3, 3, 3, 3, -12, 3, 3, 3, 7, -35, 3, 3, 26, 3, 3, 31, 3, 3, 3, 2, 55, 3, 2, 3, 50, 2, 1, -30, 3, 3, 3, 3, 3, 3, 3, 2, 3, 4, 2, 2, 3, 3, 3, 3, 3, 3, 3, 3, 3, 2, 6, 3, 26, 3, 3, -22, 3, 3, -1, 3, 3, 3, 3, 2, 2, 3, 2, 2, 2, 3, 3, 3, 25, 4, 3, -21, 2, 3, 3, 3, 3, 3, -25, 20, 2, 3, 3, 3, 3, 3, -9, 3, 3, 3, 3, 3, 3, 3, 3, -28, -11, 3, 3, 3, 3, 37, 3, -14, 3, 2, 3, 1, 3, -29, 3, 3, 2, 5, 3, 3, -2, 3, -18, 3, 3, 3, 2, 2, -13, 6, 2, 3, 3, 3, 3, -11, 3, 3, 11, 2, -22, 3, 3, 3, 3, 3, -34, 3, 2, 22, 2, 33, 3, 3, 27, 3, 3, 3, 3, 2, 3, 3, -48, 2, 2, 3, 3, 8, 3, 17, 2, 2, 3, 3, 3, -2, 2, 2, -6, 2, 2, 2, 2, 3, -21, 3, -23, 3, 3, 2, 3, 2, 10, 3, 2, 3, 2, 3, -36, 3, 3, 2, 3, 2, 3, 2, 3, 2, 3, 3, 3, 3, 2, 3, 3, 3, 3, 3, 3, 2, 2, 2, 3, 3, 2, -37, 3, 2, 3, 3, 2, 2, 2, 3, 3, -29, 11, 2, 11, 2, 2, 3, 3, 3, 3, 3, 2, 2, 2, 24, 31, 3, 3, 3, 3, 2, 3, 3, 3, 3, -18, -20, 3, 3, 3, 3, 3, 2, 2, 0, 3, 3, 3, 3, 3, 2, -34, 3, 3, 3, 2, 3, 2, 3, 3, 3, 21, -9, 3, 3, 2, 2, -4, 55, 3, 3, 2, -9, 2, -2, 38, -11, 3, 28, 3, 2, 2, 3, -34, 38, -16, 3, 2, 31, 3, 3, 3, 3, 2, 3, -31, 2, 3, 3, 28, 3, 3, -5, 3, 3, 3, -15, 2, 3, -41, 3, 32, 3, 3, 3, 2, 16, 3, 3, 3, 3, 3, 3, 26, 28, 3, 3, 3, 3, 3, 3, 3, 3, 2, 3, 3, 3, 2, 3, 3, -6, 3, 2, 18, 3, 3, 3, 29, -21, 2, 3, 2, 2, 3, -4, 2, 2, 3, -24, 2, 9, 39, 3, 3, 3, 2, 3, 3, 3, 3, 3, 2, 3, 3, 3, 3, 6, 3, -2, 3, 3, 3, 3, 3, 3, 3, 2, 2, 3, 3, 3, 3, 3, 3, 3, 3, 3, 18, 2, 2, 3, 2, 3, 3, 3, 3, 2, 3, 3, 3, 3, 2, 3, 21, 19, 3, -4, 1, 3, 3, 3, 2, 3, -11, 2, 3, 3, 3, 2, 3, -28, 3, 2, 3, 3, 3, -34, -43, 3, 2, 3, 2, 2, 3, 3, 3, 3, 2, 2, 3, 2, 3, 3, 3, -1, -26, 2, 3, 38, 3, 2, 3, 3, 3, 2, 3, 3, 2, 2, 12, 3, 3, 3, 3, 2, -24, 22, 3, 3, 3, 3, 3, 3, 3, 3, 3, 3, 3, 3, 2, 3, 2, 2, 51, 3, 3, 64, 3, 2, 3, 2, 3, 2, 12, 3, 3, 2, 3, 6, 3, 2, 3, 2, 23, 37, 3, 2, 3, 3, 2, 3, 2, 3, 3, -17, -17, 3, 3, 2, -23, 23, 3, 3, 3, -6, 3, 3, 3, 3, 3, 2, 3, 23, 3, 3, -2, 3, 2, 3, 3, 3, 2, 6, 3, -10, 3, 2, 2, 2, 3, 15, 2, 3, 3, 3, 3, -13, 3, -54, 3, 2, -44, 3, 3, 3, 2, 3, 3, 3, 2, 2, 3, 2, 3, 3, 3, 2, 5, 2, 2, 3, 3, -15, 3, 3, 3, 3, 3, 8, 3, 10, 22, 2, -17, 76, 3, 3, 18, -11, 2, 23, 3, 3, 3, 3, 3, 3, 3, 3, 3, 3, 2, 0, 30, -18, 2, 3, 3, -14, 32, 3, 10, 2, 2, 35, 3, 3, 2, 3, 2, 3, 3, 3, 3, 3, 3, 3, 3, 3, 3, 32, 3, 3, 3, -17, 2, 3, 2, 3, 3, 3, 3, 3, 3, 32, 2, 2, 1, 2, 3, 3, 3, 3, 2, 2, 3, 3, 3, 3, 3, 3, -9, 3, 3, 2, 33, -16, -30, 3, -5, 3, -2, 3, 3, 31, 3, 3, 3, 3, 3, 31, 3, 5, 3, 3, 6, 2, 2, 2, 3, 0, 30, 3, -37, 2, 2, 13, 3, 3, -17, 2, 2, 3, 3, 3, 3, 12, 3, 3, 3, -11, -10, 2, 3, 3, 3, 3, 3, 3, -34, 3, -1, 3, 3, 2, 3, 3, 3, 3, 2, -27, 2, 3, 3, -40, 28, 3, 3, 3, 2, 3, 3, 3, -29, 3, 3, 3, 3, 3, 3, 3, 3, 3, 2, 3, 43, 3, 3, 2, 3, 3, 3, 3, 3, -57, 2, 2, 36, 3, 2, 3, 3, 3, 3, -25, 3, 3, 22, 2, -12, 3, 3, 3, -10, 3, 3, 3, 3, 3, 37, -9, 21, 3, 2, 2, -7, 2, -1, 3, 3, -27, 3, 3, 30, 2, 4, 3, 2, -21, 3, 3, 2, -25, 3, 3, 3, 2, 3, 2, -9, 19, 3, 3, 3, 3, 2, -18, 2, 3, 3, 3, 2, 3, 3, -16, 35, 3, 3, 3, 3, 3, 2, 20, 33, 3, 3, 30, 3, -30, 3, 3, 3, 3, 28, 3, 3, 5, 2, -15, 2, 3, 2, 3, -17, 3, 23, 2, 3, 3, 3, 3, 3, 3, 5, 2, 2, 3, -6, 3, 3, 3, 3, 2, 3, 2, 2, 2, -14, -11, -35, 3, 11, 3, 3, 2, 3, 3, 2, 1, 2, 3, 2, 46, 3, -1, -31, -4, 3, 2, 3, 2, 3, 2, 2, -7, 12, 3, 25, 2, 3, 2, 3, 2, -2, 3, 2, 22, 3, 3, 3, 3, 3, 54, 3, 3, -23, -12, 30, 3, 3, 3, 3, 3, 3, 3, 3, 2, 3, 2, 2, 5, 3, 3, 3, -4, 3, 3, -22, 3, 3, 15, 3, 2, 3, 2, 3, 3, 38, -1, 21, 3, 3, 3, 3, 3, 3, 3, 3, 3, 3, 3, 2, -10, 3, 10, 2, 3, 2, 3, 3, 3, 3, 3, 3, 2, 3, 3, 3, 7, 3, 3, 3, 3, 3, 3, 3, 3, 3, 3, 3, 2, 3, 2, 3, 3, 24, 3, 3, 32, 3, 3, 36, 2, 3, 3, 3, 2, 3, 3, 2, 32, 3, 3, 3, 2, -33, 2, 3, 3, 3, 3, 29, 3, 39, 3, 3, 2, -26, 2, 3, 2, 3, 2, 17, 3, 6, 8, 3, 2, 3, 2, 2, 3, 3, 4, 3, 3, 2, 2, 3, 2, 35, 3, 3, 3, 3, 2, 3, 2, -13, 3, 2, 2, 3, 3, 2, 2, 3, 3, 3, -4, 3, 3, -9, 3, 3, 3, 3, 3, 3, 3, 2, 2, -10, 3, -5, 3, 3, -10, 2, 3, 3, 2, 3, -34, 3, 2, 3, 2, -23, 19, 2, 3, 3, 2, 3, 8, 3, 3, -8, 19, 3, 3, 3, 3, 3, 3, 3, -14, -25, 3, 38, 2, 3, -6, 3, 2, 3, 3, 32, 3, 3, 3, 2, 3, -29, 3, 2, 2, 2, 3, 30, -22, 3, 3, -27, 2, 3, 3, 2, 2, 24, 3, 3, -15, 3, -38, 3, 3, 2, 3, 40, 21, 8, 30, -8, 3, 9, 35, 3, 3, 0, 3, 3, 3, 3, 2, 58, 3, 3, -24, 2, 20, 3, 2, 3, -7, -34, 2, 3, 3, 3, 3, 3, 3, 3, 3, 3, 3, -9, 3, 3, 3, 3, 26, 7, -17, 2, 2, 3, 3, 2, 32, -14, 3, 3, 3, 36, 3, 3, 2, 2, 17, 3, 2, 2, 3, 3, 2, 3, 3, 2, 3, 6, 3, 3, 52, -25, 2, 2, 37, 3, 3, 3, 3, 3, 2, 3, 3, 3, 2, -1, 3, -25, 2, 2, 2, 3, 3, 13, 3, 3, 3, 3, 3, 10, 3, 3, 3, 3, 7, 7, 2, 2, 11, 3, 6, -9, 3, 3, 8, 2, -2, 3, -8, 3, 3, 2, -3, 2, 3, 49, 7, 2, -25, 3, 3, 3, 2, -31, 3, 3, 3, 3, -28, 27, 3, 3, 21, 3, 3, 3, 3, 3, 3, 3, 3, 13, 3, 3, 3, -14, 2, 2, 2, 3, 3, 3, 3, -6, 3, 3, 3, 11, 2, 2, 3, 3, 3, 3, 3, 2, 2, 2, -9, 2, 3, 11, 2, 3, 3, 12, -33, 3, 18, 3, 2, 2, 2, 3, 3, 3, 3, 23, 2, 3, -18, 3, 3, 3, -16, -22, 3, 2, 3, 2, 3, -19, 3, 2, 3, 22, 3, 3, 2, 2, 3, 3, 3, 28, 22, 3, 25, -57, -8, 3, 3, 3, 3, 3, 39, 3, 3, 3, 3, 3, 2, 7, 2, 3, 3, 2, 2, 3, 3, 4, 3, 3, 3, 2, 2, 3, 36, -12, 3, 23, 5, 3, 3, 2, 3, 3, 8, 3, -17, 3, 3, 2, 4, 3, -82, 3, 3, 3, 25, 2, 3, 27, 3, 3, 3, 3, 3, 30, 3, 42, 3, 22, 3, 3, 3, 3, 3, 3, 3, 3, 3, 3, 2, 3, 3, 3, 3, 2, 3, 3, 16, 3, 41, 15, 7, 3, 3, 3, -7, 3, 3, 3, 2, 3, 3, 3, 3, 35, 2, 2, 3, 3, 3, 3, 3, 5, 2, 1, 3, 3, 3, 3, 3, 3, 2, 2, 2, -11, 3, 3, 2, -49, 3, 5, 3, 3, 2, 3, 3, 3, 31, 3, 2, 3, 3, 3, 3, 2, 3, 2, -1, 2, 3, 3, 3, 3, 2, 3, 3, 3, 3, 2, 3, 2, 3, -5, 28, 3, 3, -11, 2, 27, 2, 10, 3, 3, 3, 2, 3, 3, 3, 6, 2, 3, 3, 39, -16, 2, -20, 24, -16, 2, 3, 3, 3, 2, 15, -19, 3, -8, 3, 2, 2, 2, 3, 3, 10, 2, 19, 3, 20, 3, 3, 33, -11, 3, 3, -31, 2, -26, 21, 1, 3, 3, -4, 3, 3, 3, 2, -15, 3, 3, 3, 2, 2, -11, -15, 3, 3, 30, 27, 3, 3, 2, 3, 3, 3, 3, 3, 2, 3, 2, 22, 3, 3, 3, 2, 3, 2, 4, 3, 3, 3, 34, 2, 3, -35, 3, 3, 2, 3, 3, -9, 3, 3, 3, 3, -20, 3, -14, 3, 3, 3, 3, -32, 2, -4, 42, 7, 3, 2, 3, 3, 3, -41, 3, 3, 2, -15, 18, 3, 3, 2, 3, 3, 3, 3, 3, -3, 3, 3, 2, 5, 3, 2, 3, 3, 3, 17, 6, -6, 3, 3, 38, 3, -12, 3, 3, 3, 2, 2, 3, 3, 2, 3, 3, 19, 3, 3, 3, 3, 3, 3, 3, 3, -45, 2, -20, -28, 3, 3, 3, 7, 3, 3, 3, 3, 18, 3, 3, -32, 48, -7, 3, -14, 2, 2, -5, 3, 48, 3, 3, 3, 3, -7, 2, 3, 3, 3, -1, 25, 3, 3, 3, 1, 3, 3, 2, 3, 3, 3, 2, -21, 3, 3, 3, 3, 2, 3, 3, 7, 3, 3, -1, 3, 3, 3, 3, 2, 3, 3, 3, -23, 2, 3, 3, 2, 3, 2, 2, 2, 3, -6, -47, 3, 2, 19, 3, 2, 3, 3, -19, 3, 3, 2, 3, 2, 2, 3, 2, -22, 3, 2, 3, 2, 3, 3, 3, 3, -9, 2, -26, 3, 2, 3, 2, -22, 3, 2, -4, 3, 3, -13, 3, 2, 3, 2, 3, 3, -1, 3, 29, 3, 2, 3, -39, 2, -6, 3, 3, 2, 3, -4, -4, 20, 3, 3, 3, -4, 3, 3, 2, 2, 0, -5, -1, 7, 2, 3, 3, 3, 2, 3, 3, 3, 2, -18, 3, 3, 3, 3, 3, 3, -12, -11, 3, 3, 3, 3, 30, -41, 3, 3, 3, 3, 3, 3, 3, -14, 3, 3, 3, 3, 3, 2, 2, 3, 1, 3, 2, 3, 3, 3, 2, 3, 3, 2, -12, 3, 16, 2, 3, 3, 3, 2, 3, 3, 31, 2, 3, 3, 50, 3, 3, 3, 3, 39, 3, -1, 14, 3, 3, 12, 3, -13, 2, 3, 2, 2, 5, 3, 2, 28, 3, 3, -16, 2, 3, 3, 3, 2, 3, 3, 13, 3, 3, 3, 3, 3, 3, 3, 40, 2, 3, 3, 3, -16, -8, 3, 3, 3, 3, 3, 2, 3, -23, 3, 2, 3, 3, 3, 3, 3, 3, 2, 3, 2, 3, 27, 3, 3, 2, 2, 3, 3, 3, 3, 3, 3, 2, -5, 3, 3, -40, 2, 3, 2, 3, -17, 2, -19, 3, -57, 2, 3, 3, 3, -28, 3, 2, -17, 2, 15, -22, 2, 5, 3, 3, 3, 3, 2, 25, 2, 14, 2, 2, 3, 7, 22, 2, 2, 26, 3, 3, 3, 3, 3, -11, 3, 3, 3, 2, 3, -35, 3, 2, 3, -2, 1, -14, 2, 2, 3, 2, 19, 2, 8, -21, 3, 2, 2, 3, 3, 2, 3, 2, -34, 0, 3, 23, 3, 46, 3, 3, 3, 25, 3, -11, 13, 2, -23, 61, 3, 3, 3, 3, 3, -13, -11, -23, 3, 3, 3, 3, 9, 2, 3, -6, 2, 3, 3, 2, 3, 3, 3, 13, -33, 3, 38, 2, 25, 9, 3, 2, 2, 2, 2, 3, 3, 3, -36, 3, 2, 3, 2, 35, -6, 3, 33, 2, 2, 3, -23, -6, 3, 3, 3, 4, 3, 3, 15, 3, -15, 3, 3, 3, 3, 2, 4, 3, 2, 3, 3, 17, 3, 2, 3, 3, 3, 3, 3, 3, 29, 3, 3, 3, 33, 3, 2, 3, 2, 3, 2, 2, 3, 3, 3, 27, 2, 3, 3, 3, 24, 2, -6, 48, -33, 3, 3, 3, 3, 3, 3, 3, 2, 2, -17, 2, 3, -12, 18, 3, 20, 3, 2, 30, 3, 3, 3, -23, 16, 3, 16, 3, 3, 3, 3, 3, 2, 3, 3, 2, 24, 2, -28, 3, 3, 3, 3, 36, 2, 3, 2, 3, 2, 3, 2, 3, 3, 5, 3, 2, 3, 2, 2, 2, 2, 3, 3, 3, 3, 3, 2, 2, 2, 3, 2, 20, 3, 3, 3, 3, 3, 3, 1, -23, 3, 3, 3, 3, 3, 3, 3, 5, 3, 3, 3, 3, 3, 3, 25, 3, 16, 3, 2, 3, 2, 5, -17, 3, 15, 2, 3, 32, 2, 3, 2, 3, -2, 3, 3, 3, 3, 2, 2, -5, 3, 3, 2, 3, 2, 3, 3, 3, 3, 3, 3, 3, 3, 2, -9, 2, 3, 3, 2, 3, 3, 3, 3, 3, 3, 2, 3, 7, 3, 3, 3, 3, 3, -45, 3, 2, -10, -27, 3, 3, 2, -21, 16, 3, 1, 2, 2, 3, 3, 3, -4, 3, 23, 2, 2, 2, 34, 3, -12, 3, 3, 3, 3, 3, 3, 3, 3, 2, 3, -9, -17, 2, 2, 3, -11, -29, 0, 3, 3, 2, 3, -8, 2, 14, 2, 3, 2, 2, 17, 3, 2, 3, 3, 3, 3, 2, 3, 3, 3, 3, 3, 3, 19, 2, 3, 11, 2, 3, 20, -15, 3, 3, -15, 2, 2, 3, 3, 2, 2, 3, 3, 30, 2, 3, 3, 3, 2, 2, 3, 30, 2, 3, 3, 2, 8, 3, 3, 3, 3, 3, 3, 2, 17, 3, 3, 2, 3, 2, 2, 43, 3, 3, 2, 2, 2, 3, 3, -38, 3, 2, 3, 3, -29, 3, 3, -21, 3, 3, 2, 3, 3, 3, 3, 3, 3, 40, -19, 3, 3, 3, 3, 3, 3, 3, 3, 3, 3, 3, 2, -24, 3, -28, 3, 3, 3, 2, 3, 3, 3, 3, 3, 3, 3, 3, 2, 3, 14, -15, 3, 13, 3, 32, 3, 2, 2, 3, 2, 2, 2, 17, 3, 3, 4, 3, 3, -9, 3, -31, 6, 3, 3, 3, 3, 24, 2, 3, 10, 2, 3, 3, 3, 3, 3, 3, 2, 2, 3, 15, 2, 3, -37, 3, 2, 3, 34, 3, 3, 7, 3, 3, 0, 27, 3, 3, 3, 3, 2, 3, 3, 3, -20, 3, 2, 3, 3, 14, 3, 3, -57, 3, 3, 3, 2, 2, 3, 3, 3, -15, 26, 2, 3, 3, -30, 3, 3, -16, 2, -23, 2, 3, 2, 2, 3, 3, 3, 3, 3, 2, 3, 7, 2, 3, 2, 3, 3, 2, 3, 3, -13, 3, 3, 3, 3, -5, 2, 3, 3, 3, 3, 3, -21, 3, 3, 43, 3, 3, 2, 3, -24, 11, 3, 3, 3, 2, 3, 3, 3, 29, 3, 3, 3, 3, 3, 3, 3, 3, 3, 1, 2, 3, -43, 3, 2, 2, 3, 3, 3, 3, 3, 3, 3, 3, -13, 3, 12, 14, 3, 2, -40, 3, 5, 17, 3, 3, 3, 3, 3, -25, 3, 17, 3, 2, 4, 3, 3, 2, 3, 3, 3, 3, 11, 2, 3, 3, 3, -15, -18, 3, 2, 3, 3, 2, 2, 3, 2, 3, 2, 3, 23, 3, -20, 3, 3, 15, 2, 3, 3, -39, 3, 3, 3, 3, 3, 3, 5, 3, 2, 3, 2, 7, 3, 3, -6, 3, 3, 3, 3, 3, 2, 2, 3, 3, 3, 3, 3, 2, 3, -9, 27, 3, 3, 3, 3, 3, 33, 3, 3, 3, -14, 3, 3, 18, 3, 11, 3, 3, 2, 3, 3, 7, 3, 3, 3, 3, 3, 2, 2, 3, 3, 3, 3, -8, -24, 2, 2, 3, 8, 3, 3, 13, 13, -22, 3, -30, 3, -3, 3, 3, 3, 3, 3, 4, 3, 3, 3, 2, -7, 3, 11, 3, 3, 2, 3, 3, -10, 3, 2, -4, 3, 3, 3, -4, 3, 3, 3, -44, 3, 3, 1, 3, 2, 2, -14, 3, 3, 3, 3, 0, 3, 12, 3, -2, 31, 34, 3, 1, 3, 28, 3, 3, 13, 3, 3, 2, 3, 2, 2, 31, -34, 3, 3, 3, -1, 3, 3, 24, 3, 3, 3, 3, 2, 1, 2, 3, 3, 2, -20, 3, 3, -32, 3, -34, 3, -31, 3, 2, -26, 3, 3, 3, -24, -7, 3, 3, 3, 26, 3, 3, 3, 3, 41, 3, -9, 3, 3, 3, 2, 0, 2, -11, 3, 2, 3, 19, 3, 3, 3, 3, 37, 3, 2, -10, 3, 3, -16, 3, 3, 3, 3, 3, 32, 3, 3, 3, 2, 3, 3, -24, 3, 3, 3, 3, 3, 43, 3, 3, 3, 3, 3, 3, 3, 3, 2, 3, 3, 11, 3, 3, 3, -1, 3, 3, 3, -3, 3, 2, 3, 3, -16, -30, 3, 3, 3, -3, 2, 3, 2, 3, 2, 2, 3, 3, 2, 3, 3, 9, 14, 3, 3, 3, 2, -28, 3, 3, 3, 3, 3, 3, 3, 6, -4, 3, 3, 3, 2, -19, 11, -2, 3, 3, 3, 3, 3, 3, 3, 3, 3, -2, 3, 3, 3, 3, -8, 3, -18, -2, 3, 3, 17, 3, 3, 3, 2, 3, 3, 3, -26, 50, 3, 30, 2, 3, 0, 3, -8, 3, 3, -25, 3, 2, 2, 5, 23, 27, 3, 59, -5, 3, 3, 3, 2, 3, 3, 3, 3, 2, 3, 2, 3, 2, 3, -3, 3, 20, 1, 3, 2, 2, 4, 3, 3, 3, 3, 3, 20, 3, 3, 3, 3, 3, 19, 3, 2, 45, 33, 3, 15, 3, 2, 2, -40, 3, 39, 3, 33, 3, 3, 2, 3, 3, 3, 3, 3, 3, 3, 3, 10, 3, 3, 2, 3, 41, 3, 2, -57, 3, 2, 2, -37, 2, 2, 3, 3, -36, 3, -1, 2, 3, -21, 3, 3, 3, 3, 3, 3, 2, 3, 2, 3, -9, 2, 3, 3, 25, 3, 3, -13, 3, 2, 2, 3, 3, -14, 3, 3, 3, 3, 3, 2, 36, 3, 3, 2, 3, 2, 3, 3, -19, 3, 17, 3, 3, 3, 3, 2, 3, 3, 3, 3, 3, 3, 19, 2, 2, 2, 3, 3, 2, 3, -20, 3, 4, 9, 3, 3, 2, 3, 2, 3, 3, -4, 2, 2, 3, 3, 3, 3, 3, 3, 3, 2, 3, 3, -13, 2, 3, 2, 6, 3, 2, 3, 3, 3, 3, 3, 3, 3, 2, 3, 2, -31, 2, 2, 2, 4, -15, 3, -29, 3, 2, -41, 3, 2, 0, 3, 47, 2, 3, 2, 8, 3, 3, -27, 31, 3, 3, 3, 3, 3, 3, 3, 3, 3, -22, 3, 3, 2, 10, -9, 3, 3, 2, 3, 3, -11, 3, 3, 3, 3, 3, 3, 3, -20, 3, -4, 3, -45, -5, 3, 3, 3, 3, 3, 14, 3, 3, 3, 3, 3, 2, 3, 3, 3, 3, 2, 3, 3, 3, 3, 3, 3, 3, 3, 3, 3, 2, 46, 3, 2, 2, -17, 3, 3, 2, 3, 2, 3, 3, 2, 9, 3, 10, -29, 3, 3, 3, 3, 3, 3, 3, 3, 4, 3, 38, 3, 3, -23, 3, 3, 5, 3, 3, -30, 25, -2, 3, 3, 3, 2, 3, -27, 3, 3, 2, 3, 3, 3, 3, 2, 3, 3, 39, 3, 3, 2, 2, 3, 14, 3, 3, 3, 3, 3, 3, 12, 3, -17, 3, 3, 55, 3, 3, 19, 3, 2, 3, 20, 30, 3, -21, -26, 3, 3, 3, 3, 3, 3, 3, 3, 3, 2, 3, 3, -41, 2, 3, 3, 3, 2, -12, 3, 3, 3, 3, 2, 2, 38, 3, 11, 3, 3, 3, 3, 3, 22, 2, 2, 3, 3, 3, 3, 47, 3, 3, 3, 3, 3, 2, -60, 3, 3, 3, 3, 3, 3, 3, 2, 3, 3, 23, -11, 2, -41, 9, 2, 3, -6, 2, 3, 3, 3, 3, 3, -25, -21, 2, 3, 10, 3, 3, -5, 2, -9, 3, 3, 3, 3, 3, 11, 2, 2, 3, 3, 2, 3, 3, -5, -53, 3, -9, 3, 3, 3, 3, 3, 3, 3, 3, 3, 18, 3, -5, -16, 3, 3, 3, 37, 3, 22, 2, 3, 3, 2, 3, 3, 3, -6, 3, 3, 3, 3, 2, 26, 3, 2, 2, 3, 3, 3, 3, 3, 3, 5, 2, 3, 3, 19, 2, 2, 3, 3, -3, 3, 3, 3, 2, 2, 3, 3, -24, 3, 3, 2, 3, 3, 2, 3, 3, 2, 3, -9, 2, 3, 3, 2, 3, 3, 3, 3, 2, -13, 3, 3, 3, 3, 49, 3, -26, 3, 3, 3, 3, 12, 3, 3, -8, 19, 3, 3, 3, 15, 2, 3, 2, 3, 3, 12, -24, 2, 3, 2, 3, 3, 36, 0, 3, -4, 3, 3, 3, 2, 3, 3, 3, 3, 2, 3, 3, 3, 3, 3, 2, -2, 2, 3, 3, 2, 3, 3, 3, 2, 3, 3, 3, 2, -26, 3, 3, 31, 31, 3, 21, 3, -6, 3, 3, 3, 12, 3, 3, 3, 3, 3, 3, 2, -13, -30, -12, 3, 2, 34, 2, 9, 3, 3, -23, 3, 3, 3, 3, 2, 3, 21, 3, -2, 3, -15, -13, 5, 3, 3, 27, 3, 3, 3, 3, 3, 3, 3, 9, 3, 25, 2, 2, 3, 16, 2, 2, 3, -9, 2, 3, 3, -10, 18, 3, 2, 12, 2, 3, -18, 2, 3, 2, 3, 2, 3, 3, 3, 3, 3, 2, 2, 2, 2, 3, 3, 3, 3, 2, 2, 3, 2, -76, 3, 3, 3, -6, 22, 11, 2, 3, 3, 3, 3, 29, 2, 2, 2, 3, 3, 2, 2, 3, 3, -2, 3, 3, 2, 6, 35, 3, 3, 3, 3, 5, 3, 3, 2, -43, 3, 2, 3, 56, 27, 2, 3, 2, 3, 3, 34, 3, 2, 2, 2, 3, 3, 2, 2, 3, 38, 3, -22, -10, 6, 3, 3, 6, 3, 2, 2, 3, 2, 2, 7, 3, 3, 10, 6, 2, 2, 33, 2, 3, 3, 3, 8, 2, -39, 3, 3, 4, 3, -17, 3, 21, 2, 3, 5, 3, 2, -19, 2, 3, 3, 3, 3, 3, 2, 3, 3, 3, 3, 3, 3, 3, 2, -10, -27, 2, 3, 2, 2, 2, 21, 43, -12, 3, 3, 3, 3, 3, 3, 3, 3, 25, 13, 3, 22, 3, 3, 2, 3, 3, 3, 3, 3, 3, 3, 2, 3, 3, 3, -3, 3, 2, -45, 3, 2, 2, 3, 3, 25, 3, 2, -20, 2, 51, -1, 3, 3, -25, 2, 3, 2, 3, 3, 3, 3, 2, 3, -18, 6, 2, 29, 3, 3, 3, 3, 3, 13, 3, 3, 17, 2, 3, 3, 3, 3, 3, 3, 3, -9, 0, 3, 18, 3, -33, 3, 3, 3, 3, 3, 3, 2, 3, 9, 3, 3, 3, 3, 3, 2, 25, 2, 3, 17, 3, 3, 2, 3, 3, 3, 3, 3, 3, 3, 3, 3, 3, 3, 3, 3, 3, 3, 3, -7, 3, 2, -41, 49, 2, 3, 3, 36, 2, 2, 3, 2, 3, 33, 40, 3, -15, 3, -11, 3, 3, 3, 3, 3, 3, 3, 2, 3, 3, 3, 20, 2, 3, 3, 3, 2, 3, -21, 2, 2, -15, 2, -2, 2, 3, 3, 2, 3, 3, 19, 3, 4, 2, 19, 3, -28, 3, 3, 35, 3, 3, -17, 3, -36, 56, -32, 2, 2, 27, 2, 2, 3, 3, -18, 3, 3, -15, 3, 3, 3, 3, 23, 2, 2, 3, 2, 2, 3, 3, 3, 3, 3, 3, 3, 2, 3, 3, -18, 3, 2, 3, 3, 3, 3, -22, 3, 3, 3, 3, 3, 3, 3, 2, 3, 20, 2, 12, 3, 3, 3, 3, 2, 1, 3, 2, 18, 3, 2, 3, 2, 3, 3, 3, -53, -50, 2, 3, 3, 3, 1, 16, 18, 46, 2, -18, 3, 3, -4, -7, 3, 3, 3, 3, 3, 26, 3, 3, 3, 66, 3, 3, 34, 3, -10, 3, 3, 23, 3, -15, -1, 3, 3, 20, 8, 3, 3, 12, 2, 16, 3, 24, 12, 3, 3, 19, -21, 2, -29, 3, 3, 3, 47, 3, 33, 3, 2, 10, -29, -30, 3, 3, 3, 3, 2, 3, -18, 3, 23, 2, 3, 3, 3, 16, 3, 2, 3, 3, 3, 3, 2, 2, 3, 3, 3, 3, 2, 3, 3, 3, 48, 2, 3, 23, 3, 3, 3, 3, -28, 3, 3, 3, 2, 9, 2, 3, 2, 3, 3, 3, 3, 2, 3, 3, -1, 3, 3, -9, 3, 3, 3, 3, -43, 3, 11, -6, 3, 3, 11, 3, 3, 2, 42, 2, 3, 2, 3, 38, 3, 3, 3, 3, 3, 2, 3, 2, 3, 3, 3, 37, 3, 3, 3, 3, 2, 3, 3, 2, 2, 3, 3, 3, 3, 2, 3, 3, 3, -19, 3, 12, 3, 3, 3, 3, 2, 3, 60, 3, 2, 3, 9, 3, 3, -18, 3, 3, 3, 3, 3, 8, 7, 2, 2, 22, 3, 2, 3, 2, 2, 2, 3, 24, 3, 3, 2, 2, 3, 3, 3, 2, 3, 3, 3, 3, -33, 3, 3, 46, 2, 30, 3, -24, 3, 2, -26, 3, 3, 2, 3, 3, 3, 3, 2, -6, 3, 4, -27, 17, 3, 31, -42, 3, 3, 17, 2, 2, 45, 3, 2, 3, 3, 3, -34, -3, -49, -8, 3, 3, 3, 2, 2, 3, 2, 3, 3, -9, 3, 2, 2, 3, 2, 22, 2, 3, 3, 3, 3, -13, 3, 3, 2, 2, 2, -11, 3, 2, 13, 3, 3, 3, 2, 0, 3, 3, 3, 2, -7, 30, 3, 3, 3, -47, 3, 2, 2, 3, 2, 3, 3, 3, 3, 2, -41, -28, 3, -11, 3, 3, 3, 3, 2, 3, 3, -20, 2, 3, 0, 3, 3, 3, 3, 3, 3, 17, 2, 3, 3, 3, 3, -16, 3, 26, 3, 3, 2, 3, 3, 2, 18, -11, 2, 2, 3, 2, 2, 2, 3, 3, 3, 3, -7, 3, 2, 2, 17, 3, 3, 3, 3, 3, 3, -28, 3, -22, -32, 2, 21, 3, 3, 3, 3, 3, 3, 3, 3, -6, 2, -16, 3, 3, 3, -16, 3, 10, 2, -32, 2, 3, 2, 3, 3, 3, 3, 3, 3, 3, 3, 3, 2, 3, 2, 3, 2, 3, -27, 3, 3, 3, 3, 3, 2, 3, 2, 8, 2, -9, 2, 3, 3, 3, 2, 3, 3, -25, 2, 2, 3, 3, -13, 2, -40, 3, 3, 3, 3, 37, 3, 3, 3, -5, 3, 3, 36, 2, 3, 3, -4, 3, 2, 3, 2, -23, -3, -4, 2, 3, 2, 3, 3, -14, 21, 3, 3, -3, 39, 3, 3, 3, 3, 3, 3, 3, 3, 0, 2, 3, 2, -11, 3, 3, 7, 3, 29, 3, -26, 3, 3, 26, 16, 3, 3, 3, 3, 3, 3, 3, 3, 3, 3, -30, 3, 3, 3, 34, 3, 3, 3, 2, 3, 3, 2, -20, 17, 2, 2, 3, 3, 3, 3, 2, 3, 3, 3, 3, 2, 3, -33, 33, 3, 3, -11, 3, 2, 12, -15, 3, 3, 3, 3, 3, 3, 25, 3, 2, 52, 2, 3, 3, 3, 3, 53, 3, 3, 3, 3, 3, 2, 3, 3, 3, 3, 3, 3, 2, 3, 3, 3, 2, 2, 3, 3, 3, 3, -26, 3, 3, 3, 2, 20, 2, 3, 19, 3, 3, 3, 3, 0, 2, 3, 3, 3, 3, 3, 12, 3, 2, 3, 2, 3, 27, -43, 64, 3, -37, 2, -6, 3, 29, -23, 3, 2, 3, 3, 23, 2, 23, 3, 3, 15, 2, 3, 3, 3, 3, 3, 3, 2, 3, 3, 13, 3, 2, 3, -31, 3, -14, 5, 3, 32, 3, 3, 3, 3, 3, -6, 3, 3, 3, 2, 3, 2, 2, 3, -66, 2, 3, 19, 2, -26, -29, 3, 2, 3, 3, 3, 2, 3, -6, 3, 3, 2, 3, 30, -26, 3, 2, 2, 3, 3, 2, 3, 2, 3, 3, 3, 3, 3, 2, 3, 3, 3, 3, -16, 3, 3, 3, -15, 2, 23, 26, -7, 25, 3, 3, 3, 3, 3, 3, 2, 2, 3, 2, 3, 3, 3, 3, 2, -2, 3, 3, -12, 2, 3, -17, 2, 3, 3, 3, 3, 3, 3, 31, -17, 3, 3, 3, 9, 3, 3, 3, 3, 3, 3, 2, 8, -6, 3, 3, 3, 3, 2, 3, 2, 3, 2, 3, 15, 3, 3, -28, 2, 3, 2, 3, 22, 2, 3, -11, 3, 2, 3, 3, -17, 2, 3, 1, 3, 3, 3, 2, 3, 2, 3, 3, 2, 3, 3, 3, 3, 3, 1, 3, 1, 8, 3, 3, 2, 3, 18, 3, 18, 24, 2, 3, 2, 3, 3, 2, 3, 3, 3, 6, 2, 5, 3, 3, 3, 3, 2, 3, 2, 3, -20, -2, 9, 2, 3, 3, 2, 3, 3, -3, 3, 7, 23, 2, 2, 3, 3, 2, 2, 3, 3, 2, 3, -12, 2, 3, 12, 3, 3, 3, 1, 8, 3, 3, 3, 3, 3, -26, 3, 2, 3, 3, 2, 3, 10, 3, 0, 3, 3, 3, 3, 2, 3, 5, 3, 3, -62, 3, 3, 3, 3, 3, 3, 2, 3, 2, 2, 2, 3, 3, 2, 3, 2, 3, 41, 3, 2, 2, 3, 3, 2, 2, 3, 2, -31, 3, 1, 33, 3, 3, 3, 2, 9, 3, 3, 3, 2, -14, 2, 2, -11, -1, 2, 6, 3, 3, 3, -22, 3, 2, 2, 2, 3, -21, 3, 3, 2, 7, -7, 3, 3, 2, 3, 3, 3, 3, 3, 3, 3, 2, 8, -26, 6, 2, 3, 3, 3, 16, -4, 3, 2, 3, 3, 3, 3, 23, -50, 3, 3, 3, 3, 3, 2, 3, -18, 3, 2, 7, 3, 17, 31, 3, 28, 3, 3, 3, 3, 4, 3, -16, 2, 3, 3, 2, 3, 2, 3, 2, 3, -7, 2, 3, 3, 3, 3, 3, 3, 3, 3, -23, 3, 2, 3, 3, 3, 3, 3, 2, 3, 31, 3, 2, 2, 3, 3, 3, 3, -21, 2, 3, 3, -45, 3, 2, 23, 3, 2, 2, 3, 2, 29, 40, 3, -39, 3, -22, 2, 3, 3, 0, 3, 28, 2, 3, 3, 3, 3, 3, 13, 3, 3, 3, 20, 3, 40, 14, 3, -32, -9, 3, -7, -43, 2, 3, 3, -46, 14, 13, 3, 29, -3, 2, 3, 2, 9, 2, 3, -1, 3, 2, 3, 17, 3, 3, 3, 2, 3, 2, 16, 3, -19, 3, 3, 3, 2, -22, 18, -37, 2, 3, -28, 3, 2, 3, 32, 3, 24, 3, 2, 3, 3, 2, 3, 3, 2, 2, 3, 3, 3, 2, 35, 3, 3, 2, 3, 3, 3, 3, 3, 2, 3, 3, 2, -6, 3, 3, 40, 3, 3, 3, 6, 3, 2, 3, 3, 40, 3, 3, 2, 3, 2, 3, -5, 3, -6, 3, 3, 3, 15, 2, 2, 3, 2, -16, 3, 2, 3, 2, 3, 3, 3, 3, 3, 3, 3, 3, 2, 3, 3, 3, 1, 2, 2, 3, 3, 3, 2, 3, 2, 3, 2, 45, 3, 3, -13, 2, 3, -26, -28, 3, -15, -15, 2, 3, -12, 2, 3, 3, 2, -26, 3, 2, 24, 3, 17, 3, 2, 3, 2, 3, 3, 3, 3, 3, 2, -32, 3, -47, 3, 3, 3, 2, 3, 3, 2, 2, 3, 2, 2, -21, 2, 3, 3, 2, 3, 2, 3, 3, 3, 19, 3, 3, 2, 3, 3, 2, 3, 2, 3, 2, 3, 3, 13, 7, 3, 3, 3, 2, 3, 3, 3, 3, 3, 3, 3, -32, 3, 2, 3, 3, 3, 3, 3, 3, 3, 3, 32, -19, 2, 3, 3, 3, 2, 3, 9, 2, -8, 2, 3, 3, 4, -11, 3, 3, 2, 3, 9, 3, 2, 19, 3, 3, 3, 2, 2, 3, -24, -19, 3, 3, 2, 3, 3, 0, 2, 2, 3, 3, 3, 2, 3, 3, 3, 3, 3, 3, 1, -4, 27, 2, -15, 3, 3, 3, 3, 3, 3, 3, 3, 3, 3, 3, 3, 2, 3, 3, 3, 9, 2, 3, 3, 2, 3, 3, -17, 3, 3, 3, 42, 3, 3, 3, 3, 12, 2, 3, 3, 3, 15, 3, 3, 2, 3, 3, 3, 3, 2, 2, -19, 2, -9, 3, 44, 2, 3, 23, 2, 2, 3, 3, 3, 3, 3, 26, 1, 3, 20, 2, 27, 3, 3, 2, 3, 16, 3, 4, 2, 2, 3, 3, 3, -5, 4, 17, 3, 3, 3, -22, 2, 3, 3, 28, 41, -36, 33, 3, 35, 3, 3, 3, 3, 2, 0, 3, 7, 3, 3, -6, 29, 3, 14, -2, 3, 3, -26, 3, 3, 2, 3, 13, 3, 6, 3, 51, 0, 3, 3, 3, -48, 2, 3, -11, 3, 3, 3, 3, 3, -8, 2, 3, 2, 6, 22, 3, 2, 3, 3, 2, 3, 4, 3, -15, 2, 3, -9, 3, 3, 3, 3, 3, 3, 2, 2, 3, 3, 3, 3, 3, 2, 2, 3, -15, 1, 22, 3, 2, 3, 3, 3, 3, 2, 3, 9, 3, 3, 3, -28, 3, 3, 3, 2, 3, -13, 3, 2, 33, 3, 3, -15, 2, 2, 3, 3, 2, 3, 2, 3, 16, 3, -4, 2, 3, 3, 3, 3, 2, 3, 2, 36, 3, 3, 3, 2, 3, -38, 2, 3, 3, 3, 3, -9, 3, 2, 1, -30, 3, 3, 3, 2, -6, 3, 9, -29, -18, 3, 3, 33, 39, 3, 3, 3, 23, 3, 2, 3, 3, 2, 2, 3, 16, 2, 3, 3, 3, 3, 3, 2, 3, 3, 3, 2, 3, 3, 3, 5, 2, -52, 2, 3, 2, 16, 2, 3, 3, 2, 3, 2, 3, 3, -14, 2, 3, 3, 3, 3, 3, 2, 3, 3, 3, -24, 3, 3, -13, 3, 47, -17, -13, 2, 2, 3, 2, 3, 3, 3, 3, 2, 2, 3, 21, 3, -26, 2, 3, -3, 5, 3, 3, 3, 3, 3, 20, 3, 2, 3, 3, 3, 2, 3, -30, 41, 3, 3, 3, 2, 3, 2, -42, 3, 1, 36, 3, 3, 3, 11, 8, -24, 2, 3, 3, -12, -2, 3, 3, 3, 2, 47, 3, 3, 9, 3, 3, -10, 3, -7, 2, 3, 2, 2, 3, 2, -3, 3, 2, 3, 3, 3, 3, 3, 3, -27, 38, 3, 3, 3, 3, 2, 3, -9, 3, -37, 9, 2, 3, 3, 3, 2, 2, 3, 3, 3, 2, 3, 3, 3, 3, 3, 2, 3, 2, -9, -17, -16, 3, 2, 3, 3, 3, 15, 3, 16, 3, 27, 2, 0, 2, 2, 26, 3, 3, 3, 2, 3, 3, 3, 3, 3, 3, 2, -8, 32, 22, 3, 3, 42, 3, 2, 3, 12, 3, 3, 3, 3, 3, 3, 3, 3, 3, 3, 3, 2, 3, 2, 2, 2, 40, 3, 3, 3, 3, 3, 2, 7, 25, 3, 3, 3, 3, 36, 3, -20, 3, 3, -3, 3, 3, 3, 3, 9, 3, -14, 3, 16, 3, 3, 3, -30, 2, 54, 2, 2, -10, 2, -51, -22, 13, 45, 2, 3, 28, 3, -14, 3, 3, 26, 8, 23, 3, 3, 3, 3, 30, 3, 3, 3, -21, 9, 3, 3, 3, 6, -13, 2, 2, 16, 3, -8, 2, 2, 0, 3, 3, 3, 3, -4, 3, 3, 3, 2, 3, 3, 3, -35, 11, 3, -5, 3, 3, 12, 2, 3, 2, 13, 3, 2, 2, -19, 3, 3, 3, 3, 3, 41, 3, 3, 3, 3, -20, 6, 2, 2, 2, 3, 3, -53, 3, 3, 2, 2, 3, 3, 3, 3, 2, 0, 3, 3, 2, 48, 34, 3, -3, 3, 3, 3, 3, 3, 0, 3, 3, 2, 3, -8, 3, 3, 2, 3, -37, 2, -12, 2, 3, 2, 6, -28, 3, 2, 2, 3, -6, 3, 3, 22, -21, 6, 11, 3, 21, 3, 3, -48, 3, 3, -3, 3, 3, 2, 3, 1, 2, 3, 2, 3, 3, 3, 3, 3, 6, -49, 3, -24, 3, 2, 2, 3, 2, 3, 2, 3, 3, 12, -4, 2, 33, -4, -35, 3, 3, 2, 3, 3, -24, 3, 3, 3, 3, 3, 3, 3, 3, -52, 3, 2, 4, 7, 3, -1, 3, 3, 3, 3, 3, -23, 3, 3, 3, 2, 3, 2, 3, 3, -43, 3, 3, 2, 3, 3, 2, 3, 3, 2, 8, 3, 3, -18, 3, 3, 3, 3, 3, 3, 3, 3, 6, -15, -5, 3, 3, 3, 3, 3, 3, 15, 3, -2, 3, 24, 39, 3, 20, 3, 3, 16, 8, 3, 2, 3, 3, 2, 3, 34, 3, -9, 3, 3]\n"
     ]
    }
   ],
   "source": [
    "print(position1)"
   ]
  },
  {
   "cell_type": "code",
   "execution_count": 11,
   "metadata": {
    "collapsed": false
   },
   "outputs": [
    {
     "name": "stdout",
     "output_type": "stream",
     "text": [
      "10000\n"
     ]
    }
   ],
   "source": [
    "position1=position1[1:sample+1]\n",
    "print(len(position1))"
   ]
  },
  {
   "cell_type": "code",
   "execution_count": 12,
   "metadata": {
    "collapsed": false
   },
   "outputs": [
    {
     "name": "stdout",
     "output_type": "stream",
     "text": [
      "156\n"
     ]
    }
   ],
   "source": [
    "reactor=[]\n",
    "capture=[]\n",
    "through=[]\n",
    "\n",
    "num_r=0\n",
    "num_c=0\n",
    "num_t=0\n",
    "\n",
    "size1=np.arange(0,est_1+1,h)\n",
    "print(len(size1))"
   ]
  },
  {
   "cell_type": "code",
   "execution_count": 13,
   "metadata": {
    "collapsed": false
   },
   "outputs": [],
   "source": [
    "for j in range(est_1+1):\n",
    "    reactor.append(num_r)\n",
    "    capture.append(num_c)\n",
    "    through.append(num_t)\n",
    "    x = size1[j]\n",
    "    nt=0\n",
    "    nc=0\n",
    "    nr=0\n",
    "    for i in range(sample):\n",
    "        if position1[i] > x:\n",
    "            nt += 1\n",
    "        elif position1[i] > 0:\n",
    "            nc += 1\n",
    "        else:\n",
    "            nr += 1\n",
    "    if nr == 0:\n",
    "        num_r = 0.001\n",
    "    else:\n",
    "        num_r = nr\n",
    "    if nc == 0:\n",
    "        num_c = 0.001\n",
    "    else:\n",
    "        num_c = nc\n",
    "    if nt == 0:\n",
    "        num_t = 0.001\n",
    "    else:\n",
    "        num_t = nt"
   ]
  },
  {
   "cell_type": "code",
   "execution_count": 14,
   "metadata": {
    "collapsed": true
   },
   "outputs": [],
   "source": [
    "reactor_n=reactor[1:est_1+1]\n",
    "capture_n=capture[1:est_1+1]\n",
    "through_n=through[1:est_1+1]"
   ]
  },
  {
   "cell_type": "code",
   "execution_count": 15,
   "metadata": {
    "collapsed": false
   },
   "outputs": [
    {
     "name": "stdout",
     "output_type": "stream",
     "text": [
      "[1141, 1141, 1141, 1141, 1141, 1141, 1141, 1141, 1141, 1141, 1141, 1141, 1141, 1141, 1141, 1141, 1141, 1141, 1141, 1141, 1141, 1141, 1141, 1141, 1141, 1141, 1141, 1141, 1141, 1141, 1141, 1141, 1141, 1141, 1141, 1141, 1141, 1141, 1141, 1141, 1141, 1141, 1141, 1141, 1141, 1141, 1141, 1141, 1141, 1141, 1141, 1141, 1141, 1141, 1141, 1141, 1141, 1141, 1141, 1141, 1141, 1141, 1141, 1141, 1141, 1141, 1141, 1141, 1141, 1141, 1141, 1141, 1141, 1141, 1141, 1141, 1141, 1141, 1141, 1141, 1141, 1141, 1141, 1141, 1141, 1141, 1141, 1141, 1141, 1141, 1141, 1141, 1141, 1141, 1141, 1141, 1141, 1141, 1141, 1141, 1141, 1141, 1141, 1141, 1141, 1141, 1141, 1141, 1141, 1141, 1141, 1141, 1141, 1141, 1141, 1141, 1141, 1141, 1141, 1141, 1141, 1141, 1141, 1141, 1141, 1141, 1141, 1141, 1141, 1141, 1141, 1141, 1141, 1141, 1141, 1141, 1141, 1141, 1141, 1141, 1141, 1141, 1141, 1141, 1141, 1141, 1141, 1141, 1141, 1141, 1141, 1141, 1141, 1141, 1141]\n",
      "155\n"
     ]
    }
   ],
   "source": [
    "print(reactor_n)\n",
    "print(len(reactor_n))"
   ]
  },
  {
   "cell_type": "code",
   "execution_count": 16,
   "metadata": {
    "collapsed": false
   },
   "outputs": [
    {
     "name": "stdout",
     "output_type": "stream",
     "text": [
      "[0.001, 49, 1962, 7729, 7767, 7812, 7867, 7907, 7942, 7986, 8013, 8055, 8093, 8125, 8151, 8180, 8213, 8245, 8272, 8300, 8335, 8360, 8391, 8425, 8447, 8471, 8493, 8517, 8534, 8555, 8582, 8606, 8626, 8654, 8670, 8691, 8704, 8721, 8736, 8750, 8764, 8772, 8778, 8784, 8786, 8791, 8802, 8808, 8815, 8819, 8822, 8828, 8833, 8837, 8839, 8844, 8846, 8846, 8847, 8849, 8850, 8852, 8852, 8852, 8854, 8854, 8855, 8855, 8855, 8855, 8855, 8855, 8855, 8855, 8855, 8855, 8856, 8856, 8857, 8857, 8857, 8857, 8858, 8858, 8858, 8858, 8859, 8859, 8859, 8859, 8859, 8859, 8859, 8859, 8859, 8859, 8859, 8859, 8859, 8859, 8859, 8859, 8859, 8859, 8859, 8859, 8859, 8859, 8859, 8859, 8859, 8859, 8859, 8859, 8859, 8859, 8859, 8859, 8859, 8859, 8859, 8859, 8859, 8859, 8859, 8859, 8859, 8859, 8859, 8859, 8859, 8859, 8859, 8859, 8859, 8859, 8859, 8859, 8859, 8859, 8859, 8859, 8859, 8859, 8859, 8859, 8859, 8859, 8859, 8859, 8859, 8859, 8859, 8859, 8859]\n",
      "155\n"
     ]
    }
   ],
   "source": [
    "print(capture_n)\n",
    "print(len(capture_n))"
   ]
  },
  {
   "cell_type": "code",
   "execution_count": 17,
   "metadata": {
    "collapsed": false
   },
   "outputs": [
    {
     "name": "stdout",
     "output_type": "stream",
     "text": [
      "[8859, 8810, 6897, 1130, 1092, 1047, 992, 952, 917, 873, 846, 804, 766, 734, 708, 679, 646, 614, 587, 559, 524, 499, 468, 434, 412, 388, 366, 342, 325, 304, 277, 253, 233, 205, 189, 168, 155, 138, 123, 109, 95, 87, 81, 75, 73, 68, 57, 51, 44, 40, 37, 31, 26, 22, 20, 15, 13, 13, 12, 10, 9, 7, 7, 7, 5, 5, 4, 4, 4, 4, 4, 4, 4, 4, 4, 4, 3, 3, 2, 2, 2, 2, 1, 1, 1, 1, 0.001, 0.001, 0.001, 0.001, 0.001, 0.001, 0.001, 0.001, 0.001, 0.001, 0.001, 0.001, 0.001, 0.001, 0.001, 0.001, 0.001, 0.001, 0.001, 0.001, 0.001, 0.001, 0.001, 0.001, 0.001, 0.001, 0.001, 0.001, 0.001, 0.001, 0.001, 0.001, 0.001, 0.001, 0.001, 0.001, 0.001, 0.001, 0.001, 0.001, 0.001, 0.001, 0.001, 0.001, 0.001, 0.001, 0.001, 0.001, 0.001, 0.001, 0.001, 0.001, 0.001, 0.001, 0.001, 0.001, 0.001, 0.001, 0.001, 0.001, 0.001, 0.001, 0.001, 0.001, 0.001, 0.001, 0.001, 0.001, 0.001]\n",
      "155\n"
     ]
    }
   ],
   "source": [
    "print(through_n)\n",
    "print(len(through_n))"
   ]
  },
  {
   "cell_type": "code",
   "execution_count": 18,
   "metadata": {
    "collapsed": false
   },
   "outputs": [
    {
     "name": "stdout",
     "output_type": "stream",
     "text": [
      "[  1   2   3   4   5   6   7   8   9  10  11  12  13  14  15  16  17  18\n",
      "  19  20  21  22  23  24  25  26  27  28  29  30  31  32  33  34  35  36\n",
      "  37  38  39  40  41  42  43  44  45  46  47  48  49  50  51  52  53  54\n",
      "  55  56  57  58  59  60  61  62  63  64  65  66  67  68  69  70  71  72\n",
      "  73  74  75  76  77  78  79  80  81  82  83  84  85  86  87  88  89  90\n",
      "  91  92  93  94  95  96  97  98  99 100 101 102 103 104 105 106 107 108\n",
      " 109 110 111 112 113 114 115 116 117 118 119 120 121 122 123 124 125 126\n",
      " 127 128 129 130 131 132 133 134 135 136 137 138 139 140 141 142 143 144\n",
      " 145 146 147 148 149 150 151 152 153 154 155]\n",
      "155\n"
     ]
    }
   ],
   "source": [
    "print(size1[1:est_1+1])\n",
    "print(len(size1[1:est_1+1]))"
   ]
  },
  {
   "cell_type": "code",
   "execution_count": 19,
   "metadata": {
    "collapsed": false
   },
   "outputs": [
    {
     "data": {
      "image/png": "[encoded data removed]",
      "text/plain": [
       "<matplotlib.figure.Figure at 0xac3891cc>"
      ]
     },
     "metadata": {},
     "output_type": "display_data"
    }
   ],
   "source": [
    "size_array=np.array(size1[1:est_1+1])\n",
    "through_array=np.array(through_n)\n",
    "capture_array=np.array(capture_n)\n",
    "reactor_array=np.array(reactor_n)\n",
    "plt.plot(size_array,through_array,'-',label='through',color='red',linewidth=3.0)\n",
    "plt.plot(size_array,capture_array,'-',label='capture',color='blue',linewidth=3.0)\n",
    "plt.plot(size_array,reactor_array,'-',label='reactor',color='black',linewidth=3.0)\n",
    "plt.legend(bbox_to_anchor=(1.05, 1), loc=2, borderaxespad=0.)\n",
    "plt.xlabel('Size of the shield')\n",
    "plt.ylabel('Number')\n",
    "plt.show()\n",
    "\n",
    "\n",
    "\n"
   ]
  },
  {
   "cell_type": "code",
   "execution_count": 20,
   "metadata": {
    "collapsed": true
   },
   "outputs": [],
   "source": [
    "P_through=through_array/sample\n",
    "P_capture=capture_array/sample\n",
    "P_reactor=reactor_array/sample\n",
    "\n",
    "size1=size1[1:est_1+1]"
   ]
  },
  {
   "cell_type": "code",
   "execution_count": 21,
   "metadata": {
    "collapsed": false
   },
   "outputs": [
    {
     "name": "stdout",
     "output_type": "stream",
     "text": [
      "-0.121508417489 -0.529258571669\n",
      "1.6589605461773154\n"
     ]
    }
   ],
   "source": [
    "m_through,b_through=np.polyfit(size1,np.log(P_through),1)\n",
    "print(m_through,b_through)\n",
    "\n",
    "\n",
    "fit_t=m_through*size1+b_through\n",
    "uncertainty_t=(1/tmax)*np.sum((fit_t-np.log(P_through))**2)#Standard Deviation\n",
    "print(math.sqrt(uncertainty_t))"
   ]
  },
  {
   "cell_type": "code",
   "execution_count": 22,
   "metadata": {
    "collapsed": false
   },
   "outputs": [
    {
     "name": "stdout",
     "output_type": "stream",
     "text": [
      "0.00608467363105 -0.758002926485\n",
      "9.994101394691103\n"
     ]
    }
   ],
   "source": [
    "m_capture,b_capture=np.polyfit(size1,np.log(P_capture),1)\n",
    "print(m_capture,b_capture)\n",
    "\n",
    "\n",
    "fit_c=m_capture*size1+b_capture\n",
    "uncertainty_c=(1/tmax)*np.sum((fit_t-np.log(P_capture))**2)#Standard Deviation\n",
    "print(math.sqrt(uncertainty_c))"
   ]
  },
  {
   "cell_type": "code",
   "execution_count": 23,
   "metadata": {
    "collapsed": false
   },
   "outputs": [
    {
     "name": "stdout",
     "output_type": "stream",
     "text": [
      "3.17341953277e-18 -2.17068002211\n",
      "2.6272671962866383e-16\n"
     ]
    }
   ],
   "source": [
    "m_reactor,b_reactor=np.polyfit(size1,np.log(P_reactor),1)\n",
    "print(m_reactor,b_reactor)\n",
    "\n",
    "\n",
    "fit_t=m_reactor*size1+b_reactor\n",
    "uncertainty_r=(1/tmax)*np.sum((fit_t-np.log(P_reactor))**2)#Standard Deviation\n",
    "print(math.sqrt(uncertainty_r))"
   ]
  },
  {
   "cell_type": "code",
   "execution_count": null,
   "metadata": {
    "collapsed": true
   },
   "outputs": [],
   "source": []
  },
  {
   "cell_type": "code",
   "execution_count": null,
   "metadata": {
    "collapsed": true
   },
   "outputs": [],
   "source": []
  }
 ],
 "metadata": {
  "anaconda-cloud": {},
  "kernelspec": {
   "display_name": "Python [conda root]",
   "language": "python",
   "name": "conda-root-py"
  },
  "language_info": {
   "codemirror_mode": {
    "name": "ipython",
    "version": 3
   },
   "file_extension": ".py",
   "mimetype": "text/x-python",
   "name": "python",
   "nbconvert_exporter": "python",
   "pygments_lexer": "ipython3",
   "version": "3.5.2"
  }
 },
 "nbformat": 4,
 "nbformat_minor": 1
}
