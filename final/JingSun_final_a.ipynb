{
 "cells": [
  {
   "cell_type": "code",
   "execution_count": 1,
   "metadata": {
    "collapsed": true
   },
   "outputs": [],
   "source": [
    "import numpy as np\n",
    "import math as math\n",
    "import matplotlib.pyplot as plt"
   ]
  },
  {
   "cell_type": "code",
   "execution_count": 2,
   "metadata": {
    "collapsed": true
   },
   "outputs": [],
   "source": [
    "kb=1.38e-23#Boltzmanns constant, in the unit of J/K\n",
    "hp=6.626e-34#Planck constant, in the unit of J s\n",
    "vc=3.0e8#The speed of light, in the unit of m/s\n",
    "lam1=6.0e-7#lower desired wavelength, in the unit of m\n",
    "lam2=7.5e-7#higher desired wavelength,in the unit of m"
   ]
  },
  {
   "cell_type": "code",
   "execution_count": 3,
   "metadata": {
    "collapsed": false
   },
   "outputs": [
    {
     "name": "stdout",
     "output_type": "stream",
     "text": [
      "98\n"
     ]
    }
   ],
   "source": [
    "Tlow=300\n",
    "Thigh=10000\n",
    "tem=np.arange(Tlow,Thigh+1,100)#Temperature in the unit of K\n",
    "#Temperature array\n",
    "num_t=len(tem)\n",
    "print(num_t)"
   ]
  },
  {
   "cell_type": "code",
   "execution_count": 4,
   "metadata": {
    "collapsed": false
   },
   "outputs": [],
   "source": [
    "b=hp*vc/(lam1*kb*tem)#upper limitation of integral\n",
    "a=hp*vc/(lam2*kb*tem)#lower limitation of integral\n",
    "N=100\n",
    "h=(b-a)/N"
   ]
  },
  {
   "cell_type": "code",
   "execution_count": 5,
   "metadata": {
    "collapsed": true
   },
   "outputs": [],
   "source": [
    "def x(lam,temp):\n",
    "    x=hp*vc/(lam*kb*temp)\n",
    "    return x"
   ]
  },
  {
   "cell_type": "code",
   "execution_count": 6,
   "metadata": {
    "collapsed": true
   },
   "outputs": [],
   "source": [
    "def fx(x):\n",
    "    fx=(x**3)/((np.exp(x))-1)\n",
    "    return fx"
   ]
  },
  {
   "cell_type": "code",
   "execution_count": 7,
   "metadata": {
    "collapsed": false
   },
   "outputs": [],
   "source": [
    "R=[]\n",
    "tempR=[]\n",
    "#create the 2D array\n",
    "Rt=np.zeros([N+1,N+1],float)\n",
    "record=0"
   ]
  },
  {
   "cell_type": "code",
   "execution_count": 8,
   "metadata": {
    "collapsed": false
   },
   "outputs": [],
   "source": [
    "for t in range(num_t):\n",
    "    R.append(record)\n",
    "    tempR.append(Rt)\n",
    "    \n",
    "    temp=tem[t]\n",
    "    at=a[t]\n",
    "    bt=b[t]\n",
    "    fa=fx(at)\n",
    "    fb=fx(bt)\n",
    "    \n",
    "    s=0.5*(fa+fb)\n",
    " \n",
    "    Rt[0,0]=s\n",
    "    for i in range(1,N+1):\n",
    "        ht=(bt-at)/i\n",
    "        for k in range(1,i):\n",
    "            s += fx(at+(k*ht))\n",
    "        Rt[i,0]=ht*s \n",
    "        for m in range(0,i):\n",
    "            Rt[i,m+1]=Rt[i,m]+(1/((4**(m+1))-1))*(Rt[i,m]-Rt[i-1,m])\n",
    "    record=Rt[N,N]*15.0/(np.pi**4)"
   ]
  },
  {
   "cell_type": "code",
   "execution_count": 9,
   "metadata": {
    "collapsed": false
   },
   "outputs": [
    {
     "name": "stdout",
     "output_type": "stream",
     "text": [
      "[[  1.29778027   0.           0.         ...,   0.           0.           0.        ]\n",
      " [  0.62312261   0.39823673   0.         ...,   0.           0.           0.        ]\n",
      " [  0.62700148   0.62829444   0.64363162 ...,   0.           0.           0.        ]\n",
      " ..., \n",
      " [ 30.48329828  30.58799211  30.60893091 ...,  30.61555731   0.           0.        ]\n",
      " [ 30.79738106  30.90207532  30.9230142  ...,  30.92964064  30.92964064\n",
      "    0.        ]\n",
      " [ 31.11146509  31.21615977  31.23709873 ...,  31.24372519  31.24372519\n",
      "   31.24372519]]\n"
     ]
    }
   ],
   "source": [
    "print(Rt)"
   ]
  },
  {
   "cell_type": "code",
   "execution_count": 10,
   "metadata": {
    "collapsed": false
   },
   "outputs": [
    {
     "name": "stdout",
     "output_type": "stream",
     "text": [
      "98\n"
     ]
    }
   ],
   "source": [
    "#print(R)\n",
    "print(len(R))\n"
   ]
  },
  {
   "cell_type": "code",
   "execution_count": 11,
   "metadata": {
    "collapsed": false
   },
   "outputs": [
    {
     "data": {
      "image/png": "[encoded data removed]",
      "text/plain": [
       "<matplotlib.figure.Figure at 0xae7c220c>"
      ]
     },
     "metadata": {},
     "output_type": "display_data"
    }
   ],
   "source": [
    "#Rcal=(15.0/(3.14**4))*R\n",
    "Ra=np.asarray(R)\n",
    "plt.plot(tem,Ra)\n",
    "plt.xlabel(\"Temperature (K)\")\n",
    "plt.ylabel(\"The efficiency of the light bulb\")\n",
    "plt.show()"
   ]
  },
  {
   "cell_type": "code",
   "execution_count": 12,
   "metadata": {
    "collapsed": false
   },
   "outputs": [
    {
     "name": "stdout",
     "output_type": "stream",
     "text": [
      "53\n"
     ]
    }
   ],
   "source": [
    "print(np.argmax(Ra))"
   ]
  },
  {
   "cell_type": "code",
   "execution_count": 13,
   "metadata": {
    "collapsed": false
   },
   "outputs": [
    {
     "name": "stdout",
     "output_type": "stream",
     "text": [
      "5600\n"
     ]
    }
   ],
   "source": [
    "num_max=np.argmax(Ra)\n",
    "print(tem[num_max])"
   ]
  },
  {
   "cell_type": "code",
   "execution_count": null,
   "metadata": {
    "collapsed": true
   },
   "outputs": [],
   "source": []
  },
  {
   "cell_type": "code",
   "execution_count": null,
   "metadata": {
    "collapsed": true
   },
   "outputs": [],
   "source": []
  },
  {
   "cell_type": "code",
   "execution_count": null,
   "metadata": {
    "collapsed": true
   },
   "outputs": [],
   "source": []
  },
  {
   "cell_type": "code",
   "execution_count": null,
   "metadata": {
    "collapsed": true
   },
   "outputs": [],
   "source": []
  },
  {
   "cell_type": "code",
   "execution_count": null,
   "metadata": {
    "collapsed": true
   },
   "outputs": [],
   "source": []
  },
  {
   "cell_type": "code",
   "execution_count": null,
   "metadata": {
    "collapsed": true
   },
   "outputs": [],
   "source": []
  },
  {
   "cell_type": "code",
   "execution_count": null,
   "metadata": {
    "collapsed": true
   },
   "outputs": [],
   "source": []
  }
 ],
 "metadata": {
  "anaconda-cloud": {},
  "kernelspec": {
   "display_name": "Python [conda root]",
   "language": "python",
   "name": "conda-root-py"
  },
  "language_info": {
   "codemirror_mode": {
    "name": "ipython",
    "version": 3
   },
   "file_extension": ".py",
   "mimetype": "text/x-python",
   "name": "python",
   "nbconvert_exporter": "python",
   "pygments_lexer": "ipython3",
   "version": "3.5.2"
  }
 },
 "nbformat": 4,
 "nbformat_minor": 1
}
