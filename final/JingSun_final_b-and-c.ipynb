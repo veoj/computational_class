{
 "cells": [
  {
   "cell_type": "code",
   "execution_count": 1,
   "metadata": {
    "collapsed": true
   },
   "outputs": [],
   "source": [
    "import numpy as np\n",
    "import math as math\n",
    "import matplotlib.pyplot as plt"
   ]
  },
  {
   "cell_type": "code",
   "execution_count": 2,
   "metadata": {
    "collapsed": true
   },
   "outputs": [],
   "source": [
    "kb=1.38e-23#Boltzmanns constant, in the unit of J/K\n",
    "hp=6.626e-34#Planck constant, in the unit of J s\n",
    "vc=3.0e8#The speed of light, in the unit of m/s\n",
    "lam1=6.0e-7#lower desired wavelength, in the unit of m\n",
    "lam2=7.5e-7#higher desired wavelength,in the unit of m"
   ]
  },
  {
   "cell_type": "code",
   "execution_count": 3,
   "metadata": {
    "collapsed": false
   },
   "outputs": [
    {
     "name": "stdout",
     "output_type": "stream",
     "text": [
      "201\n"
     ]
    }
   ],
   "source": [
    "#The peak locates around 5600K according the results in part (a), and the interval is 100K in part a\n",
    "Tlow=5500\n",
    "Thigh=5700\n",
    "tem=np.arange(Tlow,Thigh+1,1)#Temperature in the unit of K\n",
    "#Temperature array\n",
    "num_t=len(tem)\n",
    "print(num_t)"
   ]
  },
  {
   "cell_type": "code",
   "execution_count": 4,
   "metadata": {
    "collapsed": false
   },
   "outputs": [],
   "source": [
    "b=hp*vc/(lam1*kb*tem)#upper limitation of integral\n",
    "a=hp*vc/(lam2*kb*tem)#lower limitation of integral\n",
    "N=100\n",
    "h=(b-a)/N"
   ]
  },
  {
   "cell_type": "code",
   "execution_count": 5,
   "metadata": {
    "collapsed": true
   },
   "outputs": [],
   "source": [
    "def x(lam,temp):\n",
    "    x=hp*vc/(lam*kb*temp)\n",
    "    return x"
   ]
  },
  {
   "cell_type": "code",
   "execution_count": 6,
   "metadata": {
    "collapsed": true
   },
   "outputs": [],
   "source": [
    "def fx(x):\n",
    "    fx=(x**3)/((np.exp(x))-1)\n",
    "    return fx"
   ]
  },
  {
   "cell_type": "code",
   "execution_count": 7,
   "metadata": {
    "collapsed": false
   },
   "outputs": [],
   "source": [
    "R=[]\n",
    "tempR=[]\n",
    "#create the 2D array\n",
    "Rt=np.zeros([N+1,N+1],float)\n",
    "record=0"
   ]
  },
  {
   "cell_type": "code",
   "execution_count": 8,
   "metadata": {
    "collapsed": false
   },
   "outputs": [],
   "source": [
    "for t in range(num_t):\n",
    "    R.append(record)\n",
    "    tempR.append(Rt)\n",
    "    \n",
    "    temp=tem[t]\n",
    "    at=a[t]\n",
    "    bt=b[t]\n",
    "    fa=fx(at)\n",
    "    fb=fx(bt)\n",
    "    \n",
    "    s=0.5*(fa+fb)\n",
    " \n",
    "    Rt[0,0]=s\n",
    "    for i in range(1,N+1):\n",
    "        ht=(bt-at)/i\n",
    "        for k in range(1,i):\n",
    "            s += fx(at+(k*ht))\n",
    "        Rt[i,0]=ht*s \n",
    "        for m in range(0,i):\n",
    "            Rt[i,m+1]=Rt[i,m]+(1/((4**(m+1))-1))*(Rt[i,m]-Rt[i-1,m])\n",
    "    record=Rt[N,N]*15.0/(np.pi**4)"
   ]
  },
  {
   "cell_type": "code",
   "execution_count": 9,
   "metadata": {
    "collapsed": false
   },
   "outputs": [
    {
     "name": "stdout",
     "output_type": "stream",
     "text": [
      "[[  1.24353453   0.           0.         ...,   0.           0.           0.        ]\n",
      " [  1.04750315   0.98215936   0.         ...,   0.           0.           0.        ]\n",
      " [  1.05374759   1.05582906   1.06074038 ...,   0.           0.           0.        ]\n",
      " ..., \n",
      " [ 51.22712109  51.40305992  51.43824774 ...,  51.44938347   0.           0.        ]\n",
      " [ 51.75493975  51.9308793   51.96606726 ...,  51.97720303  51.97720303\n",
      "    0.        ]\n",
      " [ 52.2827605   52.45870075  52.49388885 ...,  52.50502466  52.50502466\n",
      "   52.50502466]]\n"
     ]
    }
   ],
   "source": [
    "print(Rt)"
   ]
  },
  {
   "cell_type": "code",
   "execution_count": 10,
   "metadata": {
    "collapsed": false
   },
   "outputs": [
    {
     "name": "stdout",
     "output_type": "stream",
     "text": [
      "201\n"
     ]
    }
   ],
   "source": [
    "#print(R)\n",
    "print(len(R))\n"
   ]
  },
  {
   "cell_type": "code",
   "execution_count": 61,
   "metadata": {
    "collapsed": false
   },
   "outputs": [],
   "source": [
    "#use the formular 6.121 in textbook\n",
    "gamma=-10#it is negative because we are looking for a maximum value\n",
    "step=10000\n",
    "Ra=np.asarray(R)\n",
    "x1=5500\n",
    "x2=5700\n",
    "\n",
    "xpoints=np.arange(len(R))\n",
    "#ypoints=Ra\n",
    "\n",
    "for i in range(step):\n",
    "    if i == 0:\n",
    "        xpoints[i]=x1\n",
    "    if i == 1:\n",
    "        xpoints[i]=x2\n",
    "    if i == 2:\n",
    "        xpoints[i]=int(xpoints[i-1]+(gamma*((Ra[i-1]-Ra[i-2])/(xpoints[i-1]-xpoints[i-2]))))\n",
    "\n",
    "    if i > 2 and i < len(R):\n",
    "        if xpoints[i-1]-xpoints[i-2] == 0:\n",
    "            xpoints[i] = xpoints[i-1]\n",
    "        else:\n",
    "            xpoints[i]=int(xpoints[i-1]+(gamma*((Ra[i-1]-Ra[i-2])/(xpoints[i-1]-xpoints[i-2]))))\n",
    "        #xpoints[i]=x_temp//1\n"
   ]
  },
  {
   "cell_type": "code",
   "execution_count": 62,
   "metadata": {
    "collapsed": false
   },
   "outputs": [
    {
     "name": "stdout",
     "output_type": "stream",
     "text": [
      "[5500 5700 5699 5698 5697 5696 5695 5694 5693 5692 5691 5690 5689 5688 5687\n",
      " 5686 5685 5684 5683 5682 5681 5680 5679 5678 5677 5676 5675 5674 5673 5672\n",
      " 5671 5670 5669 5668 5667 5666 5665 5664 5663 5662 5661 5660 5659 5658 5657\n",
      " 5656 5655 5654 5653 5652 5651 5650 5649 5648 5647 5646 5645 5644 5643 5642\n",
      " 5641 5640 5639 5638 5637 5636 5635 5634 5633 5632 5631 5630 5629 5628 5627\n",
      " 5626 5625 5624 5623 5622 5621 5620 5619 5618 5617 5616 5615 5614 5613 5612\n",
      " 5611 5610 5609 5608 5607 5606 5605 5604 5603 5602 5601 5600 5599 5598 5597\n",
      " 5596 5595 5594 5593 5592 5591 5590 5589 5588 5587 5586 5585 5584 5583 5582\n",
      " 5581 5580 5579 5578 5577 5576 5575 5574 5573 5572 5571 5570 5569 5568 5567\n",
      " 5566 5565 5564 5563 5562 5561 5560 5559 5558 5557 5556 5555 5554 5553 5552\n",
      " 5551 5550 5549 5548 5547 5546 5545 5544 5543 5542 5541 5540 5539 5538 5537\n",
      " 5536 5535 5534 5533 5532 5531 5530 5529 5528 5527 5526 5525 5524 5523 5522\n",
      " 5521 5520 5519 5518 5517 5516 5515 5514 5513 5512 5511 5510 5509 5508 5507\n",
      " 5506 5505 5504 5503 5502 5501]\n"
     ]
    }
   ],
   "source": [
    "print(xpoints)"
   ]
  },
  {
   "cell_type": "code",
   "execution_count": 65,
   "metadata": {
    "collapsed": false
   },
   "outputs": [
    {
     "name": "stdout",
     "output_type": "stream",
     "text": [
      "5501\n",
      "8.10539892903\n",
      "5501\n",
      "8.10539892903\n"
     ]
    }
   ],
   "source": [
    "print(xpoints[len(xpoints)-1])\n",
    "print(np.amax(R))\n",
    "print(tem[5501-5500])\n",
    "print(R[5501-5500])"
   ]
  },
  {
   "cell_type": "markdown",
   "metadata": {
    "collapsed": true
   },
   "source": [
    "So,the temperature of maximum efficiency of the light bulb is 5501 K. The maximum efficiency is 8.11\n",
    "But it is not practical to run a tungsten-filament light bult at this temperature, \n",
    "because the melting point of tungsten is about 3700 K."
   ]
  },
  {
   "cell_type": "code",
   "execution_count": null,
   "metadata": {
    "collapsed": true
   },
   "outputs": [],
   "source": []
  },
  {
   "cell_type": "code",
   "execution_count": null,
   "metadata": {
    "collapsed": true
   },
   "outputs": [],
   "source": []
  },
  {
   "cell_type": "code",
   "execution_count": null,
   "metadata": {
    "collapsed": true
   },
   "outputs": [],
   "source": []
  },
  {
   "cell_type": "code",
   "execution_count": null,
   "metadata": {
    "collapsed": true
   },
   "outputs": [],
   "source": []
  },
  {
   "cell_type": "code",
   "execution_count": null,
   "metadata": {
    "collapsed": true
   },
   "outputs": [],
   "source": []
  },
  {
   "cell_type": "code",
   "execution_count": null,
   "metadata": {
    "collapsed": true
   },
   "outputs": [],
   "source": []
  },
  {
   "cell_type": "code",
   "execution_count": null,
   "metadata": {
    "collapsed": true
   },
   "outputs": [],
   "source": []
  }
 ],
 "metadata": {
  "anaconda-cloud": {},
  "kernelspec": {
   "display_name": "Python [conda root]",
   "language": "python",
   "name": "conda-root-py"
  },
  "language_info": {
   "codemirror_mode": {
    "name": "ipython",
    "version": 3
   },
   "file_extension": ".py",
   "mimetype": "text/x-python",
   "name": "python",
   "nbconvert_exporter": "python",
   "pygments_lexer": "ipython3",
   "version": "3.5.2"
  }
 },
 "nbformat": 4,
 "nbformat_minor": 1
}
